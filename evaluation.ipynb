{
 "cells": [
  {
   "cell_type": "code",
   "execution_count": 1,
   "metadata": {},
   "outputs": [],
   "source": [
    "from race_sim import *"
   ]
  },
  {
   "cell_type": "code",
   "execution_count": 2,
   "metadata": {},
   "outputs": [],
   "source": [
    "db1 = DatabaseOperations(2024, \"Sakhir\")\n",
    "race1 = RaceDataframe(db1)\n",
    "race_data1 = RaceDataSetup(db1, race1)\n",
    "overtake1 = OvertakingModel(race1.race_df)"
   ]
  },
  {
   "cell_type": "code",
   "execution_count": 3,
   "metadata": {},
   "outputs": [
    {
     "name": "stdout",
     "output_type": "stream",
     "text": [
      "Number of overtakes: 220\n"
     ]
    }
   ],
   "source": [
    "# print(race_data1.driver_tyre_coefficients)\n",
    "\n",
    "race_sim = RaceSimulation(race_data1, overtake1)\n",
    "race_sim.simulate()\n",
    "\n",
    "sim_df = race_sim.get_results_as_dataframe()"
   ]
  }
 ],
 "metadata": {
  "kernelspec": {
   "display_name": "env",
   "language": "python",
   "name": "python3"
  },
  "language_info": {
   "codemirror_mode": {
    "name": "ipython",
    "version": 3
   },
   "file_extension": ".py",
   "mimetype": "text/x-python",
   "name": "python",
   "nbconvert_exporter": "python",
   "pygments_lexer": "ipython3",
   "version": "3.10.12"
  }
 },
 "nbformat": 4,
 "nbformat_minor": 2
}
