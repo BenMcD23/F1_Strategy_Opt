{
 "cells": [
  {
   "cell_type": "code",
   "execution_count": null,
   "metadata": {},
   "outputs": [],
   "source": [
    "from database_operations import DatabaseOperations\n",
    "from overtake_model import OvertakingModel\n",
    "from race_data import RaceDataSetup\n",
    "from race_dataframe import RaceDataframe\n",
    "from race_sim import RaceSimulation\n",
    "from evaluation import RaceSimEvaluation, EvaluateMany"
   ]
  },
  {
   "cell_type": "code",
   "execution_count": null,
   "metadata": {},
   "outputs": [],
   "source": []
  },
  {
   "cell_type": "code",
   "execution_count": null,
   "metadata": {},
   "outputs": [
    {
     "ename": "NameError",
     "evalue": "name 'df' is not defined",
     "output_type": "error",
     "traceback": [
      "\u001b[0;31m---------------------------------------------------------------------------\u001b[0m",
      "\u001b[0;31mNameError\u001b[0m                                 Traceback (most recent call last)",
      "Cell \u001b[0;32mIn[2], line 6\u001b[0m\n\u001b[1;32m      4\u001b[0m \u001b[38;5;28;01mfor\u001b[39;00m year, circuit \u001b[38;5;129;01min\u001b[39;00m [(\u001b[38;5;241m2024\u001b[39m, \u001b[38;5;124m\"\u001b[39m\u001b[38;5;124mSakhir\u001b[39m\u001b[38;5;124m\"\u001b[39m), (\u001b[38;5;241m2024\u001b[39m, \u001b[38;5;124m\"\u001b[39m\u001b[38;5;124mMonza\u001b[39m\u001b[38;5;124m\"\u001b[39m), (\u001b[38;5;241m2024\u001b[39m, \u001b[38;5;124m\"\u001b[39m\u001b[38;5;124mMelbourne\u001b[39m\u001b[38;5;124m\"\u001b[39m), (\u001b[38;5;241m2024\u001b[39m, \u001b[38;5;124m\"\u001b[39m\u001b[38;5;124mAustin\u001b[39m\u001b[38;5;124m\"\u001b[39m)]:\n\u001b[1;32m      5\u001b[0m     db \u001b[38;5;241m=\u001b[39m DatabaseOperations(year, circuit)\n\u001b[0;32m----> 6\u001b[0m     race_data \u001b[38;5;241m=\u001b[39m \u001b[43mRaceDataframe\u001b[49m\u001b[43m(\u001b[49m\u001b[43mdb\u001b[49m\u001b[43m)\u001b[49m\n\u001b[1;32m      7\u001b[0m     race_setup \u001b[38;5;241m=\u001b[39m RaceDataSetup(db, race_data)\n\u001b[1;32m      8\u001b[0m     overtake \u001b[38;5;241m=\u001b[39m OvertakingModel(race_data\u001b[38;5;241m.\u001b[39mrace_df)\n",
      "File \u001b[0;32m~/Individual_Project/race_dataframe.py:14\u001b[0m, in \u001b[0;36mRaceDataframe.__init__\u001b[0;34m(self, db_operations)\u001b[0m\n\u001b[1;32m     11\u001b[0m \u001b[38;5;28mself\u001b[39m\u001b[38;5;241m.\u001b[39mquali_session_db \u001b[38;5;241m=\u001b[39m \u001b[38;5;28mself\u001b[39m\u001b[38;5;241m.\u001b[39mdb_operations\u001b[38;5;241m.\u001b[39mquali_session_db\n\u001b[1;32m     13\u001b[0m \u001b[38;5;28mself\u001b[39m\u001b[38;5;241m.\u001b[39mbase_sector_times \u001b[38;5;241m=\u001b[39m \u001b[38;5;28mself\u001b[39m\u001b[38;5;241m.\u001b[39m_get_base_sector_times()\n\u001b[0;32m---> 14\u001b[0m \u001b[38;5;28mself\u001b[39m\u001b[38;5;241m.\u001b[39mrace_df \u001b[38;5;241m=\u001b[39m \u001b[38;5;28;43mself\u001b[39;49m\u001b[38;5;241;43m.\u001b[39;49m\u001b[43m_get_race_df\u001b[49m\u001b[43m(\u001b[49m\u001b[43m)\u001b[49m\n",
      "File \u001b[0;32m~/Individual_Project/race_dataframe.py:200\u001b[0m, in \u001b[0;36mRaceDataframe._get_race_df\u001b[0;34m(self)\u001b[0m\n\u001b[1;32m    197\u001b[0m \u001b[38;5;28;01mdef\u001b[39;00m \u001b[38;5;21m_get_race_df\u001b[39m(\u001b[38;5;28mself\u001b[39m):\n\u001b[1;32m    198\u001b[0m \traw_df \u001b[38;5;241m=\u001b[39m \u001b[38;5;28mself\u001b[39m\u001b[38;5;241m.\u001b[39m_get_raw_race_df()\n\u001b[0;32m--> 200\u001b[0m \trace_df \u001b[38;5;241m=\u001b[39m \u001b[38;5;28;43mself\u001b[39;49m\u001b[38;5;241;43m.\u001b[39;49m\u001b[43m_add_race_data\u001b[49m\u001b[43m(\u001b[49m\u001b[43mraw_df\u001b[49m\u001b[43m)\u001b[49m\n\u001b[1;32m    203\u001b[0m \t\u001b[38;5;28;01mreturn\u001b[39;00m race_df\n",
      "File \u001b[0;32m~/Individual_Project/race_dataframe.py:155\u001b[0m, in \u001b[0;36mRaceDataframe._add_race_data\u001b[0;34m(self, race_df)\u001b[0m\n\u001b[1;32m    145\u001b[0m \u001b[38;5;66;03m# # Define the \"overtaken\" column\u001b[39;00m\n\u001b[1;32m    146\u001b[0m \u001b[38;5;66;03m# race_df[\"overtaken\"] = (\u001b[39;00m\n\u001b[1;32m    147\u001b[0m \u001b[38;5;66;03m# \t((race_df[\"next_position\"] < race_df[\"position\"]) | (race_df[\"next_position\"].isna()))  # Original condition\u001b[39;00m\n\u001b[0;32m   (...)\u001b[0m\n\u001b[1;32m    151\u001b[0m \u001b[38;5;66;03m# Create target variable for overtaking model)\u001b[39;00m\n\u001b[1;32m    152\u001b[0m \u001b[38;5;66;03m# Step 1: Detect position improvement on the next sector\u001b[39;00m\n\u001b[1;32m    153\u001b[0m race_df\u001b[38;5;241m.\u001b[39mloc[:, \u001b[38;5;124m\"\u001b[39m\u001b[38;5;124mnext_position\u001b[39m\u001b[38;5;124m\"\u001b[39m] \u001b[38;5;241m=\u001b[39m race_df\u001b[38;5;241m.\u001b[39mgroupby(\u001b[38;5;124m\"\u001b[39m\u001b[38;5;124mdriver_name\u001b[39m\u001b[38;5;124m\"\u001b[39m)[\u001b[38;5;124m\"\u001b[39m\u001b[38;5;124mposition\u001b[39m\u001b[38;5;124m\"\u001b[39m]\u001b[38;5;241m.\u001b[39mshift(\u001b[38;5;241m-\u001b[39m\u001b[38;5;241m1\u001b[39m)\n\u001b[1;32m    154\u001b[0m race_df\u001b[38;5;241m.\u001b[39mloc[:, \u001b[38;5;124m\"\u001b[39m\u001b[38;5;124mposition_improved\u001b[39m\u001b[38;5;124m\"\u001b[39m] \u001b[38;5;241m=\u001b[39m (\n\u001b[0;32m--> 155\u001b[0m \t(\u001b[43mdf\u001b[49m[\u001b[38;5;124m\"\u001b[39m\u001b[38;5;124mnext_position\u001b[39m\u001b[38;5;124m\"\u001b[39m] \u001b[38;5;241m<\u001b[39m df[\u001b[38;5;124m\"\u001b[39m\u001b[38;5;124mposition\u001b[39m\u001b[38;5;124m\"\u001b[39m]) \u001b[38;5;241m|\u001b[39m  \u001b[38;5;66;03m# Position improved\u001b[39;00m\n\u001b[1;32m    156\u001b[0m \t(df[\u001b[38;5;124m\"\u001b[39m\u001b[38;5;124mnext_position\u001b[39m\u001b[38;5;124m\"\u001b[39m]\u001b[38;5;241m.\u001b[39misna())  \u001b[38;5;66;03m# Handle NaN values\u001b[39;00m\n\u001b[1;32m    157\u001b[0m )\n\u001b[1;32m    159\u001b[0m \u001b[38;5;66;03m# Step 2: Identify the sector with the minimum gap for each driver and lap\u001b[39;00m\n\u001b[1;32m    160\u001b[0m race_df\u001b[38;5;241m.\u001b[39mloc[:, \u001b[38;5;124m\"\u001b[39m\u001b[38;5;124mmin_gap_sector\u001b[39m\u001b[38;5;124m\"\u001b[39m] \u001b[38;5;241m=\u001b[39m race_df[race_df[\u001b[38;5;124m\"\u001b[39m\u001b[38;5;124mposition_improved\u001b[39m\u001b[38;5;124m\"\u001b[39m]]\u001b[38;5;241m.\u001b[39mgroupby([\u001b[38;5;124m\"\u001b[39m\u001b[38;5;124mdriver_name\u001b[39m\u001b[38;5;124m\"\u001b[39m, \u001b[38;5;124m\"\u001b[39m\u001b[38;5;124mlap_num\u001b[39m\u001b[38;5;124m\"\u001b[39m])[\u001b[38;5;124m\"\u001b[39m\u001b[38;5;124mgap\u001b[39m\u001b[38;5;124m\"\u001b[39m]\u001b[38;5;241m.\u001b[39mtransform(\u001b[38;5;124m\"\u001b[39m\u001b[38;5;124midxmin\u001b[39m\u001b[38;5;124m\"\u001b[39m)\n",
      "\u001b[0;31mNameError\u001b[0m: name 'df' is not defined"
     ]
    }
   ],
   "source": [
    "\n",
    "\n",
    "evaluator = EvaluateMany()\n",
    "\n",
    "# Add races to the evaluator\n",
    "for year, circuit in [(2024, \"Sakhir\"), (2024, \"Monza\"), (2024, \"Melbourne\"), (2024, \"Austin\")]:\n",
    "    db = DatabaseOperations(year, circuit)\n",
    "    race_data = RaceDataframe(db)\n",
    "    race_setup = RaceDataSetup(db, race_data)\n",
    "    overtake = OvertakingModel(race_data.race_df)\n",
    "    simulation = RaceSimulation(race_setup, overtake)\n",
    "    simulation.simulate()\n",
    "\n",
    "    evaluator.add_race(simulation, race_data, db)\n",
    "\n",
    "# Evaluate all races\n",
    "evaluator.evaluate_all_races()\n",
    "\n",
    "aggregated_results = evaluator.get_aggregated_results()\n",
    "(aggregated_results)\n"
   ]
  },
  {
   "cell_type": "markdown",
   "metadata": {},
   "source": [
    "{'average_mae': np.float64(239.42474557592521),\n",
    " 'average_position_accuracy': 0.12384868421052632,\n",
    " 'average_top_3_accuracy': 0.5,\n",
    " 'average_mean_error': 3.3347039473684212,\n",
    " 'average_total_error': 61.5,\n",
    " 'average_simulated_gap_to_front': np.float64(1241.6709643077284),\n",
    " 'average_actual_gap_to_front': np.float64(45259.052749999995)}"
   ]
  }
 ],
 "metadata": {
  "kernelspec": {
   "display_name": "env",
   "language": "python",
   "name": "python3"
  },
  "language_info": {
   "codemirror_mode": {
    "name": "ipython",
    "version": 3
   },
   "file_extension": ".py",
   "mimetype": "text/x-python",
   "name": "python",
   "nbconvert_exporter": "python",
   "pygments_lexer": "ipython3",
   "version": "3.10.12"
  }
 },
 "nbformat": 4,
 "nbformat_minor": 2
}
