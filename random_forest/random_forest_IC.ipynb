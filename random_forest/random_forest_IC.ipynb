{
 "cells": [
  {
   "cell_type": "markdown",
   "metadata": {},
   "source": [
    "### Not predicting correctly\n",
    "\n",
    "Not a correct way as includes the laptimes, want to predict pre race"
   ]
  },
  {
   "cell_type": "code",
   "execution_count": null,
   "metadata": {},
   "outputs": [],
   "source": [
    "import pandas as pd\n",
    "import numpy as np\n",
    "from sklearn.ensemble import RandomForestClassifier\n",
    "from sklearn.multioutput import MultiOutputClassifier\n",
    "from sklearn.metrics import classification_report\n",
    "from sklearn.model_selection import train_test_split\n",
    "from sklearn.preprocessing import OneHotEncoder\n",
    "from sklearn.metrics import classification_report, confusion_matrix, accuracy_score\n",
    "\n",
    "import sys\n",
    "import os\n",
    "sys.path.append(os.path.abspath(os.path.join(os.getcwd(), \"../\")))\n",
    "from DB.models import init_db, Circuit, Season, RacingWeekend, Driver, Session, SessionResult, Lap\n"
   ]
  },
  {
   "cell_type": "markdown",
   "metadata": {},
   "source": [
    "## Collect data into df"
   ]
  },
  {
   "cell_type": "code",
   "execution_count": 163,
   "metadata": {},
   "outputs": [
    {
     "name": "stdout",
     "output_type": "stream",
     "text": [
      "['year', 'round', 'lap_num', 'lap_time', 'pit', 'circuit_name_Baku', 'circuit_name_Barcelona', 'circuit_name_Budapest', 'circuit_name_Hockenheim', 'circuit_name_Imola', 'circuit_name_Istanbul', 'circuit_name_Jeddah', 'circuit_name_Las Vegas', 'circuit_name_Le Castellet', 'circuit_name_Lusail', 'circuit_name_Marina Bay', 'circuit_name_Melbourne', 'circuit_name_Mexico City', 'circuit_name_Miami', 'circuit_name_Monaco', 'circuit_name_Monte Carlo', 'circuit_name_Montréal', 'circuit_name_Monza', 'circuit_name_Mugello', 'circuit_name_Nürburgring', 'circuit_name_Portimão', 'circuit_name_Sakhir', 'circuit_name_Shanghai', 'circuit_name_Silverstone', 'circuit_name_Singapore', 'circuit_name_Sochi', 'circuit_name_Spa-Francorchamps', 'circuit_name_Spielberg', 'circuit_name_Suzuka', 'circuit_name_São Paulo', 'circuit_name_Yas Island', 'circuit_name_Zandvoort', 'driver_name_Alexander Albon', 'driver_name_Andrea Kimi Antonelli', 'driver_name_Antonio Giovinazzi', 'driver_name_Arthur Leclerc', 'driver_name_Ayumu Iwasa', 'driver_name_Callum Ilott', 'driver_name_Carlos Sainz', 'driver_name_Charles Leclerc', 'driver_name_Daniel Ricciardo', 'driver_name_Daniil Kvyat', 'driver_name_Esteban Ocon', 'driver_name_Felipe Drugovich', 'driver_name_Fernando Alonso', 'driver_name_Franco Colapinto', 'driver_name_Frederik Vesti', 'driver_name_George Russell', 'driver_name_Guanyu Zhou', 'driver_name_Isack Hadjar', 'driver_name_Jack Aitken', 'driver_name_Jack Doohan', 'driver_name_Jake Dennis', 'driver_name_Juri Vips', 'driver_name_Kevin Magnussen', 'driver_name_Kimi Räikkönen', 'driver_name_Lance Stroll', 'driver_name_Lando Norris', 'driver_name_Lewis Hamilton', 'driver_name_Liam Lawson', 'driver_name_Logan Sargeant', 'driver_name_Luke Browning', 'driver_name_Max Verstappen', 'driver_name_Mick Schumacher', 'driver_name_Naoki Yamamoto', 'driver_name_Nicholas Latifi', 'driver_name_Nico Hulkenberg', 'driver_name_Nikita Mazepin', 'driver_name_None None', 'driver_name_Nyck De Vries', 'driver_name_Oliver Bearman', 'driver_name_Oscar Piastri', \"driver_name_Patricio O'Ward\", 'driver_name_Pierre Gasly', 'driver_name_Pietro Fittipaldi', 'driver_name_Robert Kubica', 'driver_name_Robert Shwartzman', 'driver_name_Romain Grosjean', 'driver_name_Roy Nissany', 'driver_name_Ryo Hirakawa', 'driver_name_Sebastian Vettel', 'driver_name_Sergio Perez', 'driver_name_Theo Pourchaire', 'driver_name_Valtteri Bottas', 'driver_name_Yuki Tsunoda', \"driver_name_Zak O'Sullivan\", 'driver_short_ALB', 'driver_short_ALO', 'driver_short_ANT', 'driver_short_BEA', 'driver_short_BOT', 'driver_short_BRO', 'driver_short_COL', 'driver_short_DEN', 'driver_short_DEV', 'driver_short_DOO', 'driver_short_DRU', 'driver_short_FIT', 'driver_short_GAS', 'driver_short_GIO', 'driver_short_GRO', 'driver_short_HAD', 'driver_short_HAM', 'driver_short_HIR', 'driver_short_HUL', 'driver_short_ILO', 'driver_short_IWA', 'driver_short_KUB', 'driver_short_KVY', 'driver_short_LAT', 'driver_short_LAW', 'driver_short_LEC', 'driver_short_LEL', 'driver_short_MAG', 'driver_short_MAZ', 'driver_short_NIS', 'driver_short_NOR', 'driver_short_OCO', 'driver_short_OSU', 'driver_short_OWA', 'driver_short_PAL', 'driver_short_PER', 'driver_short_PIA', 'driver_short_POU', 'driver_short_RAI', 'driver_short_RIC', 'driver_short_RUS', 'driver_short_SAI', 'driver_short_SAR', 'driver_short_SCH', 'driver_short_SHW', 'driver_short_STR', 'driver_short_TSU', 'driver_short_VER', 'driver_short_VES', 'driver_short_VET', 'driver_short_VIP', 'driver_short_YAM', 'driver_short_ZHO', 'tyre_1', 'tyre_2', 'tyre_3', 'tyre_4', 'tyre_5', 'session_type_Practice 2', 'session_type_Practice 3', 'session_type_Qualifying', 'session_type_Race']\n"
     ]
    }
   ],
   "source": [
    "def create_dataframe():\n",
    "    # initialize db connection and session\n",
    "    db_engine, db_session = init_db()\n",
    "\n",
    "    # query data from the database\n",
    "    query = db_session.query(\n",
    "        RacingWeekend.year,\n",
    "        RacingWeekend.round,\n",
    "        Circuit.circuit_name,\n",
    "        Driver.driver_name,\n",
    "        Driver.driver_short,\n",
    "        Lap.lap_num,\n",
    "        Lap.lap_time,\n",
    "        Lap.tyre,\n",
    "        Lap.pit,\n",
    "        Session.session_type\n",
    "    ).join(RacingWeekend.circuit) \\\n",
    "     .join(RacingWeekend.sessions) \\\n",
    "     .join(Session.laps) \\\n",
    "     .join(Lap.driver) \\\n",
    "     .join(RacingWeekend.season) \\\n",
    "     .all()\n",
    "\n",
    "    # convert result to list of dicts\n",
    "    data = []\n",
    "    for row in query:\n",
    "        data.append({\n",
    "            'year': row.year,\n",
    "            'round': row.round,\n",
    "            'circuit_name': row.circuit_name,\n",
    "            'driver_name': row.driver_name,\n",
    "            'driver_short': row.driver_short,\n",
    "            'lap_num': row.lap_num,\n",
    "            'lap_time': row.lap_time,\n",
    "            'tyre': row.tyre,\n",
    "            'pit': row.pit,\n",
    "            'session_type': row.session_type\n",
    "        })\n",
    "\n",
    "    # create dataframe\n",
    "    df = pd.DataFrame(data)\n",
    "\n",
    "    # encode 'tyre' and 'pit' as categories\n",
    "    df['tyre'] = df['tyre'].astype('category')\n",
    "    df['pit'] = df['pit'].astype('category')\n",
    "\n",
    "    # one-hot encode categorical variables\n",
    "    df = pd.get_dummies(df, columns=['circuit_name', 'driver_name', 'driver_short', 'tyre', 'session_type'], drop_first=True)\n",
    "\n",
    "    return df\n",
    "\n",
    "# create the dataframe and print it\n",
    "df = create_dataframe()\n",
    "\n",
    "print(df.columns.tolist())\n",
    "\n",
    "\n"
   ]
  },
  {
   "cell_type": "code",
   "execution_count": 164,
   "metadata": {},
   "outputs": [
    {
     "name": "stderr",
     "output_type": "stream",
     "text": [
      "/tmp/ipykernel_11315/4025280255.py:21: SettingWithCopyWarning: \n",
      "A value is trying to be set on a copy of a slice from a DataFrame.\n",
      "Try using .loc[row_indexer,col_indexer] = value instead\n",
      "\n",
      "See the caveats in the documentation: https://pandas.pydata.org/pandas-docs/stable/user_guide/indexing.html#returning-a-view-versus-a-copy\n",
      "  test_data['predicted_pit'] = y_pred_test\n"
     ]
    }
   ],
   "source": [
    "# split data into training (2019, 2020, 2021) and testing (2022)\n",
    "train_data = df[df['year'].isin([2019, 2020, 2021])]\n",
    "test_data = df[df['year'] == 2022]\n",
    "\n",
    "# define features (X) and target (y) for training\n",
    "X_train = train_data.drop(columns=['pit'])\n",
    "y_train = train_data['pit']\n",
    "\n",
    "# define features (X) and target (y) for testing\n",
    "X_test = test_data.drop(columns=['pit'])\n",
    "y_test = test_data['pit']\n",
    "\n",
    "# train the random forest model\n",
    "rf_classifier = RandomForestClassifier(n_estimators=100, random_state=42)\n",
    "rf_classifier.fit(X_train, y_train)\n",
    "\n",
    "# predict on the 2022 test data\n",
    "y_pred_test = rf_classifier.predict(X_test)\n",
    "\n",
    "# add predictions to the test data\n",
    "test_data['predicted_pit'] = y_pred_test"
   ]
  },
  {
   "cell_type": "code",
   "execution_count": 165,
   "metadata": {},
   "outputs": [
    {
     "name": "stdout",
     "output_type": "stream",
     "text": [
      "Accuracy: 0.95\n",
      "\n",
      "Confusion Matrix:\n",
      "[[46657   822]\n",
      " [ 1889   614]]\n",
      "\n",
      "Classification Report:\n",
      "              precision    recall  f1-score   support\n",
      "\n",
      "         0.0       0.96      0.98      0.97     47479\n",
      "         1.0       0.43      0.25      0.31      2503\n",
      "\n",
      "    accuracy                           0.95     49982\n",
      "   macro avg       0.69      0.61      0.64     49982\n",
      "weighted avg       0.93      0.95      0.94     49982\n",
      "\n"
     ]
    }
   ],
   "source": [
    "# evaluate the model\n",
    "\n",
    "# accuracy\n",
    "accuracy = accuracy_score(y_test, y_pred_test)\n",
    "print(f\"Accuracy: {accuracy:.2f}\")\n",
    "\n",
    "# confusion matrix\n",
    "conf_matrix = confusion_matrix(y_test, y_pred_test)\n",
    "print(\"\\nConfusion Matrix:\")\n",
    "print(conf_matrix)\n",
    "\n",
    "# classification report\n",
    "class_report = classification_report(y_test, y_pred_test)\n",
    "print(\"\\nClassification Report:\")\n",
    "print(class_report)"
   ]
  },
  {
   "cell_type": "code",
   "execution_count": null,
   "metadata": {},
   "outputs": [
    {
     "name": "stdout",
     "output_type": "stream",
     "text": [
      "Driver RUS - Actual Pit Stops in Race 2022 Round 6:\n",
      "Empty DataFrame\n",
      "Columns: [lap_num, pit]\n",
      "Index: []\n",
      "\n",
      "Driver RUS - Predicted Pit Stops in Race 2022 Round 6:\n",
      "        lap_num  predicted_pit\n",
      "154856       14            1.0\n",
      "154879       37            1.0\n",
      "154894       52            1.0\n"
     ]
    },
    {
     "ename": "",
     "evalue": "",
     "output_type": "error",
     "traceback": [
      "\u001b[1;31mThe Kernel crashed while executing code in the current cell or a previous cell. \n",
      "\u001b[1;31mPlease review the code in the cell(s) to identify a possible cause of the failure. \n",
      "\u001b[1;31mClick <a href='https://aka.ms/vscodeJupyterKernelCrash'>here</a> for more info. \n",
      "\u001b[1;31mView Jupyter <a href='command:jupyter.viewOutput'>log</a> for further details."
     ]
    }
   ],
   "source": [
    "# specify driver and race to analyze\n",
    "driver = 'RUS'\n",
    "race_year = 2022\n",
    "race_round = 6\n",
    "\n",
    "# filter test data for the specific race and driver\n",
    "df_race_driver = test_data[\n",
    "    (test_data['session_type_Race'] == 1) &\n",
    "    (test_data[f'driver_short_{driver}'] == 1) &\n",
    "    (test_data['year'] == race_year) &\n",
    "    (test_data['round'] == race_round)\n",
    "]\n",
    "\n",
    "# get laps where driver actually pitted\n",
    "actual_pit_laps = df_race_driver[df_race_driver['pit'] == 1][['lap_num', 'pit']]\n",
    "\n",
    "# get laps where model predicted a pit stop\n",
    "predicted_pit_laps = df_race_driver[df_race_driver['predicted_pit'] == 1][['lap_num', 'predicted_pit']]\n",
    "\n",
    "\n",
    "# print results\n",
    "print(f\"Driver {driver} - Actual Pit Stops in Race {race_year} Round {race_round}:\")\n",
    "print(actual_pit_laps)\n",
    "\n",
    "print(f\"\\nDriver {driver} - Predicted Pit Stops in Race {race_year} Round {race_round}:\")\n",
    "print(predicted_pit_laps)"
   ]
  }
 ],
 "metadata": {
  "kernelspec": {
   "display_name": "env",
   "language": "python",
   "name": "python3"
  },
  "language_info": {
   "codemirror_mode": {
    "name": "ipython",
    "version": 3
   },
   "file_extension": ".py",
   "mimetype": "text/x-python",
   "name": "python",
   "nbconvert_exporter": "python",
   "pygments_lexer": "ipython3",
   "version": "3.10.12"
  }
 },
 "nbformat": 4,
 "nbformat_minor": 2
}
