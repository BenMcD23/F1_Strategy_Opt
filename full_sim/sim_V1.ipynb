{
 "cells": [
  {
   "cell_type": "code",
   "execution_count": 14,
   "metadata": {},
   "outputs": [],
   "source": [
    "from sqlalchemy import create_engine, func\n",
    "from sqlalchemy.orm import sessionmaker\n",
    "import sys\n",
    "import os\n",
    "import pandas as pd\n",
    "from sklearn.preprocessing import OneHotEncoder\n",
    "\n",
    "sys.path.append(os.path.abspath(os.path.join(os.getcwd(), \"../\")))\n",
    "from DB.models import init_db, Circuit, Season, RacingWeekend, Driver, Session, SessionResult, Lap, Team, DriverTeamSession, TeamCircuitStats, PitStop\n",
    "from utils import setup_race_data\n",
    "\n",
    "import numpy as np\n",
    "from sqlalchemy import create_engine\n",
    "from sqlalchemy.orm import sessionmaker\n",
    "from itertools import product\n",
    "\n",
    "# Initialize database connection\n",
    "global db_session\n",
    "engine, db_session = init_db()\n",
    "\n",
    "pd.set_option(\"display.max_rows\", None)\n",
    "pd.set_option(\"display.max_columns\", None)\n",
    "pd.set_option('display.max_colwidth', None) \n"
   ]
  },
  {
   "cell_type": "markdown",
   "metadata": {},
   "source": [
    "## 1) Query race into df and pre process"
   ]
  },
  {
   "cell_type": "code",
   "execution_count": 15,
   "metadata": {},
   "outputs": [
    {
     "data": {
      "text/html": [
       "<div>\n",
       "<style scoped>\n",
       "    .dataframe tbody tr th:only-of-type {\n",
       "        vertical-align: middle;\n",
       "    }\n",
       "\n",
       "    .dataframe tbody tr th {\n",
       "        vertical-align: top;\n",
       "    }\n",
       "\n",
       "    .dataframe thead th {\n",
       "        text-align: right;\n",
       "    }\n",
       "</style>\n",
       "<table border=\"1\" class=\"dataframe\">\n",
       "  <thead>\n",
       "    <tr style=\"text-align: right;\">\n",
       "      <th></th>\n",
       "      <th>lap_num</th>\n",
       "      <th>sector</th>\n",
       "      <th>stint_num</th>\n",
       "      <th>stint_lap</th>\n",
       "      <th>position</th>\n",
       "      <th>driver_name</th>\n",
       "      <th>driver_number</th>\n",
       "      <th>sector_time</th>\n",
       "      <th>gap</th>\n",
       "      <th>cumulative_time</th>\n",
       "      <th>tyre_type</th>\n",
       "      <th>tyre_laps</th>\n",
       "      <th>pit</th>\n",
       "      <th>drs_available</th>\n",
       "      <th>overtaken</th>\n",
       "      <th>tyre_diff</th>\n",
       "      <th>front_laps</th>\n",
       "      <th>stint_laps_diff</th>\n",
       "      <th>track_status</th>\n",
       "      <th>pace</th>\n",
       "      <th>starting_position</th>\n",
       "    </tr>\n",
       "  </thead>\n",
       "  <tbody>\n",
       "    <tr>\n",
       "      <th>0</th>\n",
       "      <td>1</td>\n",
       "      <td>1</td>\n",
       "      <td>1</td>\n",
       "      <td>1</td>\n",
       "      <td>1</td>\n",
       "      <td>Max Verstappen</td>\n",
       "      <td>33</td>\n",
       "      <td>NaN</td>\n",
       "      <td>0.0</td>\n",
       "      <td>NaN</td>\n",
       "      <td>1</td>\n",
       "      <td>4</td>\n",
       "      <td>False</td>\n",
       "      <td>False</td>\n",
       "      <td>True</td>\n",
       "      <td>0.0</td>\n",
       "      <td>NaN</td>\n",
       "      <td>0.0</td>\n",
       "      <td>12</td>\n",
       "      <td>NaN</td>\n",
       "      <td>1</td>\n",
       "    </tr>\n",
       "    <tr>\n",
       "      <th>1</th>\n",
       "      <td>1</td>\n",
       "      <td>1</td>\n",
       "      <td>1</td>\n",
       "      <td>1</td>\n",
       "      <td>2</td>\n",
       "      <td>Charles Leclerc</td>\n",
       "      <td>16</td>\n",
       "      <td>NaN</td>\n",
       "      <td>0.0</td>\n",
       "      <td>NaN</td>\n",
       "      <td>1</td>\n",
       "      <td>1</td>\n",
       "      <td>False</td>\n",
       "      <td>False</td>\n",
       "      <td>True</td>\n",
       "      <td>0.0</td>\n",
       "      <td>1.0</td>\n",
       "      <td>0.0</td>\n",
       "      <td>12</td>\n",
       "      <td>NaN</td>\n",
       "      <td>19</td>\n",
       "    </tr>\n",
       "    <tr>\n",
       "      <th>2</th>\n",
       "      <td>1</td>\n",
       "      <td>1</td>\n",
       "      <td>1</td>\n",
       "      <td>1</td>\n",
       "      <td>3</td>\n",
       "      <td>Sergio Perez</td>\n",
       "      <td>11</td>\n",
       "      <td>NaN</td>\n",
       "      <td>0.0</td>\n",
       "      <td>NaN</td>\n",
       "      <td>1</td>\n",
       "      <td>4</td>\n",
       "      <td>False</td>\n",
       "      <td>False</td>\n",
       "      <td>True</td>\n",
       "      <td>0.0</td>\n",
       "      <td>1.0</td>\n",
       "      <td>0.0</td>\n",
       "      <td>12</td>\n",
       "      <td>NaN</td>\n",
       "      <td>2</td>\n",
       "    </tr>\n",
       "    <tr>\n",
       "      <th>3</th>\n",
       "      <td>1</td>\n",
       "      <td>1</td>\n",
       "      <td>1</td>\n",
       "      <td>1</td>\n",
       "      <td>4</td>\n",
       "      <td>Carlos Sainz</td>\n",
       "      <td>55</td>\n",
       "      <td>NaN</td>\n",
       "      <td>0.0</td>\n",
       "      <td>NaN</td>\n",
       "      <td>1</td>\n",
       "      <td>4</td>\n",
       "      <td>False</td>\n",
       "      <td>False</td>\n",
       "      <td>True</td>\n",
       "      <td>0.0</td>\n",
       "      <td>1.0</td>\n",
       "      <td>0.0</td>\n",
       "      <td>12</td>\n",
       "      <td>NaN</td>\n",
       "      <td>4</td>\n",
       "    </tr>\n",
       "    <tr>\n",
       "      <th>4</th>\n",
       "      <td>1</td>\n",
       "      <td>1</td>\n",
       "      <td>1</td>\n",
       "      <td>1</td>\n",
       "      <td>5</td>\n",
       "      <td>Lewis Hamilton</td>\n",
       "      <td>44</td>\n",
       "      <td>NaN</td>\n",
       "      <td>0.0</td>\n",
       "      <td>NaN</td>\n",
       "      <td>1</td>\n",
       "      <td>4</td>\n",
       "      <td>False</td>\n",
       "      <td>False</td>\n",
       "      <td>True</td>\n",
       "      <td>0.0</td>\n",
       "      <td>1.0</td>\n",
       "      <td>0.0</td>\n",
       "      <td>12</td>\n",
       "      <td>NaN</td>\n",
       "      <td>5</td>\n",
       "    </tr>\n",
       "  </tbody>\n",
       "</table>\n",
       "</div>"
      ],
      "text/plain": [
       "   lap_num  sector  stint_num  stint_lap  position      driver_name  \\\n",
       "0        1       1          1          1         1   Max Verstappen   \n",
       "1        1       1          1          1         2  Charles Leclerc   \n",
       "2        1       1          1          1         3     Sergio Perez   \n",
       "3        1       1          1          1         4     Carlos Sainz   \n",
       "4        1       1          1          1         5   Lewis Hamilton   \n",
       "\n",
       "   driver_number  sector_time  gap  cumulative_time  tyre_type  tyre_laps  \\\n",
       "0             33          NaN  0.0              NaN          1          4   \n",
       "1             16          NaN  0.0              NaN          1          1   \n",
       "2             11          NaN  0.0              NaN          1          4   \n",
       "3             55          NaN  0.0              NaN          1          4   \n",
       "4             44          NaN  0.0              NaN          1          4   \n",
       "\n",
       "     pit  drs_available  overtaken  tyre_diff  front_laps  stint_laps_diff  \\\n",
       "0  False          False       True        0.0         NaN              0.0   \n",
       "1  False          False       True        0.0         1.0              0.0   \n",
       "2  False          False       True        0.0         1.0              0.0   \n",
       "3  False          False       True        0.0         1.0              0.0   \n",
       "4  False          False       True        0.0         1.0              0.0   \n",
       "\n",
       "   track_status  pace starting_position  \n",
       "0            12   NaN                 1  \n",
       "1            12   NaN                19  \n",
       "2            12   NaN                 2  \n",
       "3            12   NaN                 4  \n",
       "4            12   NaN                 5  "
      ]
     },
     "execution_count": 15,
     "metadata": {},
     "output_type": "execute_result"
    }
   ],
   "source": [
    "def get_race_df(year, circuit):\n",
    "\trace_session = (db_session.query(Session)\n",
    "\t\t\t\t.join(RacingWeekend, Session.weekend_id == RacingWeekend.racing_weekend_id)\n",
    "\t\t\t\t.join(Circuit, RacingWeekend.circuit_id == Circuit.circuit_id)\n",
    "\t\t\t\t.filter(\n",
    "\t\t\t\t\tRacingWeekend.year == year,\n",
    "\t\t\t\t\tCircuit.circuit_name == circuit,\n",
    "\t\t\t\t\tSession.session_type == \"Race\"\n",
    "\t\t\t\t)\n",
    "\t\t\t\t.first())\n",
    "\t\n",
    "\tlaps = race_session.laps\n",
    "\n",
    "\tsession_results = (\n",
    "\t\tdb_session.query(SessionResult.position, Driver.driver_num)\n",
    "\t\t.join(Session, Session.session_id == SessionResult.session_id)\n",
    "\t\t.join(Driver, Driver.driver_id == SessionResult.driver_id)\n",
    "\t\t.filter(SessionResult.session_id == race_session.session_id)\n",
    "\t\t.all()\n",
    "\t)\n",
    "\n",
    "\t# Convert session results to a dictionary\n",
    "\tstarting_positions = {driver_num: position for position, driver_num in session_results}\n",
    "\n",
    "\t# Convert to DataFrame\n",
    "\tlaps_data = []\n",
    "\tfor lap in laps:\n",
    "\t\t# Add a row for Sector 1\n",
    "\t\tlaps_data.append({\n",
    "\t\t\t\"lap_num\": lap.lap_num,\n",
    "\t\t\t\"sector\": 1,\n",
    "\t\t\t\"stint_num\": lap.stint_num,\n",
    "\t\t\t\"stint_lap\": lap.stint_lap,\n",
    "\t\t\t\"position\": lap.position,\n",
    "\t\t\t\"driver_name\": lap.driver.driver_name,\n",
    "\t\t\t\"driver_number\": lap.driver.driver_num,\n",
    "\t\t\t\"sector_time\": lap.s1_time,\n",
    "\t\t\t\"tyre_type\": lap.tyre_type,\n",
    "\t\t\t\"tyre_laps\": lap.tyre_laps,\n",
    "\t\t\t\"pit\": lap.pit,\n",
    "\t\t\t\"track_status\": lap.track_status\n",
    "\t\t})\n",
    "\n",
    "\t\t# Add a row for Sector 2\n",
    "\t\tlaps_data.append({\n",
    "\t\t\t\"lap_num\": lap.lap_num,\n",
    "\t\t\t\"sector\": 2,\n",
    "\t\t\t\"stint_num\": lap.stint_num,\n",
    "\t\t\t\"stint_lap\": lap.stint_lap,\n",
    "\t\t\t\"position\": lap.position,\n",
    "\t\t\t\"driver_name\": lap.driver.driver_name,\n",
    "\t\t\t\"driver_number\": lap.driver.driver_num,\n",
    "\t\t\t\"sector_time\": lap.s2_time,\n",
    "\t\t\t\"tyre_type\": lap.tyre_type,\n",
    "\t\t\t\"tyre_laps\": lap.tyre_laps,\n",
    "\t\t\t\"pit\": lap.pit,\n",
    "\t\t\t\"track_status\": lap.track_status\n",
    "\t\t})\n",
    "\n",
    "\t\t# Add a row for Sector 3\n",
    "\t\tlaps_data.append({\n",
    "\t\t\t\"lap_num\": lap.lap_num,\n",
    "\t\t\t\"sector\": 3,\n",
    "\t\t\t\"stint_num\": lap.stint_num,\n",
    "\t\t\t\"stint_lap\": lap.stint_lap,\n",
    "\t\t\t\"position\": lap.position,\n",
    "\t\t\t\"driver_name\": lap.driver.driver_name,\n",
    "\t\t\t\"driver_number\": lap.driver.driver_num,\n",
    "\t\t\t\"sector_time\": lap.s3_time,\n",
    "\t\t\t\"tyre_type\": lap.tyre_type,\n",
    "\t\t\t\"tyre_laps\": lap.tyre_laps,\n",
    "\t\t\t\"pit\": lap.pit,\n",
    "\t\t\t\"track_status\": lap.track_status\n",
    "\t\t})\n",
    "\n",
    "\t# Create a DataFrame from the list of dictionaries\n",
    "\tdf = pd.DataFrame(laps_data)\n",
    "\t\n",
    "\tdf[\"starting_position\"] = None  # Initialize column with None\n",
    "\tfor driver_num, grid_pos in starting_positions.items():\n",
    "\t\t# Find the first occurrence of the driver\n",
    "\t\tfirst_row_index = df[df[\"driver_number\"] == driver_num].index[0]\n",
    "\t\tdf.at[first_row_index, \"starting_position\"] = grid_pos\n",
    "\n",
    "\tdf = df.sort_values([\"lap_num\", \"sector\", \"position\"]).reset_index(drop=True)\n",
    "\n",
    "\treturn df\n",
    "\n",
    "\n",
    "def add_race_data(df):\n",
    "\t# Calculate cumulative race time for each driver\n",
    "\tdf[\"cumulative_time\"] = df.groupby(\"driver_name\")[\"sector_time\"].cumsum()\n",
    " \n",
    "\t# Calculate rolling pace (average lap time over the last 5 laps)\n",
    "\tdf[\"pace\"] = (\n",
    "\t\tdf.groupby([\"driver_name\", \"sector\"])[\"sector_time\"]\n",
    "\t\t.rolling(window=5, min_periods=1)\n",
    "\t\t.mean()\n",
    "\t\t.reset_index(level=[0, 1], drop=True)\n",
    "\t)\n",
    "\n",
    "\t# Get car ahead\"s cumulative time (car immediately ahead in position for each lap)\n",
    "\tdf[\"front_cumulative_time\"] = df.groupby([\"lap_num\", \"sector\"])[\"cumulative_time\"].shift(1)\n",
    "\t# This gap is calculated only for drivers who are not in the lead position (position > 1)\n",
    "\tdf[\"gap\"] = df[\"cumulative_time\"] - df[\"front_cumulative_time\"]\n",
    "\tdf[\"gap\"] = df[\"gap\"].fillna(0)  # Leader has no car ahead, so gap is 0\n",
    "\n",
    "\t# Calculate tyre difference (compared to car immediately ahead in THIS Sector)\n",
    "\tdf[\"front_tyre\"] = df.groupby([\"lap_num\", \"sector\"])[\"tyre_type\"].shift(1)\n",
    "\tdf[\"tyre_diff\"] = df[\"front_tyre\"] - df[\"tyre_type\"]\n",
    "\tdf[\"tyre_diff\"] = df[\"tyre_diff\"].fillna(0)  # Leader has no car ahead\n",
    "\n",
    "\t# Calculate tyre age difference (compared to car immediately ahead in THIS Sector)\n",
    "\tdf[\"front_laps\"] = df.groupby([\"lap_num\", \"sector\"])[\"stint_lap\"].shift(1)\n",
    "\tdf[\"stint_laps_diff\"] = df[\"front_laps\"] - df[\"stint_lap\"]\n",
    "\tdf[\"stint_laps_diff\"] = df[\"stint_laps_diff\"].fillna(0)  # Leader has no car ahead\n",
    "\n",
    "\t# Calculate DRS availability (within 1s of car ahead IN THIS Sector)\n",
    "\tdf[\"drs_available\"] = (\n",
    "\t\t(df[\"gap\"] <= 1) &\n",
    "\t\t(df[\"position\"] > 1) &\n",
    "\t\t(df[\"lap_num\"] > 1)\n",
    "\t)\n",
    "\n",
    "\t# Create target variable for overtaking model (done where its 1 if the driver got overtaken (improved accuracy))\n",
    "\tdf[\"next_position\"] = df.groupby(\"driver_name\")[\"position\"].shift(1) \n",
    "\tdf[\"overtaken\"] = ((df[\"next_position\"] < df[\"position\"]) | \n",
    "\t\t\t\t\t  (df[\"next_position\"].isna()))\n",
    "\t\n",
    "\n",
    "\t# Cleanup and final sorting\n",
    "\tdf = df.drop(columns=[\"front_cumulative_time\", \"front_tyre\", \"next_position\"])\n",
    "\t# df = df.sort_values([\"lap_num\", \"sector\", \"position\"]).reset_index(drop=True)\n",
    "\n",
    "\ttry:\n",
    "\t\tnew_order = [\n",
    "\t\t\t\"lap_num\", \"sector\", \"stint_num\", \"stint_lap\", \"position\", \"driver_name\",\n",
    "\t\t\t\"driver_number\", \"sector_time\", \"gap\", \"cumulative_time\", \"tyre_type\", \"tyre_laps\", \n",
    "\t\t\t\"pit\", \"drs_available\", \"overtaken\", \"tyre_diff\", \"front_laps\", \"stint_laps_diff\", \"track_status\", \"pace\", \"starting_position\"\n",
    "\t\t]\n",
    "\n",
    "\t\tdf = df[new_order]\n",
    "\texcept:\n",
    "\t\tprint(\"dont care\")\n",
    "\treturn df\n",
    "\n",
    "\n",
    "df = get_race_df(2023, \"Sakhir\")\n",
    "df = add_race_data(df)\n",
    "\n",
    "# df[df[\"sector_time\"].isna()]\n",
    "# df[df[\"driver_name\"]==\"Logan Sargeant\"]\n",
    "df.head(5)"
   ]
  },
  {
   "cell_type": "markdown",
   "metadata": {},
   "source": [
    "### Now create overtaking model"
   ]
  },
  {
   "cell_type": "code",
   "execution_count": 16,
   "metadata": {},
   "outputs": [],
   "source": [
    "from sklearn.ensemble import GradientBoostingClassifier\n",
    "from sklearn.calibration import CalibratedClassifierCV\n",
    "from sklearn.utils.class_weight import compute_sample_weight\n",
    "\n",
    "# Define features and target\n",
    "features = [\n",
    "\t\"gap\",\n",
    "\t\"pace\",\n",
    "\t\"tyre_diff\",\n",
    "\t\"stint_laps_diff\",\n",
    "\t\"drs_available\",\n",
    "\t\"cumulative_time\",\n",
    "\t\"sector_time\",\n",
    "\t\"pit\"\n",
    "]\n",
    "\n",
    "X = df[features]\n",
    "y = df[\"overtaken\"]\n",
    "\n",
    "from imblearn.over_sampling import SMOTE\n",
    "\n",
    "\n",
    "\n",
    "# Train the model on the resampled data\n",
    "\n",
    "# Handle missing values\n",
    "X = X.fillna(X.mean())\n",
    "\n",
    "smote = SMOTE(random_state=42)\n",
    "X_resampled, y_resampled = smote.fit_resample(X, y)\n",
    "\n",
    "\n",
    "# Base model\n",
    "gbc = GradientBoostingClassifier(\n",
    "\tn_estimators=200,\n",
    "\tlearning_rate=0.05,\n",
    "\tmax_depth=3,\n",
    "\t\n",
    "\tsubsample=0.8,\n",
    "\trandom_state=42\n",
    ")\n",
    "\n",
    "\n",
    "\n",
    "# # Calibrate for better probabilities\n",
    "model = CalibratedClassifierCV(gbc, method=\"sigmoid\", cv=3)\n",
    "\n",
    "# # Train on all data\n",
    "model.fit(X_resampled, y_resampled)\n",
    "\n",
    "# from lightgbm import LGBMClassifier\n",
    "\n",
    "# lgbm = LGBMClassifier(\n",
    "# \tn_estimators=100,\n",
    "# \tlearning_rate=0.1,\n",
    "# \tmax_depth=3,\n",
    "# \tsubsample=0.8,\n",
    "# \trandom_state=42\n",
    "# )\n",
    "# model = CalibratedClassifierCV(lgbm, method=\"isotonic\", cv=3)\n",
    "# model.fit(X, y, sample_weight=sample_weights)\n",
    "\n",
    "\n",
    "feature_means = X.mean()\n",
    "\n",
    "def predict_overtake(new_race_df):\n",
    "\t# Select the same features used during training\n",
    "\tX_new = new_race_df[features]\n",
    "\t\n",
    "\t# Handle missing values (if any)\n",
    "\tX_new = X_new.fillna(feature_means)\n",
    "\t\n",
    "\t# Make predictions using the trained model\n",
    "\tnew_race_df[\"predicted_overtake\"] = model.predict(X_new)\n",
    "\t\n",
    "\treturn new_race_df"
   ]
  },
  {
   "cell_type": "code",
   "execution_count": 17,
   "metadata": {},
   "outputs": [
    {
     "name": "stdout",
     "output_type": "stream",
     "text": [
      "Accuracy: 0.997\n",
      "\n",
      "Classification Report:\n",
      "              precision    recall  f1-score   support\n",
      "\n",
      " No Overtake       1.00      1.00      1.00      3068\n",
      "   Overtaken       0.96      0.93      0.94        97\n",
      "\n",
      "    accuracy                           1.00      3165\n",
      "   macro avg       0.98      0.96      0.97      3165\n",
      "weighted avg       1.00      1.00      1.00      3165\n",
      "\n"
     ]
    }
   ],
   "source": [
    "from sklearn.metrics import accuracy_score, classification_report\n",
    "\n",
    "# Load the 2023 race data\n",
    "\n",
    "\n",
    "# Predict overtakes using the rule-based function\n",
    "new_race_df = predict_overtake(df)\n",
    "\n",
    "# Calculate accuracy\n",
    "actual_overtakes = new_race_df[\"overtaken\"]\n",
    "predicted_overtakes = new_race_df[\"predicted_overtake\"]\n",
    "accuracy = accuracy_score(actual_overtakes, predicted_overtakes)\n",
    "print(f\"Accuracy: {accuracy:.3f}\")\n",
    "\n",
    "# Generate classification report\n",
    "print(\"\\nClassification Report:\")\n",
    "print(classification_report(\n",
    "\tactual_overtakes,\n",
    "\tpredicted_overtakes,\n",
    "\ttarget_names=[\"No Overtake\", \"Overtaken\"]\n",
    "))"
   ]
  },
  {
   "cell_type": "markdown",
   "metadata": {},
   "source": [
    "Accuracy: 0.997\n",
    "\n",
    "Classification Report:\n",
    "\t\t\t  precision    recall  f1-score   support\n",
    "\n",
    " No Overtake       1.00      1.00      1.00      3068\n",
    "\tOvertaken       0.96      0.93      0.94        97\n",
    "\n",
    "\taccuracy                           1.00      3165\n",
    "\tmacro avg       0.98      0.96      0.97      3165\n",
    "weighted avg       1.00      1.00      1.00      3165"
   ]
  },
  {
   "cell_type": "code",
   "execution_count": 18,
   "metadata": {},
   "outputs": [],
   "source": [
    "race_data = setup_race_data(df)\n",
    "\n",
    "\n"
   ]
  },
  {
   "cell_type": "code",
   "execution_count": 19,
   "metadata": {},
   "outputs": [
    {
     "name": "stderr",
     "output_type": "stream",
     "text": [
      "/tmp/ipykernel_97271/2393480363.py:75: FutureWarning: Setting an item of incompatible dtype is deprecated and will raise an error in a future version of pandas. Value '33.60698478170239' has dtype incompatible with int64, please explicitly cast to a compatible dtype first.\n",
      "  drivers_df.at[index, \"sector_time\"] = sector_time\n",
      "/tmp/ipykernel_97271/2393480363.py:89: FutureWarning: Setting an item of incompatible dtype is deprecated and will raise an error in a future version of pandas. Value '33.60698478170239' has dtype incompatible with int64, please explicitly cast to a compatible dtype first.\n",
      "  drivers_df.at[index, \"gap\"] = gap\n"
     ]
    },
    {
     "data": {
      "text/html": [
       "<div>\n",
       "<style scoped>\n",
       "    .dataframe tbody tr th:only-of-type {\n",
       "        vertical-align: middle;\n",
       "    }\n",
       "\n",
       "    .dataframe tbody tr th {\n",
       "        vertical-align: top;\n",
       "    }\n",
       "\n",
       "    .dataframe thead th {\n",
       "        text-align: right;\n",
       "    }\n",
       "</style>\n",
       "<table border=\"1\" class=\"dataframe\">\n",
       "  <thead>\n",
       "    <tr style=\"text-align: right;\">\n",
       "      <th></th>\n",
       "      <th>driver_number</th>\n",
       "      <th>driver_name</th>\n",
       "      <th>pit_schedule</th>\n",
       "      <th>tyre_type</th>\n",
       "      <th>lap_num</th>\n",
       "      <th>sector</th>\n",
       "      <th>sector_time</th>\n",
       "      <th>stint_lap</th>\n",
       "      <th>cumulative_time</th>\n",
       "      <th>gap</th>\n",
       "      <th>pit</th>\n",
       "      <th>position</th>\n",
       "      <th>consecutive_laps_within_2s</th>\n",
       "      <th>base_sector_times</th>\n",
       "      <th>pace</th>\n",
       "      <th>tyre_diff</th>\n",
       "      <th>stint_laps_diff</th>\n",
       "      <th>drs_available</th>\n",
       "      <th>predicted_overtake</th>\n",
       "    </tr>\n",
       "  </thead>\n",
       "  <tbody>\n",
       "    <tr>\n",
       "      <th>0</th>\n",
       "      <td>33</td>\n",
       "      <td>Max Verstappen</td>\n",
       "      <td>{15: 1, 37: 3, 1: 1}</td>\n",
       "      <td>3</td>\n",
       "      <td>57</td>\n",
       "      <td>3</td>\n",
       "      <td>23.818352</td>\n",
       "      <td>21</td>\n",
       "      <td>5713.607516</td>\n",
       "      <td>0.000000</td>\n",
       "      <td>False</td>\n",
       "      <td>1</td>\n",
       "      <td>0</td>\n",
       "      <td>{1: 30.22119298245614, 2: 41.314, 3: 22.741999999999997}</td>\n",
       "      <td>0</td>\n",
       "      <td>0</td>\n",
       "      <td>0</td>\n",
       "      <td>False</td>\n",
       "      <td>False</td>\n",
       "    </tr>\n",
       "    <tr>\n",
       "      <th>1</th>\n",
       "      <td>11</td>\n",
       "      <td>Sergio Perez</td>\n",
       "      <td>{18: 1, 35: 3, 1: 1}</td>\n",
       "      <td>3</td>\n",
       "      <td>57</td>\n",
       "      <td>3</td>\n",
       "      <td>23.875931</td>\n",
       "      <td>23</td>\n",
       "      <td>5712.180731</td>\n",
       "      <td>25.302716</td>\n",
       "      <td>False</td>\n",
       "      <td>2</td>\n",
       "      <td>0</td>\n",
       "      <td>{1: 30.208192982456143, 2: 41.508736842105264, 3: 22.968999999999998}</td>\n",
       "      <td>0</td>\n",
       "      <td>0</td>\n",
       "      <td>0</td>\n",
       "      <td>False</td>\n",
       "      <td>False</td>\n",
       "    </tr>\n",
       "    <tr>\n",
       "      <th>2</th>\n",
       "      <td>14</td>\n",
       "      <td>Fernando Alonso</td>\n",
       "      <td>{15: 3, 35: 3, 1: 1}</td>\n",
       "      <td>3</td>\n",
       "      <td>57</td>\n",
       "      <td>3</td>\n",
       "      <td>23.842212</td>\n",
       "      <td>23</td>\n",
       "      <td>5688.892229</td>\n",
       "      <td>47.130714</td>\n",
       "      <td>False</td>\n",
       "      <td>3</td>\n",
       "      <td>0</td>\n",
       "      <td>{1: 30.154771929824562, 2: 41.03743859649123, 3: 23.05417543859649}</td>\n",
       "      <td>0</td>\n",
       "      <td>0</td>\n",
       "      <td>0</td>\n",
       "      <td>False</td>\n",
       "      <td>False</td>\n",
       "    </tr>\n",
       "    <tr>\n",
       "      <th>3</th>\n",
       "      <td>55</td>\n",
       "      <td>Carlos Sainz</td>\n",
       "      <td>{14: 3, 32: 3, 1: 1}</td>\n",
       "      <td>3</td>\n",
       "      <td>57</td>\n",
       "      <td>3</td>\n",
       "      <td>24.176708</td>\n",
       "      <td>26</td>\n",
       "      <td>5752.380474</td>\n",
       "      <td>-60.532527</td>\n",
       "      <td>False</td>\n",
       "      <td>4</td>\n",
       "      <td>0</td>\n",
       "      <td>{1: 30.02519298245614, 2: 41.93887719298245, 3: 23.09}</td>\n",
       "      <td>0</td>\n",
       "      <td>0</td>\n",
       "      <td>0</td>\n",
       "      <td>True</td>\n",
       "      <td>False</td>\n",
       "    </tr>\n",
       "    <tr>\n",
       "      <th>4</th>\n",
       "      <td>44</td>\n",
       "      <td>Lewis Hamilton</td>\n",
       "      <td>{13: 3, 31: 3, 1: 1}</td>\n",
       "      <td>3</td>\n",
       "      <td>57</td>\n",
       "      <td>3</td>\n",
       "      <td>24.060567</td>\n",
       "      <td>27</td>\n",
       "      <td>5711.770085</td>\n",
       "      <td>64.670956</td>\n",
       "      <td>False</td>\n",
       "      <td>5</td>\n",
       "      <td>0</td>\n",
       "      <td>{1: 29.933877192982457, 2: 41.58843859649123, 3: 22.93257894736842}</td>\n",
       "      <td>0</td>\n",
       "      <td>0</td>\n",
       "      <td>0</td>\n",
       "      <td>False</td>\n",
       "      <td>False</td>\n",
       "    </tr>\n",
       "    <tr>\n",
       "      <th>5</th>\n",
       "      <td>18</td>\n",
       "      <td>Lance Stroll</td>\n",
       "      <td>{16: 3, 31: 3, 1: 1}</td>\n",
       "      <td>3</td>\n",
       "      <td>57</td>\n",
       "      <td>3</td>\n",
       "      <td>24.135214</td>\n",
       "      <td>27</td>\n",
       "      <td>5700.902104</td>\n",
       "      <td>35.003195</td>\n",
       "      <td>False</td>\n",
       "      <td>6</td>\n",
       "      <td>0</td>\n",
       "      <td>{1: 30.112192982456143, 2: 41.051947368421054, 3: 23.033947368421053}</td>\n",
       "      <td>0</td>\n",
       "      <td>0</td>\n",
       "      <td>0</td>\n",
       "      <td>False</td>\n",
       "      <td>False</td>\n",
       "    </tr>\n",
       "    <tr>\n",
       "      <th>6</th>\n",
       "      <td>63</td>\n",
       "      <td>George Russell</td>\n",
       "      <td>{14: 3, 32: 3, 1: 1}</td>\n",
       "      <td>3</td>\n",
       "      <td>57</td>\n",
       "      <td>3</td>\n",
       "      <td>23.987645</td>\n",
       "      <td>26</td>\n",
       "      <td>5749.759252</td>\n",
       "      <td>-47.882317</td>\n",
       "      <td>False</td>\n",
       "      <td>7</td>\n",
       "      <td>0</td>\n",
       "      <td>{1: 29.982175438596492, 2: 41.70487719298246, 3: 23.003877192982458}</td>\n",
       "      <td>0</td>\n",
       "      <td>0</td>\n",
       "      <td>-17</td>\n",
       "      <td>True</td>\n",
       "      <td>True</td>\n",
       "    </tr>\n",
       "    <tr>\n",
       "      <th>7</th>\n",
       "      <td>77</td>\n",
       "      <td>Valtteri Bottas</td>\n",
       "      <td>{12: 3, 30: 3, 1: 1}</td>\n",
       "      <td>3</td>\n",
       "      <td>57</td>\n",
       "      <td>3</td>\n",
       "      <td>24.229132</td>\n",
       "      <td>28</td>\n",
       "      <td>5740.167765</td>\n",
       "      <td>33.820618</td>\n",
       "      <td>False</td>\n",
       "      <td>8</td>\n",
       "      <td>0</td>\n",
       "      <td>{1: 30.272877192982456, 2: 41.596649122807015, 3: 23.151280701754388}</td>\n",
       "      <td>0</td>\n",
       "      <td>0</td>\n",
       "      <td>0</td>\n",
       "      <td>False</td>\n",
       "      <td>False</td>\n",
       "    </tr>\n",
       "    <tr>\n",
       "      <th>8</th>\n",
       "      <td>10</td>\n",
       "      <td>Pierre Gasly</td>\n",
       "      <td>{10: 3, 26: 3, 41: 1, 1: 1}</td>\n",
       "      <td>1</td>\n",
       "      <td>57</td>\n",
       "      <td>3</td>\n",
       "      <td>24.568446</td>\n",
       "      <td>17</td>\n",
       "      <td>5731.160264</td>\n",
       "      <td>33.575947</td>\n",
       "      <td>False</td>\n",
       "      <td>9</td>\n",
       "      <td>0</td>\n",
       "      <td>{1: 29.760228070175437, 2: 41.08422807017544, 3: 23.101684210526315}</td>\n",
       "      <td>0</td>\n",
       "      <td>0</td>\n",
       "      <td>0</td>\n",
       "      <td>False</td>\n",
       "      <td>False</td>\n",
       "    </tr>\n",
       "    <tr>\n",
       "      <th>9</th>\n",
       "      <td>23</td>\n",
       "      <td>Alexander Albon</td>\n",
       "      <td>{12: 1, 27: 3, 41: 1, 1: 1}</td>\n",
       "      <td>1</td>\n",
       "      <td>57</td>\n",
       "      <td>3</td>\n",
       "      <td>24.240605</td>\n",
       "      <td>17</td>\n",
       "      <td>5780.178799</td>\n",
       "      <td>-49.346375</td>\n",
       "      <td>False</td>\n",
       "      <td>10</td>\n",
       "      <td>0</td>\n",
       "      <td>{1: 30.183894736842106, 2: 41.988052631578945, 3: 23.158280701754386}</td>\n",
       "      <td>0</td>\n",
       "      <td>0</td>\n",
       "      <td>0</td>\n",
       "      <td>True</td>\n",
       "      <td>False</td>\n",
       "    </tr>\n",
       "    <tr>\n",
       "      <th>10</th>\n",
       "      <td>22</td>\n",
       "      <td>Yuki Tsunoda</td>\n",
       "      <td>{11: 3, 27: 3, 41: 1, 1: 1}</td>\n",
       "      <td>1</td>\n",
       "      <td>57</td>\n",
       "      <td>3</td>\n",
       "      <td>24.158871</td>\n",
       "      <td>17</td>\n",
       "      <td>5749.708264</td>\n",
       "      <td>54.629406</td>\n",
       "      <td>False</td>\n",
       "      <td>11</td>\n",
       "      <td>0</td>\n",
       "      <td>{1: 30.216894736842107, 2: 41.42622807017544, 3: 23.15598245614035}</td>\n",
       "      <td>0</td>\n",
       "      <td>0</td>\n",
       "      <td>0</td>\n",
       "      <td>False</td>\n",
       "      <td>False</td>\n",
       "    </tr>\n",
       "    <tr>\n",
       "      <th>11</th>\n",
       "      <td>2</td>\n",
       "      <td>Logan Sargeant</td>\n",
       "      <td>{13: 1, 31: 3, 41: 1, 1: 1}</td>\n",
       "      <td>1</td>\n",
       "      <td>57</td>\n",
       "      <td>3</td>\n",
       "      <td>24.277950</td>\n",
       "      <td>17</td>\n",
       "      <td>5775.744683</td>\n",
       "      <td>-25.917341</td>\n",
       "      <td>False</td>\n",
       "      <td>12</td>\n",
       "      <td>0</td>\n",
       "      <td>{1: 30.18322807017544, 2: 41.56622807017544, 3: 23.317947368421052}</td>\n",
       "      <td>0</td>\n",
       "      <td>0</td>\n",
       "      <td>0</td>\n",
       "      <td>True</td>\n",
       "      <td>False</td>\n",
       "    </tr>\n",
       "    <tr>\n",
       "      <th>12</th>\n",
       "      <td>20</td>\n",
       "      <td>Kevin Magnussen</td>\n",
       "      <td>{16: 3, 30: 1, 41: 1, 1: 3}</td>\n",
       "      <td>1</td>\n",
       "      <td>57</td>\n",
       "      <td>3</td>\n",
       "      <td>24.500434</td>\n",
       "      <td>17</td>\n",
       "      <td>5774.137089</td>\n",
       "      <td>26.108028</td>\n",
       "      <td>False</td>\n",
       "      <td>13</td>\n",
       "      <td>0</td>\n",
       "      <td>{1: 30.428228070175436, 2: 41.629543859649125, 3: 23.280473684210527}</td>\n",
       "      <td>0</td>\n",
       "      <td>0</td>\n",
       "      <td>0</td>\n",
       "      <td>False</td>\n",
       "      <td>False</td>\n",
       "    </tr>\n",
       "    <tr>\n",
       "      <th>13</th>\n",
       "      <td>21</td>\n",
       "      <td>Nyck De Vries</td>\n",
       "      <td>{12: 3, 28: 3, 1: 1}</td>\n",
       "      <td>3</td>\n",
       "      <td>57</td>\n",
       "      <td>3</td>\n",
       "      <td>24.849096</td>\n",
       "      <td>30</td>\n",
       "      <td>5773.485948</td>\n",
       "      <td>21.756615</td>\n",
       "      <td>False</td>\n",
       "      <td>14</td>\n",
       "      <td>0</td>\n",
       "      <td>{1: 30.405192982456143, 2: 42.06464912280701, 3: 23.299280701754387}</td>\n",
       "      <td>0</td>\n",
       "      <td>0</td>\n",
       "      <td>0</td>\n",
       "      <td>False</td>\n",
       "      <td>False</td>\n",
       "    </tr>\n",
       "    <tr>\n",
       "      <th>14</th>\n",
       "      <td>27</td>\n",
       "      <td>Nico Hulkenberg</td>\n",
       "      <td>{12: 3, 27: 3, 41: 1, 1: 1}</td>\n",
       "      <td>1</td>\n",
       "      <td>57</td>\n",
       "      <td>3</td>\n",
       "      <td>24.552988</td>\n",
       "      <td>17</td>\n",
       "      <td>5755.896884</td>\n",
       "      <td>17.292956</td>\n",
       "      <td>False</td>\n",
       "      <td>15</td>\n",
       "      <td>0</td>\n",
       "      <td>{1: 30.29605263157895, 2: 41.46905263157895, 3: 23.43164912280702}</td>\n",
       "      <td>0</td>\n",
       "      <td>2</td>\n",
       "      <td>13</td>\n",
       "      <td>True</td>\n",
       "      <td>False</td>\n",
       "    </tr>\n",
       "    <tr>\n",
       "      <th>15</th>\n",
       "      <td>24</td>\n",
       "      <td>Guanyu Zhou</td>\n",
       "      <td>{13: 3, 33: 1, 55: 1, 1: 1}</td>\n",
       "      <td>1</td>\n",
       "      <td>57</td>\n",
       "      <td>3</td>\n",
       "      <td>23.631119</td>\n",
       "      <td>3</td>\n",
       "      <td>5737.063016</td>\n",
       "      <td>42.464987</td>\n",
       "      <td>False</td>\n",
       "      <td>16</td>\n",
       "      <td>0</td>\n",
       "      <td>{1: 30.14440350877193, 2: 40.49440350877193, 3: 23.24140350877193}</td>\n",
       "      <td>0</td>\n",
       "      <td>0</td>\n",
       "      <td>0</td>\n",
       "      <td>False</td>\n",
       "      <td>False</td>\n",
       "    </tr>\n",
       "    <tr>\n",
       "      <th>16</th>\n",
       "      <td>4</td>\n",
       "      <td>Lando Norris</td>\n",
       "      <td>{11: 3, 18: 1, 28: 2, 38: 3, 48: 1, 55: 1, 1: 1}</td>\n",
       "      <td>1</td>\n",
       "      <td>57</td>\n",
       "      <td>3</td>\n",
       "      <td>23.609326</td>\n",
       "      <td>3</td>\n",
       "      <td>5818.354949</td>\n",
       "      <td>-81.313726</td>\n",
       "      <td>False</td>\n",
       "      <td>17</td>\n",
       "      <td>0</td>\n",
       "      <td>{1: 30.378614035087722, 2: 40.97561403508772, 3: 23.30336842105263}</td>\n",
       "      <td>0</td>\n",
       "      <td>0</td>\n",
       "      <td>0</td>\n",
       "      <td>True</td>\n",
       "      <td>False</td>\n",
       "    </tr>\n",
       "    <tr>\n",
       "      <th>17</th>\n",
       "      <td>31</td>\n",
       "      <td>Esteban Ocon</td>\n",
       "      <td>{13: 3, 16: 3, 33: 3, 1: 1}</td>\n",
       "      <td>3</td>\n",
       "      <td>57</td>\n",
       "      <td>3</td>\n",
       "      <td>24.333163</td>\n",
       "      <td>25</td>\n",
       "      <td>5759.829555</td>\n",
       "      <td>82.858557</td>\n",
       "      <td>False</td>\n",
       "      <td>18</td>\n",
       "      <td>0</td>\n",
       "      <td>{1: 30.306894736842107, 2: 41.643842105263154, 3: 23.159543859649123}</td>\n",
       "      <td>0</td>\n",
       "      <td>0</td>\n",
       "      <td>0</td>\n",
       "      <td>False</td>\n",
       "      <td>False</td>\n",
       "    </tr>\n",
       "    <tr>\n",
       "      <th>18</th>\n",
       "      <td>16</td>\n",
       "      <td>Charles Leclerc</td>\n",
       "      <td>{1: 1, 15: 1, 35: 3}</td>\n",
       "      <td>3</td>\n",
       "      <td>57</td>\n",
       "      <td>3</td>\n",
       "      <td>24.001196</td>\n",
       "      <td>23</td>\n",
       "      <td>5728.676670</td>\n",
       "      <td>30.820918</td>\n",
       "      <td>False</td>\n",
       "      <td>19</td>\n",
       "      <td>0</td>\n",
       "      <td>{1: 30.048473684210528, 2: 41.449, 3: 23.022}</td>\n",
       "      <td>0</td>\n",
       "      <td>0</td>\n",
       "      <td>0</td>\n",
       "      <td>True</td>\n",
       "      <td>False</td>\n",
       "    </tr>\n",
       "    <tr>\n",
       "      <th>19</th>\n",
       "      <td>81</td>\n",
       "      <td>Oscar Piastri</td>\n",
       "      <td>{1: 1}</td>\n",
       "      <td>1</td>\n",
       "      <td>57</td>\n",
       "      <td>3</td>\n",
       "      <td>28.291015</td>\n",
       "      <td>57</td>\n",
       "      <td>7288.005282</td>\n",
       "      <td>-1531.037596</td>\n",
       "      <td>False</td>\n",
       "      <td>20</td>\n",
       "      <td>0</td>\n",
       "      <td>{1: 30.690491228070176, 2: 42.896298245614034, 3: 23.587298245614033}</td>\n",
       "      <td>0</td>\n",
       "      <td>0</td>\n",
       "      <td>-14</td>\n",
       "      <td>True</td>\n",
       "      <td>False</td>\n",
       "    </tr>\n",
       "  </tbody>\n",
       "</table>\n",
       "</div>"
      ],
      "text/plain": [
       "    driver_number      driver_name  \\\n",
       "0              33   Max Verstappen   \n",
       "1              11     Sergio Perez   \n",
       "2              14  Fernando Alonso   \n",
       "3              55     Carlos Sainz   \n",
       "4              44   Lewis Hamilton   \n",
       "5              18     Lance Stroll   \n",
       "6              63   George Russell   \n",
       "7              77  Valtteri Bottas   \n",
       "8              10     Pierre Gasly   \n",
       "9              23  Alexander Albon   \n",
       "10             22     Yuki Tsunoda   \n",
       "11              2   Logan Sargeant   \n",
       "12             20  Kevin Magnussen   \n",
       "13             21    Nyck De Vries   \n",
       "14             27  Nico Hulkenberg   \n",
       "15             24      Guanyu Zhou   \n",
       "16              4     Lando Norris   \n",
       "17             31     Esteban Ocon   \n",
       "18             16  Charles Leclerc   \n",
       "19             81    Oscar Piastri   \n",
       "\n",
       "                                        pit_schedule  tyre_type  lap_num  \\\n",
       "0                               {15: 1, 37: 3, 1: 1}          3       57   \n",
       "1                               {18: 1, 35: 3, 1: 1}          3       57   \n",
       "2                               {15: 3, 35: 3, 1: 1}          3       57   \n",
       "3                               {14: 3, 32: 3, 1: 1}          3       57   \n",
       "4                               {13: 3, 31: 3, 1: 1}          3       57   \n",
       "5                               {16: 3, 31: 3, 1: 1}          3       57   \n",
       "6                               {14: 3, 32: 3, 1: 1}          3       57   \n",
       "7                               {12: 3, 30: 3, 1: 1}          3       57   \n",
       "8                        {10: 3, 26: 3, 41: 1, 1: 1}          1       57   \n",
       "9                        {12: 1, 27: 3, 41: 1, 1: 1}          1       57   \n",
       "10                       {11: 3, 27: 3, 41: 1, 1: 1}          1       57   \n",
       "11                       {13: 1, 31: 3, 41: 1, 1: 1}          1       57   \n",
       "12                       {16: 3, 30: 1, 41: 1, 1: 3}          1       57   \n",
       "13                              {12: 3, 28: 3, 1: 1}          3       57   \n",
       "14                       {12: 3, 27: 3, 41: 1, 1: 1}          1       57   \n",
       "15                       {13: 3, 33: 1, 55: 1, 1: 1}          1       57   \n",
       "16  {11: 3, 18: 1, 28: 2, 38: 3, 48: 1, 55: 1, 1: 1}          1       57   \n",
       "17                       {13: 3, 16: 3, 33: 3, 1: 1}          3       57   \n",
       "18                              {1: 1, 15: 1, 35: 3}          3       57   \n",
       "19                                            {1: 1}          1       57   \n",
       "\n",
       "    sector  sector_time  stint_lap  cumulative_time          gap    pit  \\\n",
       "0        3    23.818352         21      5713.607516     0.000000  False   \n",
       "1        3    23.875931         23      5712.180731    25.302716  False   \n",
       "2        3    23.842212         23      5688.892229    47.130714  False   \n",
       "3        3    24.176708         26      5752.380474   -60.532527  False   \n",
       "4        3    24.060567         27      5711.770085    64.670956  False   \n",
       "5        3    24.135214         27      5700.902104    35.003195  False   \n",
       "6        3    23.987645         26      5749.759252   -47.882317  False   \n",
       "7        3    24.229132         28      5740.167765    33.820618  False   \n",
       "8        3    24.568446         17      5731.160264    33.575947  False   \n",
       "9        3    24.240605         17      5780.178799   -49.346375  False   \n",
       "10       3    24.158871         17      5749.708264    54.629406  False   \n",
       "11       3    24.277950         17      5775.744683   -25.917341  False   \n",
       "12       3    24.500434         17      5774.137089    26.108028  False   \n",
       "13       3    24.849096         30      5773.485948    21.756615  False   \n",
       "14       3    24.552988         17      5755.896884    17.292956  False   \n",
       "15       3    23.631119          3      5737.063016    42.464987  False   \n",
       "16       3    23.609326          3      5818.354949   -81.313726  False   \n",
       "17       3    24.333163         25      5759.829555    82.858557  False   \n",
       "18       3    24.001196         23      5728.676670    30.820918  False   \n",
       "19       3    28.291015         57      7288.005282 -1531.037596  False   \n",
       "\n",
       "    position  consecutive_laps_within_2s  \\\n",
       "0          1                           0   \n",
       "1          2                           0   \n",
       "2          3                           0   \n",
       "3          4                           0   \n",
       "4          5                           0   \n",
       "5          6                           0   \n",
       "6          7                           0   \n",
       "7          8                           0   \n",
       "8          9                           0   \n",
       "9         10                           0   \n",
       "10        11                           0   \n",
       "11        12                           0   \n",
       "12        13                           0   \n",
       "13        14                           0   \n",
       "14        15                           0   \n",
       "15        16                           0   \n",
       "16        17                           0   \n",
       "17        18                           0   \n",
       "18        19                           0   \n",
       "19        20                           0   \n",
       "\n",
       "                                                        base_sector_times  \\\n",
       "0                {1: 30.22119298245614, 2: 41.314, 3: 22.741999999999997}   \n",
       "1   {1: 30.208192982456143, 2: 41.508736842105264, 3: 22.968999999999998}   \n",
       "2     {1: 30.154771929824562, 2: 41.03743859649123, 3: 23.05417543859649}   \n",
       "3                  {1: 30.02519298245614, 2: 41.93887719298245, 3: 23.09}   \n",
       "4     {1: 29.933877192982457, 2: 41.58843859649123, 3: 22.93257894736842}   \n",
       "5   {1: 30.112192982456143, 2: 41.051947368421054, 3: 23.033947368421053}   \n",
       "6    {1: 29.982175438596492, 2: 41.70487719298246, 3: 23.003877192982458}   \n",
       "7   {1: 30.272877192982456, 2: 41.596649122807015, 3: 23.151280701754388}   \n",
       "8    {1: 29.760228070175437, 2: 41.08422807017544, 3: 23.101684210526315}   \n",
       "9   {1: 30.183894736842106, 2: 41.988052631578945, 3: 23.158280701754386}   \n",
       "10    {1: 30.216894736842107, 2: 41.42622807017544, 3: 23.15598245614035}   \n",
       "11    {1: 30.18322807017544, 2: 41.56622807017544, 3: 23.317947368421052}   \n",
       "12  {1: 30.428228070175436, 2: 41.629543859649125, 3: 23.280473684210527}   \n",
       "13   {1: 30.405192982456143, 2: 42.06464912280701, 3: 23.299280701754387}   \n",
       "14     {1: 30.29605263157895, 2: 41.46905263157895, 3: 23.43164912280702}   \n",
       "15     {1: 30.14440350877193, 2: 40.49440350877193, 3: 23.24140350877193}   \n",
       "16    {1: 30.378614035087722, 2: 40.97561403508772, 3: 23.30336842105263}   \n",
       "17  {1: 30.306894736842107, 2: 41.643842105263154, 3: 23.159543859649123}   \n",
       "18                          {1: 30.048473684210528, 2: 41.449, 3: 23.022}   \n",
       "19  {1: 30.690491228070176, 2: 42.896298245614034, 3: 23.587298245614033}   \n",
       "\n",
       "    pace  tyre_diff  stint_laps_diff  drs_available  predicted_overtake  \n",
       "0      0          0                0          False               False  \n",
       "1      0          0                0          False               False  \n",
       "2      0          0                0          False               False  \n",
       "3      0          0                0           True               False  \n",
       "4      0          0                0          False               False  \n",
       "5      0          0                0          False               False  \n",
       "6      0          0              -17           True                True  \n",
       "7      0          0                0          False               False  \n",
       "8      0          0                0          False               False  \n",
       "9      0          0                0           True               False  \n",
       "10     0          0                0          False               False  \n",
       "11     0          0                0           True               False  \n",
       "12     0          0                0          False               False  \n",
       "13     0          0                0          False               False  \n",
       "14     0          2               13           True               False  \n",
       "15     0          0                0          False               False  \n",
       "16     0          0                0           True               False  \n",
       "17     0          0                0          False               False  \n",
       "18     0          0                0           True               False  \n",
       "19     0          0              -14           True               False  "
      ]
     },
     "execution_count": 19,
     "metadata": {},
     "output_type": "execute_result"
    }
   ],
   "source": [
    "import pandas as pd\n",
    "\n",
    "def race_sim(precomputed_data, given_driver=None, simulated_strategy=None):\n",
    "\t\"\"\"\n",
    "\tsimulated_strategy\n",
    "\t\"\"\"\n",
    "\t# Extract precomputed data\n",
    "\tdriver_tyre_coefficients = precomputed_data[\"driver_tyre_coefficients\"]\n",
    "\tdriver_strategies = precomputed_data[\"driver_strategies\"]\n",
    "\tmax_laps = precomputed_data[\"max_laps\"]\n",
    "\tdrivers = precomputed_data[\"drivers\"]\n",
    "\tdriver_names = precomputed_data[\"driver_names\"]\n",
    "\tinitial_positions = precomputed_data[\"initial_positions\"]\n",
    "\tbase_sector_times = precomputed_data[\"base_sector_times\"]\n",
    "\tfuel_corrections = precomputed_data[\"fuel_corrections\"]\n",
    "\n",
    "\tdrivers_data = []\n",
    "\n",
    "\tif given_driver and simulated_strategy:\n",
    "\t\tdriver_strategies[given_driver] = simulated_strategy\n",
    "\n",
    "\tfor driver in drivers:\n",
    "\t\tdrivers_data.append({\n",
    "\t\t\t\"driver_number\": driver,\n",
    "\t\t\t\"driver_name\": driver_names[driver],\n",
    "\t\t\t\"pit_schedule\": driver_strategies[driver],\n",
    "\t\t\t\"tyre_type\": driver_strategies[driver][1],\n",
    "\t\t\t\"lap_num\": 1,\n",
    "\t\t\t\"sector\": 0,\n",
    "\t\t\t\"sector_time\": 0,\n",
    "\t\t\t\"stint_lap\": 1,\n",
    "\t\t\t\"cumulative_time\": 0.0,\n",
    "\t\t\t\"gap\": 0,\n",
    "\t\t\t\"pit\": False,\n",
    "\t\t\t\"position\": initial_positions[driver],\n",
    "\t\t\t\"consecutive_laps_within_2s\": 0,\n",
    "\t\t\t\"base_sector_times\": base_sector_times[driver],\n",
    "\t\t\t\"pace\": 0,  # Initialize pace as 0\n",
    "\t\t\t\"tyre_diff\": 0,  # Initialize tyre difference as 0\n",
    "\t\t\t\"stint_laps_diff\": 0,  # Initialize stint laps difference as 0\n",
    "\t\t\t\"drs_available\": False,  # Initialize DRS availability as False\n",
    "\t\t})\n",
    "\t\t\n",
    "\tdrivers_df = pd.DataFrame(drivers_data)\n",
    "\n",
    "\tsimulated_data = []\n",
    "\tfor lap in range(2, max_laps + 1):\n",
    "\n",
    "\t\tdrivers_df[\"lap_num\"] += 1\n",
    "\t\tdrivers_df[\"stint_lap\"] += 1\n",
    "\n",
    "\t\tfor sector in range(1, 4):\n",
    "\t\t\tdrivers_df[\"sector\"] = sector\n",
    "\t\t\tfor index, row in drivers_df.iterrows():\n",
    "\n",
    "\t\t\t\t# Handle pit stops at the start of a lap (sector 1)\n",
    "\t\t\t\tif sector == 1 and lap in row[\"pit_schedule\"]:\n",
    "\t\t\t\t\tdrivers_df.at[index, \"pit\"] = True  # Mark pit stop\n",
    "\t\t\t\t\tdrivers_df.at[index, \"cumulative_time\"] += 20  # Add pit stop penalty\n",
    "\t\t\t\t\tdrivers_df.at[index, \"stint_lap\"] = 1  # Reset stint lap\n",
    "\t\t\t\t\tdrivers_df.at[index, \"tyre_type\"] = row[\"pit_schedule\"][lap]  # Change tyre\n",
    "\n",
    "\t\t\t\telse:\n",
    "\t\t\t\t\tdrivers_df.at[index, \"pit\"] = False\n",
    "\n",
    "\t\t\t\t# Calculate tyre degradation coefficients\n",
    "\t\t\t\ta, b, c = driver_tyre_coefficients[row[\"driver_number\"]][sector][drivers_df.at[index, \"tyre_type\"]]\n",
    "\t\t\t\tsector_time = (\n",
    "\t\t\t\t\trow[\"base_sector_times\"][sector]  # Base sector time\n",
    "\t\t\t\t\t+ (a * drivers_df.at[index, \"stint_lap\"]**2 + b * drivers_df.at[index, \"stint_lap\"] + c)  # Tyre degradation\n",
    "\t\t\t\t\t+ fuel_corrections[lap]  # Fuel effect\n",
    "\t\t\t\t)\n",
    "\n",
    "\t\t\t\t# Update sector time and cumulative time\n",
    "\t\t\t\tdrivers_df.at[index, \"sector_time\"] = sector_time\n",
    "\t\t\t\tdrivers_df.at[index, \"cumulative_time\"] += sector_time\n",
    "\n",
    "\t\t\t\t# drivers_df = drivers_df.sort_values(by=\"cumulative_time\", ascending=True)\n",
    "\n",
    "\t\t\t\t# Reassign positions based on the sorted order\n",
    "\t\t\t\t# drivers_df[\"position\"] = range(1, len(drivers_df) + 1)\n",
    "\n",
    "\t\t\t\tahead_pos = row[\"position\"] - 1\n",
    "\n",
    "\t\t\t\tif ahead_pos > 0:\n",
    "\t\t\t\t\tahead_time = drivers_df.loc[drivers_df[\"position\"] == ahead_pos, \"cumulative_time\"].values[0]\n",
    "\n",
    "\t\t\t\t\tgap = ahead_time - row[\"cumulative_time\"]\n",
    "\t\t\t\t\tdrivers_df.at[index, \"gap\"] = gap\n",
    "\t\t\t\t\t\n",
    "\t\t\t\telse:\n",
    "\t\t\t\t\tgap = 0\n",
    "\t\t\t\t\tdrivers_df.at[index, \"gap\"] = 0\n",
    "\n",
    "\t\t\t\t# calc overtakes\n",
    "\t\t\t\tif gap < 0:\n",
    "\t\t\t\t\tif drivers_df.at[ahead_index, \"cumulative_time\"] > drivers_df.at[index, \"cumulative_time\"]:\n",
    "\t\t\t\t\t\tdrivers_df.at[ahead_index, \"cumulative_time\"], drivers_df.at[index, \"cumulative_time\"] = (\n",
    "\t\t\t\t\t\t\tdrivers_df.at[index, \"cumulative_time\"],\n",
    "\t\t\t\t\t\t\tdrivers_df.at[ahead_index, \"cumulative_time\"],\n",
    "\t\t\t\t\t\t)\n",
    "\n",
    "\t\t\t\telif gap < 0.8 and ahead_pos > 0:\n",
    "\t\t\t\t\tif ahead_pos > 0:\n",
    "\t\t\t\t\t\tahead_row = drivers_df.loc[drivers_df[\"position\"] == ahead_pos].iloc[0]\n",
    "\t\t\t\t\t\t   \n",
    "\t\t\t\t\t\tdf[\"pace\"] = (\n",
    "\t\t\t\t\t\t\tdf.groupby([\"driver_name\", \"sector\"])[\"sector_time\"]\n",
    "\t\t\t\t\t\t\t.rolling(window=5, min_periods=1)\n",
    "\t\t\t\t\t\t\t.mean()\n",
    "\t\t\t\t\t\t\t.reset_index(level=[0, 1], drop=True)\n",
    "\t\t\t\t\t\t)\n",
    "\t\t\t\t\t\t\n",
    "\t\t\t\t\t\t# Tyre difference\n",
    "\t\t\t\t\t\tdrivers_df.at[index, \"tyre_diff\"] = ahead_row[\"tyre_type\"] - row[\"tyre_type\"]\n",
    "\n",
    "\t\t\t\t\t\t# Stint laps difference\n",
    "\t\t\t\t\t\tdrivers_df.at[index, \"stint_laps_diff\"] = ahead_row[\"stint_lap\"] - row[\"stint_lap\"]\n",
    "\n",
    "\t\t\t\t\t\t# DRS availability\n",
    "\t\t\t\t\t\tdrivers_df.at[index, \"drs_available\"] = gap <= 1.0\n",
    "\n",
    "\t\t\t\t\telse:\n",
    "\t\t\t\t\t\tdrivers_df.at[index, \"pace\"] = (\n",
    "\t\t\t\t\t\t\tdrivers_df.loc[\n",
    "\t\t\t\t\t\t\t\t(drivers_df[\"driver_number\"] == row[\"driver_number\"]) &\n",
    "\t\t\t\t\t\t\t\t(drivers_df[\"lap_num\"] >= lap - 5),\n",
    "\t\t\t\t\t\t\t\t\"sector_time\"\n",
    "\t\t\t\t\t\t\t].mean()\n",
    "\t\t\t\t\t\t)\n",
    "\n",
    "\t\t\t\t\t\tdrivers_df.at[index, \"tyre_diff\"] = 0\n",
    "\n",
    "\t\t\t\t\t\t# Stint laps difference\n",
    "\t\t\t\t\t\tdrivers_df.at[index, \"stint_laps_diff\"] = 0\n",
    "\n",
    "\t\t\t\t\t\t# DRS availability\n",
    "\t\t\t\t\t\tdrivers_df.at[index, \"drs_available\"] = 0\n",
    "\n",
    "\t\t\t\t\t\n",
    "\t\t\t\t\tdrivers_df = predict_overtake(drivers_df)\n",
    "\n",
    "\t\t\t\t\tahead_index = drivers_df[drivers_df[\"position\"] == ahead_pos].index[0]\n",
    "\t\t\t\t\t# Check if an overtake is predicted\n",
    "\t\t\t\t\tif drivers_df.at[index, \"predicted_overtake\"]:\n",
    "\t\t\t\t\t\t# Swap positions between the current driver and the driver ahead\n",
    "\t\t\t\t\t\tcurrent_position = drivers_df.at[index, \"position\"]\n",
    "\n",
    "\t\t\t\t\t\t# Swap positions\n",
    "\t\t\t\t\t\tdrivers_df.at[index, \"position\"], drivers_df.at[ahead_index, \"position\"] = (\n",
    "\t\t\t\t\t\t\tdrivers_df.at[ahead_index, \"position\"],\n",
    "\t\t\t\t\t\t\tdrivers_df.at[index, \"position\"],\n",
    "\t\t\t\t\t\t)\n",
    "\n",
    "\t\t\t\t\t\tdrivers_df.at[index, \"cumulative_time\"], drivers_df.at[ahead_index, \"cumulative_time\"] = (\n",
    "\t\t\t\t\t\t\tdrivers_df.at[ahead_index, \"cumulative_time\"],\n",
    "\t\t\t\t\t\t\tdrivers_df.at[index, \"cumulative_time\"],\n",
    "\t\t\t\t\t\t)\n",
    "\n",
    "\t\t\t\t\telse:\n",
    "\t\t\t\t\t\t# if the driver behind is faster overall, then keep them behind\n",
    "\t\t\t\t\t\tif drivers_df.at[ahead_index, \"cumulative_time\"] > drivers_df.at[index, \"cumulative_time\"]:\n",
    "\t\t\t\t\t\t\tdrivers_df.at[ahead_index, \"cumulative_time\"], drivers_df.at[index, \"cumulative_time\"] = (\n",
    "\t\t\t\t\t\t\t\tdrivers_df.at[index, \"cumulative_time\"],\n",
    "\t\t\t\t\t\t\t\tdrivers_df.at[ahead_index, \"cumulative_time\"],\n",
    "\t\t\t\t\t\t\t)\n",
    "\n",
    "\n",
    "\treturn drivers_df\n",
    "\n",
    "# print(race_data)\n",
    "sim_df = race_sim(race_data, 16, {1:1, 15:1, 35:3})\n",
    "sim_df\n",
    "\n",
    "drivers_df = sim_df.sort_values(by=\"position\", ascending=True)\n",
    "\n",
    "\n",
    "# Reset the index (optional, for cleaner output)\n",
    "drivers_df = drivers_df.reset_index(drop=True)\n",
    "drivers_df"
   ]
  },
  {
   "cell_type": "code",
   "execution_count": 20,
   "metadata": {},
   "outputs": [
    {
     "data": {
      "text/plain": [
       "{'position_accuracy': 1.0,\n",
       " 'top_3_accuracy': 0.15,\n",
       " 'mean_error': 0.0,\n",
       " 'total_error': 0}"
      ]
     },
     "execution_count": 20,
     "metadata": {},
     "output_type": "execute_result"
    }
   ],
   "source": [
    "def get_accuracy(year, circuit, sim_df):\n",
    "\t# Fetch the actual race session from the database\n",
    "\trace_session = (\n",
    "\t\tdb_session.query(Session)\n",
    "\t\t.join(RacingWeekend, Session.weekend_id == RacingWeekend.racing_weekend_id)\n",
    "\t\t.join(Circuit, RacingWeekend.circuit_id == Circuit.circuit_id)\n",
    "\t\t.filter(\n",
    "\t\t\tRacingWeekend.year == year,\n",
    "\t\t\tCircuit.circuit_name == circuit,\n",
    "\t\t\tSession.session_type == \"Race\"\n",
    "\t\t)\n",
    "\t\t.first()\n",
    "\t)\n",
    "\n",
    "\tif not race_session:\n",
    "\t\traise ValueError(f\"No race session found for {year} at {circuit}\")\n",
    "\n",
    "\t# Fetch the actual race laps and results\n",
    "\tlaps = race_session.laps\n",
    "\tsession_results = (\n",
    "\t\tdb_session.query(SessionResult.position, Driver.driver_num)\n",
    "\t\t.join(Session, Session.session_id == SessionResult.session_id)\n",
    "\t\t.join(Driver, Driver.driver_id == SessionResult.driver_id)\n",
    "\t\t.filter(SessionResult.session_id == race_session.session_id)\n",
    "\t\t.all()\n",
    "\t)\n",
    "\n",
    "\t# Convert session_results to a dictionary for easy lookup\n",
    "\tactual_results = {driver_num: position for position, driver_num in session_results}\n",
    "\n",
    "\t# Extract simulated results from sim_df\n",
    "\tsim_results = sim_df.groupby(\"driver_number\").last()[\"position\"].to_dict()\n",
    "\n",
    "\t# Ensure both results have the same drivers\n",
    "\tcommon_drivers = set(actual_results.keys()).intersection(sim_results.keys())\n",
    "\tif not common_drivers:\n",
    "\t\traise ValueError(\"No common drivers found between actual and simulated results\")\n",
    "\n",
    "\t# Filter results to only include common drivers\n",
    "\tactual_positions = [actual_results[driver] for driver in common_drivers]\n",
    "\tsim_positions = [sim_results[driver] for driver in common_drivers]\n",
    "\n",
    "\t# Calculate accuracy metrics\n",
    "\tposition_accuracy = sum(1 for a, s in zip(actual_positions, sim_positions) if a == s) / len(common_drivers)\n",
    "\ttop_3_accuracy = sum(1 for a, s in zip(actual_positions, sim_positions) if (a <= 3 and s <= 3)) / len(common_drivers)\n",
    "\tmean_error = sum(abs(a - s) for a, s in zip(actual_positions, sim_positions)) / len(common_drivers)\n",
    "\ttotal_error = sum(abs(a - s) for a, s in zip(actual_positions, sim_positions))\n",
    "\n",
    "\t# Return accuracy metrics\n",
    "\treturn {\n",
    "\t\t\"position_accuracy\": position_accuracy,\n",
    "\t\t\"top_3_accuracy\": top_3_accuracy,\n",
    "\t\t\"mean_error\": mean_error,\n",
    "\t\t\"total_error\": total_error,\n",
    "\n",
    "\n",
    "\t}\n",
    "\n",
    "get_accuracy(2023, \"Sakhir\", drivers_df)"
   ]
  },
  {
   "cell_type": "code",
   "execution_count": 21,
   "metadata": {},
   "outputs": [
    {
     "name": "stdout",
     "output_type": "stream",
     "text": [
      "Iteration No: 1 started. Evaluating function at random point.\n"
     ]
    },
    {
     "name": "stderr",
     "output_type": "stream",
     "text": [
      "/tmp/ipykernel_97271/2393480363.py:75: FutureWarning: Setting an item of incompatible dtype is deprecated and will raise an error in a future version of pandas. Value '33.60698478170239' has dtype incompatible with int64, please explicitly cast to a compatible dtype first.\n",
      "  drivers_df.at[index, \"sector_time\"] = sector_time\n",
      "/tmp/ipykernel_97271/2393480363.py:89: FutureWarning: Setting an item of incompatible dtype is deprecated and will raise an error in a future version of pandas. Value '33.60698478170239' has dtype incompatible with int64, please explicitly cast to a compatible dtype first.\n",
      "  drivers_df.at[index, \"gap\"] = gap\n"
     ]
    },
    {
     "ename": "KeyboardInterrupt",
     "evalue": "",
     "output_type": "error",
     "traceback": [
      "\u001b[0;31m---------------------------------------------------------------------------\u001b[0m",
      "\u001b[0;31mKeyboardInterrupt\u001b[0m                         Traceback (most recent call last)",
      "Cell \u001b[0;32mIn[21], line 62\u001b[0m\n\u001b[1;32m     59\u001b[0m     \u001b[38;5;28;01mreturn\u001b[39;00m best_strategy, result\u001b[38;5;241m.\u001b[39mfun\n\u001b[1;32m     61\u001b[0m \u001b[38;5;66;03m# Example usage (assuming precomputed_data is available):\u001b[39;00m\n\u001b[0;32m---> 62\u001b[0m best_strategy, best_position \u001b[38;5;241m=\u001b[39m \u001b[43moptimize_strategy\u001b[49m\u001b[43m(\u001b[49m\u001b[43mrace_data\u001b[49m\u001b[43m,\u001b[49m\u001b[43m \u001b[49m\u001b[43mn_calls\u001b[49m\u001b[38;5;241;43m=\u001b[39;49m\u001b[38;5;241;43m100\u001b[39;49m\u001b[43m)\u001b[49m\n\u001b[1;32m     63\u001b[0m \u001b[38;5;28mprint\u001b[39m(\u001b[38;5;124m\"\u001b[39m\u001b[38;5;124mBest Strategy:\u001b[39m\u001b[38;5;124m\"\u001b[39m, best_strategy)\n\u001b[1;32m     64\u001b[0m \u001b[38;5;28mprint\u001b[39m(\u001b[38;5;124m\"\u001b[39m\u001b[38;5;124mBest Position:\u001b[39m\u001b[38;5;124m\"\u001b[39m, best_position)\n",
      "Cell \u001b[0;32mIn[21], line 43\u001b[0m, in \u001b[0;36moptimize_strategy\u001b[0;34m(precomputed_data, n_calls)\u001b[0m\n\u001b[1;32m     40\u001b[0m         \u001b[38;5;28;01mreturn\u001b[39;00m \u001b[38;5;241m20.0\u001b[39m  \u001b[38;5;66;03m# Return worst position in case of errors\u001b[39;00m\n\u001b[1;32m     42\u001b[0m \u001b[38;5;66;03m# Perform Bayesian optimization\u001b[39;00m\n\u001b[0;32m---> 43\u001b[0m result \u001b[38;5;241m=\u001b[39m \u001b[43mgp_minimize\u001b[49m\u001b[43m(\u001b[49m\n\u001b[1;32m     44\u001b[0m \u001b[43m    \u001b[49m\u001b[43mobjective\u001b[49m\u001b[43m,\u001b[49m\n\u001b[1;32m     45\u001b[0m \u001b[43m    \u001b[49m\u001b[43mspace\u001b[49m\u001b[43m,\u001b[49m\n\u001b[1;32m     46\u001b[0m \u001b[43m    \u001b[49m\u001b[43mn_calls\u001b[49m\u001b[38;5;241;43m=\u001b[39;49m\u001b[43mn_calls\u001b[49m\u001b[43m,\u001b[49m\n\u001b[1;32m     47\u001b[0m \u001b[43m    \u001b[49m\u001b[43mrandom_state\u001b[49m\u001b[38;5;241;43m=\u001b[39;49m\u001b[38;5;241;43m42\u001b[39;49m\u001b[43m,\u001b[49m\n\u001b[1;32m     48\u001b[0m \u001b[43m    \u001b[49m\u001b[43mverbose\u001b[49m\u001b[38;5;241;43m=\u001b[39;49m\u001b[38;5;28;43;01mTrue\u001b[39;49;00m\n\u001b[1;32m     49\u001b[0m \u001b[43m\u001b[49m\u001b[43m)\u001b[49m\n\u001b[1;32m     51\u001b[0m \u001b[38;5;66;03m# Extract best parameters and construct the optimal strategy\u001b[39;00m\n\u001b[1;32m     52\u001b[0m best_params \u001b[38;5;241m=\u001b[39m result\u001b[38;5;241m.\u001b[39mx\n",
      "File \u001b[0;32m/home/ben/Individual_Project/env/lib/python3.10/site-packages/skopt/optimizer/gp.py:281\u001b[0m, in \u001b[0;36mgp_minimize\u001b[0;34m(func, dimensions, base_estimator, n_calls, n_random_starts, n_initial_points, initial_point_generator, acq_func, acq_optimizer, x0, y0, random_state, verbose, callback, n_points, n_restarts_optimizer, xi, kappa, noise, n_jobs, model_queue_size, space_constraint)\u001b[0m\n\u001b[1;32m    273\u001b[0m \u001b[38;5;28;01mif\u001b[39;00m base_estimator \u001b[38;5;129;01mis\u001b[39;00m \u001b[38;5;28;01mNone\u001b[39;00m:\n\u001b[1;32m    274\u001b[0m     base_estimator \u001b[38;5;241m=\u001b[39m cook_estimator(\n\u001b[1;32m    275\u001b[0m         \u001b[38;5;124m\"\u001b[39m\u001b[38;5;124mGP\u001b[39m\u001b[38;5;124m\"\u001b[39m,\n\u001b[1;32m    276\u001b[0m         space\u001b[38;5;241m=\u001b[39mspace,\n\u001b[1;32m    277\u001b[0m         random_state\u001b[38;5;241m=\u001b[39mrng\u001b[38;5;241m.\u001b[39mrandint(\u001b[38;5;241m0\u001b[39m, np\u001b[38;5;241m.\u001b[39miinfo(np\u001b[38;5;241m.\u001b[39mint32)\u001b[38;5;241m.\u001b[39mmax),\n\u001b[1;32m    278\u001b[0m         noise\u001b[38;5;241m=\u001b[39mnoise,\n\u001b[1;32m    279\u001b[0m     )\n\u001b[0;32m--> 281\u001b[0m \u001b[38;5;28;01mreturn\u001b[39;00m \u001b[43mbase_minimize\u001b[49m\u001b[43m(\u001b[49m\n\u001b[1;32m    282\u001b[0m \u001b[43m    \u001b[49m\u001b[43mfunc\u001b[49m\u001b[43m,\u001b[49m\n\u001b[1;32m    283\u001b[0m \u001b[43m    \u001b[49m\u001b[43mspace\u001b[49m\u001b[43m,\u001b[49m\n\u001b[1;32m    284\u001b[0m \u001b[43m    \u001b[49m\u001b[43mbase_estimator\u001b[49m\u001b[38;5;241;43m=\u001b[39;49m\u001b[43mbase_estimator\u001b[49m\u001b[43m,\u001b[49m\n\u001b[1;32m    285\u001b[0m \u001b[43m    \u001b[49m\u001b[43macq_func\u001b[49m\u001b[38;5;241;43m=\u001b[39;49m\u001b[43macq_func\u001b[49m\u001b[43m,\u001b[49m\n\u001b[1;32m    286\u001b[0m \u001b[43m    \u001b[49m\u001b[43mxi\u001b[49m\u001b[38;5;241;43m=\u001b[39;49m\u001b[43mxi\u001b[49m\u001b[43m,\u001b[49m\n\u001b[1;32m    287\u001b[0m \u001b[43m    \u001b[49m\u001b[43mkappa\u001b[49m\u001b[38;5;241;43m=\u001b[39;49m\u001b[43mkappa\u001b[49m\u001b[43m,\u001b[49m\n\u001b[1;32m    288\u001b[0m \u001b[43m    \u001b[49m\u001b[43macq_optimizer\u001b[49m\u001b[38;5;241;43m=\u001b[39;49m\u001b[43macq_optimizer\u001b[49m\u001b[43m,\u001b[49m\n\u001b[1;32m    289\u001b[0m \u001b[43m    \u001b[49m\u001b[43mn_calls\u001b[49m\u001b[38;5;241;43m=\u001b[39;49m\u001b[43mn_calls\u001b[49m\u001b[43m,\u001b[49m\n\u001b[1;32m    290\u001b[0m \u001b[43m    \u001b[49m\u001b[43mn_points\u001b[49m\u001b[38;5;241;43m=\u001b[39;49m\u001b[43mn_points\u001b[49m\u001b[43m,\u001b[49m\n\u001b[1;32m    291\u001b[0m \u001b[43m    \u001b[49m\u001b[43mn_random_starts\u001b[49m\u001b[38;5;241;43m=\u001b[39;49m\u001b[43mn_random_starts\u001b[49m\u001b[43m,\u001b[49m\n\u001b[1;32m    292\u001b[0m \u001b[43m    \u001b[49m\u001b[43mn_initial_points\u001b[49m\u001b[38;5;241;43m=\u001b[39;49m\u001b[43mn_initial_points\u001b[49m\u001b[43m,\u001b[49m\n\u001b[1;32m    293\u001b[0m \u001b[43m    \u001b[49m\u001b[43minitial_point_generator\u001b[49m\u001b[38;5;241;43m=\u001b[39;49m\u001b[43minitial_point_generator\u001b[49m\u001b[43m,\u001b[49m\n\u001b[1;32m    294\u001b[0m \u001b[43m    \u001b[49m\u001b[43mn_restarts_optimizer\u001b[49m\u001b[38;5;241;43m=\u001b[39;49m\u001b[43mn_restarts_optimizer\u001b[49m\u001b[43m,\u001b[49m\n\u001b[1;32m    295\u001b[0m \u001b[43m    \u001b[49m\u001b[43mx0\u001b[49m\u001b[38;5;241;43m=\u001b[39;49m\u001b[43mx0\u001b[49m\u001b[43m,\u001b[49m\n\u001b[1;32m    296\u001b[0m \u001b[43m    \u001b[49m\u001b[43my0\u001b[49m\u001b[38;5;241;43m=\u001b[39;49m\u001b[43my0\u001b[49m\u001b[43m,\u001b[49m\n\u001b[1;32m    297\u001b[0m \u001b[43m    \u001b[49m\u001b[43mrandom_state\u001b[49m\u001b[38;5;241;43m=\u001b[39;49m\u001b[43mrng\u001b[49m\u001b[43m,\u001b[49m\n\u001b[1;32m    298\u001b[0m \u001b[43m    \u001b[49m\u001b[43mverbose\u001b[49m\u001b[38;5;241;43m=\u001b[39;49m\u001b[43mverbose\u001b[49m\u001b[43m,\u001b[49m\n\u001b[1;32m    299\u001b[0m \u001b[43m    \u001b[49m\u001b[43mspace_constraint\u001b[49m\u001b[38;5;241;43m=\u001b[39;49m\u001b[43mspace_constraint\u001b[49m\u001b[43m,\u001b[49m\n\u001b[1;32m    300\u001b[0m \u001b[43m    \u001b[49m\u001b[43mcallback\u001b[49m\u001b[38;5;241;43m=\u001b[39;49m\u001b[43mcallback\u001b[49m\u001b[43m,\u001b[49m\n\u001b[1;32m    301\u001b[0m \u001b[43m    \u001b[49m\u001b[43mn_jobs\u001b[49m\u001b[38;5;241;43m=\u001b[39;49m\u001b[43mn_jobs\u001b[49m\u001b[43m,\u001b[49m\n\u001b[1;32m    302\u001b[0m \u001b[43m    \u001b[49m\u001b[43mmodel_queue_size\u001b[49m\u001b[38;5;241;43m=\u001b[39;49m\u001b[43mmodel_queue_size\u001b[49m\u001b[43m,\u001b[49m\n\u001b[1;32m    303\u001b[0m \u001b[43m\u001b[49m\u001b[43m)\u001b[49m\n",
      "File \u001b[0;32m/home/ben/Individual_Project/env/lib/python3.10/site-packages/skopt/optimizer/base.py:332\u001b[0m, in \u001b[0;36mbase_minimize\u001b[0;34m(func, dimensions, base_estimator, n_calls, n_random_starts, n_initial_points, initial_point_generator, acq_func, acq_optimizer, x0, y0, random_state, verbose, callback, n_points, n_restarts_optimizer, xi, kappa, n_jobs, model_queue_size, space_constraint)\u001b[0m\n\u001b[1;32m    330\u001b[0m \u001b[38;5;28;01mfor\u001b[39;00m _ \u001b[38;5;129;01min\u001b[39;00m \u001b[38;5;28mrange\u001b[39m(n_calls):\n\u001b[1;32m    331\u001b[0m     next_x \u001b[38;5;241m=\u001b[39m optimizer\u001b[38;5;241m.\u001b[39mask()\n\u001b[0;32m--> 332\u001b[0m     next_y \u001b[38;5;241m=\u001b[39m \u001b[43mfunc\u001b[49m\u001b[43m(\u001b[49m\u001b[43mnext_x\u001b[49m\u001b[43m)\u001b[49m\n\u001b[1;32m    333\u001b[0m     result \u001b[38;5;241m=\u001b[39m optimizer\u001b[38;5;241m.\u001b[39mtell(next_x, next_y)\n\u001b[1;32m    334\u001b[0m     result\u001b[38;5;241m.\u001b[39mspecs \u001b[38;5;241m=\u001b[39m specs\n",
      "Cell \u001b[0;32mIn[21], line 34\u001b[0m, in \u001b[0;36moptimize_strategy.<locals>.objective\u001b[0;34m(params)\u001b[0m\n\u001b[1;32m     32\u001b[0m \u001b[38;5;66;03m# Run the simulation with the current strategy\u001b[39;00m\n\u001b[1;32m     33\u001b[0m \u001b[38;5;28;01mtry\u001b[39;00m:\n\u001b[0;32m---> 34\u001b[0m     drivers_df \u001b[38;5;241m=\u001b[39m \u001b[43mrace_sim\u001b[49m\u001b[43m(\u001b[49m\u001b[43mprecomputed_data\u001b[49m\u001b[43m,\u001b[49m\u001b[43m \u001b[49m\u001b[43mgiven_driver\u001b[49m\u001b[38;5;241;43m=\u001b[39;49m\u001b[43mdriver_number\u001b[49m\u001b[43m,\u001b[49m\u001b[43m \u001b[49m\u001b[43msimulated_strategy\u001b[49m\u001b[38;5;241;43m=\u001b[39;49m\u001b[43mstrategy\u001b[49m\u001b[43m)\u001b[49m\n\u001b[1;32m     35\u001b[0m     driver_row \u001b[38;5;241m=\u001b[39m drivers_df[drivers_df[\u001b[38;5;124m'\u001b[39m\u001b[38;5;124mdriver_number\u001b[39m\u001b[38;5;124m'\u001b[39m] \u001b[38;5;241m==\u001b[39m driver_number]\u001b[38;5;241m.\u001b[39miloc[\u001b[38;5;241m0\u001b[39m]\n\u001b[1;32m     36\u001b[0m     position \u001b[38;5;241m=\u001b[39m driver_row[\u001b[38;5;124m'\u001b[39m\u001b[38;5;124mposition\u001b[39m\u001b[38;5;124m'\u001b[39m]\n",
      "Cell \u001b[0;32mIn[19], line 86\u001b[0m, in \u001b[0;36mrace_sim\u001b[0;34m(precomputed_data, given_driver, simulated_strategy)\u001b[0m\n\u001b[1;32m     83\u001b[0m ahead_pos \u001b[38;5;241m=\u001b[39m row[\u001b[38;5;124m\"\u001b[39m\u001b[38;5;124mposition\u001b[39m\u001b[38;5;124m\"\u001b[39m] \u001b[38;5;241m-\u001b[39m \u001b[38;5;241m1\u001b[39m\n\u001b[1;32m     85\u001b[0m \u001b[38;5;28;01mif\u001b[39;00m ahead_pos \u001b[38;5;241m>\u001b[39m \u001b[38;5;241m0\u001b[39m:\n\u001b[0;32m---> 86\u001b[0m \tahead_time \u001b[38;5;241m=\u001b[39m \u001b[43mdrivers_df\u001b[49m\u001b[38;5;241;43m.\u001b[39;49m\u001b[43mloc\u001b[49m\u001b[43m[\u001b[49m\u001b[43mdrivers_df\u001b[49m\u001b[43m[\u001b[49m\u001b[38;5;124;43m\"\u001b[39;49m\u001b[38;5;124;43mposition\u001b[39;49m\u001b[38;5;124;43m\"\u001b[39;49m\u001b[43m]\u001b[49m\u001b[43m \u001b[49m\u001b[38;5;241;43m==\u001b[39;49m\u001b[43m \u001b[49m\u001b[43mahead_pos\u001b[49m\u001b[43m,\u001b[49m\u001b[43m \u001b[49m\u001b[38;5;124;43m\"\u001b[39;49m\u001b[38;5;124;43mcumulative_time\u001b[39;49m\u001b[38;5;124;43m\"\u001b[39;49m\u001b[43m]\u001b[49m\u001b[38;5;241m.\u001b[39mvalues[\u001b[38;5;241m0\u001b[39m]\n\u001b[1;32m     88\u001b[0m \tgap \u001b[38;5;241m=\u001b[39m ahead_time \u001b[38;5;241m-\u001b[39m row[\u001b[38;5;124m\"\u001b[39m\u001b[38;5;124mcumulative_time\u001b[39m\u001b[38;5;124m\"\u001b[39m]\n\u001b[1;32m     89\u001b[0m \tdrivers_df\u001b[38;5;241m.\u001b[39mat[index, \u001b[38;5;124m\"\u001b[39m\u001b[38;5;124mgap\u001b[39m\u001b[38;5;124m\"\u001b[39m] \u001b[38;5;241m=\u001b[39m gap\n",
      "File \u001b[0;32m/home/ben/Individual_Project/env/lib/python3.10/site-packages/pandas/core/indexing.py:1184\u001b[0m, in \u001b[0;36m_LocationIndexer.__getitem__\u001b[0;34m(self, key)\u001b[0m\n\u001b[1;32m   1182\u001b[0m     \u001b[38;5;28;01mif\u001b[39;00m \u001b[38;5;28mself\u001b[39m\u001b[38;5;241m.\u001b[39m_is_scalar_access(key):\n\u001b[1;32m   1183\u001b[0m         \u001b[38;5;28;01mreturn\u001b[39;00m \u001b[38;5;28mself\u001b[39m\u001b[38;5;241m.\u001b[39mobj\u001b[38;5;241m.\u001b[39m_get_value(\u001b[38;5;241m*\u001b[39mkey, takeable\u001b[38;5;241m=\u001b[39m\u001b[38;5;28mself\u001b[39m\u001b[38;5;241m.\u001b[39m_takeable)\n\u001b[0;32m-> 1184\u001b[0m     \u001b[38;5;28;01mreturn\u001b[39;00m \u001b[38;5;28;43mself\u001b[39;49m\u001b[38;5;241;43m.\u001b[39;49m\u001b[43m_getitem_tuple\u001b[49m\u001b[43m(\u001b[49m\u001b[43mkey\u001b[49m\u001b[43m)\u001b[49m\n\u001b[1;32m   1185\u001b[0m \u001b[38;5;28;01melse\u001b[39;00m:\n\u001b[1;32m   1186\u001b[0m     \u001b[38;5;66;03m# we by definition only have the 0th axis\u001b[39;00m\n\u001b[1;32m   1187\u001b[0m     axis \u001b[38;5;241m=\u001b[39m \u001b[38;5;28mself\u001b[39m\u001b[38;5;241m.\u001b[39maxis \u001b[38;5;129;01mor\u001b[39;00m \u001b[38;5;241m0\u001b[39m\n",
      "File \u001b[0;32m/home/ben/Individual_Project/env/lib/python3.10/site-packages/pandas/core/indexing.py:1368\u001b[0m, in \u001b[0;36m_LocIndexer._getitem_tuple\u001b[0;34m(self, tup)\u001b[0m\n\u001b[1;32m   1366\u001b[0m \u001b[38;5;28;01mwith\u001b[39;00m suppress(IndexingError):\n\u001b[1;32m   1367\u001b[0m     tup \u001b[38;5;241m=\u001b[39m \u001b[38;5;28mself\u001b[39m\u001b[38;5;241m.\u001b[39m_expand_ellipsis(tup)\n\u001b[0;32m-> 1368\u001b[0m     \u001b[38;5;28;01mreturn\u001b[39;00m \u001b[38;5;28;43mself\u001b[39;49m\u001b[38;5;241;43m.\u001b[39;49m\u001b[43m_getitem_lowerdim\u001b[49m\u001b[43m(\u001b[49m\u001b[43mtup\u001b[49m\u001b[43m)\u001b[49m\n\u001b[1;32m   1370\u001b[0m \u001b[38;5;66;03m# no multi-index, so validate all of the indexers\u001b[39;00m\n\u001b[1;32m   1371\u001b[0m tup \u001b[38;5;241m=\u001b[39m \u001b[38;5;28mself\u001b[39m\u001b[38;5;241m.\u001b[39m_validate_tuple_indexer(tup)\n",
      "File \u001b[0;32m/home/ben/Individual_Project/env/lib/python3.10/site-packages/pandas/core/indexing.py:1089\u001b[0m, in \u001b[0;36m_LocationIndexer._getitem_lowerdim\u001b[0;34m(self, tup)\u001b[0m\n\u001b[1;32m   1087\u001b[0m             \u001b[38;5;28;01mreturn\u001b[39;00m section\n\u001b[1;32m   1088\u001b[0m         \u001b[38;5;66;03m# This is an elided recursive call to iloc/loc\u001b[39;00m\n\u001b[0;32m-> 1089\u001b[0m         \u001b[38;5;28;01mreturn\u001b[39;00m \u001b[38;5;28;43mgetattr\u001b[39;49m\u001b[43m(\u001b[49m\u001b[43msection\u001b[49m\u001b[43m,\u001b[49m\u001b[43m \u001b[49m\u001b[38;5;28;43mself\u001b[39;49m\u001b[38;5;241;43m.\u001b[39;49m\u001b[43mname\u001b[49m\u001b[43m)\u001b[49m\u001b[43m[\u001b[49m\u001b[43mnew_key\u001b[49m\u001b[43m]\u001b[49m\n\u001b[1;32m   1091\u001b[0m \u001b[38;5;28;01mraise\u001b[39;00m IndexingError(\u001b[38;5;124m\"\u001b[39m\u001b[38;5;124mnot applicable\u001b[39m\u001b[38;5;124m\"\u001b[39m)\n",
      "File \u001b[0;32m/home/ben/Individual_Project/env/lib/python3.10/site-packages/pandas/core/indexing.py:1191\u001b[0m, in \u001b[0;36m_LocationIndexer.__getitem__\u001b[0;34m(self, key)\u001b[0m\n\u001b[1;32m   1189\u001b[0m maybe_callable \u001b[38;5;241m=\u001b[39m com\u001b[38;5;241m.\u001b[39mapply_if_callable(key, \u001b[38;5;28mself\u001b[39m\u001b[38;5;241m.\u001b[39mobj)\n\u001b[1;32m   1190\u001b[0m maybe_callable \u001b[38;5;241m=\u001b[39m \u001b[38;5;28mself\u001b[39m\u001b[38;5;241m.\u001b[39m_check_deprecated_callable_usage(key, maybe_callable)\n\u001b[0;32m-> 1191\u001b[0m \u001b[38;5;28;01mreturn\u001b[39;00m \u001b[38;5;28;43mself\u001b[39;49m\u001b[38;5;241;43m.\u001b[39;49m\u001b[43m_getitem_axis\u001b[49m\u001b[43m(\u001b[49m\u001b[43mmaybe_callable\u001b[49m\u001b[43m,\u001b[49m\u001b[43m \u001b[49m\u001b[43maxis\u001b[49m\u001b[38;5;241;43m=\u001b[39;49m\u001b[43maxis\u001b[49m\u001b[43m)\u001b[49m\n",
      "File \u001b[0;32m/home/ben/Individual_Project/env/lib/python3.10/site-packages/pandas/core/indexing.py:1413\u001b[0m, in \u001b[0;36m_LocIndexer._getitem_axis\u001b[0;34m(self, key, axis)\u001b[0m\n\u001b[1;32m   1411\u001b[0m     \u001b[38;5;28;01mreturn\u001b[39;00m \u001b[38;5;28mself\u001b[39m\u001b[38;5;241m.\u001b[39m_get_slice_axis(key, axis\u001b[38;5;241m=\u001b[39maxis)\n\u001b[1;32m   1412\u001b[0m \u001b[38;5;28;01melif\u001b[39;00m com\u001b[38;5;241m.\u001b[39mis_bool_indexer(key):\n\u001b[0;32m-> 1413\u001b[0m     \u001b[38;5;28;01mreturn\u001b[39;00m \u001b[38;5;28;43mself\u001b[39;49m\u001b[38;5;241;43m.\u001b[39;49m\u001b[43m_getbool_axis\u001b[49m\u001b[43m(\u001b[49m\u001b[43mkey\u001b[49m\u001b[43m,\u001b[49m\u001b[43m \u001b[49m\u001b[43maxis\u001b[49m\u001b[38;5;241;43m=\u001b[39;49m\u001b[43maxis\u001b[49m\u001b[43m)\u001b[49m\n\u001b[1;32m   1414\u001b[0m \u001b[38;5;28;01melif\u001b[39;00m is_list_like_indexer(key):\n\u001b[1;32m   1415\u001b[0m     \u001b[38;5;66;03m# an iterable multi-selection\u001b[39;00m\n\u001b[1;32m   1416\u001b[0m     \u001b[38;5;28;01mif\u001b[39;00m \u001b[38;5;129;01mnot\u001b[39;00m (\u001b[38;5;28misinstance\u001b[39m(key, \u001b[38;5;28mtuple\u001b[39m) \u001b[38;5;129;01mand\u001b[39;00m \u001b[38;5;28misinstance\u001b[39m(labels, MultiIndex)):\n",
      "File \u001b[0;32m/home/ben/Individual_Project/env/lib/python3.10/site-packages/pandas/core/indexing.py:1211\u001b[0m, in \u001b[0;36m_LocationIndexer._getbool_axis\u001b[0;34m(self, key, axis)\u001b[0m\n\u001b[1;32m   1209\u001b[0m key \u001b[38;5;241m=\u001b[39m check_bool_indexer(labels, key)\n\u001b[1;32m   1210\u001b[0m inds \u001b[38;5;241m=\u001b[39m key\u001b[38;5;241m.\u001b[39mnonzero()[\u001b[38;5;241m0\u001b[39m]\n\u001b[0;32m-> 1211\u001b[0m \u001b[38;5;28;01mreturn\u001b[39;00m \u001b[38;5;28;43mself\u001b[39;49m\u001b[38;5;241;43m.\u001b[39;49m\u001b[43mobj\u001b[49m\u001b[38;5;241;43m.\u001b[39;49m\u001b[43m_take_with_is_copy\u001b[49m\u001b[43m(\u001b[49m\u001b[43minds\u001b[49m\u001b[43m,\u001b[49m\u001b[43m \u001b[49m\u001b[43maxis\u001b[49m\u001b[38;5;241;43m=\u001b[39;49m\u001b[43maxis\u001b[49m\u001b[43m)\u001b[49m\n",
      "File \u001b[0;32m/home/ben/Individual_Project/env/lib/python3.10/site-packages/pandas/core/generic.py:4153\u001b[0m, in \u001b[0;36mNDFrame._take_with_is_copy\u001b[0;34m(self, indices, axis)\u001b[0m\n\u001b[1;32m   4142\u001b[0m \u001b[38;5;129m@final\u001b[39m\n\u001b[1;32m   4143\u001b[0m \u001b[38;5;28;01mdef\u001b[39;00m \u001b[38;5;21m_take_with_is_copy\u001b[39m(\u001b[38;5;28mself\u001b[39m, indices, axis: Axis \u001b[38;5;241m=\u001b[39m \u001b[38;5;241m0\u001b[39m) \u001b[38;5;241m-\u001b[39m\u001b[38;5;241m>\u001b[39m Self:\n\u001b[1;32m   4144\u001b[0m \u001b[38;5;250m    \u001b[39m\u001b[38;5;124;03m\"\"\"\u001b[39;00m\n\u001b[1;32m   4145\u001b[0m \u001b[38;5;124;03m    Internal version of the `take` method that sets the `_is_copy`\u001b[39;00m\n\u001b[1;32m   4146\u001b[0m \u001b[38;5;124;03m    attribute to keep track of the parent dataframe (using in indexing\u001b[39;00m\n\u001b[0;32m   (...)\u001b[0m\n\u001b[1;32m   4151\u001b[0m \u001b[38;5;124;03m    See the docstring of `take` for full explanation of the parameters.\u001b[39;00m\n\u001b[1;32m   4152\u001b[0m \u001b[38;5;124;03m    \"\"\"\u001b[39;00m\n\u001b[0;32m-> 4153\u001b[0m     result \u001b[38;5;241m=\u001b[39m \u001b[38;5;28;43mself\u001b[39;49m\u001b[38;5;241;43m.\u001b[39;49m\u001b[43mtake\u001b[49m\u001b[43m(\u001b[49m\u001b[43mindices\u001b[49m\u001b[38;5;241;43m=\u001b[39;49m\u001b[43mindices\u001b[49m\u001b[43m,\u001b[49m\u001b[43m \u001b[49m\u001b[43maxis\u001b[49m\u001b[38;5;241;43m=\u001b[39;49m\u001b[43maxis\u001b[49m\u001b[43m)\u001b[49m\n\u001b[1;32m   4154\u001b[0m     \u001b[38;5;66;03m# Maybe set copy if we didn't actually change the index.\u001b[39;00m\n\u001b[1;32m   4155\u001b[0m     \u001b[38;5;28;01mif\u001b[39;00m \u001b[38;5;28mself\u001b[39m\u001b[38;5;241m.\u001b[39mndim \u001b[38;5;241m==\u001b[39m \u001b[38;5;241m2\u001b[39m \u001b[38;5;129;01mand\u001b[39;00m \u001b[38;5;129;01mnot\u001b[39;00m result\u001b[38;5;241m.\u001b[39m_get_axis(axis)\u001b[38;5;241m.\u001b[39mequals(\u001b[38;5;28mself\u001b[39m\u001b[38;5;241m.\u001b[39m_get_axis(axis)):\n",
      "File \u001b[0;32m/home/ben/Individual_Project/env/lib/python3.10/site-packages/pandas/core/generic.py:4133\u001b[0m, in \u001b[0;36mNDFrame.take\u001b[0;34m(self, indices, axis, **kwargs)\u001b[0m\n\u001b[1;32m   4128\u001b[0m     \u001b[38;5;66;03m# We can get here with a slice via DataFrame.__getitem__\u001b[39;00m\n\u001b[1;32m   4129\u001b[0m     indices \u001b[38;5;241m=\u001b[39m np\u001b[38;5;241m.\u001b[39marange(\n\u001b[1;32m   4130\u001b[0m         indices\u001b[38;5;241m.\u001b[39mstart, indices\u001b[38;5;241m.\u001b[39mstop, indices\u001b[38;5;241m.\u001b[39mstep, dtype\u001b[38;5;241m=\u001b[39mnp\u001b[38;5;241m.\u001b[39mintp\n\u001b[1;32m   4131\u001b[0m     )\n\u001b[0;32m-> 4133\u001b[0m new_data \u001b[38;5;241m=\u001b[39m \u001b[38;5;28;43mself\u001b[39;49m\u001b[38;5;241;43m.\u001b[39;49m\u001b[43m_mgr\u001b[49m\u001b[38;5;241;43m.\u001b[39;49m\u001b[43mtake\u001b[49m\u001b[43m(\u001b[49m\n\u001b[1;32m   4134\u001b[0m \u001b[43m    \u001b[49m\u001b[43mindices\u001b[49m\u001b[43m,\u001b[49m\n\u001b[1;32m   4135\u001b[0m \u001b[43m    \u001b[49m\u001b[43maxis\u001b[49m\u001b[38;5;241;43m=\u001b[39;49m\u001b[38;5;28;43mself\u001b[39;49m\u001b[38;5;241;43m.\u001b[39;49m\u001b[43m_get_block_manager_axis\u001b[49m\u001b[43m(\u001b[49m\u001b[43maxis\u001b[49m\u001b[43m)\u001b[49m\u001b[43m,\u001b[49m\n\u001b[1;32m   4136\u001b[0m \u001b[43m    \u001b[49m\u001b[43mverify\u001b[49m\u001b[38;5;241;43m=\u001b[39;49m\u001b[38;5;28;43;01mTrue\u001b[39;49;00m\u001b[43m,\u001b[49m\n\u001b[1;32m   4137\u001b[0m \u001b[43m\u001b[49m\u001b[43m)\u001b[49m\n\u001b[1;32m   4138\u001b[0m \u001b[38;5;28;01mreturn\u001b[39;00m \u001b[38;5;28mself\u001b[39m\u001b[38;5;241m.\u001b[39m_constructor_from_mgr(new_data, axes\u001b[38;5;241m=\u001b[39mnew_data\u001b[38;5;241m.\u001b[39maxes)\u001b[38;5;241m.\u001b[39m__finalize__(\n\u001b[1;32m   4139\u001b[0m     \u001b[38;5;28mself\u001b[39m, method\u001b[38;5;241m=\u001b[39m\u001b[38;5;124m\"\u001b[39m\u001b[38;5;124mtake\u001b[39m\u001b[38;5;124m\"\u001b[39m\n\u001b[1;32m   4140\u001b[0m )\n",
      "File \u001b[0;32m/home/ben/Individual_Project/env/lib/python3.10/site-packages/pandas/core/internals/managers.py:891\u001b[0m, in \u001b[0;36mBaseBlockManager.take\u001b[0;34m(self, indexer, axis, verify)\u001b[0m\n\u001b[1;32m    888\u001b[0m \u001b[38;5;66;03m# Caller is responsible for ensuring indexer annotation is accurate\u001b[39;00m\n\u001b[1;32m    890\u001b[0m n \u001b[38;5;241m=\u001b[39m \u001b[38;5;28mself\u001b[39m\u001b[38;5;241m.\u001b[39mshape[axis]\n\u001b[0;32m--> 891\u001b[0m indexer \u001b[38;5;241m=\u001b[39m \u001b[43mmaybe_convert_indices\u001b[49m\u001b[43m(\u001b[49m\u001b[43mindexer\u001b[49m\u001b[43m,\u001b[49m\u001b[43m \u001b[49m\u001b[43mn\u001b[49m\u001b[43m,\u001b[49m\u001b[43m \u001b[49m\u001b[43mverify\u001b[49m\u001b[38;5;241;43m=\u001b[39;49m\u001b[43mverify\u001b[49m\u001b[43m)\u001b[49m\n\u001b[1;32m    893\u001b[0m new_labels \u001b[38;5;241m=\u001b[39m \u001b[38;5;28mself\u001b[39m\u001b[38;5;241m.\u001b[39maxes[axis]\u001b[38;5;241m.\u001b[39mtake(indexer)\n\u001b[1;32m    894\u001b[0m \u001b[38;5;28;01mreturn\u001b[39;00m \u001b[38;5;28mself\u001b[39m\u001b[38;5;241m.\u001b[39mreindex_indexer(\n\u001b[1;32m    895\u001b[0m     new_axis\u001b[38;5;241m=\u001b[39mnew_labels,\n\u001b[1;32m    896\u001b[0m     indexer\u001b[38;5;241m=\u001b[39mindexer,\n\u001b[0;32m   (...)\u001b[0m\n\u001b[1;32m    899\u001b[0m     copy\u001b[38;5;241m=\u001b[39m\u001b[38;5;28;01mNone\u001b[39;00m,\n\u001b[1;32m    900\u001b[0m )\n",
      "File \u001b[0;32m/home/ben/Individual_Project/env/lib/python3.10/site-packages/pandas/core/indexers/utils.py:275\u001b[0m, in \u001b[0;36mmaybe_convert_indices\u001b[0;34m(indices, n, verify)\u001b[0m\n\u001b[1;32m    272\u001b[0m         \u001b[38;5;28;01mreturn\u001b[39;00m np\u001b[38;5;241m.\u001b[39mempty(\u001b[38;5;241m0\u001b[39m, dtype\u001b[38;5;241m=\u001b[39mnp\u001b[38;5;241m.\u001b[39mintp)\n\u001b[1;32m    274\u001b[0m mask \u001b[38;5;241m=\u001b[39m indices \u001b[38;5;241m<\u001b[39m \u001b[38;5;241m0\u001b[39m\n\u001b[0;32m--> 275\u001b[0m \u001b[38;5;28;01mif\u001b[39;00m \u001b[43mmask\u001b[49m\u001b[38;5;241;43m.\u001b[39;49m\u001b[43many\u001b[49m\u001b[43m(\u001b[49m\u001b[43m)\u001b[49m:\n\u001b[1;32m    276\u001b[0m     indices \u001b[38;5;241m=\u001b[39m indices\u001b[38;5;241m.\u001b[39mcopy()\n\u001b[1;32m    277\u001b[0m     indices[mask] \u001b[38;5;241m+\u001b[39m\u001b[38;5;241m=\u001b[39m n\n",
      "File \u001b[0;32m/home/ben/Individual_Project/env/lib/python3.10/site-packages/numpy/_core/_methods.py:58\u001b[0m, in \u001b[0;36m_any\u001b[0;34m(a, axis, dtype, out, keepdims, where)\u001b[0m\n\u001b[1;32m     54\u001b[0m \u001b[38;5;28;01mdef\u001b[39;00m \u001b[38;5;21m_prod\u001b[39m(a, axis\u001b[38;5;241m=\u001b[39m\u001b[38;5;28;01mNone\u001b[39;00m, dtype\u001b[38;5;241m=\u001b[39m\u001b[38;5;28;01mNone\u001b[39;00m, out\u001b[38;5;241m=\u001b[39m\u001b[38;5;28;01mNone\u001b[39;00m, keepdims\u001b[38;5;241m=\u001b[39m\u001b[38;5;28;01mFalse\u001b[39;00m,\n\u001b[1;32m     55\u001b[0m           initial\u001b[38;5;241m=\u001b[39m_NoValue, where\u001b[38;5;241m=\u001b[39m\u001b[38;5;28;01mTrue\u001b[39;00m):\n\u001b[1;32m     56\u001b[0m     \u001b[38;5;28;01mreturn\u001b[39;00m umr_prod(a, axis, dtype, out, keepdims, initial, where)\n\u001b[0;32m---> 58\u001b[0m \u001b[38;5;28;01mdef\u001b[39;00m \u001b[38;5;21m_any\u001b[39m(a, axis\u001b[38;5;241m=\u001b[39m\u001b[38;5;28;01mNone\u001b[39;00m, dtype\u001b[38;5;241m=\u001b[39m\u001b[38;5;28;01mNone\u001b[39;00m, out\u001b[38;5;241m=\u001b[39m\u001b[38;5;28;01mNone\u001b[39;00m, keepdims\u001b[38;5;241m=\u001b[39m\u001b[38;5;28;01mFalse\u001b[39;00m, \u001b[38;5;241m*\u001b[39m, where\u001b[38;5;241m=\u001b[39m\u001b[38;5;28;01mTrue\u001b[39;00m):\n\u001b[1;32m     59\u001b[0m     \u001b[38;5;66;03m# By default, return a boolean for any and all\u001b[39;00m\n\u001b[1;32m     60\u001b[0m     \u001b[38;5;28;01mif\u001b[39;00m dtype \u001b[38;5;129;01mis\u001b[39;00m \u001b[38;5;28;01mNone\u001b[39;00m:\n\u001b[1;32m     61\u001b[0m         dtype \u001b[38;5;241m=\u001b[39m bool_dt\n",
      "\u001b[0;31mKeyboardInterrupt\u001b[0m: "
     ]
    }
   ],
   "source": [
    "import pandas as pd\n",
    "from skopt import gp_minimize\n",
    "from skopt.space import Integer, Categorical\n",
    "\n",
    "def optimize_strategy(precomputed_data, n_calls=30):\n",
    "    max_laps = precomputed_data[\"max_laps\"]\n",
    "    driver_number = 14  # Target driver to optimize for\n",
    "\n",
    "    # Define the search space: start_tyre, pit1_lap, pit1_tyre, pit2_lap, pit2_tyre\n",
    "    space = [\n",
    "        Categorical([1, 2, 3], name='start_tyre'),\n",
    "        Integer(2, max_laps - 1, name='pit1_lap'),\n",
    "        Categorical([1, 2, 3], name='pit1_tyre'),\n",
    "        Integer(2, max_laps - 1, name='pit2_lap'),\n",
    "        Categorical([1, 2, 3], name='pit2_tyre'),\n",
    "    ]\n",
    "\n",
    "    def objective(params):\n",
    "        start_tyre, pit1_lap, pit1_tyre, pit2_lap, pit2_tyre = params\n",
    "\n",
    "        # Check if pit stops are in a valid order and laps are within bounds\n",
    "        if pit1_lap >= pit2_lap or pit1_lap < 2 or pit2_lap >= max_laps:\n",
    "            return 20.0  # Penalize invalid strategies with worst position\n",
    "\n",
    "        # Construct the strategy dictionary\n",
    "        strategy = {\n",
    "            1: start_tyre,\n",
    "            int(pit1_lap): pit1_tyre,\n",
    "            int(pit2_lap): pit2_tyre\n",
    "        }\n",
    "\n",
    "        # Run the simulation with the current strategy\n",
    "        try:\n",
    "            drivers_df = race_sim(precomputed_data, given_driver=driver_number, simulated_strategy=strategy)\n",
    "            driver_row = drivers_df[drivers_df['driver_number'] == driver_number].iloc[0]\n",
    "            position = driver_row['position']\n",
    "            return position\n",
    "        except Exception as e:\n",
    "            print(f\"Error during simulation: {e}\")\n",
    "            return 20.0  # Return worst position in case of errors\n",
    "\n",
    "    # Perform Bayesian optimization\n",
    "    result = gp_minimize(\n",
    "        objective,\n",
    "        space,\n",
    "        n_calls=n_calls,\n",
    "        random_state=42,\n",
    "        verbose=True\n",
    "    )\n",
    "\n",
    "    # Extract best parameters and construct the optimal strategy\n",
    "    best_params = result.x\n",
    "    best_strategy = {\n",
    "        1: best_params[0],\n",
    "        int(best_params[1]): best_params[2],\n",
    "        int(best_params[3]): best_params[4]\n",
    "    }\n",
    "\n",
    "    return best_strategy, result.fun\n",
    "\n",
    "# Example usage (assuming precomputed_data is available):\n",
    "best_strategy, best_position = optimize_strategy(race_data, n_calls=100)\n",
    "print(\"Best Strategy:\", best_strategy)\n",
    "print(\"Best Position:\", best_position)"
   ]
  },
  {
   "cell_type": "code",
   "execution_count": null,
   "metadata": {},
   "outputs": [
    {
     "name": "stdout",
     "output_type": "stream",
     "text": [
      "|   iter    |  target   | pit_lap_0 | pit_lap_1 | starti... |  tyre_0   |  tyre_1   |\n",
      "-------------------------------------------------------------------------------------\n"
     ]
    },
    {
     "name": "stderr",
     "output_type": "stream",
     "text": [
      "/tmp/ipykernel_80336/3250777603.py:81: FutureWarning: Setting an item of incompatible dtype is deprecated and will raise an error in a future version of pandas. Value '33.60698478170239' has dtype incompatible with int64, please explicitly cast to a compatible dtype first.\n",
      "  drivers_df.at[index, \"sector_time\"] = sector_time\n",
      "/tmp/ipykernel_80336/3250777603.py:95: FutureWarning: Setting an item of incompatible dtype is deprecated and will raise an error in a future version of pandas. Value '33.60698478170239' has dtype incompatible with int64, please explicitly cast to a compatible dtype first.\n",
      "  drivers_df.at[index, \"gap\"] = gap\n"
     ]
    },
    {
     "name": "stdout",
     "output_type": "stream",
     "text": [
      "| \u001b[39m1        \u001b[39m | \u001b[39m-3.0     \u001b[39m | \u001b[39m21.97    \u001b[39m | \u001b[39m54.24    \u001b[39m | \u001b[39m2.464    \u001b[39m | \u001b[39m2.197    \u001b[39m | \u001b[39m1.312    \u001b[39m |\n"
     ]
    },
    {
     "name": "stderr",
     "output_type": "stream",
     "text": [
      "/tmp/ipykernel_80336/3250777603.py:81: FutureWarning: Setting an item of incompatible dtype is deprecated and will raise an error in a future version of pandas. Value '33.60698478170239' has dtype incompatible with int64, please explicitly cast to a compatible dtype first.\n",
      "  drivers_df.at[index, \"sector_time\"] = sector_time\n",
      "/tmp/ipykernel_80336/3250777603.py:95: FutureWarning: Setting an item of incompatible dtype is deprecated and will raise an error in a future version of pandas. Value '33.60698478170239' has dtype incompatible with int64, please explicitly cast to a compatible dtype first.\n",
      "  drivers_df.at[index, \"gap\"] = gap\n"
     ]
    },
    {
     "name": "stdout",
     "output_type": "stream",
     "text": [
      "| \u001b[39m2        \u001b[39m | \u001b[39m-3.0     \u001b[39m | \u001b[39m9.736    \u001b[39m | \u001b[39m4.253    \u001b[39m | \u001b[39m2.732    \u001b[39m | \u001b[39m2.202    \u001b[39m | \u001b[39m2.416    \u001b[39m |\n"
     ]
    },
    {
     "name": "stderr",
     "output_type": "stream",
     "text": [
      "/tmp/ipykernel_80336/3250777603.py:81: FutureWarning: Setting an item of incompatible dtype is deprecated and will raise an error in a future version of pandas. Value '33.60698478170239' has dtype incompatible with int64, please explicitly cast to a compatible dtype first.\n",
      "  drivers_df.at[index, \"sector_time\"] = sector_time\n",
      "/tmp/ipykernel_80336/3250777603.py:95: FutureWarning: Setting an item of incompatible dtype is deprecated and will raise an error in a future version of pandas. Value '33.60698478170239' has dtype incompatible with int64, please explicitly cast to a compatible dtype first.\n",
      "  drivers_df.at[index, \"gap\"] = gap\n"
     ]
    },
    {
     "name": "stdout",
     "output_type": "stream",
     "text": [
      "| \u001b[39m3        \u001b[39m | \u001b[39m-3.0     \u001b[39m | \u001b[39m2.153    \u001b[39m | \u001b[39m55.31    \u001b[39m | \u001b[39m2.665    \u001b[39m | \u001b[39m1.425    \u001b[39m | \u001b[39m1.364    \u001b[39m |\n"
     ]
    },
    {
     "name": "stderr",
     "output_type": "stream",
     "text": [
      "/tmp/ipykernel_80336/3250777603.py:81: FutureWarning: Setting an item of incompatible dtype is deprecated and will raise an error in a future version of pandas. Value '33.60698478170239' has dtype incompatible with int64, please explicitly cast to a compatible dtype first.\n",
      "  drivers_df.at[index, \"sector_time\"] = sector_time\n",
      "/tmp/ipykernel_80336/3250777603.py:95: FutureWarning: Setting an item of incompatible dtype is deprecated and will raise an error in a future version of pandas. Value '33.60698478170239' has dtype incompatible with int64, please explicitly cast to a compatible dtype first.\n",
      "  drivers_df.at[index, \"gap\"] = gap\n"
     ]
    },
    {
     "name": "stdout",
     "output_type": "stream",
     "text": [
      "| \u001b[39m4        \u001b[39m | \u001b[39m-3.0     \u001b[39m | \u001b[39m11.27    \u001b[39m | \u001b[39m18.04    \u001b[39m | \u001b[39m2.05     \u001b[39m | \u001b[39m1.864    \u001b[39m | \u001b[39m1.582    \u001b[39m |\n"
     ]
    },
    {
     "name": "stderr",
     "output_type": "stream",
     "text": [
      "/tmp/ipykernel_80336/3250777603.py:81: FutureWarning: Setting an item of incompatible dtype is deprecated and will raise an error in a future version of pandas. Value '33.60698478170239' has dtype incompatible with int64, please explicitly cast to a compatible dtype first.\n",
      "  drivers_df.at[index, \"sector_time\"] = sector_time\n",
      "/tmp/ipykernel_80336/3250777603.py:95: FutureWarning: Setting an item of incompatible dtype is deprecated and will raise an error in a future version of pandas. Value '33.60698478170239' has dtype incompatible with int64, please explicitly cast to a compatible dtype first.\n",
      "  drivers_df.at[index, \"gap\"] = gap\n"
     ]
    },
    {
     "name": "stdout",
     "output_type": "stream",
     "text": [
      "| \u001b[39m5        \u001b[39m | \u001b[39m-3.0     \u001b[39m | \u001b[39m35.26    \u001b[39m | \u001b[39m8.812    \u001b[39m | \u001b[39m1.584    \u001b[39m | \u001b[39m1.733    \u001b[39m | \u001b[39m1.912    \u001b[39m |\n"
     ]
    },
    {
     "name": "stderr",
     "output_type": "stream",
     "text": [
      "/tmp/ipykernel_80336/3250777603.py:81: FutureWarning: Setting an item of incompatible dtype is deprecated and will raise an error in a future version of pandas. Value '33.60698478170239' has dtype incompatible with int64, please explicitly cast to a compatible dtype first.\n",
      "  drivers_df.at[index, \"sector_time\"] = sector_time\n",
      "/tmp/ipykernel_80336/3250777603.py:95: FutureWarning: Setting an item of incompatible dtype is deprecated and will raise an error in a future version of pandas. Value '33.60698478170239' has dtype incompatible with int64, please explicitly cast to a compatible dtype first.\n",
      "  drivers_df.at[index, \"gap\"] = gap\n"
     ]
    },
    {
     "name": "stdout",
     "output_type": "stream",
     "text": [
      "| \u001b[39m6        \u001b[39m | \u001b[39m-3.0     \u001b[39m | \u001b[39m56.73    \u001b[39m | \u001b[39m56.53    \u001b[39m | \u001b[39m1.374    \u001b[39m | \u001b[39m1.426    \u001b[39m | \u001b[39m1.984    \u001b[39m |\n"
     ]
    },
    {
     "name": "stderr",
     "output_type": "stream",
     "text": [
      "/tmp/ipykernel_80336/3250777603.py:81: FutureWarning: Setting an item of incompatible dtype is deprecated and will raise an error in a future version of pandas. Value '33.60698478170239' has dtype incompatible with int64, please explicitly cast to a compatible dtype first.\n",
      "  drivers_df.at[index, \"sector_time\"] = sector_time\n",
      "/tmp/ipykernel_80336/3250777603.py:95: FutureWarning: Setting an item of incompatible dtype is deprecated and will raise an error in a future version of pandas. Value '33.60698478170239' has dtype incompatible with int64, please explicitly cast to a compatible dtype first.\n",
      "  drivers_df.at[index, \"gap\"] = gap\n"
     ]
    },
    {
     "name": "stdout",
     "output_type": "stream",
     "text": [
      "| \u001b[39m7        \u001b[39m | \u001b[39m-3.0     \u001b[39m | \u001b[39m56.68    \u001b[39m | \u001b[39m1.244    \u001b[39m | \u001b[39m1.898    \u001b[39m | \u001b[39m1.325    \u001b[39m | \u001b[39m2.362    \u001b[39m |\n"
     ]
    },
    {
     "name": "stderr",
     "output_type": "stream",
     "text": [
      "/tmp/ipykernel_80336/3250777603.py:81: FutureWarning: Setting an item of incompatible dtype is deprecated and will raise an error in a future version of pandas. Value '33.60698478170239' has dtype incompatible with int64, please explicitly cast to a compatible dtype first.\n",
      "  drivers_df.at[index, \"sector_time\"] = sector_time\n",
      "/tmp/ipykernel_80336/3250777603.py:95: FutureWarning: Setting an item of incompatible dtype is deprecated and will raise an error in a future version of pandas. Value '33.60698478170239' has dtype incompatible with int64, please explicitly cast to a compatible dtype first.\n",
      "  drivers_df.at[index, \"gap\"] = gap\n"
     ]
    },
    {
     "name": "stdout",
     "output_type": "stream",
     "text": [
      "| \u001b[39m8        \u001b[39m | \u001b[39m-3.0     \u001b[39m | \u001b[39m56.51    \u001b[39m | \u001b[39m56.78    \u001b[39m | \u001b[39m1.709    \u001b[39m | \u001b[39m2.697    \u001b[39m | \u001b[39m1.521    \u001b[39m |\n"
     ]
    },
    {
     "name": "stderr",
     "output_type": "stream",
     "text": [
      "/tmp/ipykernel_80336/3250777603.py:81: FutureWarning: Setting an item of incompatible dtype is deprecated and will raise an error in a future version of pandas. Value '33.60698478170239' has dtype incompatible with int64, please explicitly cast to a compatible dtype first.\n",
      "  drivers_df.at[index, \"sector_time\"] = sector_time\n",
      "/tmp/ipykernel_80336/3250777603.py:95: FutureWarning: Setting an item of incompatible dtype is deprecated and will raise an error in a future version of pandas. Value '33.60698478170239' has dtype incompatible with int64, please explicitly cast to a compatible dtype first.\n",
      "  drivers_df.at[index, \"gap\"] = gap\n"
     ]
    },
    {
     "name": "stdout",
     "output_type": "stream",
     "text": [
      "| \u001b[39m9        \u001b[39m | \u001b[39m-3.0     \u001b[39m | \u001b[39m1.017    \u001b[39m | \u001b[39m2.157    \u001b[39m | \u001b[39m2.478    \u001b[39m | \u001b[39m1.118    \u001b[39m | \u001b[39m2.499    \u001b[39m |\n"
     ]
    },
    {
     "name": "stderr",
     "output_type": "stream",
     "text": [
      "/tmp/ipykernel_80336/3250777603.py:81: FutureWarning: Setting an item of incompatible dtype is deprecated and will raise an error in a future version of pandas. Value '33.60698478170239' has dtype incompatible with int64, please explicitly cast to a compatible dtype first.\n",
      "  drivers_df.at[index, \"sector_time\"] = sector_time\n",
      "/tmp/ipykernel_80336/3250777603.py:95: FutureWarning: Setting an item of incompatible dtype is deprecated and will raise an error in a future version of pandas. Value '33.60698478170239' has dtype incompatible with int64, please explicitly cast to a compatible dtype first.\n",
      "  drivers_df.at[index, \"gap\"] = gap\n"
     ]
    },
    {
     "name": "stdout",
     "output_type": "stream",
     "text": [
      "| \u001b[39m10       \u001b[39m | \u001b[39m-3.0     \u001b[39m | \u001b[39m56.54    \u001b[39m | \u001b[39m1.498    \u001b[39m | \u001b[39m1.874    \u001b[39m | \u001b[39m2.287    \u001b[39m | \u001b[39m1.975    \u001b[39m |\n"
     ]
    },
    {
     "name": "stderr",
     "output_type": "stream",
     "text": [
      "/tmp/ipykernel_80336/3250777603.py:81: FutureWarning: Setting an item of incompatible dtype is deprecated and will raise an error in a future version of pandas. Value '33.60698478170239' has dtype incompatible with int64, please explicitly cast to a compatible dtype first.\n",
      "  drivers_df.at[index, \"sector_time\"] = sector_time\n",
      "/tmp/ipykernel_80336/3250777603.py:95: FutureWarning: Setting an item of incompatible dtype is deprecated and will raise an error in a future version of pandas. Value '33.60698478170239' has dtype incompatible with int64, please explicitly cast to a compatible dtype first.\n",
      "  drivers_df.at[index, \"gap\"] = gap\n"
     ]
    },
    {
     "name": "stdout",
     "output_type": "stream",
     "text": [
      "| \u001b[39m11       \u001b[39m | \u001b[39m-3.0     \u001b[39m | \u001b[39m1.022    \u001b[39m | \u001b[39m56.99    \u001b[39m | \u001b[39m1.448    \u001b[39m | \u001b[39m1.142    \u001b[39m | \u001b[39m2.475    \u001b[39m |\n"
     ]
    },
    {
     "name": "stderr",
     "output_type": "stream",
     "text": [
      "/tmp/ipykernel_80336/3250777603.py:81: FutureWarning: Setting an item of incompatible dtype is deprecated and will raise an error in a future version of pandas. Value '33.60698478170239' has dtype incompatible with int64, please explicitly cast to a compatible dtype first.\n",
      "  drivers_df.at[index, \"sector_time\"] = sector_time\n",
      "/tmp/ipykernel_80336/3250777603.py:95: FutureWarning: Setting an item of incompatible dtype is deprecated and will raise an error in a future version of pandas. Value '33.60698478170239' has dtype incompatible with int64, please explicitly cast to a compatible dtype first.\n",
      "  drivers_df.at[index, \"gap\"] = gap\n"
     ]
    },
    {
     "name": "stdout",
     "output_type": "stream",
     "text": [
      "| \u001b[39m12       \u001b[39m | \u001b[39m-3.0     \u001b[39m | \u001b[39m56.67    \u001b[39m | \u001b[39m56.98    \u001b[39m | \u001b[39m1.882    \u001b[39m | \u001b[39m2.748    \u001b[39m | \u001b[39m1.963    \u001b[39m |\n"
     ]
    },
    {
     "name": "stderr",
     "output_type": "stream",
     "text": [
      "/tmp/ipykernel_80336/3250777603.py:81: FutureWarning: Setting an item of incompatible dtype is deprecated and will raise an error in a future version of pandas. Value '33.60698478170239' has dtype incompatible with int64, please explicitly cast to a compatible dtype first.\n",
      "  drivers_df.at[index, \"sector_time\"] = sector_time\n",
      "/tmp/ipykernel_80336/3250777603.py:95: FutureWarning: Setting an item of incompatible dtype is deprecated and will raise an error in a future version of pandas. Value '33.60698478170239' has dtype incompatible with int64, please explicitly cast to a compatible dtype first.\n",
      "  drivers_df.at[index, \"gap\"] = gap\n"
     ]
    },
    {
     "name": "stdout",
     "output_type": "stream",
     "text": [
      "| \u001b[39m13       \u001b[39m | \u001b[39m-3.0     \u001b[39m | \u001b[39m1.111    \u001b[39m | \u001b[39m1.273    \u001b[39m | \u001b[39m1.048    \u001b[39m | \u001b[39m2.346    \u001b[39m | \u001b[39m1.998    \u001b[39m |\n"
     ]
    },
    {
     "name": "stderr",
     "output_type": "stream",
     "text": [
      "/tmp/ipykernel_80336/3250777603.py:81: FutureWarning: Setting an item of incompatible dtype is deprecated and will raise an error in a future version of pandas. Value '33.60698478170239' has dtype incompatible with int64, please explicitly cast to a compatible dtype first.\n",
      "  drivers_df.at[index, \"sector_time\"] = sector_time\n",
      "/tmp/ipykernel_80336/3250777603.py:95: FutureWarning: Setting an item of incompatible dtype is deprecated and will raise an error in a future version of pandas. Value '33.60698478170239' has dtype incompatible with int64, please explicitly cast to a compatible dtype first.\n",
      "  drivers_df.at[index, \"gap\"] = gap\n"
     ]
    },
    {
     "name": "stdout",
     "output_type": "stream",
     "text": [
      "| \u001b[39m14       \u001b[39m | \u001b[39m-3.0     \u001b[39m | \u001b[39m56.76    \u001b[39m | \u001b[39m1.652    \u001b[39m | \u001b[39m1.519    \u001b[39m | \u001b[39m1.543    \u001b[39m | \u001b[39m1.378    \u001b[39m |\n"
     ]
    },
    {
     "name": "stderr",
     "output_type": "stream",
     "text": [
      "/tmp/ipykernel_80336/3250777603.py:81: FutureWarning: Setting an item of incompatible dtype is deprecated and will raise an error in a future version of pandas. Value '33.60698478170239' has dtype incompatible with int64, please explicitly cast to a compatible dtype first.\n",
      "  drivers_df.at[index, \"sector_time\"] = sector_time\n",
      "/tmp/ipykernel_80336/3250777603.py:95: FutureWarning: Setting an item of incompatible dtype is deprecated and will raise an error in a future version of pandas. Value '33.60698478170239' has dtype incompatible with int64, please explicitly cast to a compatible dtype first.\n",
      "  drivers_df.at[index, \"gap\"] = gap\n"
     ]
    },
    {
     "name": "stdout",
     "output_type": "stream",
     "text": [
      "| \u001b[39m15       \u001b[39m | \u001b[39m-3.0     \u001b[39m | \u001b[39m1.034    \u001b[39m | \u001b[39m56.67    \u001b[39m | \u001b[39m2.026    \u001b[39m | \u001b[39m1.239    \u001b[39m | \u001b[39m1.713    \u001b[39m |\n"
     ]
    },
    {
     "name": "stderr",
     "output_type": "stream",
     "text": [
      "/tmp/ipykernel_80336/3250777603.py:81: FutureWarning: Setting an item of incompatible dtype is deprecated and will raise an error in a future version of pandas. Value '33.60698478170239' has dtype incompatible with int64, please explicitly cast to a compatible dtype first.\n",
      "  drivers_df.at[index, \"sector_time\"] = sector_time\n",
      "/tmp/ipykernel_80336/3250777603.py:95: FutureWarning: Setting an item of incompatible dtype is deprecated and will raise an error in a future version of pandas. Value '33.60698478170239' has dtype incompatible with int64, please explicitly cast to a compatible dtype first.\n",
      "  drivers_df.at[index, \"gap\"] = gap\n"
     ]
    },
    {
     "name": "stdout",
     "output_type": "stream",
     "text": [
      "| \u001b[39m16       \u001b[39m | \u001b[39m-3.0     \u001b[39m | \u001b[39m56.66    \u001b[39m | \u001b[39m56.95    \u001b[39m | \u001b[39m2.544    \u001b[39m | \u001b[39m2.694    \u001b[39m | \u001b[39m1.094    \u001b[39m |\n"
     ]
    },
    {
     "name": "stderr",
     "output_type": "stream",
     "text": [
      "/tmp/ipykernel_80336/3250777603.py:81: FutureWarning: Setting an item of incompatible dtype is deprecated and will raise an error in a future version of pandas. Value '33.60698478170239' has dtype incompatible with int64, please explicitly cast to a compatible dtype first.\n",
      "  drivers_df.at[index, \"sector_time\"] = sector_time\n",
      "/tmp/ipykernel_80336/3250777603.py:95: FutureWarning: Setting an item of incompatible dtype is deprecated and will raise an error in a future version of pandas. Value '33.60698478170239' has dtype incompatible with int64, please explicitly cast to a compatible dtype first.\n",
      "  drivers_df.at[index, \"gap\"] = gap\n"
     ]
    },
    {
     "name": "stdout",
     "output_type": "stream",
     "text": [
      "| \u001b[39m17       \u001b[39m | \u001b[39m-3.0     \u001b[39m | \u001b[39m1.128    \u001b[39m | \u001b[39m1.155    \u001b[39m | \u001b[39m1.412    \u001b[39m | \u001b[39m2.711    \u001b[39m | \u001b[39m2.517    \u001b[39m |\n"
     ]
    },
    {
     "name": "stderr",
     "output_type": "stream",
     "text": [
      "/tmp/ipykernel_80336/3250777603.py:81: FutureWarning: Setting an item of incompatible dtype is deprecated and will raise an error in a future version of pandas. Value '33.60698478170239' has dtype incompatible with int64, please explicitly cast to a compatible dtype first.\n",
      "  drivers_df.at[index, \"sector_time\"] = sector_time\n",
      "/tmp/ipykernel_80336/3250777603.py:95: FutureWarning: Setting an item of incompatible dtype is deprecated and will raise an error in a future version of pandas. Value '33.60698478170239' has dtype incompatible with int64, please explicitly cast to a compatible dtype first.\n",
      "  drivers_df.at[index, \"gap\"] = gap\n"
     ]
    },
    {
     "name": "stdout",
     "output_type": "stream",
     "text": [
      "| \u001b[39m18       \u001b[39m | \u001b[39m-3.0     \u001b[39m | \u001b[39m56.22    \u001b[39m | \u001b[39m1.54     \u001b[39m | \u001b[39m1.038    \u001b[39m | \u001b[39m2.62     \u001b[39m | \u001b[39m2.669    \u001b[39m |\n"
     ]
    },
    {
     "name": "stderr",
     "output_type": "stream",
     "text": [
      "/tmp/ipykernel_80336/3250777603.py:81: FutureWarning: Setting an item of incompatible dtype is deprecated and will raise an error in a future version of pandas. Value '33.60698478170239' has dtype incompatible with int64, please explicitly cast to a compatible dtype first.\n",
      "  drivers_df.at[index, \"sector_time\"] = sector_time\n",
      "/tmp/ipykernel_80336/3250777603.py:95: FutureWarning: Setting an item of incompatible dtype is deprecated and will raise an error in a future version of pandas. Value '33.60698478170239' has dtype incompatible with int64, please explicitly cast to a compatible dtype first.\n",
      "  drivers_df.at[index, \"gap\"] = gap\n"
     ]
    },
    {
     "name": "stdout",
     "output_type": "stream",
     "text": [
      "| \u001b[39m19       \u001b[39m | \u001b[39m-3.0     \u001b[39m | \u001b[39m1.455    \u001b[39m | \u001b[39m56.85    \u001b[39m | \u001b[39m1.438    \u001b[39m | \u001b[39m2.144    \u001b[39m | \u001b[39m1.923    \u001b[39m |\n"
     ]
    },
    {
     "name": "stderr",
     "output_type": "stream",
     "text": [
      "/tmp/ipykernel_80336/3250777603.py:81: FutureWarning: Setting an item of incompatible dtype is deprecated and will raise an error in a future version of pandas. Value '33.60698478170239' has dtype incompatible with int64, please explicitly cast to a compatible dtype first.\n",
      "  drivers_df.at[index, \"sector_time\"] = sector_time\n",
      "/tmp/ipykernel_80336/3250777603.py:95: FutureWarning: Setting an item of incompatible dtype is deprecated and will raise an error in a future version of pandas. Value '33.60698478170239' has dtype incompatible with int64, please explicitly cast to a compatible dtype first.\n",
      "  drivers_df.at[index, \"gap\"] = gap\n"
     ]
    },
    {
     "name": "stdout",
     "output_type": "stream",
     "text": [
      "| \u001b[39m20       \u001b[39m | \u001b[39m-3.0     \u001b[39m | \u001b[39m56.72    \u001b[39m | \u001b[39m56.66    \u001b[39m | \u001b[39m2.399    \u001b[39m | \u001b[39m2.22     \u001b[39m | \u001b[39m1.032    \u001b[39m |\n"
     ]
    },
    {
     "name": "stderr",
     "output_type": "stream",
     "text": [
      "/tmp/ipykernel_80336/3250777603.py:81: FutureWarning: Setting an item of incompatible dtype is deprecated and will raise an error in a future version of pandas. Value '33.60698478170239' has dtype incompatible with int64, please explicitly cast to a compatible dtype first.\n",
      "  drivers_df.at[index, \"sector_time\"] = sector_time\n",
      "/tmp/ipykernel_80336/3250777603.py:95: FutureWarning: Setting an item of incompatible dtype is deprecated and will raise an error in a future version of pandas. Value '33.60698478170239' has dtype incompatible with int64, please explicitly cast to a compatible dtype first.\n",
      "  drivers_df.at[index, \"gap\"] = gap\n"
     ]
    },
    {
     "name": "stdout",
     "output_type": "stream",
     "text": [
      "| \u001b[39m21       \u001b[39m | \u001b[39m-3.0     \u001b[39m | \u001b[39m1.006    \u001b[39m | \u001b[39m1.921    \u001b[39m | \u001b[39m1.877    \u001b[39m | \u001b[39m1.777    \u001b[39m | \u001b[39m1.957    \u001b[39m |\n"
     ]
    },
    {
     "name": "stderr",
     "output_type": "stream",
     "text": [
      "/tmp/ipykernel_80336/3250777603.py:81: FutureWarning: Setting an item of incompatible dtype is deprecated and will raise an error in a future version of pandas. Value '33.60698478170239' has dtype incompatible with int64, please explicitly cast to a compatible dtype first.\n",
      "  drivers_df.at[index, \"sector_time\"] = sector_time\n",
      "/tmp/ipykernel_80336/3250777603.py:95: FutureWarning: Setting an item of incompatible dtype is deprecated and will raise an error in a future version of pandas. Value '33.60698478170239' has dtype incompatible with int64, please explicitly cast to a compatible dtype first.\n",
      "  drivers_df.at[index, \"gap\"] = gap\n"
     ]
    },
    {
     "name": "stdout",
     "output_type": "stream",
     "text": [
      "| \u001b[39m22       \u001b[39m | \u001b[39m-3.0     \u001b[39m | \u001b[39m56.55    \u001b[39m | \u001b[39m1.316    \u001b[39m | \u001b[39m1.792    \u001b[39m | \u001b[39m1.519    \u001b[39m | \u001b[39m2.021    \u001b[39m |\n"
     ]
    },
    {
     "name": "stderr",
     "output_type": "stream",
     "text": [
      "/tmp/ipykernel_80336/3250777603.py:81: FutureWarning: Setting an item of incompatible dtype is deprecated and will raise an error in a future version of pandas. Value '33.60698478170239' has dtype incompatible with int64, please explicitly cast to a compatible dtype first.\n",
      "  drivers_df.at[index, \"sector_time\"] = sector_time\n",
      "/tmp/ipykernel_80336/3250777603.py:95: FutureWarning: Setting an item of incompatible dtype is deprecated and will raise an error in a future version of pandas. Value '33.60698478170239' has dtype incompatible with int64, please explicitly cast to a compatible dtype first.\n",
      "  drivers_df.at[index, \"gap\"] = gap\n"
     ]
    },
    {
     "name": "stdout",
     "output_type": "stream",
     "text": [
      "| \u001b[39m23       \u001b[39m | \u001b[39m-3.0     \u001b[39m | \u001b[39m1.167    \u001b[39m | \u001b[39m56.31    \u001b[39m | \u001b[39m2.386    \u001b[39m | \u001b[39m1.726    \u001b[39m | \u001b[39m2.836    \u001b[39m |\n"
     ]
    },
    {
     "name": "stderr",
     "output_type": "stream",
     "text": [
      "/tmp/ipykernel_80336/3250777603.py:81: FutureWarning: Setting an item of incompatible dtype is deprecated and will raise an error in a future version of pandas. Value '33.60698478170239' has dtype incompatible with int64, please explicitly cast to a compatible dtype first.\n",
      "  drivers_df.at[index, \"sector_time\"] = sector_time\n",
      "/tmp/ipykernel_80336/3250777603.py:95: FutureWarning: Setting an item of incompatible dtype is deprecated and will raise an error in a future version of pandas. Value '33.60698478170239' has dtype incompatible with int64, please explicitly cast to a compatible dtype first.\n",
      "  drivers_df.at[index, \"gap\"] = gap\n"
     ]
    },
    {
     "name": "stdout",
     "output_type": "stream",
     "text": [
      "| \u001b[39m24       \u001b[39m | \u001b[39m-3.0     \u001b[39m | \u001b[39m56.8     \u001b[39m | \u001b[39m56.66    \u001b[39m | \u001b[39m1.295    \u001b[39m | \u001b[39m1.345    \u001b[39m | \u001b[39m1.836    \u001b[39m |\n"
     ]
    },
    {
     "name": "stderr",
     "output_type": "stream",
     "text": [
      "/tmp/ipykernel_80336/3250777603.py:81: FutureWarning: Setting an item of incompatible dtype is deprecated and will raise an error in a future version of pandas. Value '33.60698478170239' has dtype incompatible with int64, please explicitly cast to a compatible dtype first.\n",
      "  drivers_df.at[index, \"sector_time\"] = sector_time\n",
      "/tmp/ipykernel_80336/3250777603.py:95: FutureWarning: Setting an item of incompatible dtype is deprecated and will raise an error in a future version of pandas. Value '33.60698478170239' has dtype incompatible with int64, please explicitly cast to a compatible dtype first.\n",
      "  drivers_df.at[index, \"gap\"] = gap\n"
     ]
    },
    {
     "name": "stdout",
     "output_type": "stream",
     "text": [
      "| \u001b[39m25       \u001b[39m | \u001b[39m-3.0     \u001b[39m | \u001b[39m56.7     \u001b[39m | \u001b[39m1.224    \u001b[39m | \u001b[39m1.115    \u001b[39m | \u001b[39m1.916    \u001b[39m | \u001b[39m2.454    \u001b[39m |\n"
     ]
    },
    {
     "name": "stderr",
     "output_type": "stream",
     "text": [
      "/tmp/ipykernel_80336/3250777603.py:81: FutureWarning: Setting an item of incompatible dtype is deprecated and will raise an error in a future version of pandas. Value '33.60698478170239' has dtype incompatible with int64, please explicitly cast to a compatible dtype first.\n",
      "  drivers_df.at[index, \"sector_time\"] = sector_time\n",
      "/tmp/ipykernel_80336/3250777603.py:95: FutureWarning: Setting an item of incompatible dtype is deprecated and will raise an error in a future version of pandas. Value '33.60698478170239' has dtype incompatible with int64, please explicitly cast to a compatible dtype first.\n",
      "  drivers_df.at[index, \"gap\"] = gap\n"
     ]
    },
    {
     "name": "stdout",
     "output_type": "stream",
     "text": [
      "| \u001b[39m26       \u001b[39m | \u001b[39m-3.0     \u001b[39m | \u001b[39m1.009    \u001b[39m | \u001b[39m1.706    \u001b[39m | \u001b[39m1.654    \u001b[39m | \u001b[39m1.259    \u001b[39m | \u001b[39m1.585    \u001b[39m |\n"
     ]
    },
    {
     "name": "stderr",
     "output_type": "stream",
     "text": [
      "/tmp/ipykernel_80336/3250777603.py:81: FutureWarning: Setting an item of incompatible dtype is deprecated and will raise an error in a future version of pandas. Value '33.60698478170239' has dtype incompatible with int64, please explicitly cast to a compatible dtype first.\n",
      "  drivers_df.at[index, \"sector_time\"] = sector_time\n",
      "/tmp/ipykernel_80336/3250777603.py:95: FutureWarning: Setting an item of incompatible dtype is deprecated and will raise an error in a future version of pandas. Value '33.60698478170239' has dtype incompatible with int64, please explicitly cast to a compatible dtype first.\n",
      "  drivers_df.at[index, \"gap\"] = gap\n"
     ]
    },
    {
     "name": "stdout",
     "output_type": "stream",
     "text": [
      "| \u001b[39m27       \u001b[39m | \u001b[39m-3.0     \u001b[39m | \u001b[39m1.222    \u001b[39m | \u001b[39m56.9     \u001b[39m | \u001b[39m1.101    \u001b[39m | \u001b[39m2.329    \u001b[39m | \u001b[39m2.672    \u001b[39m |\n"
     ]
    },
    {
     "name": "stderr",
     "output_type": "stream",
     "text": [
      "/tmp/ipykernel_80336/3250777603.py:81: FutureWarning: Setting an item of incompatible dtype is deprecated and will raise an error in a future version of pandas. Value '33.60698478170239' has dtype incompatible with int64, please explicitly cast to a compatible dtype first.\n",
      "  drivers_df.at[index, \"sector_time\"] = sector_time\n",
      "/tmp/ipykernel_80336/3250777603.py:95: FutureWarning: Setting an item of incompatible dtype is deprecated and will raise an error in a future version of pandas. Value '33.60698478170239' has dtype incompatible with int64, please explicitly cast to a compatible dtype first.\n",
      "  drivers_df.at[index, \"gap\"] = gap\n"
     ]
    },
    {
     "name": "stdout",
     "output_type": "stream",
     "text": [
      "| \u001b[39m28       \u001b[39m | \u001b[39m-3.0     \u001b[39m | \u001b[39m56.6     \u001b[39m | \u001b[39m56.99    \u001b[39m | \u001b[39m2.694    \u001b[39m | \u001b[39m2.552    \u001b[39m | \u001b[39m1.936    \u001b[39m |\n"
     ]
    },
    {
     "name": "stderr",
     "output_type": "stream",
     "text": [
      "/tmp/ipykernel_80336/3250777603.py:81: FutureWarning: Setting an item of incompatible dtype is deprecated and will raise an error in a future version of pandas. Value '33.60698478170239' has dtype incompatible with int64, please explicitly cast to a compatible dtype first.\n",
      "  drivers_df.at[index, \"sector_time\"] = sector_time\n",
      "/tmp/ipykernel_80336/3250777603.py:95: FutureWarning: Setting an item of incompatible dtype is deprecated and will raise an error in a future version of pandas. Value '33.60698478170239' has dtype incompatible with int64, please explicitly cast to a compatible dtype first.\n",
      "  drivers_df.at[index, \"gap\"] = gap\n"
     ]
    },
    {
     "name": "stdout",
     "output_type": "stream",
     "text": [
      "| \u001b[39m29       \u001b[39m | \u001b[39m-3.0     \u001b[39m | \u001b[39m56.88    \u001b[39m | \u001b[39m1.293    \u001b[39m | \u001b[39m1.923    \u001b[39m | \u001b[39m1.648    \u001b[39m | \u001b[39m2.891    \u001b[39m |\n"
     ]
    },
    {
     "name": "stderr",
     "output_type": "stream",
     "text": [
      "/tmp/ipykernel_80336/3250777603.py:81: FutureWarning: Setting an item of incompatible dtype is deprecated and will raise an error in a future version of pandas. Value '33.60698478170239' has dtype incompatible with int64, please explicitly cast to a compatible dtype first.\n",
      "  drivers_df.at[index, \"sector_time\"] = sector_time\n",
      "/tmp/ipykernel_80336/3250777603.py:95: FutureWarning: Setting an item of incompatible dtype is deprecated and will raise an error in a future version of pandas. Value '33.60698478170239' has dtype incompatible with int64, please explicitly cast to a compatible dtype first.\n",
      "  drivers_df.at[index, \"gap\"] = gap\n"
     ]
    },
    {
     "name": "stdout",
     "output_type": "stream",
     "text": [
      "| \u001b[39m30       \u001b[39m | \u001b[39m-3.0     \u001b[39m | \u001b[39m1.148    \u001b[39m | \u001b[39m1.832    \u001b[39m | \u001b[39m1.48     \u001b[39m | \u001b[39m1.911    \u001b[39m | \u001b[39m1.628    \u001b[39m |\n"
     ]
    },
    {
     "name": "stderr",
     "output_type": "stream",
     "text": [
      "/tmp/ipykernel_80336/3250777603.py:81: FutureWarning: Setting an item of incompatible dtype is deprecated and will raise an error in a future version of pandas. Value '33.60698478170239' has dtype incompatible with int64, please explicitly cast to a compatible dtype first.\n",
      "  drivers_df.at[index, \"sector_time\"] = sector_time\n",
      "/tmp/ipykernel_80336/3250777603.py:95: FutureWarning: Setting an item of incompatible dtype is deprecated and will raise an error in a future version of pandas. Value '33.60698478170239' has dtype incompatible with int64, please explicitly cast to a compatible dtype first.\n",
      "  drivers_df.at[index, \"gap\"] = gap\n"
     ]
    },
    {
     "name": "stdout",
     "output_type": "stream",
     "text": [
      "| \u001b[39m31       \u001b[39m | \u001b[39m-3.0     \u001b[39m | \u001b[39m1.446    \u001b[39m | \u001b[39m56.73    \u001b[39m | \u001b[39m2.566    \u001b[39m | \u001b[39m1.199    \u001b[39m | \u001b[39m2.993    \u001b[39m |\n"
     ]
    },
    {
     "name": "stderr",
     "output_type": "stream",
     "text": [
      "/tmp/ipykernel_80336/3250777603.py:81: FutureWarning: Setting an item of incompatible dtype is deprecated and will raise an error in a future version of pandas. Value '33.60698478170239' has dtype incompatible with int64, please explicitly cast to a compatible dtype first.\n",
      "  drivers_df.at[index, \"sector_time\"] = sector_time\n",
      "/tmp/ipykernel_80336/3250777603.py:95: FutureWarning: Setting an item of incompatible dtype is deprecated and will raise an error in a future version of pandas. Value '33.60698478170239' has dtype incompatible with int64, please explicitly cast to a compatible dtype first.\n",
      "  drivers_df.at[index, \"gap\"] = gap\n"
     ]
    },
    {
     "name": "stdout",
     "output_type": "stream",
     "text": [
      "| \u001b[39m32       \u001b[39m | \u001b[39m-3.0     \u001b[39m | \u001b[39m56.96    \u001b[39m | \u001b[39m56.93    \u001b[39m | \u001b[39m1.644    \u001b[39m | \u001b[39m2.763    \u001b[39m | \u001b[39m1.736    \u001b[39m |\n"
     ]
    },
    {
     "name": "stderr",
     "output_type": "stream",
     "text": [
      "/tmp/ipykernel_80336/3250777603.py:81: FutureWarning: Setting an item of incompatible dtype is deprecated and will raise an error in a future version of pandas. Value '33.60698478170239' has dtype incompatible with int64, please explicitly cast to a compatible dtype first.\n",
      "  drivers_df.at[index, \"sector_time\"] = sector_time\n",
      "/tmp/ipykernel_80336/3250777603.py:95: FutureWarning: Setting an item of incompatible dtype is deprecated and will raise an error in a future version of pandas. Value '33.60698478170239' has dtype incompatible with int64, please explicitly cast to a compatible dtype first.\n",
      "  drivers_df.at[index, \"gap\"] = gap\n"
     ]
    },
    {
     "name": "stdout",
     "output_type": "stream",
     "text": [
      "| \u001b[39m33       \u001b[39m | \u001b[39m-3.0     \u001b[39m | \u001b[39m1.123    \u001b[39m | \u001b[39m1.327    \u001b[39m | \u001b[39m2.57     \u001b[39m | \u001b[39m2.724    \u001b[39m | \u001b[39m2.863    \u001b[39m |\n"
     ]
    },
    {
     "name": "stderr",
     "output_type": "stream",
     "text": [
      "/tmp/ipykernel_80336/3250777603.py:81: FutureWarning: Setting an item of incompatible dtype is deprecated and will raise an error in a future version of pandas. Value '33.60698478170239' has dtype incompatible with int64, please explicitly cast to a compatible dtype first.\n",
      "  drivers_df.at[index, \"sector_time\"] = sector_time\n",
      "/tmp/ipykernel_80336/3250777603.py:95: FutureWarning: Setting an item of incompatible dtype is deprecated and will raise an error in a future version of pandas. Value '33.60698478170239' has dtype incompatible with int64, please explicitly cast to a compatible dtype first.\n",
      "  drivers_df.at[index, \"gap\"] = gap\n"
     ]
    },
    {
     "name": "stdout",
     "output_type": "stream",
     "text": [
      "| \u001b[39m34       \u001b[39m | \u001b[39m-3.0     \u001b[39m | \u001b[39m56.89    \u001b[39m | \u001b[39m1.172    \u001b[39m | \u001b[39m2.816    \u001b[39m | \u001b[39m2.732    \u001b[39m | \u001b[39m1.972    \u001b[39m |\n"
     ]
    },
    {
     "name": "stderr",
     "output_type": "stream",
     "text": [
      "/tmp/ipykernel_80336/3250777603.py:81: FutureWarning: Setting an item of incompatible dtype is deprecated and will raise an error in a future version of pandas. Value '33.60698478170239' has dtype incompatible with int64, please explicitly cast to a compatible dtype first.\n",
      "  drivers_df.at[index, \"sector_time\"] = sector_time\n",
      "/tmp/ipykernel_80336/3250777603.py:95: FutureWarning: Setting an item of incompatible dtype is deprecated and will raise an error in a future version of pandas. Value '33.60698478170239' has dtype incompatible with int64, please explicitly cast to a compatible dtype first.\n",
      "  drivers_df.at[index, \"gap\"] = gap\n"
     ]
    },
    {
     "name": "stdout",
     "output_type": "stream",
     "text": [
      "| \u001b[39m35       \u001b[39m | \u001b[39m-3.0     \u001b[39m | \u001b[39m1.009    \u001b[39m | \u001b[39m56.05    \u001b[39m | \u001b[39m2.402    \u001b[39m | \u001b[39m1.366    \u001b[39m | \u001b[39m2.372    \u001b[39m |\n"
     ]
    },
    {
     "name": "stderr",
     "output_type": "stream",
     "text": [
      "/tmp/ipykernel_80336/3250777603.py:81: FutureWarning: Setting an item of incompatible dtype is deprecated and will raise an error in a future version of pandas. Value '33.60698478170239' has dtype incompatible with int64, please explicitly cast to a compatible dtype first.\n",
      "  drivers_df.at[index, \"sector_time\"] = sector_time\n",
      "/tmp/ipykernel_80336/3250777603.py:95: FutureWarning: Setting an item of incompatible dtype is deprecated and will raise an error in a future version of pandas. Value '33.60698478170239' has dtype incompatible with int64, please explicitly cast to a compatible dtype first.\n",
      "  drivers_df.at[index, \"gap\"] = gap\n"
     ]
    },
    {
     "name": "stdout",
     "output_type": "stream",
     "text": [
      "| \u001b[39m36       \u001b[39m | \u001b[39m-3.0     \u001b[39m | \u001b[39m56.83    \u001b[39m | \u001b[39m56.53    \u001b[39m | \u001b[39m1.526    \u001b[39m | \u001b[39m1.777    \u001b[39m | \u001b[39m1.662    \u001b[39m |\n"
     ]
    },
    {
     "name": "stderr",
     "output_type": "stream",
     "text": [
      "/tmp/ipykernel_80336/3250777603.py:81: FutureWarning: Setting an item of incompatible dtype is deprecated and will raise an error in a future version of pandas. Value '33.60698478170239' has dtype incompatible with int64, please explicitly cast to a compatible dtype first.\n",
      "  drivers_df.at[index, \"sector_time\"] = sector_time\n",
      "/tmp/ipykernel_80336/3250777603.py:95: FutureWarning: Setting an item of incompatible dtype is deprecated and will raise an error in a future version of pandas. Value '33.60698478170239' has dtype incompatible with int64, please explicitly cast to a compatible dtype first.\n",
      "  drivers_df.at[index, \"gap\"] = gap\n"
     ]
    },
    {
     "name": "stdout",
     "output_type": "stream",
     "text": [
      "| \u001b[39m37       \u001b[39m | \u001b[39m-3.0     \u001b[39m | \u001b[39m1.201    \u001b[39m | \u001b[39m56.92    \u001b[39m | \u001b[39m1.056    \u001b[39m | \u001b[39m2.714    \u001b[39m | \u001b[39m1.172    \u001b[39m |\n"
     ]
    },
    {
     "name": "stderr",
     "output_type": "stream",
     "text": [
      "/tmp/ipykernel_80336/3250777603.py:81: FutureWarning: Setting an item of incompatible dtype is deprecated and will raise an error in a future version of pandas. Value '33.60698478170239' has dtype incompatible with int64, please explicitly cast to a compatible dtype first.\n",
      "  drivers_df.at[index, \"sector_time\"] = sector_time\n",
      "/tmp/ipykernel_80336/3250777603.py:95: FutureWarning: Setting an item of incompatible dtype is deprecated and will raise an error in a future version of pandas. Value '33.60698478170239' has dtype incompatible with int64, please explicitly cast to a compatible dtype first.\n",
      "  drivers_df.at[index, \"gap\"] = gap\n"
     ]
    },
    {
     "name": "stdout",
     "output_type": "stream",
     "text": [
      "| \u001b[39m38       \u001b[39m | \u001b[39m-3.0     \u001b[39m | \u001b[39m56.9     \u001b[39m | \u001b[39m1.06     \u001b[39m | \u001b[39m2.856    \u001b[39m | \u001b[39m1.449    \u001b[39m | \u001b[39m2.835    \u001b[39m |\n"
     ]
    },
    {
     "name": "stderr",
     "output_type": "stream",
     "text": [
      "/tmp/ipykernel_80336/3250777603.py:81: FutureWarning: Setting an item of incompatible dtype is deprecated and will raise an error in a future version of pandas. Value '33.60698478170239' has dtype incompatible with int64, please explicitly cast to a compatible dtype first.\n",
      "  drivers_df.at[index, \"sector_time\"] = sector_time\n",
      "/tmp/ipykernel_80336/3250777603.py:95: FutureWarning: Setting an item of incompatible dtype is deprecated and will raise an error in a future version of pandas. Value '33.60698478170239' has dtype incompatible with int64, please explicitly cast to a compatible dtype first.\n",
      "  drivers_df.at[index, \"gap\"] = gap\n"
     ]
    },
    {
     "name": "stdout",
     "output_type": "stream",
     "text": [
      "| \u001b[39m39       \u001b[39m | \u001b[39m-3.0     \u001b[39m | \u001b[39m2.123    \u001b[39m | \u001b[39m1.251    \u001b[39m | \u001b[39m1.527    \u001b[39m | \u001b[39m1.464    \u001b[39m | \u001b[39m2.895    \u001b[39m |\n"
     ]
    },
    {
     "name": "stderr",
     "output_type": "stream",
     "text": [
      "/tmp/ipykernel_80336/3250777603.py:81: FutureWarning: Setting an item of incompatible dtype is deprecated and will raise an error in a future version of pandas. Value '33.60698478170239' has dtype incompatible with int64, please explicitly cast to a compatible dtype first.\n",
      "  drivers_df.at[index, \"sector_time\"] = sector_time\n",
      "/tmp/ipykernel_80336/3250777603.py:95: FutureWarning: Setting an item of incompatible dtype is deprecated and will raise an error in a future version of pandas. Value '33.60698478170239' has dtype incompatible with int64, please explicitly cast to a compatible dtype first.\n",
      "  drivers_df.at[index, \"gap\"] = gap\n"
     ]
    },
    {
     "name": "stdout",
     "output_type": "stream",
     "text": [
      "| \u001b[39m40       \u001b[39m | \u001b[39m-3.0     \u001b[39m | \u001b[39m56.6     \u001b[39m | \u001b[39m56.74    \u001b[39m | \u001b[39m2.855    \u001b[39m | \u001b[39m1.4      \u001b[39m | \u001b[39m2.96     \u001b[39m |\n"
     ]
    },
    {
     "name": "stderr",
     "output_type": "stream",
     "text": [
      "/tmp/ipykernel_80336/3250777603.py:81: FutureWarning: Setting an item of incompatible dtype is deprecated and will raise an error in a future version of pandas. Value '33.60698478170239' has dtype incompatible with int64, please explicitly cast to a compatible dtype first.\n",
      "  drivers_df.at[index, \"sector_time\"] = sector_time\n",
      "/tmp/ipykernel_80336/3250777603.py:95: FutureWarning: Setting an item of incompatible dtype is deprecated and will raise an error in a future version of pandas. Value '33.60698478170239' has dtype incompatible with int64, please explicitly cast to a compatible dtype first.\n",
      "  drivers_df.at[index, \"gap\"] = gap\n"
     ]
    },
    {
     "name": "stdout",
     "output_type": "stream",
     "text": [
      "| \u001b[39m41       \u001b[39m | \u001b[39m-3.0     \u001b[39m | \u001b[39m1.06     \u001b[39m | \u001b[39m1.451    \u001b[39m | \u001b[39m2.138    \u001b[39m | \u001b[39m1.672    \u001b[39m | \u001b[39m1.337    \u001b[39m |\n"
     ]
    },
    {
     "name": "stderr",
     "output_type": "stream",
     "text": [
      "/tmp/ipykernel_80336/3250777603.py:81: FutureWarning: Setting an item of incompatible dtype is deprecated and will raise an error in a future version of pandas. Value '33.60698478170239' has dtype incompatible with int64, please explicitly cast to a compatible dtype first.\n",
      "  drivers_df.at[index, \"sector_time\"] = sector_time\n",
      "/tmp/ipykernel_80336/3250777603.py:95: FutureWarning: Setting an item of incompatible dtype is deprecated and will raise an error in a future version of pandas. Value '33.60698478170239' has dtype incompatible with int64, please explicitly cast to a compatible dtype first.\n",
      "  drivers_df.at[index, \"gap\"] = gap\n"
     ]
    },
    {
     "name": "stdout",
     "output_type": "stream",
     "text": [
      "| \u001b[39m42       \u001b[39m | \u001b[39m-3.0     \u001b[39m | \u001b[39m56.86    \u001b[39m | \u001b[39m1.367    \u001b[39m | \u001b[39m1.221    \u001b[39m | \u001b[39m2.751    \u001b[39m | \u001b[39m2.691    \u001b[39m |\n"
     ]
    },
    {
     "name": "stderr",
     "output_type": "stream",
     "text": [
      "/tmp/ipykernel_80336/3250777603.py:81: FutureWarning: Setting an item of incompatible dtype is deprecated and will raise an error in a future version of pandas. Value '33.60698478170239' has dtype incompatible with int64, please explicitly cast to a compatible dtype first.\n",
      "  drivers_df.at[index, \"sector_time\"] = sector_time\n",
      "/tmp/ipykernel_80336/3250777603.py:95: FutureWarning: Setting an item of incompatible dtype is deprecated and will raise an error in a future version of pandas. Value '33.60698478170239' has dtype incompatible with int64, please explicitly cast to a compatible dtype first.\n",
      "  drivers_df.at[index, \"gap\"] = gap\n"
     ]
    },
    {
     "name": "stdout",
     "output_type": "stream",
     "text": [
      "| \u001b[39m43       \u001b[39m | \u001b[39m-3.0     \u001b[39m | \u001b[39m1.047    \u001b[39m | \u001b[39m56.76    \u001b[39m | \u001b[39m2.083    \u001b[39m | \u001b[39m2.542    \u001b[39m | \u001b[39m2.126    \u001b[39m |\n"
     ]
    },
    {
     "name": "stderr",
     "output_type": "stream",
     "text": [
      "/tmp/ipykernel_80336/3250777603.py:81: FutureWarning: Setting an item of incompatible dtype is deprecated and will raise an error in a future version of pandas. Value '33.60698478170239' has dtype incompatible with int64, please explicitly cast to a compatible dtype first.\n",
      "  drivers_df.at[index, \"sector_time\"] = sector_time\n",
      "/tmp/ipykernel_80336/3250777603.py:95: FutureWarning: Setting an item of incompatible dtype is deprecated and will raise an error in a future version of pandas. Value '33.60698478170239' has dtype incompatible with int64, please explicitly cast to a compatible dtype first.\n",
      "  drivers_df.at[index, \"gap\"] = gap\n"
     ]
    },
    {
     "name": "stdout",
     "output_type": "stream",
     "text": [
      "| \u001b[39m44       \u001b[39m | \u001b[39m-3.0     \u001b[39m | \u001b[39m56.77    \u001b[39m | \u001b[39m56.96    \u001b[39m | \u001b[39m2.992    \u001b[39m | \u001b[39m2.557    \u001b[39m | \u001b[39m2.34     \u001b[39m |\n"
     ]
    },
    {
     "name": "stderr",
     "output_type": "stream",
     "text": [
      "/tmp/ipykernel_80336/3250777603.py:81: FutureWarning: Setting an item of incompatible dtype is deprecated and will raise an error in a future version of pandas. Value '33.60698478170239' has dtype incompatible with int64, please explicitly cast to a compatible dtype first.\n",
      "  drivers_df.at[index, \"sector_time\"] = sector_time\n",
      "/tmp/ipykernel_80336/3250777603.py:95: FutureWarning: Setting an item of incompatible dtype is deprecated and will raise an error in a future version of pandas. Value '33.60698478170239' has dtype incompatible with int64, please explicitly cast to a compatible dtype first.\n",
      "  drivers_df.at[index, \"gap\"] = gap\n"
     ]
    },
    {
     "name": "stdout",
     "output_type": "stream",
     "text": [
      "| \u001b[39m45       \u001b[39m | \u001b[39m-3.0     \u001b[39m | \u001b[39m56.82    \u001b[39m | \u001b[39m1.221    \u001b[39m | \u001b[39m2.792    \u001b[39m | \u001b[39m1.155    \u001b[39m | \u001b[39m1.416    \u001b[39m |\n"
     ]
    },
    {
     "name": "stderr",
     "output_type": "stream",
     "text": [
      "/tmp/ipykernel_80336/3250777603.py:81: FutureWarning: Setting an item of incompatible dtype is deprecated and will raise an error in a future version of pandas. Value '33.60698478170239' has dtype incompatible with int64, please explicitly cast to a compatible dtype first.\n",
      "  drivers_df.at[index, \"sector_time\"] = sector_time\n",
      "/tmp/ipykernel_80336/3250777603.py:95: FutureWarning: Setting an item of incompatible dtype is deprecated and will raise an error in a future version of pandas. Value '33.60698478170239' has dtype incompatible with int64, please explicitly cast to a compatible dtype first.\n",
      "  drivers_df.at[index, \"gap\"] = gap\n"
     ]
    },
    {
     "name": "stdout",
     "output_type": "stream",
     "text": [
      "| \u001b[39m46       \u001b[39m | \u001b[39m-3.0     \u001b[39m | \u001b[39m1.07     \u001b[39m | \u001b[39m1.889    \u001b[39m | \u001b[39m2.63     \u001b[39m | \u001b[39m2.92     \u001b[39m | \u001b[39m2.8      \u001b[39m |\n"
     ]
    },
    {
     "name": "stderr",
     "output_type": "stream",
     "text": [
      "/tmp/ipykernel_80336/3250777603.py:81: FutureWarning: Setting an item of incompatible dtype is deprecated and will raise an error in a future version of pandas. Value '33.60698478170239' has dtype incompatible with int64, please explicitly cast to a compatible dtype first.\n",
      "  drivers_df.at[index, \"sector_time\"] = sector_time\n",
      "/tmp/ipykernel_80336/3250777603.py:95: FutureWarning: Setting an item of incompatible dtype is deprecated and will raise an error in a future version of pandas. Value '33.60698478170239' has dtype incompatible with int64, please explicitly cast to a compatible dtype first.\n",
      "  drivers_df.at[index, \"gap\"] = gap\n"
     ]
    },
    {
     "name": "stdout",
     "output_type": "stream",
     "text": [
      "| \u001b[39m47       \u001b[39m | \u001b[39m-3.0     \u001b[39m | \u001b[39m1.181    \u001b[39m | \u001b[39m56.27    \u001b[39m | \u001b[39m1.033    \u001b[39m | \u001b[39m1.154    \u001b[39m | \u001b[39m2.482    \u001b[39m |\n"
     ]
    },
    {
     "name": "stderr",
     "output_type": "stream",
     "text": [
      "/tmp/ipykernel_80336/3250777603.py:81: FutureWarning: Setting an item of incompatible dtype is deprecated and will raise an error in a future version of pandas. Value '33.60698478170239' has dtype incompatible with int64, please explicitly cast to a compatible dtype first.\n",
      "  drivers_df.at[index, \"sector_time\"] = sector_time\n",
      "/tmp/ipykernel_80336/3250777603.py:95: FutureWarning: Setting an item of incompatible dtype is deprecated and will raise an error in a future version of pandas. Value '33.60698478170239' has dtype incompatible with int64, please explicitly cast to a compatible dtype first.\n",
      "  drivers_df.at[index, \"gap\"] = gap\n"
     ]
    },
    {
     "name": "stdout",
     "output_type": "stream",
     "text": [
      "| \u001b[39m48       \u001b[39m | \u001b[39m-3.0     \u001b[39m | \u001b[39m1.289    \u001b[39m | \u001b[39m1.002    \u001b[39m | \u001b[39m2.192    \u001b[39m | \u001b[39m2.902    \u001b[39m | \u001b[39m2.827    \u001b[39m |\n"
     ]
    },
    {
     "name": "stderr",
     "output_type": "stream",
     "text": [
      "/tmp/ipykernel_80336/3250777603.py:81: FutureWarning: Setting an item of incompatible dtype is deprecated and will raise an error in a future version of pandas. Value '33.60698478170239' has dtype incompatible with int64, please explicitly cast to a compatible dtype first.\n",
      "  drivers_df.at[index, \"sector_time\"] = sector_time\n",
      "/tmp/ipykernel_80336/3250777603.py:95: FutureWarning: Setting an item of incompatible dtype is deprecated and will raise an error in a future version of pandas. Value '33.60698478170239' has dtype incompatible with int64, please explicitly cast to a compatible dtype first.\n",
      "  drivers_df.at[index, \"gap\"] = gap\n"
     ]
    },
    {
     "name": "stdout",
     "output_type": "stream",
     "text": [
      "| \u001b[39m49       \u001b[39m | \u001b[39m-3.0     \u001b[39m | \u001b[39m56.25    \u001b[39m | \u001b[39m56.79    \u001b[39m | \u001b[39m1.901    \u001b[39m | \u001b[39m1.034    \u001b[39m | \u001b[39m2.19     \u001b[39m |\n"
     ]
    },
    {
     "name": "stderr",
     "output_type": "stream",
     "text": [
      "/tmp/ipykernel_80336/3250777603.py:81: FutureWarning: Setting an item of incompatible dtype is deprecated and will raise an error in a future version of pandas. Value '33.60698478170239' has dtype incompatible with int64, please explicitly cast to a compatible dtype first.\n",
      "  drivers_df.at[index, \"sector_time\"] = sector_time\n",
      "/tmp/ipykernel_80336/3250777603.py:95: FutureWarning: Setting an item of incompatible dtype is deprecated and will raise an error in a future version of pandas. Value '33.60698478170239' has dtype incompatible with int64, please explicitly cast to a compatible dtype first.\n",
      "  drivers_df.at[index, \"gap\"] = gap\n"
     ]
    },
    {
     "name": "stdout",
     "output_type": "stream",
     "text": [
      "| \u001b[39m50       \u001b[39m | \u001b[39m-3.0     \u001b[39m | \u001b[39m56.89    \u001b[39m | \u001b[39m1.063    \u001b[39m | \u001b[39m1.435    \u001b[39m | \u001b[39m1.376    \u001b[39m | \u001b[39m2.712    \u001b[39m |\n"
     ]
    },
    {
     "name": "stderr",
     "output_type": "stream",
     "text": [
      "/tmp/ipykernel_80336/3250777603.py:81: FutureWarning: Setting an item of incompatible dtype is deprecated and will raise an error in a future version of pandas. Value '33.60698478170239' has dtype incompatible with int64, please explicitly cast to a compatible dtype first.\n",
      "  drivers_df.at[index, \"sector_time\"] = sector_time\n",
      "/tmp/ipykernel_80336/3250777603.py:95: FutureWarning: Setting an item of incompatible dtype is deprecated and will raise an error in a future version of pandas. Value '33.60698478170239' has dtype incompatible with int64, please explicitly cast to a compatible dtype first.\n",
      "  drivers_df.at[index, \"gap\"] = gap\n"
     ]
    },
    {
     "name": "stdout",
     "output_type": "stream",
     "text": [
      "| \u001b[39m51       \u001b[39m | \u001b[39m-3.0     \u001b[39m | \u001b[39m1.029    \u001b[39m | \u001b[39m56.82    \u001b[39m | \u001b[39m2.656    \u001b[39m | \u001b[39m2.581    \u001b[39m | \u001b[39m1.956    \u001b[39m |\n"
     ]
    },
    {
     "name": "stderr",
     "output_type": "stream",
     "text": [
      "/tmp/ipykernel_80336/3250777603.py:81: FutureWarning: Setting an item of incompatible dtype is deprecated and will raise an error in a future version of pandas. Value '33.60698478170239' has dtype incompatible with int64, please explicitly cast to a compatible dtype first.\n",
      "  drivers_df.at[index, \"sector_time\"] = sector_time\n",
      "/tmp/ipykernel_80336/3250777603.py:95: FutureWarning: Setting an item of incompatible dtype is deprecated and will raise an error in a future version of pandas. Value '33.60698478170239' has dtype incompatible with int64, please explicitly cast to a compatible dtype first.\n",
      "  drivers_df.at[index, \"gap\"] = gap\n"
     ]
    },
    {
     "name": "stdout",
     "output_type": "stream",
     "text": [
      "| \u001b[39m52       \u001b[39m | \u001b[39m-3.0     \u001b[39m | \u001b[39m56.98    \u001b[39m | \u001b[39m56.67    \u001b[39m | \u001b[39m2.266    \u001b[39m | \u001b[39m2.283    \u001b[39m | \u001b[39m2.899    \u001b[39m |\n"
     ]
    },
    {
     "name": "stderr",
     "output_type": "stream",
     "text": [
      "/tmp/ipykernel_80336/3250777603.py:81: FutureWarning: Setting an item of incompatible dtype is deprecated and will raise an error in a future version of pandas. Value '33.60698478170239' has dtype incompatible with int64, please explicitly cast to a compatible dtype first.\n",
      "  drivers_df.at[index, \"sector_time\"] = sector_time\n",
      "/tmp/ipykernel_80336/3250777603.py:95: FutureWarning: Setting an item of incompatible dtype is deprecated and will raise an error in a future version of pandas. Value '33.60698478170239' has dtype incompatible with int64, please explicitly cast to a compatible dtype first.\n",
      "  drivers_df.at[index, \"gap\"] = gap\n"
     ]
    },
    {
     "name": "stdout",
     "output_type": "stream",
     "text": [
      "| \u001b[39m53       \u001b[39m | \u001b[39m-3.0     \u001b[39m | \u001b[39m1.118    \u001b[39m | \u001b[39m1.199    \u001b[39m | \u001b[39m1.566    \u001b[39m | \u001b[39m2.982    \u001b[39m | \u001b[39m2.703    \u001b[39m |\n"
     ]
    },
    {
     "name": "stderr",
     "output_type": "stream",
     "text": [
      "/tmp/ipykernel_80336/3250777603.py:81: FutureWarning: Setting an item of incompatible dtype is deprecated and will raise an error in a future version of pandas. Value '33.60698478170239' has dtype incompatible with int64, please explicitly cast to a compatible dtype first.\n",
      "  drivers_df.at[index, \"sector_time\"] = sector_time\n",
      "/tmp/ipykernel_80336/3250777603.py:95: FutureWarning: Setting an item of incompatible dtype is deprecated and will raise an error in a future version of pandas. Value '33.60698478170239' has dtype incompatible with int64, please explicitly cast to a compatible dtype first.\n",
      "  drivers_df.at[index, \"gap\"] = gap\n"
     ]
    },
    {
     "name": "stdout",
     "output_type": "stream",
     "text": [
      "| \u001b[39m54       \u001b[39m | \u001b[39m-3.0     \u001b[39m | \u001b[39m56.44    \u001b[39m | \u001b[39m1.741    \u001b[39m | \u001b[39m2.381    \u001b[39m | \u001b[39m2.333    \u001b[39m | \u001b[39m2.95     \u001b[39m |\n"
     ]
    },
    {
     "name": "stderr",
     "output_type": "stream",
     "text": [
      "/tmp/ipykernel_80336/3250777603.py:81: FutureWarning: Setting an item of incompatible dtype is deprecated and will raise an error in a future version of pandas. Value '33.60698478170239' has dtype incompatible with int64, please explicitly cast to a compatible dtype first.\n",
      "  drivers_df.at[index, \"sector_time\"] = sector_time\n",
      "/tmp/ipykernel_80336/3250777603.py:95: FutureWarning: Setting an item of incompatible dtype is deprecated and will raise an error in a future version of pandas. Value '33.60698478170239' has dtype incompatible with int64, please explicitly cast to a compatible dtype first.\n",
      "  drivers_df.at[index, \"gap\"] = gap\n"
     ]
    },
    {
     "name": "stdout",
     "output_type": "stream",
     "text": [
      "| \u001b[39m55       \u001b[39m | \u001b[39m-3.0     \u001b[39m | \u001b[39m1.025    \u001b[39m | \u001b[39m56.35    \u001b[39m | \u001b[39m2.444    \u001b[39m | \u001b[39m1.518    \u001b[39m | \u001b[39m1.281    \u001b[39m |\n",
      "=====================================================================================\n"
     ]
    },
    {
     "name": "stderr",
     "output_type": "stream",
     "text": [
      "/tmp/ipykernel_80336/3250777603.py:81: FutureWarning: Setting an item of incompatible dtype is deprecated and will raise an error in a future version of pandas. Value '33.60698478170239' has dtype incompatible with int64, please explicitly cast to a compatible dtype first.\n",
      "  drivers_df.at[index, \"sector_time\"] = sector_time\n",
      "/tmp/ipykernel_80336/3250777603.py:95: FutureWarning: Setting an item of incompatible dtype is deprecated and will raise an error in a future version of pandas. Value '33.60698478170239' has dtype incompatible with int64, please explicitly cast to a compatible dtype first.\n",
      "  drivers_df.at[index, \"gap\"] = gap\n"
     ]
    },
    {
     "name": "stdout",
     "output_type": "stream",
     "text": [
      "Best Strategy: {1: 2, 21: 2, 54: 1}\n",
      "Best Finishing Position: 3\n",
      "Best Strategy: {1: 2, 21: 2, 54: 1}\n",
      "Best Finishing Position: 3\n"
     ]
    }
   ],
   "source": [
    "from bayes_opt import BayesianOptimization\n",
    "import numpy as np\n",
    "\n",
    "def bayesian_strategy_optimization(race_data, given_driver, initial_strategy, max_iterations=50):\n",
    "    \"\"\"\n",
    "    Optimize the pit strategy for a given driver using Bayesian Optimization.\n",
    "    \n",
    "    Args:\n",
    "        race_data (dict): Precomputed race data.\n",
    "        given_driver (int): The driver number to optimize the strategy for.\n",
    "        initial_strategy (dict): Initial pit strategy (e.g., {1: 1, 15: 1, 35: 3}).\n",
    "                                 Key is the lap number, value is the tyre type.\n",
    "        max_iterations (int): Maximum number of iterations for optimization.\n",
    "        \n",
    "    Returns:\n",
    "        tuple: Best strategy (dict) and best finishing position (int).\n",
    "    \"\"\"\n",
    "    # Extract precomputed data\n",
    "    max_laps = race_data[\"max_laps\"]\n",
    "    num_pits = len(initial_strategy) - 1  # Exclude the starting tyre\n",
    "    \n",
    "    # Define the objective function for Bayesian Optimization\n",
    "    def objective_function(**kwargs):\n",
    "        # Parse the arguments into a strategy\n",
    "        pit_laps = sorted([int(kwargs[f\"pit_lap_{i}\"]) for i in range(num_pits)])\n",
    "        tyres = [int(kwargs[f\"tyre_{i}\"]) for i in range(num_pits)]\n",
    "        \n",
    "        # Ensure pit laps are unique and within valid range\n",
    "        pit_laps = sorted(set([max(1, min(max_laps, lap)) for lap in pit_laps]))\n",
    "        \n",
    "        # Ensure tyre choices are valid (1=Hard, 2=Medium, 3=Soft)\n",
    "        tyres = [max(1, min(3, tyre)) for tyre in tyres]\n",
    "        \n",
    "        # Construct the strategy dictionary\n",
    "        strategy = {1: int(kwargs[\"starting_tyre\"])}  # Starting tyre\n",
    "        for lap, tyre in zip(pit_laps, tyres):\n",
    "            strategy[lap] = tyre\n",
    "        \n",
    "        # Evaluate the strategy using the race simulation\n",
    "        sim_df = race_sim(race_data, given_driver=given_driver, simulated_strategy=strategy)\n",
    "        \n",
    "        # Get the final position of the given driver\n",
    "        final_position = sim_df[sim_df[\"driver_number\"] == given_driver][\"position\"].iloc[-1]\n",
    "        \n",
    "        # Minimize finishing position (lower is better)\n",
    "        return -final_position  # Negative because BayesianOptimization maximizes by default\n",
    "    \n",
    "    # Set up the parameter bounds for Bayesian Optimization\n",
    "    pbounds = {\n",
    "        \"starting_tyre\": (1, 3),  # Starting tyre (1=Hard, 2=Medium, 3=Soft)\n",
    "    }\n",
    "    for i in range(num_pits):\n",
    "        pbounds[f\"pit_lap_{i}\"] = (1, max_laps)  # Pit laps must be within the race\n",
    "    for i in range(num_pits):\n",
    "        pbounds[f\"tyre_{i}\"] = (1, 3)  # Tyre choices must be 1, 2, or 3\n",
    "    \n",
    "    # Initialize the Bayesian Optimizer\n",
    "    optimizer = BayesianOptimization(\n",
    "        f=objective_function,\n",
    "        pbounds=pbounds,\n",
    "        verbose=2,\n",
    "        random_state=42\n",
    "    )\n",
    "    \n",
    "    # Perform the optimization\n",
    "    optimizer.maximize(init_points=5, n_iter=max_iterations)\n",
    "    \n",
    "    # Extract the best strategy from the optimizer\n",
    "    best_params = optimizer.max[\"params\"]\n",
    "    best_starting_tyre = int(best_params[\"starting_tyre\"])\n",
    "    best_pit_laps = sorted(set([int(best_params[f\"pit_lap_{i}\"]) for i in range(num_pits)]))\n",
    "    best_tyres = [int(best_params[f\"tyre_{i}\"]) for i in range(num_pits)]\n",
    "    \n",
    "    # Construct the best strategy dictionary\n",
    "    best_strategy = {1: best_starting_tyre}\n",
    "    for lap, tyre in zip(best_pit_laps, best_tyres):\n",
    "        best_strategy[lap] = tyre\n",
    "    \n",
    "    # Evaluate the best strategy to get the finishing position\n",
    "    sim_df = race_sim(race_data, given_driver=given_driver, simulated_strategy=best_strategy)\n",
    "    best_position = sim_df[sim_df[\"driver_number\"] == given_driver][\"position\"].iloc[-1]\n",
    "    \n",
    "    print(f\"Best Strategy: {best_strategy}\")\n",
    "    print(f\"Best Finishing Position: {best_position}\")\n",
    "    \n",
    "    return best_strategy, best_position\n",
    "\n",
    "# Example Usage\n",
    "initial_strategy = {1: 1, 15: 1, 35: 3}  # Initial pit strategy for driver 16\n",
    "best_strategy, best_position = bayesian_strategy_optimization(\n",
    "    race_data=race_data,\n",
    "    given_driver=14,\n",
    "    initial_strategy=initial_strategy,\n",
    "    max_iterations=50\n",
    ")\n",
    "print(f\"Best Strategy: {best_strategy}\")\n",
    "print(f\"Best Finishing Position: {best_position}\")"
   ]
  }
 ],
 "metadata": {
  "kernelspec": {
   "display_name": "env",
   "language": "python",
   "name": "python3"
  },
  "language_info": {
   "codemirror_mode": {
    "name": "ipython",
    "version": 3
   },
   "file_extension": ".py",
   "mimetype": "text/x-python",
   "name": "python",
   "nbconvert_exporter": "python",
   "pygments_lexer": "ipython3",
   "version": "3.10.12"
  }
 },
 "nbformat": 4,
 "nbformat_minor": 2
}
