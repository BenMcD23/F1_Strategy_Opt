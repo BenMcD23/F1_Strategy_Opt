{
 "cells": [
  {
   "cell_type": "markdown",
   "metadata": {},
   "source": [
    "1) Simulate rest of race from given lap (approx 4s)\n",
    "2) Every 10% of the race we evaluate\n",
    "3) We run an optimisation on the simualted race (plus laps already gone) (approx 4s for 100 itterations)\n",
    "    3.1) For the given driver we are optimising, we do a max of 3 stops (minus any that has already happened)\n",
    "    3.2) If a stop has happened within 5 laps we dont go any futher, neither in first or last 5 laps\n"
   ]
  },
  {
   "cell_type": "code",
   "execution_count": 31,
   "metadata": {},
   "outputs": [
    {
     "name": "stdout",
     "output_type": "stream",
     "text": [
      "Number of combinations (no tire choices): 7741\n",
      "Number of combinations (with tire choices): 195421\n"
     ]
    }
   ],
   "source": [
    "import itertools\n",
    "\n",
    "def generate_pit_stop_combinations(total_laps, max_stops, min_gap=5, tire_choices=None):\n",
    "    # Define the valid range of laps for pit stops\n",
    "    first_valid_lap = 6  # Exclude first 5 laps\n",
    "    last_valid_lap = total_laps - 5  # Exclude last 5 laps\n",
    "    valid_laps = list(range(first_valid_lap, last_valid_lap + 1))\n",
    "    \n",
    "    # Group laps into slots to enforce the minimum gap\n",
    "    slots = [valid_laps[i:i + min_gap] for i in range(0, len(valid_laps), min_gap)]\n",
    "    \n",
    "    # Generate all valid combinations of pit stops\n",
    "    all_combinations = []\n",
    "    for num_stops in range(max_stops + 1):  # From 0 to max_stops\n",
    "        for slot_indices in itertools.combinations(range(len(slots)), num_stops):\n",
    "            # Pick one lap from each selected slot\n",
    "            for chosen_laps in itertools.product(*(slots[i] for i in slot_indices)):\n",
    "                if len(chosen_laps) == len(set(chosen_laps)):  # Ensure no duplicate laps\n",
    "                    all_combinations.append(chosen_laps)\n",
    "    \n",
    "    # Optionally add tire compound choices\n",
    "    if tire_choices:\n",
    "        combinations_with_tires = []\n",
    "        for combination in all_combinations:\n",
    "            # For each combination, assign a tire choice to each stop\n",
    "            for tire_selection in itertools.product(tire_choices, repeat=len(combination)):\n",
    "                combinations_with_tires.append((combination, tire_selection))\n",
    "        return combinations_with_tires\n",
    "    \n",
    "    return all_combinations\n",
    "\n",
    "# Example Usage\n",
    "total_laps = 50\n",
    "max_stops = 3\n",
    "tire_choices = ['Soft', 'Medium', 'Hard']\n",
    "\n",
    "# Generate combinations without tire choices\n",
    "combinations_no_tires = generate_pit_stop_combinations(total_laps, max_stops)\n",
    "print(f\"Number of combinations (no tire choices): {len(combinations_no_tires)}\")\n",
    "\n",
    "# Generate combinations with tire choices\n",
    "combinations_with_tires = generate_pit_stop_combinations(total_laps, max_stops, tire_choices=tire_choices)\n",
    "print(f\"Number of combinations (with tire choices): {len(combinations_with_tires)}\")"
   ]
  }
 ],
 "metadata": {
  "kernelspec": {
   "display_name": "env",
   "language": "python",
   "name": "python3"
  },
  "language_info": {
   "codemirror_mode": {
    "name": "ipython",
    "version": 3
   },
   "file_extension": ".py",
   "mimetype": "text/x-python",
   "name": "python",
   "nbconvert_exporter": "python",
   "pygments_lexer": "ipython3",
   "version": "3.10.12"
  }
 },
 "nbformat": 4,
 "nbformat_minor": 2
}
