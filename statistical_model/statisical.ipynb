{
 "cells": [
  {
   "cell_type": "markdown",
   "metadata": {},
   "source": [
    "### Methodolody\n",
    "\n",
    "What I want to do is look at the practice sessions for each race and look at the long runs of each car to find the tyre deg, then apply that and work through lap by lap for the race.\n",
    "\n",
    "Then obviously the pit stops are whatever has the lowest total race time.\n",
    "\n",
    "This could be put futher into even looking at other cars and not pitting into traffic, but then we start getting quite complicated.\n",
    "\n",
    "Really just want to do this as a proof of concept, then look into ML models. May come back and improve to compare to ML models."
   ]
  },
  {
   "cell_type": "code",
   "execution_count": null,
   "metadata": {},
   "outputs": [],
   "source": [
    "import pandas as pd\n",
    "import numpy as np\n",
    "from sklearn.ensemble import RandomForestClassifier\n",
    "from sklearn.multioutput import MultiOutputClassifier\n",
    "from sklearn.metrics import classification_report\n",
    "from sklearn.model_selection import train_test_split\n",
    "from sklearn.preprocessing import OneHotEncoder\n",
    "from sklearn.metrics import classification_report, confusion_matrix, accuracy_score\n",
    "\n",
    "import sys\n",
    "import os\n",
    "sys.path.append(os.path.abspath(os.path.join(os.getcwd(), \"../\")))\n",
    "from DB.models import init_db, Circuit, Season, RacingWeekend, Driver, Session, SessionResult, Lap\n"
   ]
  },
  {
   "cell_type": "markdown",
   "metadata": {},
   "source": [
    "## Collect data into df"
   ]
  },
  {
   "cell_type": "code",
   "execution_count": 163,
   "metadata": {},
   "outputs": [
    {
     "name": "stdout",
     "output_type": "stream",
     "text": [
      "['year', 'round', 'lap_num', 'lap_time', 'pit', 'circuit_name_Baku', 'circuit_name_Barcelona', 'circuit_name_Budapest', 'circuit_name_Hockenheim', 'circuit_name_Imola', 'circuit_name_Istanbul', 'circuit_name_Jeddah', 'circuit_name_Las Vegas', 'circuit_name_Le Castellet', 'circuit_name_Lusail', 'circuit_name_Marina Bay', 'circuit_name_Melbourne', 'circuit_name_Mexico City', 'circuit_name_Miami', 'circuit_name_Monaco', 'circuit_name_Monte Carlo', 'circuit_name_Montréal', 'circuit_name_Monza', 'circuit_name_Mugello', 'circuit_name_Nürburgring', 'circuit_name_Portimão', 'circuit_name_Sakhir', 'circuit_name_Shanghai', 'circuit_name_Silverstone', 'circuit_name_Singapore', 'circuit_name_Sochi', 'circuit_name_Spa-Francorchamps', 'circuit_name_Spielberg', 'circuit_name_Suzuka', 'circuit_name_São Paulo', 'circuit_name_Yas Island', 'circuit_name_Zandvoort', 'driver_name_Alexander Albon', 'driver_name_Andrea Kimi Antonelli', 'driver_name_Antonio Giovinazzi', 'driver_name_Arthur Leclerc', 'driver_name_Ayumu Iwasa', 'driver_name_Callum Ilott', 'driver_name_Carlos Sainz', 'driver_name_Charles Leclerc', 'driver_name_Daniel Ricciardo', 'driver_name_Daniil Kvyat', 'driver_name_Esteban Ocon', 'driver_name_Felipe Drugovich', 'driver_name_Fernando Alonso', 'driver_name_Franco Colapinto', 'driver_name_Frederik Vesti', 'driver_name_George Russell', 'driver_name_Guanyu Zhou', 'driver_name_Isack Hadjar', 'driver_name_Jack Aitken', 'driver_name_Jack Doohan', 'driver_name_Jake Dennis', 'driver_name_Juri Vips', 'driver_name_Kevin Magnussen', 'driver_name_Kimi Räikkönen', 'driver_name_Lance Stroll', 'driver_name_Lando Norris', 'driver_name_Lewis Hamilton', 'driver_name_Liam Lawson', 'driver_name_Logan Sargeant', 'driver_name_Luke Browning', 'driver_name_Max Verstappen', 'driver_name_Mick Schumacher', 'driver_name_Naoki Yamamoto', 'driver_name_Nicholas Latifi', 'driver_name_Nico Hulkenberg', 'driver_name_Nikita Mazepin', 'driver_name_None None', 'driver_name_Nyck De Vries', 'driver_name_Oliver Bearman', 'driver_name_Oscar Piastri', \"driver_name_Patricio O'Ward\", 'driver_name_Pierre Gasly', 'driver_name_Pietro Fittipaldi', 'driver_name_Robert Kubica', 'driver_name_Robert Shwartzman', 'driver_name_Romain Grosjean', 'driver_name_Roy Nissany', 'driver_name_Ryo Hirakawa', 'driver_name_Sebastian Vettel', 'driver_name_Sergio Perez', 'driver_name_Theo Pourchaire', 'driver_name_Valtteri Bottas', 'driver_name_Yuki Tsunoda', \"driver_name_Zak O'Sullivan\", 'driver_short_ALB', 'driver_short_ALO', 'driver_short_ANT', 'driver_short_BEA', 'driver_short_BOT', 'driver_short_BRO', 'driver_short_COL', 'driver_short_DEN', 'driver_short_DEV', 'driver_short_DOO', 'driver_short_DRU', 'driver_short_FIT', 'driver_short_GAS', 'driver_short_GIO', 'driver_short_GRO', 'driver_short_HAD', 'driver_short_HAM', 'driver_short_HIR', 'driver_short_HUL', 'driver_short_ILO', 'driver_short_IWA', 'driver_short_KUB', 'driver_short_KVY', 'driver_short_LAT', 'driver_short_LAW', 'driver_short_LEC', 'driver_short_LEL', 'driver_short_MAG', 'driver_short_MAZ', 'driver_short_NIS', 'driver_short_NOR', 'driver_short_OCO', 'driver_short_OSU', 'driver_short_OWA', 'driver_short_PAL', 'driver_short_PER', 'driver_short_PIA', 'driver_short_POU', 'driver_short_RAI', 'driver_short_RIC', 'driver_short_RUS', 'driver_short_SAI', 'driver_short_SAR', 'driver_short_SCH', 'driver_short_SHW', 'driver_short_STR', 'driver_short_TSU', 'driver_short_VER', 'driver_short_VES', 'driver_short_VET', 'driver_short_VIP', 'driver_short_YAM', 'driver_short_ZHO', 'tyre_1', 'tyre_2', 'tyre_3', 'tyre_4', 'tyre_5', 'session_type_Practice 2', 'session_type_Practice 3', 'session_type_Qualifying', 'session_type_Race']\n"
     ]
    }
   ],
   "source": [
    "def create_dataframe():\n",
    "    # initialize db connection and session\n",
    "    db_engine, db_session = init_db()\n",
    "\n",
    "    # query data from the database\n",
    "    query = db_session.query(\n",
    "        RacingWeekend.year,\n",
    "        RacingWeekend.round,\n",
    "        Circuit.circuit_name,\n",
    "        Driver.driver_name,\n",
    "        Driver.driver_short,\n",
    "        Lap.lap_num,\n",
    "        Lap.lap_time,\n",
    "        Lap.tyre,\n",
    "        Lap.pit,\n",
    "        Session.session_type\n",
    "    ).join(RacingWeekend.circuit) \\\n",
    "     .join(RacingWeekend.sessions) \\\n",
    "     .join(Session.laps) \\\n",
    "     .join(Lap.driver) \\\n",
    "     .join(RacingWeekend.season) \\\n",
    "     .all()\n",
    "\n",
    "    # convert result to list of dicts\n",
    "    data = []\n",
    "    for row in query:\n",
    "        data.append({\n",
    "            'year': row.year,\n",
    "            'round': row.round,\n",
    "            'circuit_name': row.circuit_name,\n",
    "            'driver_name': row.driver_name,\n",
    "            'driver_short': row.driver_short,\n",
    "            'lap_num': row.lap_num,\n",
    "            'lap_time': row.lap_time,\n",
    "            'tyre': row.tyre,\n",
    "            'pit': row.pit,\n",
    "            'session_type': row.session_type\n",
    "        })\n",
    "\n",
    "    # create dataframe\n",
    "    df = pd.DataFrame(data)\n",
    "\n",
    "    # encode 'tyre' and 'pit' as categories\n",
    "    df['tyre'] = df['tyre'].astype('category')\n",
    "    df['pit'] = df['pit'].astype('category')\n",
    "\n",
    "    # one-hot encode categorical variables\n",
    "    df = pd.get_dummies(df, columns=['circuit_name', 'driver_name', 'driver_short', 'tyre', 'session_type'], drop_first=True)\n",
    "\n",
    "    return df\n",
    "\n",
    "# create the dataframe and print it\n",
    "df = create_dataframe()\n",
    "\n",
    "print(df.columns.tolist())\n",
    "\n",
    "\n"
   ]
  }
 ],
 "metadata": {
  "kernelspec": {
   "display_name": "env",
   "language": "python",
   "name": "python3"
  },
  "language_info": {
   "codemirror_mode": {
    "name": "ipython",
    "version": 3
   },
   "file_extension": ".py",
   "mimetype": "text/x-python",
   "name": "python",
   "nbconvert_exporter": "python",
   "pygments_lexer": "ipython3",
   "version": "3.10.12"
  }
 },
 "nbformat": 4,
 "nbformat_minor": 2
}
