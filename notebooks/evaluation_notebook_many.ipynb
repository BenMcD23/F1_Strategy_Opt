{
 "cells": [
  {
   "cell_type": "code",
   "execution_count": 2,
   "metadata": {},
   "outputs": [],
   "source": [
    "import sys\n",
    "import os\n",
    "sys.path.append(os.path.abspath(os.path.join(os.getcwd(), \"../\")))\n",
    "\n",
    "from database_operations import DatabaseOperations\n",
    "from overtake_model import OvertakingModel\n",
    "from race_data import RaceDataSetup\n",
    "from race_dataframe import RaceDataframe\n",
    "from race_sim import RaceSimulation\n",
    "from evaluation import RaceSimEvaluation, EvaluateMany"
   ]
  },
  {
   "cell_type": "code",
   "execution_count": null,
   "metadata": {},
   "outputs": [],
   "source": []
  },
  {
   "cell_type": "code",
   "execution_count": 3,
   "metadata": {},
   "outputs": [
    {
     "name": "stdout",
     "output_type": "stream",
     "text": [
      "Evaluating race 1...\n",
      "Evaluating race 2...\n",
      "Evaluating race 3...\n",
      "Evaluating race 4...\n"
     ]
    },
    {
     "data": {
      "text/plain": [
       "{'average_mae': np.float64(456.729647426279),\n",
       " 'average_position_accuracy': 0.0912828947368421,\n",
       " 'average_top_3_accuracy': 0.3333333333333333,\n",
       " 'average_mean_error': 4.535690789473684,\n",
       " 'average_total_error': 83.0,\n",
       " 'average_simulated_gap_to_front': np.float64(2612.0041972280515),\n",
       " 'average_actual_gap_to_front': np.float64(45259.052749999995)}"
      ]
     },
     "execution_count": 3,
     "metadata": {},
     "output_type": "execute_result"
    }
   ],
   "source": [
    "\n",
    "\n",
    "evaluator = EvaluateMany()\n",
    "\n",
    "# Add races to the evaluator\n",
    "for year, circuit in [(2024, \"Sakhir\"), (2024, \"Monza\"), (2024, \"Melbourne\"), (2024, \"Austin\")]:\n",
    "    db = DatabaseOperations(year, circuit)\n",
    "    race_data = RaceDataframe(db)\n",
    "    race_setup = RaceDataSetup(db, race_data)\n",
    "    overtake = OvertakingModel(race_data.race_df)\n",
    "    simulation = RaceSimulation(race_setup, overtake)\n",
    "    simulation.simulate()\n",
    "\n",
    "    evaluator.add_race(simulation, race_data, db)\n",
    "\n",
    "# Evaluate all races\n",
    "evaluator.evaluate_all_races()\n",
    "\n",
    "aggregated_results = evaluator.get_aggregated_results()\n",
    "(aggregated_results)\n"
   ]
  },
  {
   "cell_type": "markdown",
   "metadata": {},
   "source": [
    "{'average_mae': np.float64(239.42474557592521),\n",
    " 'average_position_accuracy': 0.12384868421052632,\n",
    " 'average_top_3_accuracy': 0.5,\n",
    " 'average_mean_error': 3.3347039473684212,\n",
    " 'average_total_error': 61.5,\n",
    " 'average_simulated_gap_to_front': np.float64(1241.6709643077284),\n",
    " 'average_actual_gap_to_front': np.float64(45259.052749999995)}"
   ]
  }
 ],
 "metadata": {
  "kernelspec": {
   "display_name": "env",
   "language": "python",
   "name": "python3"
  },
  "language_info": {
   "codemirror_mode": {
    "name": "ipython",
    "version": 3
   },
   "file_extension": ".py",
   "mimetype": "text/x-python",
   "name": "python",
   "nbconvert_exporter": "python",
   "pygments_lexer": "ipython3",
   "version": "3.10.12"
  }
 },
 "nbformat": 4,
 "nbformat_minor": 2
}
