{
 "cells": [
  {
   "cell_type": "code",
   "execution_count": 1,
   "metadata": {},
   "outputs": [
    {
     "name": "stdout",
     "output_type": "stream",
     "text": [
      "[(1, 1, 'Finished'), (2, 11, 'Finished'), (3, 55, 'Finished'), (4, 16, 'Finished'), (5, 63, 'Finished'), (6, 4, 'Finished'), (7, 44, 'Finished'), (8, 81, 'Finished'), (9, 14, 'Finished'), (10, 18, 'Finished'), (11, 24, '+1 Lap'), (12, 20, '+1 Lap'), (13, 3, '+1 Lap'), (14, 22, '+1 Lap'), (15, 23, '+1 Lap'), (16, 27, '+1 Lap'), (17, 31, '+1 Lap'), (18, 10, '+1 Lap'), (19, 77, '+1 Lap'), (20, 45, '+2 Laps')]\n"
     ]
    }
   ],
   "source": [
    "import sys\n",
    "import os\n",
    "sys.path.append(os.path.abspath(os.path.join(os.getcwd(), \"../\")))\n",
    "\n",
    "from database_operations import DatabaseOperations\n",
    "from overtake_model import OvertakingModel\n",
    "from race_data import RaceDataSetup\n",
    "from race_dataframe import RaceDataframe\n",
    "from race_sim import RaceSimulator\n",
    "from evaluation import RaceSimEvaluation, EvaluateMany"
   ]
  },
  {
   "cell_type": "code",
   "execution_count": null,
   "metadata": {},
   "outputs": [],
   "source": []
  },
  {
   "cell_type": "code",
   "execution_count": 2,
   "metadata": {},
   "outputs": [
    {
     "name": "stdout",
     "output_type": "stream",
     "text": [
      "Evaluating race 1...\n",
      "Evaluating race 2...\n",
      "Evaluating race 3...\n"
     ]
    },
    {
     "data": {
      "text/plain": [
       "{'average_mae': 275.84769577337926,\n",
       " 'average_position_accuracy': 0.5264705882352941,\n",
       " 'average_top_3_accuracy': 1.0,\n",
       " 'average_mean_error': 0.7019607843137255,\n",
       " 'average_total_error': 13.333333333333334,\n",
       " 'average_simulated_gap_to_front': 1425.735547926219,\n",
       " 'average_actual_gap_to_front': 1413.953666666667}"
      ]
     },
     "execution_count": 2,
     "metadata": {},
     "output_type": "execute_result"
    }
   ],
   "source": [
    "\n",
    "\n",
    "evaluator = EvaluateMany()\n",
    "\n",
    "# Add races to the evaluator\n",
    "for year, circuit in [(2024, \"Mexico City\"), (2024, \"Sakhir\"), (2024, \"Barcelona\")]:\n",
    "    db = DatabaseOperations(year, circuit)\n",
    "    race_data = RaceDataframe(db)\n",
    "    race_setup = RaceDataSetup(db, race_data)\n",
    "    overtake = OvertakingModel(race_data.race_df)\n",
    "    simulation = RaceSimulator(race_setup, overtake)\n",
    "    simulation.simulate()\n",
    "\n",
    "    evaluator.add_race(simulation, race_data, db)\n",
    "\n",
    "# Evaluate all races\n",
    "evaluator.evaluate_all_races()\n",
    "\n",
    "aggregated_results = evaluator.get_aggregated_results()\n",
    "(aggregated_results)\n"
   ]
  }
 ],
 "metadata": {
  "kernelspec": {
   "display_name": "env",
   "language": "python",
   "name": "python3"
  },
  "language_info": {
   "codemirror_mode": {
    "name": "ipython",
    "version": 3
   },
   "file_extension": ".py",
   "mimetype": "text/x-python",
   "name": "python",
   "nbconvert_exporter": "python",
   "pygments_lexer": "ipython3",
   "version": "3.10.12"
  }
 },
 "nbformat": 4,
 "nbformat_minor": 2
}
