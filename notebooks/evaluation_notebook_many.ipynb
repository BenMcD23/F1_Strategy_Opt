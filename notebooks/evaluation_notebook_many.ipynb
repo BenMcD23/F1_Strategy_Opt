{
 "cells": [
  {
   "cell_type": "code",
   "execution_count": 1,
   "metadata": {},
   "outputs": [],
   "source": [
    "import sys\n",
    "import os\n",
    "sys.path.append(os.path.abspath(os.path.join(os.getcwd(), \"../\")))\n",
    "\n",
    "from database_operations import DatabaseOperations\n",
    "from overtake_model import OvertakingModel\n",
    "from race_data import RaceDataSetup\n",
    "from race_dataframe import RaceDataframe\n",
    "from race_sim import RaceSimulation\n",
    "from evaluation import RaceSimEvaluation, EvaluateMany"
   ]
  },
  {
   "cell_type": "code",
   "execution_count": null,
   "metadata": {},
   "outputs": [],
   "source": []
  },
  {
   "cell_type": "code",
   "execution_count": 2,
   "metadata": {},
   "outputs": [
    {
     "name": "stdout",
     "output_type": "stream",
     "text": [
      "Evaluating race 1...\n",
      "Evaluating race 2...\n",
      "Evaluating race 3...\n"
     ]
    },
    {
     "data": {
      "text/plain": [
       "{'average_mae': 238.65587124327683,\n",
       " 'average_position_accuracy': 0.4542483660130719,\n",
       " 'average_top_3_accuracy': 1.0,\n",
       " 'average_mean_error': 0.8997821350762528,\n",
       " 'average_total_error': 16.0,\n",
       " 'average_simulated_gap_to_front': 1284.2439666614164,\n",
       " 'average_actual_gap_to_front': 1322.0543333333326}"
      ]
     },
     "execution_count": 2,
     "metadata": {},
     "output_type": "execute_result"
    }
   ],
   "source": [
    "\n",
    "\n",
    "evaluator = EvaluateMany()\n",
    "\n",
    "# Mexico City\n",
    "# Lusail\n",
    "# Yas Island\n",
    "\n",
    "\n",
    "# Add races to the evaluator\n",
    "for year, circuit in [(2024, \"Mexico City\"), (2024, \"Marina Bay\"), (2024, \"Las Vegas\")]:\n",
    "    db = DatabaseOperations(year, circuit)\n",
    "    race_data = RaceDataframe(db)\n",
    "    race_setup = RaceDataSetup(db, race_data)\n",
    "    overtake = OvertakingModel(race_data.race_df)\n",
    "    simulation = RaceSimulation(race_setup, overtake)\n",
    "    simulation.simulate()\n",
    "\n",
    "    evaluator.add_race(simulation, race_data, db)\n",
    "\n",
    "# Evaluate all races\n",
    "evaluator.evaluate_all_races()\n",
    "\n",
    "aggregated_results = evaluator.get_aggregated_results()\n",
    "(aggregated_results)\n"
   ]
  },
  {
   "cell_type": "code",
   "execution_count": null,
   "metadata": {},
   "outputs": [
    {
     "data": {
      "text/plain": [
       "{'average_mae': 252.8788226556069,\n",
       " 'average_position_accuracy': 0.3758169934640523,\n",
       " 'average_top_3_accuracy': 1.0,\n",
       " 'average_mean_error': 1.1764705882352942,\n",
       " 'average_total_error': 20.666666666666668,\n",
       " 'average_simulated_gap_to_front': 1332.6296923350264,\n",
       " 'average_actual_gap_to_front': 1322.0543333333326}"
      ]
     },
     "execution_count": 3,
     "metadata": {},
     "output_type": "execute_result"
    }
   ],
   "source": [
    "{'average_mae': 238.65587124327683,\n",
    " 'average_position_accuracy': 0.4542483660130719,\n",
    " 'average_top_3_accuracy': 1.0,\n",
    " 'average_mean_error': 0.8997821350762528,\n",
    " 'average_total_error': 16.0,\n",
    " 'average_simulated_gap_to_front': 1284.2439666614164,\n",
    " 'average_actual_gap_to_front': 1322.0543333333326}"
   ]
  }
 ],
 "metadata": {
  "kernelspec": {
   "display_name": "env",
   "language": "python",
   "name": "python3"
  },
  "language_info": {
   "codemirror_mode": {
    "name": "ipython",
    "version": 3
   },
   "file_extension": ".py",
   "mimetype": "text/x-python",
   "name": "python",
   "nbconvert_exporter": "python",
   "pygments_lexer": "ipython3",
   "version": "3.10.12"
  }
 },
 "nbformat": 4,
 "nbformat_minor": 2
}
