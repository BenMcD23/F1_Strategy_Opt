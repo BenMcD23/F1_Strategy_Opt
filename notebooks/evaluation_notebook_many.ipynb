{
 "cells": [
  {
   "cell_type": "code",
   "execution_count": 1,
   "metadata": {},
   "outputs": [],
   "source": [
    "import sys\n",
    "import os\n",
    "sys.path.append(os.path.abspath(os.path.join(os.getcwd(), \"../\")))\n",
    "\n",
    "from database_operations import DatabaseOperations\n",
    "from overtake_model import OvertakingModel\n",
    "from race_data import RaceDataSetup\n",
    "from race_dataframe import RaceDataframe\n",
    "from race_sim import RaceSimulation\n",
    "from evaluation import RaceSimEvaluation, EvaluateMany"
   ]
  },
  {
   "cell_type": "code",
   "execution_count": null,
   "metadata": {},
   "outputs": [],
   "source": []
  },
  {
   "cell_type": "code",
   "execution_count": 2,
   "metadata": {},
   "outputs": [
    {
     "name": "stdout",
     "output_type": "stream",
     "text": [
      "Evaluating race 1...\n",
      "Evaluating race 2...\n",
      "Evaluating race 3...\n",
      "Evaluating race 4...\n"
     ]
    },
    {
     "data": {
      "text/plain": [
       "{'average_mae': 1803.30122710841,\n",
       " 'average_position_accuracy': 0.07743055555555556,\n",
       " 'average_top_3_accuracy': 0.25,\n",
       " 'average_mean_error': 4.476388888888889,\n",
       " 'average_total_error': 66.75,\n",
       " 'average_simulated_gap_to_front': 8441.186770525796,\n",
       " 'average_actual_gap_to_front': 56852.808}"
      ]
     },
     "execution_count": 2,
     "metadata": {},
     "output_type": "execute_result"
    }
   ],
   "source": [
    "\n",
    "\n",
    "evaluator = EvaluateMany()\n",
    "\n",
    "# Mexico City\n",
    "# Lusail\n",
    "# Yas Island\n",
    "\n",
    "\n",
    "# Add races to the evaluator\n",
    "for year, circuit in [(2023, \"Sakhir\"), (2023, \"Monza\"), (2023, \"Melbourne\"), (2023, \"Austin\")]:\n",
    "    db = DatabaseOperations(year, circuit)\n",
    "    race_data = RaceDataframe(db)\n",
    "    race_setup = RaceDataSetup(db, race_data)\n",
    "    overtake = OvertakingModel(race_data.race_df)\n",
    "    simulation = RaceSimulation(race_setup, overtake)\n",
    "    simulation.simulate()\n",
    "\n",
    "    evaluator.add_race(simulation, race_data, db)\n",
    "\n",
    "# Evaluate all races\n",
    "evaluator.evaluate_all_races()\n",
    "\n",
    "aggregated_results = evaluator.get_aggregated_results()\n",
    "(aggregated_results)\n"
   ]
  },
  {
   "cell_type": "code",
   "execution_count": 3,
   "metadata": {},
   "outputs": [
    {
     "data": {
      "text/plain": [
       "{'average_mae': 456.61122637364736,\n",
       " 'average_position_accuracy': 0.0912828947368421,\n",
       " 'average_top_3_accuracy': 0.3333333333333333,\n",
       " 'average_mean_error': 4.535690789473684,\n",
       " 'average_total_error': 83.0,\n",
       " 'average_simulated_gap_to_front': 2615.2808429235583,\n",
       " 'average_actual_gap_to_front': 45259.052749999995}"
      ]
     },
     "execution_count": 3,
     "metadata": {},
     "output_type": "execute_result"
    }
   ],
   "source": [
    "{'average_mae': 456.61122637364736,\n",
    " 'average_position_accuracy': 0.0912828947368421,\n",
    " 'average_top_3_accuracy': 0.3333333333333333,\n",
    " 'average_mean_error': 4.535690789473684,\n",
    " 'average_total_error': 83.0,\n",
    " 'average_simulated_gap_to_front': 2615.2808429235583,\n",
    " 'average_actual_gap_to_front': 45259.052749999995}"
   ]
  }
 ],
 "metadata": {
  "kernelspec": {
   "display_name": "env",
   "language": "python",
   "name": "python3"
  },
  "language_info": {
   "codemirror_mode": {
    "name": "ipython",
    "version": 3
   },
   "file_extension": ".py",
   "mimetype": "text/x-python",
   "name": "python",
   "nbconvert_exporter": "python",
   "pygments_lexer": "ipython3",
   "version": "3.10.12"
  }
 },
 "nbformat": 4,
 "nbformat_minor": 2
}
