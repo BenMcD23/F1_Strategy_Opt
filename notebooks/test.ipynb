{
 "cells": [
  {
   "cell_type": "code",
   "execution_count": 5,
   "metadata": {},
   "outputs": [],
   "source": [
    "import sys\n",
    "import os\n",
    "sys.path.append(os.path.abspath(os.path.join(os.getcwd(), \"../\")))\n",
    "\n",
    "from database_operations import DatabaseOperations\n",
    "from overtake_model import OvertakingModel\n",
    "from race_data import RaceDataSetup\n",
    "from race_dataframe import RaceDataframe\n",
    "from race_sim import RaceSimulation\n",
    "from evaluation import RaceSimEvaluation, EvaluateMany\n",
    "\n",
    "import pandas as pd\n",
    "\n",
    "pd.set_option(\"display.max_rows\", None)\n",
    "pd.set_option(\"display.max_columns\", None)\n",
    "pd.set_option('display.max_colwidth', None) "
   ]
  },
  {
   "cell_type": "code",
   "execution_count": 6,
   "metadata": {},
   "outputs": [
    {
     "name": "stdout",
     "output_type": "stream",
     "text": [
      "110\n",
      "{'total_simulated_gap_to_front': 1286.3384278794401, 'total_actual_gap_to_front': 1272.1519999999973}\n",
      "{'position_accuracy': 0.5294117647058824, 'top_3_accuracy': 1.0, 'mean_error': 0.5882352941176471, 'total_error': 10.0}\n"
     ]
    }
   ],
   "source": [
    "db1 = DatabaseOperations(2024, \"Mexico City\")\n",
    "race1 = RaceDataframe(db1)\n",
    "race_data1 = RaceDataSetup(db1, race1)\n",
    "overtake1 = OvertakingModel(race1.race_df)\n",
    "test = overtake1.get_model_accuracy()[1]\n",
    "# print(race_data1.driver_tyre_coefficients)\n",
    "\n",
    "race_sim = RaceSimulation(race_data1, overtake1)\n",
    "race_sim.simulate()\n",
    "print(race_sim.num_overtakes)\n",
    "sim_df = race_sim.get_results_as_dataframe()\n",
    "\n",
    "eval = RaceSimEvaluation(race_sim, race1, db1)\n",
    "\n",
    "print(eval.compare_total_to_front())\n",
    "print(eval.get_position_accuracy_end_of_race())\n"
   ]
  },
  {
   "cell_type": "code",
   "execution_count": 7,
   "metadata": {},
   "outputs": [
    {
     "name": "stdout",
     "output_type": "stream",
     "text": [
      "151\n",
      "{'total_simulated_gap_to_front': 1667.2367610337578, 'total_actual_gap_to_front': 1751.694999999997}\n",
      "{'position_accuracy': 0.4444444444444444, 'top_3_accuracy': 1.0, 'mean_error': 1.0, 'total_error': 18}\n"
     ]
    }
   ],
   "source": [
    "db1 = DatabaseOperations(2024, \"Marina Bay\")\n",
    "race1 = RaceDataframe(db1)\n",
    "race_data1 = RaceDataSetup(db1, race1)\n",
    "overtake1 = OvertakingModel(race1.race_df)\n",
    "test = overtake1.get_model_accuracy()[1]\n",
    "# print(race_data1.driver_tyre_coefficients)\n",
    "\n",
    "race_sim = RaceSimulation(race_data1, overtake1)\n",
    "race_sim.simulate()\n",
    "print(race_sim.num_overtakes)\n",
    "sim_df = race_sim.get_results_as_dataframe()\n",
    "eval = RaceSimEvaluation(race_sim, race1, db1)\n",
    "\n",
    "print(eval.compare_total_to_front())\n",
    "print(eval.get_position_accuracy_end_of_race())"
   ]
  },
  {
   "cell_type": "code",
   "execution_count": 8,
   "metadata": {},
   "outputs": [
    {
     "name": "stdout",
     "output_type": "stream",
     "text": [
      "202\n",
      "{'total_simulated_gap_to_front': 899.1567110710512, 'total_actual_gap_to_front': 942.3160000000034}\n",
      "{'position_accuracy': 0.3888888888888889, 'top_3_accuracy': 1.0, 'mean_error': 1.1111111111111112, 'total_error': 20}\n"
     ]
    }
   ],
   "source": [
    "db1 = DatabaseOperations(2024, \"Las Vegas\")\n",
    "race1 = RaceDataframe(db1)\n",
    "race_data1 = RaceDataSetup(db1, race1)\n",
    "overtake1 = OvertakingModel(race1.race_df)\n",
    "test = overtake1.get_model_accuracy()[1]\n",
    "# print(race_data1.driver_tyre_coefficients)\n",
    "\n",
    "race_sim = RaceSimulation(race_data1, overtake1)\n",
    "race_sim.simulate()\n",
    "print(race_sim.num_overtakes)\n",
    "sim_df = race_sim.get_results_as_dataframe()\n",
    "eval = RaceSimEvaluation(race_sim, race1, db1)\n",
    "\n",
    "print(eval.compare_total_to_front())\n",
    "print(eval.get_position_accuracy_end_of_race())"
   ]
  }
 ],
 "metadata": {
  "kernelspec": {
   "display_name": "env",
   "language": "python",
   "name": "python3"
  },
  "language_info": {
   "codemirror_mode": {
    "name": "ipython",
    "version": 3
   },
   "file_extension": ".py",
   "mimetype": "text/x-python",
   "name": "python",
   "nbconvert_exporter": "python",
   "pygments_lexer": "ipython3",
   "version": "3.10.12"
  }
 },
 "nbformat": 4,
 "nbformat_minor": 2
}
