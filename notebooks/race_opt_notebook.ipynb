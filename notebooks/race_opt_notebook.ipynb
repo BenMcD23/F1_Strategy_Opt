{
 "cells": [
  {
   "cell_type": "code",
   "execution_count": 1,
   "metadata": {},
   "outputs": [],
   "source": [
    "import sys\n",
    "import os\n",
    "sys.path.append(os.path.abspath(os.path.join(os.getcwd(), \"../\")))\n",
    "\n",
    "from database_operations import DatabaseOperations\n",
    "from overtake_model import OvertakingModel\n",
    "from race_data import RaceDataSetup\n",
    "from race_dataframe import RaceDataframe\n",
    "from race_sim import RaceSimulator\n",
    "from evaluation import RaceSimEvaluation, EvaluateMany\n",
    "from optimisation import Optimisation"
   ]
  },
  {
   "cell_type": "code",
   "execution_count": 2,
   "metadata": {},
   "outputs": [],
   "source": [
    "db = DatabaseOperations(2024, \"Sakhir\")\n",
    "race_dataframe = RaceDataframe(db)\n",
    "race_setup = RaceDataSetup(db, race_dataframe)\n",
    "overtake = OvertakingModel(race_dataframe.race_df)\n",
    "simulation = RaceSimulator(race_setup, overtake)\n",
    "driver = 16\n"
   ]
  },
  {
   "cell_type": "code",
   "execution_count": 3,
   "metadata": {},
   "outputs": [
    {
     "name": "stdout",
     "output_type": "stream",
     "text": [
      "|   iter    |  target   | num_pi... | pit1_lap  | pit1_tyre | pit2_lap  | pit2_tyre | pit3_lap  | pit3_tyre | start_... |\n",
      "-------------------------------------------------------------------------------------------------------------------------\n",
      "| \u001b[39m1        \u001b[39m | \u001b[39m-20.0    \u001b[39m | \u001b[39m1.749    \u001b[39m | \u001b[39m53.34    \u001b[39m | \u001b[39m2.464    \u001b[39m | \u001b[39m34.33    \u001b[39m | \u001b[39m1.312    \u001b[39m | \u001b[39m10.42    \u001b[39m | \u001b[39m1.116    \u001b[39m | \u001b[39m2.732    \u001b[39m |\n",
      "| \u001b[35m2        \u001b[39m | \u001b[35m-8.0     \u001b[39m | \u001b[35m2.202    \u001b[39m | \u001b[35m40.24    \u001b[39m | \u001b[35m1.041    \u001b[39m | \u001b[35m54.38    \u001b[39m | \u001b[35m2.665    \u001b[39m | \u001b[35m13.47    \u001b[39m | \u001b[35m1.364    \u001b[39m | \u001b[35m1.367    \u001b[39m |\n",
      "| \u001b[39m3        \u001b[39m | \u001b[39m-20.0    \u001b[39m | \u001b[39m1.608    \u001b[39m | \u001b[39m30.34    \u001b[39m | \u001b[39m1.864    \u001b[39m | \u001b[39m17.73    \u001b[39m | \u001b[39m2.224    \u001b[39m | \u001b[39m9.533    \u001b[39m | \u001b[39m1.584    \u001b[39m | \u001b[39m1.733    \u001b[39m |\n",
      "| \u001b[39m4        \u001b[39m | \u001b[39m-20.0    \u001b[39m | \u001b[39m1.912    \u001b[39m | \u001b[39m44.4     \u001b[39m | \u001b[39m1.399    \u001b[39m | \u001b[39m29.77    \u001b[39m | \u001b[39m2.185    \u001b[39m | \u001b[39m4.508    \u001b[39m | \u001b[39m2.215    \u001b[39m | \u001b[39m1.341    \u001b[39m |\n",
      "| \u001b[39m5        \u001b[39m | \u001b[39m-12.0    \u001b[39m | \u001b[39m1.13     \u001b[39m | \u001b[39m53.24    \u001b[39m | \u001b[39m2.931    \u001b[39m | \u001b[39m45.65    \u001b[39m | \u001b[39m1.609    \u001b[39m | \u001b[39m7.274    \u001b[39m | \u001b[39m2.368    \u001b[39m | \u001b[39m1.88     \u001b[39m |\n",
      "| \u001b[35m6        \u001b[39m | \u001b[35m-4.0     \u001b[39m | \u001b[35m2.938    \u001b[39m | \u001b[35m49.72    \u001b[39m | \u001b[35m2.856    \u001b[39m | \u001b[35m55.73    \u001b[39m | \u001b[35m1.348    \u001b[39m | \u001b[35m23.4     \u001b[39m | \u001b[35m2.516    \u001b[39m | \u001b[35m2.392    \u001b[39m |\n",
      "| \u001b[39m7        \u001b[39m | \u001b[39m-20.0    \u001b[39m | \u001b[39m1.917    \u001b[39m | \u001b[39m47.94    \u001b[39m | \u001b[39m1.744    \u001b[39m | \u001b[39m54.9     \u001b[39m | \u001b[39m2.574    \u001b[39m | \u001b[39m46.48    \u001b[39m | \u001b[39m2.176    \u001b[39m | \u001b[39m1.562    \u001b[39m |\n",
      "| \u001b[39m8        \u001b[39m | \u001b[39m-9.0     \u001b[39m | \u001b[39m2.293    \u001b[39m | \u001b[39m50.88    \u001b[39m | \u001b[39m1.827    \u001b[39m | \u001b[39m55.43    \u001b[39m | \u001b[39m1.553    \u001b[39m | \u001b[39m20.93    \u001b[39m | \u001b[39m2.95     \u001b[39m | \u001b[39m2.623    \u001b[39m |\n",
      "| \u001b[39m9        \u001b[39m | \u001b[39m-4.0     \u001b[39m | \u001b[39m2.481    \u001b[39m | \u001b[39m43.63    \u001b[39m | \u001b[39m2.382    \u001b[39m | \u001b[39m53.93    \u001b[39m | \u001b[39m2.273    \u001b[39m | \u001b[39m23.36    \u001b[39m | \u001b[39m2.453    \u001b[39m | \u001b[39m1.685    \u001b[39m |\n",
      "| \u001b[39m10       \u001b[39m | \u001b[39m-4.0     \u001b[39m | \u001b[39m2.583    \u001b[39m | \u001b[39m49.86    \u001b[39m | \u001b[39m2.701    \u001b[39m | \u001b[39m51.81    \u001b[39m | \u001b[39m1.683    \u001b[39m | \u001b[39m30.08    \u001b[39m | \u001b[39m1.913    \u001b[39m | \u001b[39m2.796    \u001b[39m |\n",
      "| \u001b[39m11       \u001b[39m | \u001b[39m-10.0    \u001b[39m | \u001b[39m2.92     \u001b[39m | \u001b[39m39.38    \u001b[39m | \u001b[39m2.977    \u001b[39m | \u001b[39m55.9     \u001b[39m | \u001b[39m1.339    \u001b[39m | \u001b[39m31.27    \u001b[39m | \u001b[39m2.192    \u001b[39m | \u001b[39m1.74     \u001b[39m |\n",
      "| \u001b[39m12       \u001b[39m | \u001b[39m-4.0     \u001b[39m | \u001b[39m2.509    \u001b[39m | \u001b[39m41.6     \u001b[39m | \u001b[39m2.642    \u001b[39m | \u001b[39m43.47    \u001b[39m | \u001b[39m1.051    \u001b[39m | \u001b[39m25.41    \u001b[39m | \u001b[39m1.231    \u001b[39m | \u001b[39m2.169    \u001b[39m |\n",
      "| \u001b[39m13       \u001b[39m | \u001b[39m-5.0     \u001b[39m | \u001b[39m1.377    \u001b[39m | \u001b[39m28.25    \u001b[39m | \u001b[39m2.674    \u001b[39m | \u001b[39m44.35    \u001b[39m | \u001b[39m2.209    \u001b[39m | \u001b[39m22.05    \u001b[39m | \u001b[39m2.413    \u001b[39m | \u001b[39m1.084    \u001b[39m |\n",
      "| \u001b[39m14       \u001b[39m | \u001b[39m-9.0     \u001b[39m | \u001b[39m2.546    \u001b[39m | \u001b[39m31.75    \u001b[39m | \u001b[39m2.327    \u001b[39m | \u001b[39m36.95    \u001b[39m | \u001b[39m1.079    \u001b[39m | \u001b[39m33.58    \u001b[39m | \u001b[39m1.402    \u001b[39m | \u001b[39m2.326    \u001b[39m |\n",
      "| \u001b[39m15       \u001b[39m | \u001b[39m-20.0    \u001b[39m | \u001b[39m2.787    \u001b[39m | \u001b[39m21.4     \u001b[39m | \u001b[39m2.255    \u001b[39m | \u001b[39m52.92    \u001b[39m | \u001b[39m2.563    \u001b[39m | \u001b[39m14.74    \u001b[39m | \u001b[39m1.329    \u001b[39m | \u001b[39m2.77     \u001b[39m |\n",
      "| \u001b[39m16       \u001b[39m | \u001b[39m-4.0     \u001b[39m | \u001b[39m2.608    \u001b[39m | \u001b[39m35.49    \u001b[39m | \u001b[39m1.737    \u001b[39m | \u001b[39m40.01    \u001b[39m | \u001b[39m2.462    \u001b[39m | \u001b[39m18.35    \u001b[39m | \u001b[39m2.791    \u001b[39m | \u001b[39m1.618    \u001b[39m |\n",
      "| \u001b[39m17       \u001b[39m | \u001b[39m-8.0     \u001b[39m | \u001b[39m2.465    \u001b[39m | \u001b[39m20.97    \u001b[39m | \u001b[39m2.704    \u001b[39m | \u001b[39m32.97    \u001b[39m | \u001b[39m2.142    \u001b[39m | \u001b[39m23.53    \u001b[39m | \u001b[39m2.204    \u001b[39m | \u001b[39m1.648    \u001b[39m |\n",
      "| \u001b[39m18       \u001b[39m | \u001b[39m-14.0    \u001b[39m | \u001b[39m1.901    \u001b[39m | \u001b[39m6.002    \u001b[39m | \u001b[39m2.812    \u001b[39m | \u001b[39m30.73    \u001b[39m | \u001b[39m2.938    \u001b[39m | \u001b[39m37.61    \u001b[39m | \u001b[39m2.602    \u001b[39m | \u001b[39m1.714    \u001b[39m |\n",
      "| \u001b[39m19       \u001b[39m | \u001b[39m-20.0    \u001b[39m | \u001b[39m1.78     \u001b[39m | \u001b[39m49.89    \u001b[39m | \u001b[39m1.861    \u001b[39m | \u001b[39m37.18    \u001b[39m | \u001b[39m1.893    \u001b[39m | \u001b[39m32.41    \u001b[39m | \u001b[39m1.576    \u001b[39m | \u001b[39m1.812    \u001b[39m |\n",
      "| \u001b[39m20       \u001b[39m | \u001b[39m-4.0     \u001b[39m | \u001b[39m2.454    \u001b[39m | \u001b[39m36.73    \u001b[39m | \u001b[39m1.98     \u001b[39m | \u001b[39m46.91    \u001b[39m | \u001b[39m2.573    \u001b[39m | \u001b[39m22.73    \u001b[39m | \u001b[39m1.393    \u001b[39m | \u001b[39m2.784    \u001b[39m |\n",
      "| \u001b[39m21       \u001b[39m | \u001b[39m-20.0    \u001b[39m | \u001b[39m1.118    \u001b[39m | \u001b[39m27.81    \u001b[39m | \u001b[39m2.601    \u001b[39m | \u001b[39m2.001    \u001b[39m | \u001b[39m2.22     \u001b[39m | \u001b[39m55.15    \u001b[39m | \u001b[39m2.26     \u001b[39m | \u001b[39m2.632    \u001b[39m |\n",
      "| \u001b[39m22       \u001b[39m | \u001b[39m-20.0    \u001b[39m | \u001b[39m1.397    \u001b[39m | \u001b[39m2.759    \u001b[39m | \u001b[39m2.467    \u001b[39m | \u001b[39m55.99    \u001b[39m | \u001b[39m1.285    \u001b[39m | \u001b[39m52.42    \u001b[39m | \u001b[39m1.632    \u001b[39m | \u001b[39m2.378    \u001b[39m |\n",
      "| \u001b[39m23       \u001b[39m | \u001b[39m-20.0    \u001b[39m | \u001b[39m1.444    \u001b[39m | \u001b[39m2.782    \u001b[39m | \u001b[39m1.183    \u001b[39m | \u001b[39m2.941    \u001b[39m | \u001b[39m2.65     \u001b[39m | \u001b[39m17.13    \u001b[39m | \u001b[39m2.21     \u001b[39m | \u001b[39m2.376    \u001b[39m |\n",
      "| \u001b[39m24       \u001b[39m | \u001b[39m-9.0     \u001b[39m | \u001b[39m2.622    \u001b[39m | \u001b[39m31.02    \u001b[39m | \u001b[39m1.984    \u001b[39m | \u001b[39m35.67    \u001b[39m | \u001b[39m1.277    \u001b[39m | \u001b[39m23.6     \u001b[39m | \u001b[39m1.029    \u001b[39m | \u001b[39m2.914    \u001b[39m |\n",
      "| \u001b[35m25       \u001b[39m | \u001b[35m-3.0     \u001b[39m | \u001b[35m1.025    \u001b[39m | \u001b[35m19.06    \u001b[39m | \u001b[35m2.926    \u001b[39m | \u001b[35m42.75    \u001b[39m | \u001b[35m2.165    \u001b[39m | \u001b[35m33.06    \u001b[39m | \u001b[35m2.34     \u001b[39m | \u001b[35m1.746    \u001b[39m |\n",
      "| \u001b[39m26       \u001b[39m | \u001b[39m-5.0     \u001b[39m | \u001b[39m1.144    \u001b[39m | \u001b[39m22.97    \u001b[39m | \u001b[39m2.867    \u001b[39m | \u001b[39m44.1     \u001b[39m | \u001b[39m1.885    \u001b[39m | \u001b[39m43.62    \u001b[39m | \u001b[39m1.723    \u001b[39m | \u001b[39m1.945    \u001b[39m |\n",
      "| \u001b[39m27       \u001b[39m | \u001b[39m-5.0     \u001b[39m | \u001b[39m1.398    \u001b[39m | \u001b[39m22.72    \u001b[39m | \u001b[39m2.017    \u001b[39m | \u001b[39m51.53    \u001b[39m | \u001b[39m1.207    \u001b[39m | \u001b[39m34.66    \u001b[39m | \u001b[39m2.013    \u001b[39m | \u001b[39m1.279    \u001b[39m |\n",
      "| \u001b[39m28       \u001b[39m | \u001b[39m-7.0     \u001b[39m | \u001b[39m1.251    \u001b[39m | \u001b[39m27.37    \u001b[39m | \u001b[39m2.351    \u001b[39m | \u001b[39m33.5     \u001b[39m | \u001b[39m2.999    \u001b[39m | \u001b[39m55.88    \u001b[39m | \u001b[39m1.104    \u001b[39m | \u001b[39m1.055    \u001b[39m |\n",
      "| \u001b[39m29       \u001b[39m | \u001b[39m-20.0    \u001b[39m | \u001b[39m2.839    \u001b[39m | \u001b[39m55.78    \u001b[39m | \u001b[39m1.042    \u001b[39m | \u001b[39m2.016    \u001b[39m | \u001b[39m1.068    \u001b[39m | \u001b[39m38.36    \u001b[39m | \u001b[39m1.602    \u001b[39m | \u001b[39m1.434    \u001b[39m |\n",
      "| \u001b[39m30       \u001b[39m | \u001b[39m-13.0    \u001b[39m | \u001b[39m1.473    \u001b[39m | \u001b[39m21.67    \u001b[39m | \u001b[39m1.204    \u001b[39m | \u001b[39m29.81    \u001b[39m | \u001b[39m1.127    \u001b[39m | \u001b[39m45.27    \u001b[39m | \u001b[39m2.322    \u001b[39m | \u001b[39m2.309    \u001b[39m |\n",
      "| \u001b[39m31       \u001b[39m | \u001b[39m-8.0     \u001b[39m | \u001b[39m1.278    \u001b[39m | \u001b[39m26.27    \u001b[39m | \u001b[39m1.66     \u001b[39m | \u001b[39m48.72    \u001b[39m | \u001b[39m2.745    \u001b[39m | \u001b[39m54.79    \u001b[39m | \u001b[39m1.8      \u001b[39m | \u001b[39m2.968    \u001b[39m |\n",
      "| \u001b[39m32       \u001b[39m | \u001b[39m-9.0     \u001b[39m | \u001b[39m1.831    \u001b[39m | \u001b[39m11.21    \u001b[39m | \u001b[39m2.14     \u001b[39m | \u001b[39m49.04    \u001b[39m | \u001b[39m2.985    \u001b[39m | \u001b[39m33.23    \u001b[39m | \u001b[39m2.168    \u001b[39m | \u001b[39m1.921    \u001b[39m |\n",
      "| \u001b[39m33       \u001b[39m | \u001b[39m-20.0    \u001b[39m | \u001b[39m2.231    \u001b[39m | \u001b[39m3.099    \u001b[39m | \u001b[39m2.208    \u001b[39m | \u001b[39m31.62    \u001b[39m | \u001b[39m1.773    \u001b[39m | \u001b[39m2.303    \u001b[39m | \u001b[39m1.126    \u001b[39m | \u001b[39m1.906    \u001b[39m |\n",
      "| \u001b[39m34       \u001b[39m | \u001b[39m-17.0    \u001b[39m | \u001b[39m1.938    \u001b[39m | \u001b[39m2.012    \u001b[39m | \u001b[39m2.363    \u001b[39m | \u001b[39m4.942    \u001b[39m | \u001b[39m2.136    \u001b[39m | \u001b[39m53.61    \u001b[39m | \u001b[39m1.6      \u001b[39m | \u001b[39m1.016    \u001b[39m |\n",
      "| \u001b[39m35       \u001b[39m | \u001b[39m-20.0    \u001b[39m | \u001b[39m2.272    \u001b[39m | \u001b[39m55.61    \u001b[39m | \u001b[39m1.408    \u001b[39m | \u001b[39m2.192    \u001b[39m | \u001b[39m1.791    \u001b[39m | \u001b[39m2.87     \u001b[39m | \u001b[39m1.295    \u001b[39m | \u001b[39m2.972    \u001b[39m |\n",
      "| \u001b[39m36       \u001b[39m | \u001b[39m-8.0     \u001b[39m | \u001b[39m2.624    \u001b[39m | \u001b[39m41.0     \u001b[39m | \u001b[39m2.742    \u001b[39m | \u001b[39m28.47    \u001b[39m | \u001b[39m1.344    \u001b[39m | \u001b[39m55.83    \u001b[39m | \u001b[39m2.658    \u001b[39m | \u001b[39m1.616    \u001b[39m |\n",
      "| \u001b[39m37       \u001b[39m | \u001b[39m-20.0    \u001b[39m | \u001b[39m2.202    \u001b[39m | \u001b[39m25.95    \u001b[39m | \u001b[39m2.067    \u001b[39m | \u001b[39m44.12    \u001b[39m | \u001b[39m2.927    \u001b[39m | \u001b[39m34.46    \u001b[39m | \u001b[39m2.065    \u001b[39m | \u001b[39m2.297    \u001b[39m |\n",
      "| \u001b[39m38       \u001b[39m | \u001b[39m-8.0     \u001b[39m | \u001b[39m2.076    \u001b[39m | \u001b[39m16.54    \u001b[39m | \u001b[39m1.613    \u001b[39m | \u001b[39m44.36    \u001b[39m | \u001b[39m1.604    \u001b[39m | \u001b[39m38.11    \u001b[39m | \u001b[39m1.052    \u001b[39m | \u001b[39m2.935    \u001b[39m |\n",
      "| \u001b[39m39       \u001b[39m | \u001b[39m-3.0     \u001b[39m | \u001b[39m1.485    \u001b[39m | \u001b[39m42.11    \u001b[39m | \u001b[39m2.038    \u001b[39m | \u001b[39m46.0     \u001b[39m | \u001b[39m2.469    \u001b[39m | \u001b[39m19.6     \u001b[39m | \u001b[39m2.24     \u001b[39m | \u001b[39m1.736    \u001b[39m |\n",
      "| \u001b[39m40       \u001b[39m | \u001b[39m-4.0     \u001b[39m | \u001b[39m1.176    \u001b[39m | \u001b[39m17.22    \u001b[39m | \u001b[39m2.662    \u001b[39m | \u001b[39m41.65    \u001b[39m | \u001b[39m2.017    \u001b[39m | \u001b[39m26.36    \u001b[39m | \u001b[39m1.813    \u001b[39m | \u001b[39m1.726    \u001b[39m |\n",
      "| \u001b[39m41       \u001b[39m | \u001b[39m-20.0    \u001b[39m | \u001b[39m2.046    \u001b[39m | \u001b[39m15.68    \u001b[39m | \u001b[39m1.972    \u001b[39m | \u001b[39m36.87    \u001b[39m | \u001b[39m1.778    \u001b[39m | \u001b[39m32.01    \u001b[39m | \u001b[39m1.935    \u001b[39m | \u001b[39m1.85     \u001b[39m |\n",
      "| \u001b[39m42       \u001b[39m | \u001b[39m-20.0    \u001b[39m | \u001b[39m1.875    \u001b[39m | \u001b[39m17.64    \u001b[39m | \u001b[39m1.309    \u001b[39m | \u001b[39m47.65    \u001b[39m | \u001b[39m2.359    \u001b[39m | \u001b[39m30.05    \u001b[39m | \u001b[39m2.969    \u001b[39m | \u001b[39m1.595    \u001b[39m |\n",
      "| \u001b[39m43       \u001b[39m | \u001b[39m-6.0     \u001b[39m | \u001b[39m2.126    \u001b[39m | \u001b[39m43.48    \u001b[39m | \u001b[39m2.615    \u001b[39m | \u001b[39m48.31    \u001b[39m | \u001b[39m2.059    \u001b[39m | \u001b[39m24.01    \u001b[39m | \u001b[39m2.031    \u001b[39m | \u001b[39m1.815    \u001b[39m |\n"
     ]
    },
    {
     "ename": "KeyboardInterrupt",
     "evalue": "",
     "output_type": "error",
     "traceback": [
      "\u001b[0;31m---------------------------------------------------------------------------\u001b[0m",
      "\u001b[0;31mKeyboardInterrupt\u001b[0m                         Traceback (most recent call last)",
      "Cell \u001b[0;32mIn[3], line 2\u001b[0m\n\u001b[1;32m      1\u001b[0m optimiser \u001b[38;5;241m=\u001b[39m Optimisation(race_setup, overtake, driver)\n\u001b[0;32m----> 2\u001b[0m top_10_strategies \u001b[38;5;241m=\u001b[39m \u001b[43moptimiser\u001b[49m\u001b[38;5;241;43m.\u001b[39;49m\u001b[43mbayesian_optimisation\u001b[49m\u001b[43m(\u001b[49m\u001b[43mmax_iterations\u001b[49m\u001b[38;5;241;43m=\u001b[39;49m\u001b[38;5;241;43m50\u001b[39;49m\u001b[43m)\u001b[49m\n\u001b[1;32m      5\u001b[0m \u001b[38;5;28mprint\u001b[39m(\u001b[38;5;124mf\u001b[39m\u001b[38;5;124m\"\u001b[39m\u001b[38;5;124mActual Strategy: \u001b[39m\u001b[38;5;132;01m{\u001b[39;00mrace_setup\u001b[38;5;241m.\u001b[39mextract_driver_strategy(given_driver\u001b[38;5;241m=\u001b[39mdriver)\u001b[38;5;132;01m}\u001b[39;00m\u001b[38;5;124m\"\u001b[39m)\n\u001b[1;32m      6\u001b[0m \u001b[38;5;28mprint\u001b[39m(\u001b[38;5;124mf\u001b[39m\u001b[38;5;124m\"\u001b[39m\u001b[38;5;124mActual finishing position: \u001b[39m\u001b[38;5;132;01m{\u001b[39;00mrace_setup\u001b[38;5;241m.\u001b[39mget_driver_finishing_position(given_driver\u001b[38;5;241m=\u001b[39mdriver)\u001b[38;5;132;01m}\u001b[39;00m\u001b[38;5;124m\"\u001b[39m)\n",
      "File \u001b[0;32m/home/ben/Individual_Project/optimisation.py:112\u001b[0m, in \u001b[0;36mOptimisation.bayesian_optimisation\u001b[0;34m(self, max_iterations)\u001b[0m\n\u001b[1;32m     99\u001b[0m initial_params \u001b[38;5;241m=\u001b[39m {\n\u001b[1;32m    100\u001b[0m \t\u001b[38;5;124m\"\u001b[39m\u001b[38;5;124mstart_tyre\u001b[39m\u001b[38;5;124m\"\u001b[39m: \u001b[38;5;28mself\u001b[39m\u001b[38;5;241m.\u001b[39m__initial_strategy[\u001b[38;5;241m1\u001b[39m],  \u001b[38;5;66;03m# Starting tyre (lap 1)\u001b[39;00m\n\u001b[1;32m    101\u001b[0m \t\u001b[38;5;124m\"\u001b[39m\u001b[38;5;124mnum_pit_stops\u001b[39m\u001b[38;5;124m\"\u001b[39m: \u001b[38;5;28mlen\u001b[39m(\u001b[38;5;28mself\u001b[39m\u001b[38;5;241m.\u001b[39m__initial_strategy) \u001b[38;5;241m-\u001b[39m \u001b[38;5;241m1\u001b[39m,  \u001b[38;5;66;03m# Number of pit stops\u001b[39;00m\n\u001b[0;32m   (...)\u001b[0m\n\u001b[1;32m    107\u001b[0m \t\u001b[38;5;124m\"\u001b[39m\u001b[38;5;124mpit3_tyre\u001b[39m\u001b[38;5;124m\"\u001b[39m: \u001b[38;5;28mself\u001b[39m\u001b[38;5;241m.\u001b[39m__initial_strategy[sorted_laps[\u001b[38;5;241m3\u001b[39m]] \u001b[38;5;28;01mif\u001b[39;00m \u001b[38;5;28mlen\u001b[39m(sorted_laps) \u001b[38;5;241m>\u001b[39m \u001b[38;5;241m3\u001b[39m \u001b[38;5;28;01melse\u001b[39;00m \u001b[38;5;241m0\u001b[39m,  \u001b[38;5;66;03m# Third pit stop tyre\u001b[39;00m\n\u001b[1;32m    108\u001b[0m }\n\u001b[1;32m    110\u001b[0m \u001b[38;5;66;03m# optimiser.probe(params=initial_params, lazy=True)\u001b[39;00m\n\u001b[0;32m--> 112\u001b[0m \u001b[43moptimiser\u001b[49m\u001b[38;5;241;43m.\u001b[39;49m\u001b[43mmaximize\u001b[49m\u001b[43m(\u001b[49m\u001b[43minit_points\u001b[49m\u001b[38;5;241;43m=\u001b[39;49m\u001b[38;5;241;43m5\u001b[39;49m\u001b[43m,\u001b[49m\u001b[43m \u001b[49m\u001b[43mn_iter\u001b[49m\u001b[38;5;241;43m=\u001b[39;49m\u001b[43mmax_iterations\u001b[49m\u001b[43m)\u001b[49m\n\u001b[1;32m    115\u001b[0m \u001b[38;5;66;03m# Get the top 10 strategies from the runs\u001b[39;00m\n\u001b[1;32m    116\u001b[0m top_10_runs \u001b[38;5;241m=\u001b[39m \u001b[38;5;28msorted\u001b[39m(optimiser\u001b[38;5;241m.\u001b[39mres, key\u001b[38;5;241m=\u001b[39m\u001b[38;5;28;01mlambda\u001b[39;00m x: x[\u001b[38;5;124m\"\u001b[39m\u001b[38;5;124mtarget\u001b[39m\u001b[38;5;124m\"\u001b[39m], reverse\u001b[38;5;241m=\u001b[39m\u001b[38;5;28;01mTrue\u001b[39;00m)[:\u001b[38;5;241m10\u001b[39m]\n",
      "File \u001b[0;32m/home/ben/Individual_Project/env/lib/python3.10/site-packages/bayes_opt/bayesian_optimization.py:338\u001b[0m, in \u001b[0;36mBayesianOptimization.maximize\u001b[0;34m(self, init_points, n_iter)\u001b[0m\n\u001b[1;32m    336\u001b[0m     x_probe \u001b[38;5;241m=\u001b[39m \u001b[38;5;28mself\u001b[39m\u001b[38;5;241m.\u001b[39msuggest()\n\u001b[1;32m    337\u001b[0m     iteration \u001b[38;5;241m+\u001b[39m\u001b[38;5;241m=\u001b[39m \u001b[38;5;241m1\u001b[39m\n\u001b[0;32m--> 338\u001b[0m \u001b[38;5;28;43mself\u001b[39;49m\u001b[38;5;241;43m.\u001b[39;49m\u001b[43mprobe\u001b[49m\u001b[43m(\u001b[49m\u001b[43mx_probe\u001b[49m\u001b[43m,\u001b[49m\u001b[43m \u001b[49m\u001b[43mlazy\u001b[49m\u001b[38;5;241;43m=\u001b[39;49m\u001b[38;5;28;43;01mFalse\u001b[39;49;00m\u001b[43m)\u001b[49m\n\u001b[1;32m    340\u001b[0m \u001b[38;5;28;01mif\u001b[39;00m \u001b[38;5;28mself\u001b[39m\u001b[38;5;241m.\u001b[39m_bounds_transformer \u001b[38;5;129;01mand\u001b[39;00m iteration \u001b[38;5;241m>\u001b[39m \u001b[38;5;241m0\u001b[39m:\n\u001b[1;32m    341\u001b[0m     \u001b[38;5;66;03m# The bounds transformer should only modify the bounds after\u001b[39;00m\n\u001b[1;32m    342\u001b[0m     \u001b[38;5;66;03m# the init_points points (only for the true iterations)\u001b[39;00m\n\u001b[1;32m    343\u001b[0m     \u001b[38;5;28mself\u001b[39m\u001b[38;5;241m.\u001b[39mset_bounds(\u001b[38;5;28mself\u001b[39m\u001b[38;5;241m.\u001b[39m_bounds_transformer\u001b[38;5;241m.\u001b[39mtransform(\u001b[38;5;28mself\u001b[39m\u001b[38;5;241m.\u001b[39m_space))\n",
      "File \u001b[0;32m/home/ben/Individual_Project/env/lib/python3.10/site-packages/bayes_opt/bayesian_optimization.py:270\u001b[0m, in \u001b[0;36mBayesianOptimization.probe\u001b[0;34m(self, params, lazy)\u001b[0m\n\u001b[1;32m    268\u001b[0m     \u001b[38;5;28mself\u001b[39m\u001b[38;5;241m.\u001b[39m_queue\u001b[38;5;241m.\u001b[39mappend(params)\n\u001b[1;32m    269\u001b[0m \u001b[38;5;28;01melse\u001b[39;00m:\n\u001b[0;32m--> 270\u001b[0m     \u001b[38;5;28;43mself\u001b[39;49m\u001b[38;5;241;43m.\u001b[39;49m\u001b[43m_space\u001b[49m\u001b[38;5;241;43m.\u001b[39;49m\u001b[43mprobe\u001b[49m\u001b[43m(\u001b[49m\u001b[43mparams\u001b[49m\u001b[43m)\u001b[49m\n\u001b[1;32m    271\u001b[0m     \u001b[38;5;28mself\u001b[39m\u001b[38;5;241m.\u001b[39mdispatch(Events\u001b[38;5;241m.\u001b[39mOPTIMIZATION_STEP)\n",
      "File \u001b[0;32m/home/ben/Individual_Project/env/lib/python3.10/site-packages/bayes_opt/target_space.py:418\u001b[0m, in \u001b[0;36mTargetSpace.probe\u001b[0;34m(self, params)\u001b[0m\n\u001b[1;32m    416\u001b[0m     error_msg \u001b[38;5;241m=\u001b[39m \u001b[38;5;124m\"\u001b[39m\u001b[38;5;124mNo target function has been provided.\u001b[39m\u001b[38;5;124m\"\u001b[39m\n\u001b[1;32m    417\u001b[0m     \u001b[38;5;28;01mraise\u001b[39;00m \u001b[38;5;167;01mValueError\u001b[39;00m(error_msg)\n\u001b[0;32m--> 418\u001b[0m target \u001b[38;5;241m=\u001b[39m \u001b[38;5;28;43mself\u001b[39;49m\u001b[38;5;241;43m.\u001b[39;49m\u001b[43mtarget_func\u001b[49m\u001b[43m(\u001b[49m\u001b[38;5;241;43m*\u001b[39;49m\u001b[38;5;241;43m*\u001b[39;49m\u001b[43mdict_params\u001b[49m\u001b[43m)\u001b[49m\n\u001b[1;32m    420\u001b[0m \u001b[38;5;28;01mif\u001b[39;00m \u001b[38;5;28mself\u001b[39m\u001b[38;5;241m.\u001b[39m_constraint \u001b[38;5;129;01mis\u001b[39;00m \u001b[38;5;28;01mNone\u001b[39;00m:\n\u001b[1;32m    421\u001b[0m     \u001b[38;5;28mself\u001b[39m\u001b[38;5;241m.\u001b[39mregister(x, target)\n",
      "File \u001b[0;32m/home/ben/Individual_Project/optimisation.py:79\u001b[0m, in \u001b[0;36mOptimisation.bayesian_optimisation.<locals>.objective_function\u001b[0;34m(start_tyre, num_pit_stops, pit1_lap, pit2_lap, pit3_lap, pit1_tyre, pit2_tyre, pit3_tyre)\u001b[0m\n\u001b[1;32m     77\u001b[0m \u001b[38;5;28;01mtry\u001b[39;00m:\n\u001b[1;32m     78\u001b[0m \tsim \u001b[38;5;241m=\u001b[39m RaceSimulator(\u001b[38;5;28mself\u001b[39m\u001b[38;5;241m.\u001b[39mrace_data, \u001b[38;5;28mself\u001b[39m\u001b[38;5;241m.\u001b[39movertake_model, given_driver\u001b[38;5;241m=\u001b[39m\u001b[38;5;28mself\u001b[39m\u001b[38;5;241m.\u001b[39m__given_driver, simulated_strategy\u001b[38;5;241m=\u001b[39mstrategy)\n\u001b[0;32m---> 79\u001b[0m \tsim_data \u001b[38;5;241m=\u001b[39m \u001b[43msim\u001b[49m\u001b[38;5;241;43m.\u001b[39;49m\u001b[43msimulate\u001b[49m\u001b[43m(\u001b[49m\u001b[43m)\u001b[49m\n\u001b[1;32m     80\u001b[0m \tfinal_position \u001b[38;5;241m=\u001b[39m \u001b[38;5;28mnext\u001b[39m(d[\u001b[38;5;124m\"\u001b[39m\u001b[38;5;124mposition\u001b[39m\u001b[38;5;124m\"\u001b[39m] \u001b[38;5;28;01mfor\u001b[39;00m d \u001b[38;5;129;01min\u001b[39;00m sim_data \u001b[38;5;28;01mif\u001b[39;00m d[\u001b[38;5;124m\"\u001b[39m\u001b[38;5;124mdriver_number\u001b[39m\u001b[38;5;124m\"\u001b[39m] \u001b[38;5;241m==\u001b[39m \u001b[38;5;28mself\u001b[39m\u001b[38;5;241m.\u001b[39m__given_driver)\n\u001b[1;32m     81\u001b[0m \t\u001b[38;5;28;01mreturn\u001b[39;00m \u001b[38;5;241m-\u001b[39mfinal_position  \u001b[38;5;66;03m# Negative because Bayesianoptimisation maximizes by default\u001b[39;00m\n",
      "File \u001b[0;32m/home/ben/Individual_Project/race_sim.py:78\u001b[0m, in \u001b[0;36mRaceSimulator.simulate\u001b[0;34m(self)\u001b[0m\n\u001b[1;32m     74\u001b[0m \u001b[38;5;250m\u001b[39m\u001b[38;5;124;03m\"\"\"\u001b[39;00m\n\u001b[1;32m     75\u001b[0m \u001b[38;5;124;03mSimulate the race and return the final drivers' data.\u001b[39;00m\n\u001b[1;32m     76\u001b[0m \u001b[38;5;124;03m\"\"\"\u001b[39;00m\n\u001b[1;32m     77\u001b[0m \u001b[38;5;28;01mfor\u001b[39;00m lap \u001b[38;5;129;01min\u001b[39;00m \u001b[38;5;28mrange\u001b[39m(\u001b[38;5;241m1\u001b[39m, \u001b[38;5;28mself\u001b[39m\u001b[38;5;241m.\u001b[39m__race_data\u001b[38;5;241m.\u001b[39mmax_laps \u001b[38;5;241m+\u001b[39m \u001b[38;5;241m1\u001b[39m):\n\u001b[0;32m---> 78\u001b[0m \t\u001b[38;5;28;43mself\u001b[39;49m\u001b[38;5;241;43m.\u001b[39;49m\u001b[43m__process_lap\u001b[49m\u001b[43m(\u001b[49m\u001b[43mlap\u001b[49m\u001b[43m)\u001b[49m\n\u001b[1;32m     80\u001b[0m \u001b[38;5;28;01mreturn\u001b[39;00m \u001b[38;5;28mself\u001b[39m\u001b[38;5;241m.\u001b[39msim_data\n",
      "File \u001b[0;32m/home/ben/Individual_Project/race_sim.py:99\u001b[0m, in \u001b[0;36mRaceSimulator.__process_lap\u001b[0;34m(self, lap)\u001b[0m\n\u001b[1;32m     97\u001b[0m \u001b[38;5;66;03m# Process each sector\u001b[39;00m\n\u001b[1;32m     98\u001b[0m \u001b[38;5;28;01mfor\u001b[39;00m sector \u001b[38;5;129;01min\u001b[39;00m \u001b[38;5;28mrange\u001b[39m(\u001b[38;5;241m1\u001b[39m, \u001b[38;5;241m4\u001b[39m):\n\u001b[0;32m---> 99\u001b[0m \t\u001b[38;5;28;43mself\u001b[39;49m\u001b[38;5;241;43m.\u001b[39;49m\u001b[43m__process_sector\u001b[49m\u001b[43m(\u001b[49m\u001b[43msector\u001b[49m\u001b[43m,\u001b[49m\u001b[43m \u001b[49m\u001b[43mlap\u001b[49m\u001b[43m,\u001b[49m\u001b[43m \u001b[49m\u001b[43msafety_car\u001b[49m\u001b[43m)\u001b[49m\n",
      "File \u001b[0;32m/home/ben/Individual_Project/race_sim.py:219\u001b[0m, in \u001b[0;36mRaceSimulator.__process_sector\u001b[0;34m(self, sector, lap, safety_car)\u001b[0m\n\u001b[1;32m    216\u001b[0m \u001b[38;5;66;03m# Predict overtakes\u001b[39;00m\n\u001b[1;32m    217\u001b[0m active_drivers \u001b[38;5;241m=\u001b[39m [d \u001b[38;5;28;01mfor\u001b[39;00m d \u001b[38;5;129;01min\u001b[39;00m \u001b[38;5;28mself\u001b[39m\u001b[38;5;241m.\u001b[39msim_data \u001b[38;5;28;01mif\u001b[39;00m \u001b[38;5;129;01mnot\u001b[39;00m d[\u001b[38;5;124m\"\u001b[39m\u001b[38;5;124mretired\u001b[39m\u001b[38;5;124m\"\u001b[39m]]\n\u001b[0;32m--> 219\u001b[0m predicted_overtakes \u001b[38;5;241m=\u001b[39m \u001b[38;5;28;43mself\u001b[39;49m\u001b[38;5;241;43m.\u001b[39;49m\u001b[43m__overtake_model\u001b[49m\u001b[38;5;241;43m.\u001b[39;49m\u001b[43mhandle_overtake_prediction\u001b[49m\u001b[43m(\u001b[49m\u001b[43mactive_drivers\u001b[49m\u001b[43m)\u001b[49m\n\u001b[1;32m    221\u001b[0m \u001b[38;5;66;03m# can use active_drivers and dicts are mutable\u001b[39;00m\n\u001b[1;32m    222\u001b[0m \u001b[38;5;28;01mfor\u001b[39;00m i, driver \u001b[38;5;129;01min\u001b[39;00m \u001b[38;5;28menumerate\u001b[39m(active_drivers):\n",
      "File \u001b[0;32m/home/ben/Individual_Project/overtake_model.py:95\u001b[0m, in \u001b[0;36mOvertakingModel.handle_overtake_prediction\u001b[0;34m(self, driver_data)\u001b[0m\n\u001b[1;32m     93\u001b[0m \u001b[38;5;28;01mdef\u001b[39;00m \u001b[38;5;21mhandle_overtake_prediction\u001b[39m(\u001b[38;5;28mself\u001b[39m, driver_data):\n\u001b[1;32m     94\u001b[0m \tdriver_features \u001b[38;5;241m=\u001b[39m \u001b[38;5;28mself\u001b[39m\u001b[38;5;241m.\u001b[39mextract_features(driver_data)\n\u001b[0;32m---> 95\u001b[0m \tpredicted_overtakes \u001b[38;5;241m=\u001b[39m \u001b[38;5;28;43mself\u001b[39;49m\u001b[38;5;241;43m.\u001b[39;49m\u001b[43mpredict_overtake\u001b[49m\u001b[43m(\u001b[49m\u001b[43mdriver_features\u001b[49m\u001b[43m)\u001b[49m\n\u001b[1;32m     97\u001b[0m \t\u001b[38;5;28;01mreturn\u001b[39;00m predicted_overtakes\n",
      "File \u001b[0;32m/home/ben/Individual_Project/overtake_model.py:90\u001b[0m, in \u001b[0;36mOvertakingModel.predict_overtake\u001b[0;34m(self, data)\u001b[0m\n\u001b[1;32m     87\u001b[0m data_filled \u001b[38;5;241m=\u001b[39m \u001b[38;5;28mself\u001b[39m\u001b[38;5;241m.\u001b[39m__imputer\u001b[38;5;241m.\u001b[39mtransform(data)\n\u001b[1;32m     89\u001b[0m \u001b[38;5;66;03m# Make predictions using the trained model\u001b[39;00m\n\u001b[0;32m---> 90\u001b[0m predictions \u001b[38;5;241m=\u001b[39m \u001b[38;5;28;43mself\u001b[39;49m\u001b[38;5;241;43m.\u001b[39;49m\u001b[43m__model\u001b[49m\u001b[38;5;241;43m.\u001b[39;49m\u001b[43mpredict\u001b[49m\u001b[43m(\u001b[49m\u001b[43mdata_filled\u001b[49m\u001b[43m)\u001b[49m\n\u001b[1;32m     91\u001b[0m \u001b[38;5;28;01mreturn\u001b[39;00m predictions\n",
      "File \u001b[0;32m/home/ben/Individual_Project/env/lib/python3.10/site-packages/sklearn/calibration.py:525\u001b[0m, in \u001b[0;36mCalibratedClassifierCV.predict\u001b[0;34m(self, X)\u001b[0m\n\u001b[1;32m    509\u001b[0m \u001b[38;5;250m\u001b[39m\u001b[38;5;124;03m\"\"\"Predict the target of new samples.\u001b[39;00m\n\u001b[1;32m    510\u001b[0m \n\u001b[1;32m    511\u001b[0m \u001b[38;5;124;03mThe predicted class is the class that has the highest probability,\u001b[39;00m\n\u001b[0;32m   (...)\u001b[0m\n\u001b[1;32m    522\u001b[0m \u001b[38;5;124;03m    The predicted class.\u001b[39;00m\n\u001b[1;32m    523\u001b[0m \u001b[38;5;124;03m\"\"\"\u001b[39;00m\n\u001b[1;32m    524\u001b[0m check_is_fitted(\u001b[38;5;28mself\u001b[39m)\n\u001b[0;32m--> 525\u001b[0m \u001b[38;5;28;01mreturn\u001b[39;00m \u001b[38;5;28mself\u001b[39m\u001b[38;5;241m.\u001b[39mclasses_[np\u001b[38;5;241m.\u001b[39margmax(\u001b[38;5;28;43mself\u001b[39;49m\u001b[38;5;241;43m.\u001b[39;49m\u001b[43mpredict_proba\u001b[49m\u001b[43m(\u001b[49m\u001b[43mX\u001b[49m\u001b[43m)\u001b[49m, axis\u001b[38;5;241m=\u001b[39m\u001b[38;5;241m1\u001b[39m)]\n",
      "File \u001b[0;32m/home/ben/Individual_Project/env/lib/python3.10/site-packages/sklearn/calibration.py:501\u001b[0m, in \u001b[0;36mCalibratedClassifierCV.predict_proba\u001b[0;34m(self, X)\u001b[0m\n\u001b[1;32m    499\u001b[0m mean_proba \u001b[38;5;241m=\u001b[39m np\u001b[38;5;241m.\u001b[39mzeros((_num_samples(X), \u001b[38;5;28mlen\u001b[39m(\u001b[38;5;28mself\u001b[39m\u001b[38;5;241m.\u001b[39mclasses_)))\n\u001b[1;32m    500\u001b[0m \u001b[38;5;28;01mfor\u001b[39;00m calibrated_classifier \u001b[38;5;129;01min\u001b[39;00m \u001b[38;5;28mself\u001b[39m\u001b[38;5;241m.\u001b[39mcalibrated_classifiers_:\n\u001b[0;32m--> 501\u001b[0m     proba \u001b[38;5;241m=\u001b[39m \u001b[43mcalibrated_classifier\u001b[49m\u001b[38;5;241;43m.\u001b[39;49m\u001b[43mpredict_proba\u001b[49m\u001b[43m(\u001b[49m\u001b[43mX\u001b[49m\u001b[43m)\u001b[49m\n\u001b[1;32m    502\u001b[0m     mean_proba \u001b[38;5;241m+\u001b[39m\u001b[38;5;241m=\u001b[39m proba\n\u001b[1;32m    504\u001b[0m mean_proba \u001b[38;5;241m/\u001b[39m\u001b[38;5;241m=\u001b[39m \u001b[38;5;28mlen\u001b[39m(\u001b[38;5;28mself\u001b[39m\u001b[38;5;241m.\u001b[39mcalibrated_classifiers_)\n",
      "File \u001b[0;32m/home/ben/Individual_Project/env/lib/python3.10/site-packages/sklearn/calibration.py:725\u001b[0m, in \u001b[0;36m_CalibratedClassifier.predict_proba\u001b[0;34m(self, X)\u001b[0m\n\u001b[1;32m    709\u001b[0m \u001b[38;5;28;01mdef\u001b[39;00m \u001b[38;5;21mpredict_proba\u001b[39m(\u001b[38;5;28mself\u001b[39m, X):\n\u001b[1;32m    710\u001b[0m \u001b[38;5;250m    \u001b[39m\u001b[38;5;124;03m\"\"\"Calculate calibrated probabilities.\u001b[39;00m\n\u001b[1;32m    711\u001b[0m \n\u001b[1;32m    712\u001b[0m \u001b[38;5;124;03m    Calculates classification calibrated probabilities\u001b[39;00m\n\u001b[0;32m   (...)\u001b[0m\n\u001b[1;32m    723\u001b[0m \u001b[38;5;124;03m        The predicted probabilities. Can be exact zeros.\u001b[39;00m\n\u001b[1;32m    724\u001b[0m \u001b[38;5;124;03m    \"\"\"\u001b[39;00m\n\u001b[0;32m--> 725\u001b[0m     predictions, _ \u001b[38;5;241m=\u001b[39m \u001b[43m_get_response_values\u001b[49m\u001b[43m(\u001b[49m\n\u001b[1;32m    726\u001b[0m \u001b[43m        \u001b[49m\u001b[38;5;28;43mself\u001b[39;49m\u001b[38;5;241;43m.\u001b[39;49m\u001b[43mestimator\u001b[49m\u001b[43m,\u001b[49m\n\u001b[1;32m    727\u001b[0m \u001b[43m        \u001b[49m\u001b[43mX\u001b[49m\u001b[43m,\u001b[49m\n\u001b[1;32m    728\u001b[0m \u001b[43m        \u001b[49m\u001b[43mresponse_method\u001b[49m\u001b[38;5;241;43m=\u001b[39;49m\u001b[43m[\u001b[49m\u001b[38;5;124;43m\"\u001b[39;49m\u001b[38;5;124;43mdecision_function\u001b[39;49m\u001b[38;5;124;43m\"\u001b[39;49m\u001b[43m,\u001b[49m\u001b[43m \u001b[49m\u001b[38;5;124;43m\"\u001b[39;49m\u001b[38;5;124;43mpredict_proba\u001b[39;49m\u001b[38;5;124;43m\"\u001b[39;49m\u001b[43m]\u001b[49m\u001b[43m,\u001b[49m\n\u001b[1;32m    729\u001b[0m \u001b[43m    \u001b[49m\u001b[43m)\u001b[49m\n\u001b[1;32m    730\u001b[0m     \u001b[38;5;28;01mif\u001b[39;00m predictions\u001b[38;5;241m.\u001b[39mndim \u001b[38;5;241m==\u001b[39m \u001b[38;5;241m1\u001b[39m:\n\u001b[1;32m    731\u001b[0m         \u001b[38;5;66;03m# Reshape binary output from `(n_samples,)` to `(n_samples, 1)`\u001b[39;00m\n\u001b[1;32m    732\u001b[0m         predictions \u001b[38;5;241m=\u001b[39m predictions\u001b[38;5;241m.\u001b[39mreshape(\u001b[38;5;241m-\u001b[39m\u001b[38;5;241m1\u001b[39m, \u001b[38;5;241m1\u001b[39m)\n",
      "File \u001b[0;32m/home/ben/Individual_Project/env/lib/python3.10/site-packages/sklearn/utils/_response.py:214\u001b[0m, in \u001b[0;36m_get_response_values\u001b[0;34m(estimator, X, response_method, pos_label, return_response_method_used)\u001b[0m\n\u001b[1;32m    211\u001b[0m     \u001b[38;5;28;01melif\u001b[39;00m pos_label \u001b[38;5;129;01mis\u001b[39;00m \u001b[38;5;28;01mNone\u001b[39;00m \u001b[38;5;129;01mand\u001b[39;00m target_type \u001b[38;5;241m==\u001b[39m \u001b[38;5;124m\"\u001b[39m\u001b[38;5;124mbinary\u001b[39m\u001b[38;5;124m\"\u001b[39m:\n\u001b[1;32m    212\u001b[0m         pos_label \u001b[38;5;241m=\u001b[39m classes[\u001b[38;5;241m-\u001b[39m\u001b[38;5;241m1\u001b[39m]\n\u001b[0;32m--> 214\u001b[0m y_pred \u001b[38;5;241m=\u001b[39m \u001b[43mprediction_method\u001b[49m\u001b[43m(\u001b[49m\u001b[43mX\u001b[49m\u001b[43m)\u001b[49m\n\u001b[1;32m    216\u001b[0m \u001b[38;5;28;01mif\u001b[39;00m prediction_method\u001b[38;5;241m.\u001b[39m\u001b[38;5;18m__name__\u001b[39m \u001b[38;5;129;01min\u001b[39;00m (\u001b[38;5;124m\"\u001b[39m\u001b[38;5;124mpredict_proba\u001b[39m\u001b[38;5;124m\"\u001b[39m, \u001b[38;5;124m\"\u001b[39m\u001b[38;5;124mpredict_log_proba\u001b[39m\u001b[38;5;124m\"\u001b[39m):\n\u001b[1;32m    217\u001b[0m     y_pred \u001b[38;5;241m=\u001b[39m _process_predict_proba(\n\u001b[1;32m    218\u001b[0m         y_pred\u001b[38;5;241m=\u001b[39my_pred,\n\u001b[1;32m    219\u001b[0m         target_type\u001b[38;5;241m=\u001b[39mtarget_type,\n\u001b[1;32m    220\u001b[0m         classes\u001b[38;5;241m=\u001b[39mclasses,\n\u001b[1;32m    221\u001b[0m         pos_label\u001b[38;5;241m=\u001b[39mpos_label,\n\u001b[1;32m    222\u001b[0m     )\n",
      "File \u001b[0;32m/home/ben/Individual_Project/env/lib/python3.10/site-packages/sklearn/ensemble/_gb.py:1579\u001b[0m, in \u001b[0;36mGradientBoostingClassifier.decision_function\u001b[0;34m(self, X)\u001b[0m\n\u001b[1;32m   1558\u001b[0m \u001b[38;5;250m\u001b[39m\u001b[38;5;124;03m\"\"\"Compute the decision function of ``X``.\u001b[39;00m\n\u001b[1;32m   1559\u001b[0m \n\u001b[1;32m   1560\u001b[0m \u001b[38;5;124;03mParameters\u001b[39;00m\n\u001b[0;32m   (...)\u001b[0m\n\u001b[1;32m   1574\u001b[0m \u001b[38;5;124;03m    array of shape (n_samples,).\u001b[39;00m\n\u001b[1;32m   1575\u001b[0m \u001b[38;5;124;03m\"\"\"\u001b[39;00m\n\u001b[1;32m   1576\u001b[0m X \u001b[38;5;241m=\u001b[39m validate_data(\n\u001b[1;32m   1577\u001b[0m     \u001b[38;5;28mself\u001b[39m, X, dtype\u001b[38;5;241m=\u001b[39mDTYPE, order\u001b[38;5;241m=\u001b[39m\u001b[38;5;124m\"\u001b[39m\u001b[38;5;124mC\u001b[39m\u001b[38;5;124m\"\u001b[39m, accept_sparse\u001b[38;5;241m=\u001b[39m\u001b[38;5;124m\"\u001b[39m\u001b[38;5;124mcsr\u001b[39m\u001b[38;5;124m\"\u001b[39m, reset\u001b[38;5;241m=\u001b[39m\u001b[38;5;28;01mFalse\u001b[39;00m\n\u001b[1;32m   1578\u001b[0m )\n\u001b[0;32m-> 1579\u001b[0m raw_predictions \u001b[38;5;241m=\u001b[39m \u001b[38;5;28;43mself\u001b[39;49m\u001b[38;5;241;43m.\u001b[39;49m\u001b[43m_raw_predict\u001b[49m\u001b[43m(\u001b[49m\u001b[43mX\u001b[49m\u001b[43m)\u001b[49m\n\u001b[1;32m   1580\u001b[0m \u001b[38;5;28;01mif\u001b[39;00m raw_predictions\u001b[38;5;241m.\u001b[39mshape[\u001b[38;5;241m1\u001b[39m] \u001b[38;5;241m==\u001b[39m \u001b[38;5;241m1\u001b[39m:\n\u001b[1;32m   1581\u001b[0m     \u001b[38;5;28;01mreturn\u001b[39;00m raw_predictions\u001b[38;5;241m.\u001b[39mravel()\n",
      "File \u001b[0;32m/home/ben/Individual_Project/env/lib/python3.10/site-packages/sklearn/ensemble/_gb.py:966\u001b[0m, in \u001b[0;36mBaseGradientBoosting._raw_predict\u001b[0;34m(self, X)\u001b[0m\n\u001b[1;32m    964\u001b[0m check_is_fitted(\u001b[38;5;28mself\u001b[39m)\n\u001b[1;32m    965\u001b[0m raw_predictions \u001b[38;5;241m=\u001b[39m \u001b[38;5;28mself\u001b[39m\u001b[38;5;241m.\u001b[39m_raw_predict_init(X)\n\u001b[0;32m--> 966\u001b[0m \u001b[43mpredict_stages\u001b[49m\u001b[43m(\u001b[49m\u001b[38;5;28;43mself\u001b[39;49m\u001b[38;5;241;43m.\u001b[39;49m\u001b[43mestimators_\u001b[49m\u001b[43m,\u001b[49m\u001b[43m \u001b[49m\u001b[43mX\u001b[49m\u001b[43m,\u001b[49m\u001b[43m \u001b[49m\u001b[38;5;28;43mself\u001b[39;49m\u001b[38;5;241;43m.\u001b[39;49m\u001b[43mlearning_rate\u001b[49m\u001b[43m,\u001b[49m\u001b[43m \u001b[49m\u001b[43mraw_predictions\u001b[49m\u001b[43m)\u001b[49m\n\u001b[1;32m    967\u001b[0m \u001b[38;5;28;01mreturn\u001b[39;00m raw_predictions\n",
      "\u001b[0;31mKeyboardInterrupt\u001b[0m: "
     ]
    }
   ],
   "source": [
    "optimiser = Optimisation(race_setup, overtake, driver)\n",
    "top_10_strategies = optimiser.bayesian_optimisation(max_iterations=50)\n",
    "\n",
    "\n",
    "print(f\"Actual Strategy: {race_setup.extract_driver_strategy(given_driver=driver)}\")\n",
    "print(f\"Actual finishing position: {race_setup.get_driver_finishing_position(given_driver=driver)}\")"
   ]
  },
  {
   "cell_type": "code",
   "execution_count": null,
   "metadata": {},
   "outputs": [
    {
     "data": {
      "text/plain": [
       "[{'strategy': {1: 1, 19: 3}, 'position': 3.0},\n",
       " {'strategy': {1: 1, 19: 3}, 'position': 3.0},\n",
       " {'strategy': {1: 1, 19: 3}, 'position': 3.0},\n",
       " {'strategy': {1: 3, 21: 3, 45: 1}, 'position': 3.0},\n",
       " {'strategy': {1: 3, 23: 3, 49: 1}, 'position': 4.0},\n",
       " {'strategy': {1: 1, 23: 3, 43: 3}, 'position': 4.0},\n",
       " {'strategy': {1: 3, 30: 3, 49: 1}, 'position': 4.0},\n",
       " {'strategy': {1: 3, 25: 3, 41: 1}, 'position': 4.0},\n",
       " {'strategy': {1: 1, 18: 1, 35: 3}, 'position': 4.0},\n",
       " {'strategy': {1: 3, 22: 1, 36: 3}, 'position': 4.0}]"
      ]
     },
     "execution_count": 4,
     "metadata": {},
     "output_type": "execute_result"
    }
   ],
   "source": [
    "top_10_strategies"
   ]
  },
  {
   "cell_type": "markdown",
   "metadata": {},
   "source": [
    "[{'strategy': {1: 1, 20: 3}, 'position': 3.0},\n",
    " {'strategy': {1: 1, 21: 3}, 'position': 3.0},\n",
    " {'strategy': {1: 1, 20: 3}, 'position': 3.0},\n",
    " {'strategy': {1: 1, 20: 3}, 'position': 3.0},\n",
    " {'strategy': {1: 1, 20: 3}, 'position': 3.0},\n",
    " {'strategy': {1: 1, 20: 3}, 'position': 3.0},\n",
    " {'strategy': {1: 1, 21: 1, 34: 3}, 'position': 4.0},\n",
    " {'strategy': {1: 3, 16: 1, 35: 3}, 'position': 4.0},\n",
    " {'strategy': {1: 1, 17: 1, 32: 3}, 'position': 4.0},\n",
    " {'strategy': {1: 3, 16: 1, 35: 3}, 'position': 4.0}]"
   ]
  },
  {
   "cell_type": "code",
   "execution_count": null,
   "metadata": {},
   "outputs": [],
   "source": [
    "# optimiser = Optimisation(race_setup, overtake, driver)\n",
    "# top_10_strategies = optimiser.genetic_algorithm_optimisation(population_size=5, generations=2)\n",
    "\n",
    "\n",
    "# print(f\"Actual Strategy: {race_setup.extract_driver_strategy(given_driver=driver)}\")\n",
    "# print(f\"Actual finishing position: {race_setup.get_driver_finishing_position(given_driver=driver)}\")"
   ]
  },
  {
   "cell_type": "code",
   "execution_count": null,
   "metadata": {},
   "outputs": [
    {
     "data": {
      "text/plain": [
       "[{'strategy': {1: 1, 19: 3}, 'position': 3.0},\n",
       " {'strategy': {1: 1, 19: 3}, 'position': 3.0},\n",
       " {'strategy': {1: 1, 19: 3}, 'position': 3.0},\n",
       " {'strategy': {1: 3, 21: 3, 45: 1}, 'position': 3.0},\n",
       " {'strategy': {1: 3, 23: 3, 49: 1}, 'position': 4.0},\n",
       " {'strategy': {1: 1, 23: 3, 43: 3}, 'position': 4.0},\n",
       " {'strategy': {1: 3, 30: 3, 49: 1}, 'position': 4.0},\n",
       " {'strategy': {1: 3, 25: 3, 41: 1}, 'position': 4.0},\n",
       " {'strategy': {1: 1, 18: 1, 35: 3}, 'position': 4.0},\n",
       " {'strategy': {1: 3, 22: 1, 36: 3}, 'position': 4.0}]"
      ]
     },
     "execution_count": 6,
     "metadata": {},
     "output_type": "execute_result"
    }
   ],
   "source": [
    "top_10_strategies"
   ]
  },
  {
   "cell_type": "code",
   "execution_count": null,
   "metadata": {},
   "outputs": [],
   "source": [
    "# optimiser = Optimisation(race_setup, overtake, driver)\n",
    "# top_10_strategies = optimiser.simulated_annealing_optimisation(max_iterations=2)\n",
    "\n",
    "\n",
    "# print(f\"Actual Strategy: {race_setup.extract_driver_strategy(given_driver=driver)}\")\n",
    "# print(f\"Actual finishing position: {race_setup.get_driver_finishing_position(given_driver=driver)}\")"
   ]
  },
  {
   "cell_type": "code",
   "execution_count": null,
   "metadata": {},
   "outputs": [],
   "source": [
    "# top_10_strategies"
   ]
  },
  {
   "cell_type": "markdown",
   "metadata": {},
   "source": [
    "[{'strategy': {1: 2, 11: 3}, 'position': 2},\n",
    " {'strategy': {1: 1, 2: 2, 30: 2}, 'position': 2},\n",
    " {'strategy': {1: 2, 3: 3}, 'position': 2},\n",
    " {'strategy': {1: 2, 35: 2, 37: 3}, 'position': 2},\n",
    " {'strategy': {1: 3, 12: 2, 36: 3}, 'position': 2},\n",
    " {'strategy': {1: 2, 7: 3}, 'position': 2},\n",
    " {'strategy': {1: 2, 2: 3}, 'position': 2},\n",
    " {'strategy': {1: 2, 21: 3}, 'position': 2},\n",
    " {'strategy': {1: 2, 42: 2, 52: 3}, 'position': 2},\n",
    " {'strategy': {1: 3, 7: 2}, 'position': 2}]"
   ]
  },
  {
   "cell_type": "code",
   "execution_count": null,
   "metadata": {},
   "outputs": [],
   "source": [
    "# optimiser = Optimisation(race_setup, overtake, driver)\n",
    "# top_10_strategies = optimiser.monte_carlo_tree_search(max_iterations=20)\n",
    "\n",
    "\n",
    "# print(f\"Actual Strategy: {race_setup.extract_driver_strategy(given_driver=driver)}\")\n",
    "# print(f\"Actual finishing position: {race_setup.get_driver_finishing_position(given_driver=driver)}\")"
   ]
  },
  {
   "cell_type": "code",
   "execution_count": null,
   "metadata": {},
   "outputs": [],
   "source": [
    "# top_10_strategies"
   ]
  }
 ],
 "metadata": {
  "kernelspec": {
   "display_name": "env",
   "language": "python",
   "name": "python3"
  },
  "language_info": {
   "codemirror_mode": {
    "name": "ipython",
    "version": 3
   },
   "file_extension": ".py",
   "mimetype": "text/x-python",
   "name": "python",
   "nbconvert_exporter": "python",
   "pygments_lexer": "ipython3",
   "version": "3.10.12"
  }
 },
 "nbformat": 4,
 "nbformat_minor": 2
}
