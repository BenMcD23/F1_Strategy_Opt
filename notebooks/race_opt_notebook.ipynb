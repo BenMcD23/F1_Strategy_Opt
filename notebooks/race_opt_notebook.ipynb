{
 "cells": [
  {
   "cell_type": "code",
   "execution_count": 1,
   "metadata": {},
   "outputs": [],
   "source": [
    "import sys\n",
    "import os\n",
    "sys.path.append(os.path.abspath(os.path.join(os.getcwd(), \"../\")))\n",
    "\n",
    "from database_operations import DatabaseOperations\n",
    "from overtake_model import OvertakingModel\n",
    "from race_data import RaceDataSetup\n",
    "from race_dataframe import RaceDataframe\n",
    "from race_sim import RaceSimulator\n",
    "from evaluation import RaceSimEvaluation, EvaluateMany\n",
    "from optimisation import Optimisation"
   ]
  },
  {
   "cell_type": "code",
   "execution_count": 2,
   "metadata": {},
   "outputs": [],
   "source": [
    "db = DatabaseOperations(2024, \"Sakhir\")\n",
    "race_dataframe = RaceDataframe(db)\n",
    "race_setup = RaceDataSetup(db, race_dataframe)\n",
    "overtake = OvertakingModel(race_dataframe.race_df)\n",
    "simulation = RaceSimulator(race_setup, overtake)\n",
    "driver = 16\n"
   ]
  },
  {
   "cell_type": "code",
   "execution_count": 3,
   "metadata": {},
   "outputs": [
    {
     "name": "stdout",
     "output_type": "stream",
     "text": [
      "|   iter    |  target   | num_pi... | pit1_lap  | pit1_tyre | pit2_lap  | pit2_tyre | pit3_lap  | pit3_tyre | start_... |\n",
      "-------------------------------------------------------------------------------------------------------------------------\n",
      "| \u001b[39m1        \u001b[39m | \u001b[39m-20.0    \u001b[39m | \u001b[39m1.749    \u001b[39m | \u001b[39m53.34    \u001b[39m | \u001b[39m2.464    \u001b[39m | \u001b[39m34.33    \u001b[39m | \u001b[39m1.312    \u001b[39m | \u001b[39m10.42    \u001b[39m | \u001b[39m1.116    \u001b[39m | \u001b[39m2.732    \u001b[39m |\n",
      "| \u001b[35m2        \u001b[39m | \u001b[35m-8.0     \u001b[39m | \u001b[35m2.202    \u001b[39m | \u001b[35m40.24    \u001b[39m | \u001b[35m1.041    \u001b[39m | \u001b[35m54.38    \u001b[39m | \u001b[35m2.665    \u001b[39m | \u001b[35m13.47    \u001b[39m | \u001b[35m1.364    \u001b[39m | \u001b[35m1.367    \u001b[39m |\n",
      "| \u001b[39m3        \u001b[39m | \u001b[39m-20.0    \u001b[39m | \u001b[39m1.608    \u001b[39m | \u001b[39m30.34    \u001b[39m | \u001b[39m1.864    \u001b[39m | \u001b[39m17.73    \u001b[39m | \u001b[39m2.224    \u001b[39m | \u001b[39m9.533    \u001b[39m | \u001b[39m1.584    \u001b[39m | \u001b[39m1.733    \u001b[39m |\n",
      "| \u001b[39m4        \u001b[39m | \u001b[39m-20.0    \u001b[39m | \u001b[39m1.912    \u001b[39m | \u001b[39m44.4     \u001b[39m | \u001b[39m1.399    \u001b[39m | \u001b[39m29.77    \u001b[39m | \u001b[39m2.185    \u001b[39m | \u001b[39m4.508    \u001b[39m | \u001b[39m2.215    \u001b[39m | \u001b[39m1.341    \u001b[39m |\n",
      "| \u001b[39m5        \u001b[39m | \u001b[39m-12.0    \u001b[39m | \u001b[39m1.13     \u001b[39m | \u001b[39m53.24    \u001b[39m | \u001b[39m2.931    \u001b[39m | \u001b[39m45.65    \u001b[39m | \u001b[39m1.609    \u001b[39m | \u001b[39m7.274    \u001b[39m | \u001b[39m2.368    \u001b[39m | \u001b[39m1.88     \u001b[39m |\n",
      "| \u001b[35m6        \u001b[39m | \u001b[35m-4.0     \u001b[39m | \u001b[35m2.938    \u001b[39m | \u001b[35m49.72    \u001b[39m | \u001b[35m2.856    \u001b[39m | \u001b[35m55.73    \u001b[39m | \u001b[35m1.348    \u001b[39m | \u001b[35m23.4     \u001b[39m | \u001b[35m2.516    \u001b[39m | \u001b[35m2.392    \u001b[39m |\n",
      "| \u001b[39m7        \u001b[39m | \u001b[39m-20.0    \u001b[39m | \u001b[39m1.917    \u001b[39m | \u001b[39m47.94    \u001b[39m | \u001b[39m1.744    \u001b[39m | \u001b[39m54.9     \u001b[39m | \u001b[39m2.574    \u001b[39m | \u001b[39m46.48    \u001b[39m | \u001b[39m2.176    \u001b[39m | \u001b[39m1.562    \u001b[39m |\n",
      "| \u001b[39m8        \u001b[39m | \u001b[39m-9.0     \u001b[39m | \u001b[39m2.293    \u001b[39m | \u001b[39m50.88    \u001b[39m | \u001b[39m1.827    \u001b[39m | \u001b[39m55.43    \u001b[39m | \u001b[39m1.553    \u001b[39m | \u001b[39m20.93    \u001b[39m | \u001b[39m2.95     \u001b[39m | \u001b[39m2.623    \u001b[39m |\n",
      "| \u001b[39m9        \u001b[39m | \u001b[39m-4.0     \u001b[39m | \u001b[39m2.481    \u001b[39m | \u001b[39m43.63    \u001b[39m | \u001b[39m2.382    \u001b[39m | \u001b[39m53.93    \u001b[39m | \u001b[39m2.273    \u001b[39m | \u001b[39m23.36    \u001b[39m | \u001b[39m2.453    \u001b[39m | \u001b[39m1.685    \u001b[39m |\n",
      "| \u001b[39m10       \u001b[39m | \u001b[39m-4.0     \u001b[39m | \u001b[39m2.583    \u001b[39m | \u001b[39m49.86    \u001b[39m | \u001b[39m2.701    \u001b[39m | \u001b[39m51.81    \u001b[39m | \u001b[39m1.683    \u001b[39m | \u001b[39m30.08    \u001b[39m | \u001b[39m1.913    \u001b[39m | \u001b[39m2.796    \u001b[39m |\n",
      "| \u001b[39m11       \u001b[39m | \u001b[39m-10.0    \u001b[39m | \u001b[39m2.92     \u001b[39m | \u001b[39m39.38    \u001b[39m | \u001b[39m2.977    \u001b[39m | \u001b[39m55.9     \u001b[39m | \u001b[39m1.339    \u001b[39m | \u001b[39m31.27    \u001b[39m | \u001b[39m2.192    \u001b[39m | \u001b[39m1.74     \u001b[39m |\n",
      "| \u001b[39m12       \u001b[39m | \u001b[39m-4.0     \u001b[39m | \u001b[39m2.509    \u001b[39m | \u001b[39m41.6     \u001b[39m | \u001b[39m2.642    \u001b[39m | \u001b[39m43.47    \u001b[39m | \u001b[39m1.051    \u001b[39m | \u001b[39m25.41    \u001b[39m | \u001b[39m1.231    \u001b[39m | \u001b[39m2.169    \u001b[39m |\n",
      "| \u001b[39m13       \u001b[39m | \u001b[39m-5.0     \u001b[39m | \u001b[39m1.377    \u001b[39m | \u001b[39m28.25    \u001b[39m | \u001b[39m2.674    \u001b[39m | \u001b[39m44.35    \u001b[39m | \u001b[39m2.209    \u001b[39m | \u001b[39m22.05    \u001b[39m | \u001b[39m2.413    \u001b[39m | \u001b[39m1.084    \u001b[39m |\n",
      "| \u001b[39m14       \u001b[39m | \u001b[39m-9.0     \u001b[39m | \u001b[39m2.546    \u001b[39m | \u001b[39m31.75    \u001b[39m | \u001b[39m2.327    \u001b[39m | \u001b[39m36.95    \u001b[39m | \u001b[39m1.079    \u001b[39m | \u001b[39m33.58    \u001b[39m | \u001b[39m1.402    \u001b[39m | \u001b[39m2.326    \u001b[39m |\n",
      "| \u001b[39m15       \u001b[39m | \u001b[39m-20.0    \u001b[39m | \u001b[39m2.787    \u001b[39m | \u001b[39m21.4     \u001b[39m | \u001b[39m2.255    \u001b[39m | \u001b[39m52.92    \u001b[39m | \u001b[39m2.563    \u001b[39m | \u001b[39m14.74    \u001b[39m | \u001b[39m1.329    \u001b[39m | \u001b[39m2.77     \u001b[39m |\n",
      "| \u001b[39m16       \u001b[39m | \u001b[39m-4.0     \u001b[39m | \u001b[39m2.608    \u001b[39m | \u001b[39m35.49    \u001b[39m | \u001b[39m1.737    \u001b[39m | \u001b[39m40.01    \u001b[39m | \u001b[39m2.462    \u001b[39m | \u001b[39m18.35    \u001b[39m | \u001b[39m2.791    \u001b[39m | \u001b[39m1.618    \u001b[39m |\n",
      "| \u001b[39m17       \u001b[39m | \u001b[39m-8.0     \u001b[39m | \u001b[39m2.465    \u001b[39m | \u001b[39m20.97    \u001b[39m | \u001b[39m2.704    \u001b[39m | \u001b[39m32.97    \u001b[39m | \u001b[39m2.142    \u001b[39m | \u001b[39m23.53    \u001b[39m | \u001b[39m2.204    \u001b[39m | \u001b[39m1.648    \u001b[39m |\n",
      "| \u001b[39m18       \u001b[39m | \u001b[39m-14.0    \u001b[39m | \u001b[39m1.901    \u001b[39m | \u001b[39m6.002    \u001b[39m | \u001b[39m2.812    \u001b[39m | \u001b[39m30.73    \u001b[39m | \u001b[39m2.938    \u001b[39m | \u001b[39m37.61    \u001b[39m | \u001b[39m2.602    \u001b[39m | \u001b[39m1.714    \u001b[39m |\n",
      "| \u001b[39m19       \u001b[39m | \u001b[39m-20.0    \u001b[39m | \u001b[39m1.78     \u001b[39m | \u001b[39m49.89    \u001b[39m | \u001b[39m1.861    \u001b[39m | \u001b[39m37.18    \u001b[39m | \u001b[39m1.893    \u001b[39m | \u001b[39m32.41    \u001b[39m | \u001b[39m1.576    \u001b[39m | \u001b[39m1.812    \u001b[39m |\n",
      "| \u001b[39m20       \u001b[39m | \u001b[39m-4.0     \u001b[39m | \u001b[39m2.454    \u001b[39m | \u001b[39m36.73    \u001b[39m | \u001b[39m1.98     \u001b[39m | \u001b[39m46.91    \u001b[39m | \u001b[39m2.573    \u001b[39m | \u001b[39m22.73    \u001b[39m | \u001b[39m1.393    \u001b[39m | \u001b[39m2.784    \u001b[39m |\n",
      "| \u001b[39m21       \u001b[39m | \u001b[39m-20.0    \u001b[39m | \u001b[39m1.118    \u001b[39m | \u001b[39m27.81    \u001b[39m | \u001b[39m2.601    \u001b[39m | \u001b[39m2.001    \u001b[39m | \u001b[39m2.22     \u001b[39m | \u001b[39m55.15    \u001b[39m | \u001b[39m2.26     \u001b[39m | \u001b[39m2.632    \u001b[39m |\n",
      "| \u001b[39m22       \u001b[39m | \u001b[39m-20.0    \u001b[39m | \u001b[39m1.397    \u001b[39m | \u001b[39m2.759    \u001b[39m | \u001b[39m2.467    \u001b[39m | \u001b[39m55.99    \u001b[39m | \u001b[39m1.285    \u001b[39m | \u001b[39m52.42    \u001b[39m | \u001b[39m1.632    \u001b[39m | \u001b[39m2.378    \u001b[39m |\n",
      "| \u001b[39m23       \u001b[39m | \u001b[39m-20.0    \u001b[39m | \u001b[39m1.444    \u001b[39m | \u001b[39m2.782    \u001b[39m | \u001b[39m1.183    \u001b[39m | \u001b[39m2.941    \u001b[39m | \u001b[39m2.65     \u001b[39m | \u001b[39m17.13    \u001b[39m | \u001b[39m2.21     \u001b[39m | \u001b[39m2.376    \u001b[39m |\n",
      "| \u001b[39m24       \u001b[39m | \u001b[39m-9.0     \u001b[39m | \u001b[39m2.622    \u001b[39m | \u001b[39m31.02    \u001b[39m | \u001b[39m1.984    \u001b[39m | \u001b[39m35.67    \u001b[39m | \u001b[39m1.277    \u001b[39m | \u001b[39m23.6     \u001b[39m | \u001b[39m1.029    \u001b[39m | \u001b[39m2.914    \u001b[39m |\n",
      "| \u001b[35m25       \u001b[39m | \u001b[35m-3.0     \u001b[39m | \u001b[35m1.025    \u001b[39m | \u001b[35m19.06    \u001b[39m | \u001b[35m2.926    \u001b[39m | \u001b[35m42.75    \u001b[39m | \u001b[35m2.165    \u001b[39m | \u001b[35m33.06    \u001b[39m | \u001b[35m2.34     \u001b[39m | \u001b[35m1.746    \u001b[39m |\n",
      "| \u001b[39m26       \u001b[39m | \u001b[39m-5.0     \u001b[39m | \u001b[39m1.144    \u001b[39m | \u001b[39m22.97    \u001b[39m | \u001b[39m2.867    \u001b[39m | \u001b[39m44.1     \u001b[39m | \u001b[39m1.885    \u001b[39m | \u001b[39m43.62    \u001b[39m | \u001b[39m1.723    \u001b[39m | \u001b[39m1.945    \u001b[39m |\n",
      "| \u001b[39m27       \u001b[39m | \u001b[39m-5.0     \u001b[39m | \u001b[39m1.398    \u001b[39m | \u001b[39m22.72    \u001b[39m | \u001b[39m2.017    \u001b[39m | \u001b[39m51.53    \u001b[39m | \u001b[39m1.207    \u001b[39m | \u001b[39m34.66    \u001b[39m | \u001b[39m2.013    \u001b[39m | \u001b[39m1.279    \u001b[39m |\n",
      "| \u001b[39m28       \u001b[39m | \u001b[39m-7.0     \u001b[39m | \u001b[39m1.251    \u001b[39m | \u001b[39m27.37    \u001b[39m | \u001b[39m2.351    \u001b[39m | \u001b[39m33.5     \u001b[39m | \u001b[39m2.999    \u001b[39m | \u001b[39m55.88    \u001b[39m | \u001b[39m1.104    \u001b[39m | \u001b[39m1.055    \u001b[39m |\n",
      "| \u001b[39m29       \u001b[39m | \u001b[39m-20.0    \u001b[39m | \u001b[39m2.839    \u001b[39m | \u001b[39m55.78    \u001b[39m | \u001b[39m1.042    \u001b[39m | \u001b[39m2.016    \u001b[39m | \u001b[39m1.068    \u001b[39m | \u001b[39m38.36    \u001b[39m | \u001b[39m1.602    \u001b[39m | \u001b[39m1.434    \u001b[39m |\n",
      "| \u001b[39m30       \u001b[39m | \u001b[39m-13.0    \u001b[39m | \u001b[39m1.473    \u001b[39m | \u001b[39m21.67    \u001b[39m | \u001b[39m1.204    \u001b[39m | \u001b[39m29.81    \u001b[39m | \u001b[39m1.127    \u001b[39m | \u001b[39m45.27    \u001b[39m | \u001b[39m2.322    \u001b[39m | \u001b[39m2.309    \u001b[39m |\n",
      "| \u001b[39m31       \u001b[39m | \u001b[39m-8.0     \u001b[39m | \u001b[39m1.278    \u001b[39m | \u001b[39m26.27    \u001b[39m | \u001b[39m1.66     \u001b[39m | \u001b[39m48.72    \u001b[39m | \u001b[39m2.745    \u001b[39m | \u001b[39m54.79    \u001b[39m | \u001b[39m1.8      \u001b[39m | \u001b[39m2.968    \u001b[39m |\n",
      "| \u001b[39m32       \u001b[39m | \u001b[39m-9.0     \u001b[39m | \u001b[39m1.831    \u001b[39m | \u001b[39m11.21    \u001b[39m | \u001b[39m2.14     \u001b[39m | \u001b[39m49.04    \u001b[39m | \u001b[39m2.985    \u001b[39m | \u001b[39m33.23    \u001b[39m | \u001b[39m2.168    \u001b[39m | \u001b[39m1.921    \u001b[39m |\n",
      "| \u001b[39m33       \u001b[39m | \u001b[39m-20.0    \u001b[39m | \u001b[39m2.231    \u001b[39m | \u001b[39m3.099    \u001b[39m | \u001b[39m2.208    \u001b[39m | \u001b[39m31.62    \u001b[39m | \u001b[39m1.773    \u001b[39m | \u001b[39m2.303    \u001b[39m | \u001b[39m1.126    \u001b[39m | \u001b[39m1.906    \u001b[39m |\n",
      "| \u001b[39m34       \u001b[39m | \u001b[39m-17.0    \u001b[39m | \u001b[39m1.938    \u001b[39m | \u001b[39m2.012    \u001b[39m | \u001b[39m2.363    \u001b[39m | \u001b[39m4.942    \u001b[39m | \u001b[39m2.136    \u001b[39m | \u001b[39m53.61    \u001b[39m | \u001b[39m1.6      \u001b[39m | \u001b[39m1.016    \u001b[39m |\n",
      "| \u001b[39m35       \u001b[39m | \u001b[39m-20.0    \u001b[39m | \u001b[39m2.272    \u001b[39m | \u001b[39m55.61    \u001b[39m | \u001b[39m1.408    \u001b[39m | \u001b[39m2.192    \u001b[39m | \u001b[39m1.791    \u001b[39m | \u001b[39m2.87     \u001b[39m | \u001b[39m1.295    \u001b[39m | \u001b[39m2.972    \u001b[39m |\n",
      "| \u001b[39m36       \u001b[39m | \u001b[39m-8.0     \u001b[39m | \u001b[39m2.624    \u001b[39m | \u001b[39m41.0     \u001b[39m | \u001b[39m2.742    \u001b[39m | \u001b[39m28.47    \u001b[39m | \u001b[39m1.344    \u001b[39m | \u001b[39m55.83    \u001b[39m | \u001b[39m2.658    \u001b[39m | \u001b[39m1.616    \u001b[39m |\n",
      "| \u001b[39m37       \u001b[39m | \u001b[39m-20.0    \u001b[39m | \u001b[39m2.202    \u001b[39m | \u001b[39m25.95    \u001b[39m | \u001b[39m2.067    \u001b[39m | \u001b[39m44.12    \u001b[39m | \u001b[39m2.927    \u001b[39m | \u001b[39m34.46    \u001b[39m | \u001b[39m2.065    \u001b[39m | \u001b[39m2.297    \u001b[39m |\n",
      "| \u001b[39m38       \u001b[39m | \u001b[39m-8.0     \u001b[39m | \u001b[39m2.076    \u001b[39m | \u001b[39m16.54    \u001b[39m | \u001b[39m1.613    \u001b[39m | \u001b[39m44.36    \u001b[39m | \u001b[39m1.604    \u001b[39m | \u001b[39m38.11    \u001b[39m | \u001b[39m1.052    \u001b[39m | \u001b[39m2.935    \u001b[39m |\n",
      "| \u001b[39m39       \u001b[39m | \u001b[39m-3.0     \u001b[39m | \u001b[39m1.485    \u001b[39m | \u001b[39m42.11    \u001b[39m | \u001b[39m2.038    \u001b[39m | \u001b[39m46.0     \u001b[39m | \u001b[39m2.469    \u001b[39m | \u001b[39m19.6     \u001b[39m | \u001b[39m2.24     \u001b[39m | \u001b[39m1.736    \u001b[39m |\n",
      "| \u001b[39m40       \u001b[39m | \u001b[39m-4.0     \u001b[39m | \u001b[39m1.176    \u001b[39m | \u001b[39m17.22    \u001b[39m | \u001b[39m2.662    \u001b[39m | \u001b[39m41.65    \u001b[39m | \u001b[39m2.017    \u001b[39m | \u001b[39m26.36    \u001b[39m | \u001b[39m1.813    \u001b[39m | \u001b[39m1.726    \u001b[39m |\n",
      "| \u001b[39m41       \u001b[39m | \u001b[39m-20.0    \u001b[39m | \u001b[39m2.046    \u001b[39m | \u001b[39m15.68    \u001b[39m | \u001b[39m1.972    \u001b[39m | \u001b[39m36.87    \u001b[39m | \u001b[39m1.778    \u001b[39m | \u001b[39m32.01    \u001b[39m | \u001b[39m1.935    \u001b[39m | \u001b[39m1.85     \u001b[39m |\n",
      "| \u001b[39m42       \u001b[39m | \u001b[39m-20.0    \u001b[39m | \u001b[39m1.875    \u001b[39m | \u001b[39m17.64    \u001b[39m | \u001b[39m1.309    \u001b[39m | \u001b[39m47.65    \u001b[39m | \u001b[39m2.359    \u001b[39m | \u001b[39m30.05    \u001b[39m | \u001b[39m2.969    \u001b[39m | \u001b[39m1.595    \u001b[39m |\n",
      "| \u001b[39m43       \u001b[39m | \u001b[39m-6.0     \u001b[39m | \u001b[39m2.126    \u001b[39m | \u001b[39m43.48    \u001b[39m | \u001b[39m2.615    \u001b[39m | \u001b[39m48.31    \u001b[39m | \u001b[39m2.059    \u001b[39m | \u001b[39m24.01    \u001b[39m | \u001b[39m2.031    \u001b[39m | \u001b[39m1.815    \u001b[39m |\n",
      "| \u001b[39m44       \u001b[39m | \u001b[39m-13.0    \u001b[39m | \u001b[39m1.372    \u001b[39m | \u001b[39m38.45    \u001b[39m | \u001b[39m1.706    \u001b[39m | \u001b[39m42.93    \u001b[39m | \u001b[39m1.652    \u001b[39m | \u001b[39m21.21    \u001b[39m | \u001b[39m1.953    \u001b[39m | \u001b[39m2.35     \u001b[39m |\n",
      "| \u001b[39m45       \u001b[39m | \u001b[39m-7.0     \u001b[39m | \u001b[39m1.1      \u001b[39m | \u001b[39m46.65    \u001b[39m | \u001b[39m2.089    \u001b[39m | \u001b[39m53.56    \u001b[39m | \u001b[39m2.335    \u001b[39m | \u001b[39m25.96    \u001b[39m | \u001b[39m2.182    \u001b[39m | \u001b[39m1.872    \u001b[39m |\n",
      "| \u001b[39m46       \u001b[39m | \u001b[39m-4.0     \u001b[39m | \u001b[39m2.332    \u001b[39m | \u001b[39m39.48    \u001b[39m | \u001b[39m2.217    \u001b[39m | \u001b[39m48.48    \u001b[39m | \u001b[39m2.94     \u001b[39m | \u001b[39m20.49    \u001b[39m | \u001b[39m1.573    \u001b[39m | \u001b[39m1.038    \u001b[39m |\n",
      "| \u001b[39m47       \u001b[39m | \u001b[39m-20.0    \u001b[39m | \u001b[39m2.257    \u001b[39m | \u001b[39m39.31    \u001b[39m | \u001b[39m1.724    \u001b[39m | \u001b[39m48.61    \u001b[39m | \u001b[39m1.539    \u001b[39m | \u001b[39m25.58    \u001b[39m | \u001b[39m1.717    \u001b[39m | \u001b[39m1.662    \u001b[39m |\n",
      "| \u001b[39m48       \u001b[39m | \u001b[39m-5.0     \u001b[39m | \u001b[39m2.15     \u001b[39m | \u001b[39m40.59    \u001b[39m | \u001b[39m2.366    \u001b[39m | \u001b[39m47.42    \u001b[39m | \u001b[39m1.88     \u001b[39m | \u001b[39m18.78    \u001b[39m | \u001b[39m1.207    \u001b[39m | \u001b[39m1.245    \u001b[39m |\n",
      "| \u001b[39m49       \u001b[39m | \u001b[39m-3.0     \u001b[39m | \u001b[39m1.714    \u001b[39m | \u001b[39m43.2     \u001b[39m | \u001b[39m2.719    \u001b[39m | \u001b[39m47.78    \u001b[39m | \u001b[39m1.902    \u001b[39m | \u001b[39m19.56    \u001b[39m | \u001b[39m2.871    \u001b[39m | \u001b[39m1.018    \u001b[39m |\n",
      "| \u001b[39m50       \u001b[39m | \u001b[39m-3.0     \u001b[39m | \u001b[39m2.774    \u001b[39m | \u001b[39m45.58    \u001b[39m | \u001b[39m2.173    \u001b[39m | \u001b[39m50.57    \u001b[39m | \u001b[39m1.153    \u001b[39m | \u001b[39m21.19    \u001b[39m | \u001b[39m2.348    \u001b[39m | \u001b[39m2.017    \u001b[39m |\n",
      "| \u001b[39m51       \u001b[39m | \u001b[39m-5.0     \u001b[39m | \u001b[39m2.595    \u001b[39m | \u001b[39m43.02    \u001b[39m | \u001b[39m2.799    \u001b[39m | \u001b[39m51.55    \u001b[39m | \u001b[39m1.675    \u001b[39m | \u001b[39m19.53    \u001b[39m | \u001b[39m2.55     \u001b[39m | \u001b[39m1.957    \u001b[39m |\n",
      "| \u001b[39m52       \u001b[39m | \u001b[39m-5.0     \u001b[39m | \u001b[39m2.959    \u001b[39m | \u001b[39m45.68    \u001b[39m | \u001b[39m2.173    \u001b[39m | \u001b[39m46.7     \u001b[39m | \u001b[39m1.911    \u001b[39m | \u001b[39m22.12    \u001b[39m | \u001b[39m2.174    \u001b[39m | \u001b[39m1.859    \u001b[39m |\n",
      "| \u001b[39m53       \u001b[39m | \u001b[39m-9.0     \u001b[39m | \u001b[39m2.699    \u001b[39m | \u001b[39m32.62    \u001b[39m | \u001b[39m2.241    \u001b[39m | \u001b[39m44.63    \u001b[39m | \u001b[39m1.696    \u001b[39m | \u001b[39m20.83    \u001b[39m | \u001b[39m2.997    \u001b[39m | \u001b[39m1.14     \u001b[39m |\n",
      "| \u001b[39m54       \u001b[39m | \u001b[39m-15.0    \u001b[39m | \u001b[39m1.115    \u001b[39m | \u001b[39m43.87    \u001b[39m | \u001b[39m1.002    \u001b[39m | \u001b[39m48.23    \u001b[39m | \u001b[39m2.395    \u001b[39m | \u001b[39m20.95    \u001b[39m | \u001b[39m1.137    \u001b[39m | \u001b[39m2.105    \u001b[39m |\n",
      "| \u001b[39m55       \u001b[39m | \u001b[39m-20.0    \u001b[39m | \u001b[39m1.859    \u001b[39m | \u001b[39m47.75    \u001b[39m | \u001b[39m2.878    \u001b[39m | \u001b[39m52.13    \u001b[39m | \u001b[39m1.071    \u001b[39m | \u001b[39m23.12    \u001b[39m | \u001b[39m2.152    \u001b[39m | \u001b[39m2.436    \u001b[39m |\n",
      "=========================================================================================================================\n",
      "Actual Strategy: {1: 1, 12: 3, 35: 3}\n",
      "Actual finishing position: 4\n"
     ]
    }
   ],
   "source": [
    "optimiser = Optimisation(race_setup, overtake, driver)\n",
    "top_10_strategies = optimiser.bayesian_optimisation(max_iterations=50)\n",
    "\n",
    "\n",
    "print(f\"Actual Strategy: {race_setup.extract_driver_strategy(given_driver=driver)}\")\n",
    "print(f\"Actual finishing position: {race_setup.get_driver_finishing_position(given_driver=driver)}\")"
   ]
  },
  {
   "cell_type": "code",
   "execution_count": 4,
   "metadata": {},
   "outputs": [
    {
     "data": {
      "text/plain": [
       "[{'strategy': {1: 1, 19: 3}, 'position': 3.0},\n",
       " {'strategy': {1: 1, 19: 3}, 'position': 3.0},\n",
       " {'strategy': {1: 1, 19: 3}, 'position': 3.0},\n",
       " {'strategy': {1: 3, 21: 3, 45: 1}, 'position': 3.0},\n",
       " {'strategy': {1: 3, 23: 3, 49: 1}, 'position': 4.0},\n",
       " {'strategy': {1: 1, 23: 3, 43: 3}, 'position': 4.0},\n",
       " {'strategy': {1: 3, 30: 3, 49: 1}, 'position': 4.0},\n",
       " {'strategy': {1: 3, 25: 3, 41: 1}, 'position': 4.0},\n",
       " {'strategy': {1: 1, 18: 1, 35: 3}, 'position': 4.0},\n",
       " {'strategy': {1: 3, 22: 1, 36: 3}, 'position': 4.0}]"
      ]
     },
     "execution_count": 4,
     "metadata": {},
     "output_type": "execute_result"
    }
   ],
   "source": [
    "top_10_strategies"
   ]
  },
  {
   "cell_type": "markdown",
   "metadata": {},
   "source": [
    "[{'strategy': {1: 1, 20: 3}, 'position': 3.0},\n",
    " {'strategy': {1: 1, 21: 3}, 'position': 3.0},\n",
    " {'strategy': {1: 1, 20: 3}, 'position': 3.0},\n",
    " {'strategy': {1: 1, 20: 3}, 'position': 3.0},\n",
    " {'strategy': {1: 1, 20: 3}, 'position': 3.0},\n",
    " {'strategy': {1: 1, 20: 3}, 'position': 3.0},\n",
    " {'strategy': {1: 1, 21: 1, 34: 3}, 'position': 4.0},\n",
    " {'strategy': {1: 3, 16: 1, 35: 3}, 'position': 4.0},\n",
    " {'strategy': {1: 1, 17: 1, 32: 3}, 'position': 4.0},\n",
    " {'strategy': {1: 3, 16: 1, 35: 3}, 'position': 4.0}]"
   ]
  },
  {
   "cell_type": "code",
   "execution_count": 5,
   "metadata": {},
   "outputs": [],
   "source": [
    "# optimiser = Optimisation(race_setup, overtake, driver)\n",
    "# top_10_strategies = optimiser.genetic_algorithm_optimisation(population_size=5, generations=2)\n",
    "\n",
    "\n",
    "# print(f\"Actual Strategy: {race_setup.extract_driver_strategy(given_driver=driver)}\")\n",
    "# print(f\"Actual finishing position: {race_setup.get_driver_finishing_position(given_driver=driver)}\")"
   ]
  },
  {
   "cell_type": "code",
   "execution_count": 6,
   "metadata": {},
   "outputs": [
    {
     "data": {
      "text/plain": [
       "[{'strategy': {1: 1, 19: 3}, 'position': 3.0},\n",
       " {'strategy': {1: 1, 19: 3}, 'position': 3.0},\n",
       " {'strategy': {1: 1, 19: 3}, 'position': 3.0},\n",
       " {'strategy': {1: 3, 21: 3, 45: 1}, 'position': 3.0},\n",
       " {'strategy': {1: 3, 23: 3, 49: 1}, 'position': 4.0},\n",
       " {'strategy': {1: 1, 23: 3, 43: 3}, 'position': 4.0},\n",
       " {'strategy': {1: 3, 30: 3, 49: 1}, 'position': 4.0},\n",
       " {'strategy': {1: 3, 25: 3, 41: 1}, 'position': 4.0},\n",
       " {'strategy': {1: 1, 18: 1, 35: 3}, 'position': 4.0},\n",
       " {'strategy': {1: 3, 22: 1, 36: 3}, 'position': 4.0}]"
      ]
     },
     "execution_count": 6,
     "metadata": {},
     "output_type": "execute_result"
    }
   ],
   "source": [
    "top_10_strategies"
   ]
  },
  {
   "cell_type": "code",
   "execution_count": 7,
   "metadata": {},
   "outputs": [],
   "source": [
    "# optimiser = Optimisation(race_setup, overtake, driver)\n",
    "# top_10_strategies = optimiser.simulated_annealing_optimisation(max_iterations=2)\n",
    "\n",
    "\n",
    "# print(f\"Actual Strategy: {race_setup.extract_driver_strategy(given_driver=driver)}\")\n",
    "# print(f\"Actual finishing position: {race_setup.get_driver_finishing_position(given_driver=driver)}\")"
   ]
  },
  {
   "cell_type": "code",
   "execution_count": 8,
   "metadata": {},
   "outputs": [],
   "source": [
    "# top_10_strategies"
   ]
  },
  {
   "cell_type": "markdown",
   "metadata": {},
   "source": [
    "[{'strategy': {1: 2, 11: 3}, 'position': 2},\n",
    " {'strategy': {1: 1, 2: 2, 30: 2}, 'position': 2},\n",
    " {'strategy': {1: 2, 3: 3}, 'position': 2},\n",
    " {'strategy': {1: 2, 35: 2, 37: 3}, 'position': 2},\n",
    " {'strategy': {1: 3, 12: 2, 36: 3}, 'position': 2},\n",
    " {'strategy': {1: 2, 7: 3}, 'position': 2},\n",
    " {'strategy': {1: 2, 2: 3}, 'position': 2},\n",
    " {'strategy': {1: 2, 21: 3}, 'position': 2},\n",
    " {'strategy': {1: 2, 42: 2, 52: 3}, 'position': 2},\n",
    " {'strategy': {1: 3, 7: 2}, 'position': 2}]"
   ]
  },
  {
   "cell_type": "code",
   "execution_count": 9,
   "metadata": {},
   "outputs": [],
   "source": [
    "# optimiser = Optimisation(race_setup, overtake, driver)\n",
    "# top_10_strategies = optimiser.monte_carlo_tree_search(max_iterations=20)\n",
    "\n",
    "\n",
    "# print(f\"Actual Strategy: {race_setup.extract_driver_strategy(given_driver=driver)}\")\n",
    "# print(f\"Actual finishing position: {race_setup.get_driver_finishing_position(given_driver=driver)}\")"
   ]
  },
  {
   "cell_type": "code",
   "execution_count": 10,
   "metadata": {},
   "outputs": [],
   "source": [
    "# top_10_strategies"
   ]
  }
 ],
 "metadata": {
  "kernelspec": {
   "display_name": "env",
   "language": "python",
   "name": "python3"
  },
  "language_info": {
   "codemirror_mode": {
    "name": "ipython",
    "version": 3
   },
   "file_extension": ".py",
   "mimetype": "text/x-python",
   "name": "python",
   "nbconvert_exporter": "python",
   "pygments_lexer": "ipython3",
   "version": "3.10.12"
  }
 },
 "nbformat": 4,
 "nbformat_minor": 2
}
