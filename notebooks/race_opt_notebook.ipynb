{
 "cells": [
  {
   "cell_type": "code",
   "execution_count": null,
   "metadata": {},
   "outputs": [],
   "source": [
    "import sys\n",
    "import os\n",
    "sys.path.append(os.path.abspath(os.path.join(os.getcwd(), \"../\")))\n",
    "\n",
    "from database_operations import DatabaseOperations\n",
    "from overtake_model import OvertakingModel\n",
    "from race_data import RaceDataSetup\n",
    "from race_dataframe import RaceDataframe\n",
    "from race_sim import RaceSimulation\n",
    "from evaluation import RaceSimEvaluation, EvaluateMany\n",
    "from optimisation import Optimisation"
   ]
  },
  {
   "cell_type": "code",
   "execution_count": null,
   "metadata": {},
   "outputs": [],
   "source": [
    "db = DatabaseOperations(2024, \"Austin\")\n",
    "race_dataframe = RaceDataframe(db)\n",
    "race_setup = RaceDataSetup(db, race_dataframe)\n",
    "overtake = OvertakingModel(race_dataframe.race_df)\n",
    "simulation = RaceSimulation(race_setup, overtake)"
   ]
  },
  {
   "cell_type": "code",
   "execution_count": null,
   "metadata": {},
   "outputs": [],
   "source": [
    "# optimiser = Optimisation(race_setup, overtake)\n",
    "# driver = 16\n",
    "# top_10_strategies = optimiser.bayesian_strategy_optimisation(given_driver=driver, max_iterations=20)\n",
    "# print(f\"Best Strategy: {top_10_strategies[0]['strategy']}\")\n",
    "# print(f\"Best Finishing Position: {top_10_strategies[0]['position']}\")\n",
    "\n",
    "# print(f\"Actual Strategy: {race_setup.extract_driver_strategy(given_driver=driver)}\")\n",
    "# print(f\"Actual finishing position: {race_setup.get_driver_finishing_position(given_driver=driver)}\")"
   ]
  },
  {
   "cell_type": "code",
   "execution_count": null,
   "metadata": {},
   "outputs": [],
   "source": [
    "# top_10_strategies"
   ]
  },
  {
   "cell_type": "code",
   "execution_count": null,
   "metadata": {},
   "outputs": [
    {
     "name": "stderr",
     "output_type": "stream",
     "text": [
      "/home/ben/Individual_Project/env/lib/python3.10/site-packages/deap/creator.py:185: RuntimeWarning: A class named 'FitnessMin' has already been created and it will be overwritten. Consider deleting previous creation of that class or rename it.\n",
      "  warnings.warn(\"A class named '{0}' has already been created and it \"\n",
      "/home/ben/Individual_Project/env/lib/python3.10/site-packages/deap/creator.py:185: RuntimeWarning: A class named 'Individual' has already been created and it will be overwritten. Consider deleting previous creation of that class or rename it.\n",
      "  warnings.warn(\"A class named '{0}' has already been created and it \"\n"
     ]
    },
    {
     "name": "stdout",
     "output_type": "stream",
     "text": [
      "Running Genetic Algorithm...\n",
      "gen\tnevals\tavg \tmin\tmax\n",
      "0  \t5     \t13.4\t5  \t19 \n",
      "1  \t4     \t11.6\t5  \t19 \n",
      "2  \t4     \t7   \t5  \t15 \n",
      "3  \t5     \t7.8 \t5  \t19 \n",
      "4  \t4     \t4.6 \t3  \t5  \n",
      "5  \t4     \t5   \t4  \t6  \n",
      "Actual Strategy: {1: 2, 27: 3}\n",
      "Actual finishing position: 4\n"
     ]
    }
   ],
   "source": [
    "optimiser = Optimisation(race_setup, overtake)\n",
    "driver = 16\n",
    "top_10_strategies = optimiser.genetic_algorithm_optimisation(given_driver=driver, population_size=50, generations=20)\n",
    "\n",
    "\n",
    "print(f\"Actual Strategy: {race_setup.extract_driver_strategy(given_driver=driver)}\")\n",
    "print(f\"Actual finishing position: {race_setup.get_driver_finishing_position(given_driver=driver)}\")"
   ]
  },
  {
   "cell_type": "code",
   "execution_count": null,
   "metadata": {},
   "outputs": [
    {
     "data": {
      "text/plain": [
       "[{'strategy': {1: 1, 8: 2, 30: 3, 20: 3}, 'final_position': 3},\n",
       " {'strategy': {1: 2, 8: 3, 20: 3}, 'final_position': 4},\n",
       " {'strategy': {1: 2, 32: 3, 30: 2, 20: 3}, 'final_position': 5},\n",
       " {'strategy': {1: 2, 8: 2, 30: 3, 20: 3}, 'final_position': 5},\n",
       " {'strategy': {1: 2, 17: 3, 2: 2, 32: 3}, 'final_position': 5},\n",
       " {'strategy': {1: 2, 32: 3, 8: 2, 2: 3}, 'final_position': 5},\n",
       " {'strategy': {1: 2, 7: 2, 8: 2, 20: 3}, 'final_position': 5},\n",
       " {'strategy': {1: 1, 8: 2, 30: 3, 2: 3}, 'final_position': 5},\n",
       " {'strategy': {1: 1, 7: 2, 35: 3, 12: 3}, 'final_position': 5},\n",
       " {'strategy': {1: 2, 32: 3, 8: 2, 20: 3}, 'final_position': 5}]"
      ]
     },
     "execution_count": 8,
     "metadata": {},
     "output_type": "execute_result"
    }
   ],
   "source": [
    "top_10_strategies"
   ]
  },
  {
   "cell_type": "markdown",
   "metadata": {},
   "source": [
    "[{'strategy': {1: 3, 37: 3, 0: 1}, 'final_position': 2},\n",
    " {'strategy': {1: 2, 32: 3, 0: 1}, 'final_position': 2},\n",
    " {'strategy': {1: 2, 36: 3, 35: 1, 55: 3}, 'final_position': 11},\n",
    " {'strategy': {1: 2, 32: 3, 0: 1, 53: 1}, 'final_position': 17},\n",
    " {'strategy': {1: 2, 22: 3, 0: 1, 53: 1}, 'final_position': 17},\n",
    " {'strategy': {1: 2, 34: 2, 51: 2, 24: 1}, 'final_position': 18},\n",
    " {'strategy': {1: 3, 37: 3, 0: 1, 53: 1}, 'final_position': 18},\n",
    " {'strategy': {1: 1, 10: 1, 7: 1, 18: 1}, 'final_position': 19},\n",
    " {'strategy': {1: 3, 5: 2, 26: 1, 12: 2}, 'final_position': 19},\n",
    " {'strategy': {1: 2, 32: 1, 7: 1, 0: 1}, 'final_position': 19}]"
   ]
  }
 ],
 "metadata": {
  "kernelspec": {
   "display_name": "env",
   "language": "python",
   "name": "python3"
  },
  "language_info": {
   "codemirror_mode": {
    "name": "ipython",
    "version": 3
   },
   "file_extension": ".py",
   "mimetype": "text/x-python",
   "name": "python",
   "nbconvert_exporter": "python",
   "pygments_lexer": "ipython3",
   "version": "3.10.12"
  }
 },
 "nbformat": 4,
 "nbformat_minor": 2
}
