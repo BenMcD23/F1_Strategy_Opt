{
 "cells": [
  {
   "cell_type": "code",
   "execution_count": 1,
   "metadata": {},
   "outputs": [
    {
     "name": "stderr",
     "output_type": "stream",
     "text": [
      "2025-02-24 15:48:29.284225: I tensorflow/core/platform/cpu_feature_guard.cc:182] This TensorFlow binary is optimized to use available CPU instructions in performance-critical operations.\n",
      "To enable the following instructions: AVX2 FMA, in other operations, rebuild TensorFlow with the appropriate compiler flags.\n",
      "2025-02-24 15:48:30.197430: W tensorflow/compiler/tf2tensorrt/utils/py_utils.cc:38] TF-TRT Warning: Could not find TensorRT\n"
     ]
    }
   ],
   "source": [
    "import sys\n",
    "import os\n",
    "sys.path.append(os.path.abspath(os.path.join(os.getcwd(), \"../\")))\n",
    "\n",
    "from database_operations import DatabaseOperations\n",
    "from overtake_model import OvertakingModel\n",
    "from race_data import RaceDataSetup\n",
    "from race_dataframe import RaceDataframe\n",
    "from race_sim import RaceSimulation\n",
    "from evaluation import RaceSimEvaluation, EvaluateMany\n",
    "from optimisation import Optimisation"
   ]
  },
  {
   "cell_type": "code",
   "execution_count": 2,
   "metadata": {},
   "outputs": [],
   "source": [
    "db = DatabaseOperations(2024, \"Austin\")\n",
    "race_dataframe = RaceDataframe(db)\n",
    "race_setup = RaceDataSetup(db, race_dataframe)\n",
    "overtake = OvertakingModel(race_dataframe.race_df)\n",
    "simulation = RaceSimulation(race_setup, overtake)"
   ]
  },
  {
   "cell_type": "code",
   "execution_count": 3,
   "metadata": {},
   "outputs": [
    {
     "name": "stdout",
     "output_type": "stream",
     "text": [
      "|   iter    |  target   | num_pi... | pit1_lap  | pit1_tyre | pit2_lap  | pit2_tyre | pit3_lap  | pit3_tyre | start_... |\n",
      "-------------------------------------------------------------------------------------------------------------------------\n",
      "| \u001b[39m1        \u001b[39m | \u001b[39m-20.0    \u001b[39m | \u001b[39m1.0      \u001b[39m | \u001b[39m27.0     \u001b[39m | \u001b[39m3.0      \u001b[39m | \u001b[39m0.0      \u001b[39m | \u001b[39m0.0      \u001b[39m | \u001b[39m0.0      \u001b[39m | \u001b[39m0.0      \u001b[39m | \u001b[39m2.0      \u001b[39m |\n"
     ]
    },
    {
     "name": "stderr",
     "output_type": "stream",
     "text": [
      "/home/ben/Individual_Project/env/lib/python3.10/site-packages/bayes_opt/target_space.py:421: UserWarning: \n",
      "Data point [ 1. 27.  3.  0.  0.  0.  0.  2.] is outside the bounds of the parameter space. \n",
      "  self.register(x, target)\n"
     ]
    },
    {
     "name": "stdout",
     "output_type": "stream",
     "text": [
      "| \u001b[39m2        \u001b[39m | \u001b[39m-2.0     \u001b[39m | \u001b[39m1.749    \u001b[39m | \u001b[39m52.39    \u001b[39m | \u001b[39m2.464    \u001b[39m | \u001b[39m33.73    \u001b[39m | \u001b[39m1.312    \u001b[39m | \u001b[39m10.27    \u001b[39m | \u001b[39m1.116    \u001b[39m | \u001b[39m2.732    \u001b[39m |\n",
      "| \u001b[39m3        \u001b[39m | \u001b[39m-19.0    \u001b[39m | \u001b[39m2.202    \u001b[39m | \u001b[39m39.53    \u001b[39m | \u001b[39m1.041    \u001b[39m | \u001b[39m53.41    \u001b[39m | \u001b[39m2.665    \u001b[39m | \u001b[39m13.25    \u001b[39m | \u001b[39m1.364    \u001b[39m | \u001b[39m1.367    \u001b[39m |\n",
      "| \u001b[39m4        \u001b[39m | \u001b[39m-20.0    \u001b[39m | \u001b[39m1.608    \u001b[39m | \u001b[39m29.81    \u001b[39m | \u001b[39m1.864    \u001b[39m | \u001b[39m17.44    \u001b[39m | \u001b[39m2.224    \u001b[39m | \u001b[39m9.393    \u001b[39m | \u001b[39m1.584    \u001b[39m | \u001b[39m1.733    \u001b[39m |\n",
      "| \u001b[39m5        \u001b[39m | \u001b[39m-20.0    \u001b[39m | \u001b[39m1.912    \u001b[39m | \u001b[39m43.61    \u001b[39m | \u001b[39m1.399    \u001b[39m | \u001b[39m29.25    \u001b[39m | \u001b[39m2.185    \u001b[39m | \u001b[39m4.462    \u001b[39m | \u001b[39m2.215    \u001b[39m | \u001b[39m1.341    \u001b[39m |\n",
      "| \u001b[39m6        \u001b[39m | \u001b[39m-2.0     \u001b[39m | \u001b[39m1.13     \u001b[39m | \u001b[39m52.29    \u001b[39m | \u001b[39m2.931    \u001b[39m | \u001b[39m44.85    \u001b[39m | \u001b[39m1.609    \u001b[39m | \u001b[39m7.177    \u001b[39m | \u001b[39m2.368    \u001b[39m | \u001b[39m1.88     \u001b[39m |\n",
      "| \u001b[39m7        \u001b[39m | \u001b[39m-19.0    \u001b[39m | \u001b[39m1.648    \u001b[39m | \u001b[39m53.79    \u001b[39m | \u001b[39m1.158    \u001b[39m | \u001b[39m40.42    \u001b[39m | \u001b[39m2.321    \u001b[39m | \u001b[39m12.16    \u001b[39m | \u001b[39m1.778    \u001b[39m | \u001b[39m1.626    \u001b[39m |\n",
      "| \u001b[39m8        \u001b[39m | \u001b[39m-2.0     \u001b[39m | \u001b[39m2.002    \u001b[39m | \u001b[39m48.27    \u001b[39m | \u001b[39m2.798    \u001b[39m | \u001b[39m6.22     \u001b[39m | \u001b[39m2.666    \u001b[39m | \u001b[39m30.23    \u001b[39m | \u001b[39m2.287    \u001b[39m | \u001b[39m1.23     \u001b[39m |\n",
      "| \u001b[39m9        \u001b[39m | \u001b[39m-2.0     \u001b[39m | \u001b[39m1.273    \u001b[39m | \u001b[39m37.7     \u001b[39m | \u001b[39m2.022    \u001b[39m | \u001b[39m3.391    \u001b[39m | \u001b[39m1.111    \u001b[39m | \u001b[39m15.14    \u001b[39m | \u001b[39m2.943    \u001b[39m | \u001b[39m2.579    \u001b[39m |\n",
      "| \u001b[39m10       \u001b[39m | \u001b[39m-19.0    \u001b[39m | \u001b[39m2.096    \u001b[39m | \u001b[39m50.35    \u001b[39m | \u001b[39m1.169    \u001b[39m | \u001b[39m25.81    \u001b[39m | \u001b[39m1.397    \u001b[39m | \u001b[39m33.3     \u001b[39m | \u001b[39m1.777    \u001b[39m | \u001b[39m2.246    \u001b[39m |\n",
      "| \u001b[39m11       \u001b[39m | \u001b[39m-20.0    \u001b[39m | \u001b[39m1.523    \u001b[39m | \u001b[39m45.46    \u001b[39m | \u001b[39m2.959    \u001b[39m | \u001b[39m10.02    \u001b[39m | \u001b[39m2.687    \u001b[39m | \u001b[39m41.62    \u001b[39m | \u001b[39m2.303    \u001b[39m | \u001b[39m2.813    \u001b[39m |\n",
      "| \u001b[39m12       \u001b[39m | \u001b[39m-2.0     \u001b[39m | \u001b[39m2.274    \u001b[39m | \u001b[39m25.68    \u001b[39m | \u001b[39m2.335    \u001b[39m | \u001b[39m39.29    \u001b[39m | \u001b[39m2.709    \u001b[39m | \u001b[39m35.95    \u001b[39m | \u001b[39m2.479    \u001b[39m | \u001b[39m1.954    \u001b[39m |\n",
      "| \u001b[39m13       \u001b[39m | \u001b[39m-3.0     \u001b[39m | \u001b[39m2.344    \u001b[39m | \u001b[39m43.11    \u001b[39m | \u001b[39m1.325    \u001b[39m | \u001b[39m8.843    \u001b[39m | \u001b[39m1.69     \u001b[39m | \u001b[39m3.51     \u001b[39m | \u001b[39m1.238    \u001b[39m | \u001b[39m2.901    \u001b[39m |\n",
      "| \u001b[39m14       \u001b[39m | \u001b[39m-20.0    \u001b[39m | \u001b[39m2.516    \u001b[39m | \u001b[39m53.31    \u001b[39m | \u001b[39m2.94     \u001b[39m | \u001b[39m41.18    \u001b[39m | \u001b[39m2.608    \u001b[39m | \u001b[39m40.73    \u001b[39m | \u001b[39m2.354    \u001b[39m | \u001b[39m2.81     \u001b[39m |\n",
      "| \u001b[39m15       \u001b[39m | \u001b[39m-18.0    \u001b[39m | \u001b[39m2.723    \u001b[39m | \u001b[39m37.73    \u001b[39m | \u001b[39m1.151    \u001b[39m | \u001b[39m29.47    \u001b[39m | \u001b[39m1.541    \u001b[39m | \u001b[39m37.82    \u001b[39m | \u001b[39m1.969    \u001b[39m | \u001b[39m2.241    \u001b[39m |\n",
      "| \u001b[39m16       \u001b[39m | \u001b[39m-20.0    \u001b[39m | \u001b[39m1.27     \u001b[39m | \u001b[39m3.49     \u001b[39m | \u001b[39m1.963    \u001b[39m | \u001b[39m40.4     \u001b[39m | \u001b[39m2.806    \u001b[39m | \u001b[39m9.955    \u001b[39m | \u001b[39m2.655    \u001b[39m | \u001b[39m2.321    \u001b[39m |\n",
      "| \u001b[39m17       \u001b[39m | \u001b[39m-2.0     \u001b[39m | \u001b[39m1.834    \u001b[39m | \u001b[39m31.22    \u001b[39m | \u001b[39m2.922    \u001b[39m | \u001b[39m38.87    \u001b[39m | \u001b[39m2.829    \u001b[39m | \u001b[39m2.042    \u001b[39m | \u001b[39m2.957    \u001b[39m | \u001b[39m1.6      \u001b[39m |\n",
      "| \u001b[39m18       \u001b[39m | \u001b[39m-2.0     \u001b[39m | \u001b[39m2.343    \u001b[39m | \u001b[39m7.316    \u001b[39m | \u001b[39m1.788    \u001b[39m | \u001b[39m37.14    \u001b[39m | \u001b[39m2.556    \u001b[39m | \u001b[39m32.41    \u001b[39m | \u001b[39m1.49     \u001b[39m | \u001b[39m2.894    \u001b[39m |\n",
      "| \u001b[39m19       \u001b[39m | \u001b[39m-19.0    \u001b[39m | \u001b[39m2.918    \u001b[39m | \u001b[39m4.713    \u001b[39m | \u001b[39m2.257    \u001b[39m | \u001b[39m47.03    \u001b[39m | \u001b[39m1.127    \u001b[39m | \u001b[39m24.96    \u001b[39m | \u001b[39m1.002    \u001b[39m | \u001b[39m1.104    \u001b[39m |\n",
      "| \u001b[39m20       \u001b[39m | \u001b[39m-3.0     \u001b[39m | \u001b[39m2.573    \u001b[39m | \u001b[39m9.274    \u001b[39m | \u001b[39m2.87     \u001b[39m | \u001b[39m19.03    \u001b[39m | \u001b[39m2.195    \u001b[39m | \u001b[39m51.53    \u001b[39m | \u001b[39m1.451    \u001b[39m | \u001b[39m1.046    \u001b[39m |\n",
      "| \u001b[39m21       \u001b[39m | \u001b[39m-19.0    \u001b[39m | \u001b[39m2.384    \u001b[39m | \u001b[39m12.86    \u001b[39m | \u001b[39m2.454    \u001b[39m | \u001b[39m47.85    \u001b[39m | \u001b[39m1.14     \u001b[39m | \u001b[39m7.098    \u001b[39m | \u001b[39m1.376    \u001b[39m | \u001b[39m2.2      \u001b[39m |\n",
      "| \u001b[39m22       \u001b[39m | \u001b[39m-16.0    \u001b[39m | \u001b[39m2.165    \u001b[39m | \u001b[39m5.4      \u001b[39m | \u001b[39m1.189    \u001b[39m | \u001b[39m21.82    \u001b[39m | \u001b[39m2.365    \u001b[39m | \u001b[39m28.04    \u001b[39m | \u001b[39m1.926    \u001b[39m | \u001b[39m2.517    \u001b[39m |\n",
      "| \u001b[39m23       \u001b[39m | \u001b[39m-8.0     \u001b[39m | \u001b[39m2.448    \u001b[39m | \u001b[39m14.34    \u001b[39m | \u001b[39m1.275    \u001b[39m | \u001b[39m9.244    \u001b[39m | \u001b[39m2.555    \u001b[39m | \u001b[39m36.21    \u001b[39m | \u001b[39m1.485    \u001b[39m | \u001b[39m2.011    \u001b[39m |\n",
      "| \u001b[39m24       \u001b[39m | \u001b[39m-19.0    \u001b[39m | \u001b[39m2.49     \u001b[39m | \u001b[39m15.68    \u001b[39m | \u001b[39m1.466    \u001b[39m | \u001b[39m52.09    \u001b[39m | \u001b[39m1.046    \u001b[39m | \u001b[39m32.89    \u001b[39m | \u001b[39m2.296    \u001b[39m | \u001b[39m2.773    \u001b[39m |\n",
      "| \u001b[39m25       \u001b[39m | \u001b[39m-2.0     \u001b[39m | \u001b[39m1.837    \u001b[39m | \u001b[39m20.58    \u001b[39m | \u001b[39m2.106    \u001b[39m | \u001b[39m25.53    \u001b[39m | \u001b[39m2.229    \u001b[39m | \u001b[39m8.265    \u001b[39m | \u001b[39m1.641    \u001b[39m | \u001b[39m2.67     \u001b[39m |\n",
      "| \u001b[39m26       \u001b[39m | \u001b[39m-19.0    \u001b[39m | \u001b[39m2.549    \u001b[39m | \u001b[39m22.75    \u001b[39m | \u001b[39m2.65     \u001b[39m | \u001b[39m39.38    \u001b[39m | \u001b[39m1.152    \u001b[39m | \u001b[39m52.29    \u001b[39m | \u001b[39m2.347    \u001b[39m | \u001b[39m1.692    \u001b[39m |\n",
      "=========================================================================================================================\n",
      "Best Strategy: {1: 3, 10: 2}\n",
      "Best Finishing Position: 2.0\n",
      "Actual Strategy: {1: 2, 27: 3}\n",
      "Actual finishing position: 4\n"
     ]
    }
   ],
   "source": [
    "optimiser = Optimisation(race_setup, overtake)\n",
    "driver = 16\n",
    "top_10_strategies = optimiser.bayesian_strategy_optimisation(given_driver=driver, max_iterations=20)\n",
    "print(f\"Best Strategy: {top_10_strategies[0]['strategy']}\")\n",
    "print(f\"Best Finishing Position: {top_10_strategies[0]['position']}\")\n",
    "\n",
    "print(f\"Actual Strategy: {race_setup.extract_driver_strategy(given_driver=driver)}\")\n",
    "print(f\"Actual finishing position: {race_setup.get_driver_finishing_position(given_driver=driver)}\")"
   ]
  },
  {
   "cell_type": "code",
   "execution_count": 5,
   "metadata": {},
   "outputs": [
    {
     "data": {
      "text/plain": [
       "[{'strategy': {1: 3, 10: 2}, 'position': 2.0},\n",
       " {'strategy': {1: 2, 7: 3}, 'position': 2.0},\n",
       " {'strategy': {1: 1, 6: 3, 30: 3}, 'position': 2.0},\n",
       " {'strategy': {1: 3, 3: 2}, 'position': 2.0},\n",
       " {'strategy': {1: 2, 25: 2, 35: 3}, 'position': 2.0},\n",
       " {'strategy': {1: 2, 2: 3}, 'position': 2.0},\n",
       " {'strategy': {1: 3, 7: 2, 32: 3}, 'position': 2.0},\n",
       " {'strategy': {1: 3, 8: 2}, 'position': 2.0},\n",
       " {'strategy': {1: 3, 3: 1, 8: 2}, 'position': 3.0},\n",
       " {'strategy': {1: 1, 9: 3, 19: 2}, 'position': 3.0}]"
      ]
     },
     "execution_count": 5,
     "metadata": {},
     "output_type": "execute_result"
    }
   ],
   "source": [
    "top_10_strategies"
   ]
  }
 ],
 "metadata": {
  "kernelspec": {
   "display_name": "env",
   "language": "python",
   "name": "python3"
  },
  "language_info": {
   "codemirror_mode": {
    "name": "ipython",
    "version": 3
   },
   "file_extension": ".py",
   "mimetype": "text/x-python",
   "name": "python",
   "nbconvert_exporter": "python",
   "pygments_lexer": "ipython3",
   "version": "3.10.12"
  }
 },
 "nbformat": 4,
 "nbformat_minor": 2
}
