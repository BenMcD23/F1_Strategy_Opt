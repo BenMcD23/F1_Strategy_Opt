{
 "cells": [
  {
   "cell_type": "code",
   "execution_count": 1,
   "metadata": {},
   "outputs": [],
   "source": [
    "import sys\n",
    "import os\n",
    "sys.path.append(os.path.abspath(os.path.join(os.getcwd(), \"../\")))\n",
    "\n",
    "from database_operations import DatabaseOperations\n",
    "from overtake_model import OvertakingModel\n",
    "from race_data import RaceDataSetup\n",
    "from race_dataframe import RaceDataframe\n",
    "from race_sim import RaceSimulation\n",
    "from evaluation import RaceSimEvaluation, EvaluateMany\n",
    "from optimisation import Optimisation"
   ]
  },
  {
   "cell_type": "code",
   "execution_count": 2,
   "metadata": {},
   "outputs": [],
   "source": [
    "db = DatabaseOperations(2024, \"Austin\")\n",
    "race_dataframe = RaceDataframe(db)\n",
    "race_setup = RaceDataSetup(db, race_dataframe)\n",
    "overtake = OvertakingModel(race_dataframe.race_df)\n",
    "simulation = RaceSimulation(race_setup, overtake)\n",
    "driver = 16\n"
   ]
  },
  {
   "cell_type": "code",
   "execution_count": 3,
   "metadata": {},
   "outputs": [
    {
     "name": "stdout",
     "output_type": "stream",
     "text": [
      "|   iter    |  target   | num_pi... | pit1_lap  | pit1_tyre | pit2_lap  | pit2_tyre | pit3_lap  | pit3_tyre | start_... |\n",
      "-------------------------------------------------------------------------------------------------------------------------\n",
      "| \u001b[39m1        \u001b[39m | \u001b[39m-20.0    \u001b[39m | \u001b[39m1.0      \u001b[39m | \u001b[39m27.0     \u001b[39m | \u001b[39m3.0      \u001b[39m | \u001b[39m0.0      \u001b[39m | \u001b[39m0.0      \u001b[39m | \u001b[39m0.0      \u001b[39m | \u001b[39m0.0      \u001b[39m | \u001b[39m2.0      \u001b[39m |\n"
     ]
    },
    {
     "name": "stderr",
     "output_type": "stream",
     "text": [
      "/home/ben/Individual_Project/env/lib/python3.10/site-packages/bayes_opt/target_space.py:421: UserWarning: \n",
      "Data point [ 1. 27.  3.  0.  0.  0.  0.  2.] is outside the bounds of the parameter space. \n",
      "  self.register(x, target)\n"
     ]
    },
    {
     "name": "stdout",
     "output_type": "stream",
     "text": [
      "| \u001b[39m2        \u001b[39m | \u001b[39m-2.0     \u001b[39m | \u001b[39m1.749    \u001b[39m | \u001b[39m52.39    \u001b[39m | \u001b[39m2.464    \u001b[39m | \u001b[39m33.73    \u001b[39m | \u001b[39m1.312    \u001b[39m | \u001b[39m10.27    \u001b[39m | \u001b[39m1.116    \u001b[39m | \u001b[39m2.732    \u001b[39m |\n",
      "| \u001b[39m3        \u001b[39m | \u001b[39m-19.0    \u001b[39m | \u001b[39m2.202    \u001b[39m | \u001b[39m39.53    \u001b[39m | \u001b[39m1.041    \u001b[39m | \u001b[39m53.41    \u001b[39m | \u001b[39m2.665    \u001b[39m | \u001b[39m13.25    \u001b[39m | \u001b[39m1.364    \u001b[39m | \u001b[39m1.367    \u001b[39m |\n",
      "| \u001b[39m4        \u001b[39m | \u001b[39m-20.0    \u001b[39m | \u001b[39m1.608    \u001b[39m | \u001b[39m29.81    \u001b[39m | \u001b[39m1.864    \u001b[39m | \u001b[39m17.44    \u001b[39m | \u001b[39m2.224    \u001b[39m | \u001b[39m9.393    \u001b[39m | \u001b[39m1.584    \u001b[39m | \u001b[39m1.733    \u001b[39m |\n",
      "| \u001b[39m5        \u001b[39m | \u001b[39m-20.0    \u001b[39m | \u001b[39m1.912    \u001b[39m | \u001b[39m43.61    \u001b[39m | \u001b[39m1.399    \u001b[39m | \u001b[39m29.25    \u001b[39m | \u001b[39m2.185    \u001b[39m | \u001b[39m4.462    \u001b[39m | \u001b[39m2.215    \u001b[39m | \u001b[39m1.341    \u001b[39m |\n",
      "| \u001b[39m6        \u001b[39m | \u001b[39m-2.0     \u001b[39m | \u001b[39m1.13     \u001b[39m | \u001b[39m52.29    \u001b[39m | \u001b[39m2.931    \u001b[39m | \u001b[39m44.85    \u001b[39m | \u001b[39m1.609    \u001b[39m | \u001b[39m7.177    \u001b[39m | \u001b[39m2.368    \u001b[39m | \u001b[39m1.88     \u001b[39m |\n",
      "| \u001b[39m7        \u001b[39m | \u001b[39m-19.0    \u001b[39m | \u001b[39m1.648    \u001b[39m | \u001b[39m53.79    \u001b[39m | \u001b[39m1.158    \u001b[39m | \u001b[39m40.42    \u001b[39m | \u001b[39m2.321    \u001b[39m | \u001b[39m12.16    \u001b[39m | \u001b[39m1.778    \u001b[39m | \u001b[39m1.626    \u001b[39m |\n",
      "| \u001b[39m8        \u001b[39m | \u001b[39m-2.0     \u001b[39m | \u001b[39m2.002    \u001b[39m | \u001b[39m48.27    \u001b[39m | \u001b[39m2.798    \u001b[39m | \u001b[39m6.22     \u001b[39m | \u001b[39m2.666    \u001b[39m | \u001b[39m30.23    \u001b[39m | \u001b[39m2.287    \u001b[39m | \u001b[39m1.23     \u001b[39m |\n",
      "| \u001b[39m9        \u001b[39m | \u001b[39m-2.0     \u001b[39m | \u001b[39m1.273    \u001b[39m | \u001b[39m37.7     \u001b[39m | \u001b[39m2.022    \u001b[39m | \u001b[39m3.391    \u001b[39m | \u001b[39m1.111    \u001b[39m | \u001b[39m15.14    \u001b[39m | \u001b[39m2.943    \u001b[39m | \u001b[39m2.579    \u001b[39m |\n",
      "| \u001b[39m10       \u001b[39m | \u001b[39m-19.0    \u001b[39m | \u001b[39m2.096    \u001b[39m | \u001b[39m50.35    \u001b[39m | \u001b[39m1.169    \u001b[39m | \u001b[39m25.81    \u001b[39m | \u001b[39m1.397    \u001b[39m | \u001b[39m33.3     \u001b[39m | \u001b[39m1.777    \u001b[39m | \u001b[39m2.246    \u001b[39m |\n",
      "| \u001b[39m11       \u001b[39m | \u001b[39m-20.0    \u001b[39m | \u001b[39m1.523    \u001b[39m | \u001b[39m45.46    \u001b[39m | \u001b[39m2.959    \u001b[39m | \u001b[39m10.02    \u001b[39m | \u001b[39m2.687    \u001b[39m | \u001b[39m41.62    \u001b[39m | \u001b[39m2.303    \u001b[39m | \u001b[39m2.813    \u001b[39m |\n",
      "=========================================================================================================================\n",
      "Best Strategy: {1: 3, 10: 2}\n",
      "Best Finishing Position: 2.0\n",
      "Actual Strategy: {1: 2, 27: 3}\n",
      "Actual finishing position: 4\n"
     ]
    }
   ],
   "source": [
    "optimiser = Optimisation(race_setup, overtake, driver)\n",
    "top_10_strategies = optimiser.bayesian_strategy_optimisation(max_iterations=5)\n",
    "print(f\"Best Strategy: {top_10_strategies[0]['strategy']}\")\n",
    "print(f\"Best Finishing Position: {top_10_strategies[0]['position']}\")\n",
    "\n",
    "print(f\"Actual Strategy: {race_setup.extract_driver_strategy(given_driver=driver)}\")\n",
    "print(f\"Actual finishing position: {race_setup.get_driver_finishing_position(given_driver=driver)}\")"
   ]
  },
  {
   "cell_type": "code",
   "execution_count": 4,
   "metadata": {},
   "outputs": [
    {
     "data": {
      "text/plain": [
       "[{'strategy': {1: 3, 10: 2}, 'position': 2.0},\n",
       " {'strategy': {1: 2, 7: 3}, 'position': 2.0},\n",
       " {'strategy': {1: 1, 6: 3, 30: 3}, 'position': 2.0},\n",
       " {'strategy': {1: 3, 3: 2}, 'position': 2.0},\n",
       " {'strategy': {1: 1, 13: 1, 39: 3}, 'position': 19.0},\n",
       " {'strategy': {1: 2, 12: 1}, 'position': 19.0},\n",
       " {'strategy': {1: 2, 25: 1, 33: 1}, 'position': 19.0},\n",
       " {'strategy': {1: 2}, 'position': 20.0},\n",
       " {'strategy': {1: 2, 9: 2}, 'position': 20.0},\n",
       " {'strategy': {1: 1, 4: 1}, 'position': 20.0}]"
      ]
     },
     "execution_count": 4,
     "metadata": {},
     "output_type": "execute_result"
    }
   ],
   "source": [
    "top_10_strategies"
   ]
  },
  {
   "cell_type": "code",
   "execution_count": 5,
   "metadata": {},
   "outputs": [
    {
     "name": "stdout",
     "output_type": "stream",
     "text": [
      "Running Genetic Algorithm...\n",
      "gen\tnevals\tavg \tmin\tmax\n",
      "0  \t5     \t18.6\t18 \t19 \n",
      "1  \t4     \t18.2\t16 \t19 \n",
      "2  \t2     \t17  \t16 \t19 \n",
      "Actual Strategy: {1: 2, 27: 3}\n",
      "Actual finishing position: 4\n"
     ]
    }
   ],
   "source": [
    "optimiser = Optimisation(race_setup, overtake, driver)\n",
    "top_10_strategies = optimiser.genetic_algorithm_optimisation(population_size=5, generations=2)\n",
    "\n",
    "\n",
    "print(f\"Actual Strategy: {race_setup.extract_driver_strategy(given_driver=driver)}\")\n",
    "print(f\"Actual finishing position: {race_setup.get_driver_finishing_position(given_driver=driver)}\")"
   ]
  },
  {
   "cell_type": "code",
   "execution_count": 6,
   "metadata": {},
   "outputs": [
    {
     "data": {
      "text/plain": [
       "[{'strategy': {1: 3, 25: 3, 44: 3, 18: 1}, 'final_position': 16},\n",
       " {'strategy': {1: 3, 25: 3, 51: 1, 10: 2}, 'final_position': 18},\n",
       " {'strategy': {1: 1, 53: 3, 28: 3, 40: 2}, 'final_position': 18},\n",
       " {'strategy': {1: 3, 25: 3, 51: 1, 40: 2}, 'final_position': 19},\n",
       " {'strategy': {1: 1, 37: 3, 45: 1, 18: 2}, 'final_position': 19},\n",
       " {'strategy': {1: 1, 8: 1, 26: 2, 46: 1}, 'final_position': 19},\n",
       " {'strategy': {1: 2, 41: 2, 44: 3, 18: 1}, 'final_position': 19},\n",
       " {'strategy': {1: 3, 25: 2, 15: 1, 54: 1}, 'final_position': 19},\n",
       " {'strategy': {1: 2, 22: 3, 38: 1, 0: 2}, 'final_position': 19}]"
      ]
     },
     "execution_count": 6,
     "metadata": {},
     "output_type": "execute_result"
    }
   ],
   "source": [
    "top_10_strategies"
   ]
  },
  {
   "cell_type": "code",
   "execution_count": null,
   "metadata": {},
   "outputs": [],
   "source": [
    "optimiser = Optimisation(race_setup, overtake, driver)\n",
    "top_10_strategies = optimiser.simulated_annealing_optimisation(max_iterations=2)\n",
    "\n",
    "\n",
    "print(f\"Actual Strategy: {race_setup.extract_driver_strategy(given_driver=driver)}\")\n",
    "print(f\"Actual finishing position: {race_setup.get_driver_finishing_position(given_driver=driver)}\")"
   ]
  },
  {
   "cell_type": "code",
   "execution_count": null,
   "metadata": {},
   "outputs": [
    {
     "data": {
      "text/plain": [
       "[{'strategy': {1: 2, 11: 3}, 'position': 2},\n",
       " {'strategy': {1: 1, 2: 2, 30: 2}, 'position': 2},\n",
       " {'strategy': {1: 2, 3: 3}, 'position': 2},\n",
       " {'strategy': {1: 2, 35: 2, 37: 3}, 'position': 2},\n",
       " {'strategy': {1: 3, 12: 2, 36: 3}, 'position': 2},\n",
       " {'strategy': {1: 2, 7: 3}, 'position': 2},\n",
       " {'strategy': {1: 2, 2: 3}, 'position': 2},\n",
       " {'strategy': {1: 2, 21: 3}, 'position': 2},\n",
       " {'strategy': {1: 2, 42: 2, 52: 3}, 'position': 2},\n",
       " {'strategy': {1: 3, 7: 2}, 'position': 2}]"
      ]
     },
     "execution_count": 8,
     "metadata": {},
     "output_type": "execute_result"
    }
   ],
   "source": [
    "top_10_strategies"
   ]
  }
 ],
 "metadata": {
  "kernelspec": {
   "display_name": "env",
   "language": "python",
   "name": "python3"
  },
  "language_info": {
   "codemirror_mode": {
    "name": "ipython",
    "version": 3
   },
   "file_extension": ".py",
   "mimetype": "text/x-python",
   "name": "python",
   "nbconvert_exporter": "python",
   "pygments_lexer": "ipython3",
   "version": "3.10.12"
  }
 },
 "nbformat": 4,
 "nbformat_minor": 2
}
