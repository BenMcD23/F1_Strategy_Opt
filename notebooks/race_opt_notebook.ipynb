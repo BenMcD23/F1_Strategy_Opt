{
 "cells": [
  {
   "cell_type": "code",
   "execution_count": 1,
   "metadata": {},
   "outputs": [],
   "source": [
    "import sys\n",
    "import os\n",
    "sys.path.append(os.path.abspath(os.path.join(os.getcwd(), \"../\")))\n",
    "\n",
    "from database_operations import DatabaseOperations\n",
    "from overtake_model import OvertakingModel\n",
    "from race_data import RaceDataSetup\n",
    "from race_dataframe import RaceDataframe\n",
    "from race_sim import RaceSimulation\n",
    "from evaluation import RaceSimEvaluation, EvaluateMany\n",
    "from optimisation import Optimisation"
   ]
  },
  {
   "cell_type": "code",
   "execution_count": 2,
   "metadata": {},
   "outputs": [],
   "source": [
    "db = DatabaseOperations(2024, \"Austin\")\n",
    "race_dataframe = RaceDataframe(db)\n",
    "race_setup = RaceDataSetup(db, race_dataframe)\n",
    "overtake = OvertakingModel(race_dataframe.race_df)\n",
    "simulation = RaceSimulation(race_setup, overtake)\n",
    "driver = 16\n"
   ]
  },
  {
   "cell_type": "code",
   "execution_count": 3,
   "metadata": {},
   "outputs": [],
   "source": [
    "# optimiser = Optimisation(race_setup, overtake, driver)\n",
    "# top_10_strategies = optimiser.bayesian_strategy_optimisation(max_iterations=5)\n",
    "# print(f\"Best Strategy: {top_10_strategies[0]['strategy']}\")\n",
    "# print(f\"Best Finishing Position: {top_10_strategies[0]['position']}\")\n",
    "\n",
    "# print(f\"Actual Strategy: {race_setup.extract_driver_strategy(given_driver=driver)}\")\n",
    "# print(f\"Actual finishing position: {race_setup.get_driver_finishing_position(given_driver=driver)}\")"
   ]
  },
  {
   "cell_type": "code",
   "execution_count": 4,
   "metadata": {},
   "outputs": [],
   "source": [
    "# top_10_strategies"
   ]
  },
  {
   "cell_type": "code",
   "execution_count": 5,
   "metadata": {},
   "outputs": [],
   "source": [
    "# optimiser = Optimisation(race_setup, overtake, driver)\n",
    "# top_10_strategies = optimiser.genetic_algorithm_optimisation(population_size=5, generations=2)\n",
    "\n",
    "\n",
    "# print(f\"Actual Strategy: {race_setup.extract_driver_strategy(given_driver=driver)}\")\n",
    "# print(f\"Actual finishing position: {race_setup.get_driver_finishing_position(given_driver=driver)}\")"
   ]
  },
  {
   "cell_type": "code",
   "execution_count": 6,
   "metadata": {},
   "outputs": [],
   "source": [
    "# top_10_strategies"
   ]
  },
  {
   "cell_type": "code",
   "execution_count": 7,
   "metadata": {},
   "outputs": [],
   "source": [
    "# optimiser = Optimisation(race_setup, overtake, driver)\n",
    "# top_10_strategies = optimiser.simulated_annealing_optimisation(max_iterations=2)\n",
    "\n",
    "\n",
    "# print(f\"Actual Strategy: {race_setup.extract_driver_strategy(given_driver=driver)}\")\n",
    "# print(f\"Actual finishing position: {race_setup.get_driver_finishing_position(given_driver=driver)}\")"
   ]
  },
  {
   "cell_type": "code",
   "execution_count": 8,
   "metadata": {},
   "outputs": [],
   "source": [
    "# top_10_strategies"
   ]
  },
  {
   "cell_type": "markdown",
   "metadata": {},
   "source": [
    "[{'strategy': {1: 2, 11: 3}, 'position': 2},\n",
    " {'strategy': {1: 1, 2: 2, 30: 2}, 'position': 2},\n",
    " {'strategy': {1: 2, 3: 3}, 'position': 2},\n",
    " {'strategy': {1: 2, 35: 2, 37: 3}, 'position': 2},\n",
    " {'strategy': {1: 3, 12: 2, 36: 3}, 'position': 2},\n",
    " {'strategy': {1: 2, 7: 3}, 'position': 2},\n",
    " {'strategy': {1: 2, 2: 3}, 'position': 2},\n",
    " {'strategy': {1: 2, 21: 3}, 'position': 2},\n",
    " {'strategy': {1: 2, 42: 2, 52: 3}, 'position': 2},\n",
    " {'strategy': {1: 3, 7: 2}, 'position': 2}]"
   ]
  },
  {
   "cell_type": "code",
   "execution_count": 9,
   "metadata": {},
   "outputs": [
    {
     "name": "stdout",
     "output_type": "stream",
     "text": [
      "Actual Strategy: {1: 2, 27: 3}\n",
      "Actual finishing position: 4\n"
     ]
    }
   ],
   "source": [
    "optimiser = Optimisation(race_setup, overtake, driver)\n",
    "top_10_strategies = optimiser.monte_carlo_tree_search()\n",
    "\n",
    "\n",
    "print(f\"Actual Strategy: {race_setup.extract_driver_strategy(given_driver=driver)}\")\n",
    "print(f\"Actual finishing position: {race_setup.get_driver_finishing_position(given_driver=driver)}\")"
   ]
  },
  {
   "cell_type": "code",
   "execution_count": 11,
   "metadata": {},
   "outputs": [
    {
     "data": {
      "text/plain": [
       "[{'strategy': {1: 2, 26: 3, 43: 3}, 'position': 2},\n",
       " {'strategy': {1: 2, 42: 3, 29: 3}, 'position': 2},\n",
       " {'strategy': {1: 2, 24: 3}, 'position': 2},\n",
       " {'strategy': {1: 2, 27: 3, 31: 3}, 'position': 2},\n",
       " {'strategy': {1: 2, 23: 3}, 'position': 2},\n",
       " {'strategy': {1: 2, 21: 3}, 'position': 2},\n",
       " {'strategy': {1: 2, 22: 2, 45: 3}, 'position': 2},\n",
       " {'strategy': {1: 2, 22: 3}, 'position': 2},\n",
       " {'strategy': {1: 2, 21: 3, 45: 2}, 'position': 2},\n",
       " {'strategy': {1: 2, 21: 3, 50: 2}, 'position': 3}]"
      ]
     },
     "execution_count": 11,
     "metadata": {},
     "output_type": "execute_result"
    }
   ],
   "source": [
    "top_10_strategies"
   ]
  }
 ],
 "metadata": {
  "kernelspec": {
   "display_name": "env",
   "language": "python",
   "name": "python3"
  },
  "language_info": {
   "codemirror_mode": {
    "name": "ipython",
    "version": 3
   },
   "file_extension": ".py",
   "mimetype": "text/x-python",
   "name": "python",
   "nbconvert_exporter": "python",
   "pygments_lexer": "ipython3",
   "version": "3.10.12"
  }
 },
 "nbformat": 4,
 "nbformat_minor": 2
}
