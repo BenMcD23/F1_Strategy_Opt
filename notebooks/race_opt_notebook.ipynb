{
 "cells": [
  {
   "cell_type": "code",
   "execution_count": 1,
   "metadata": {},
   "outputs": [],
   "source": [
    "import sys\n",
    "import os\n",
    "sys.path.append(os.path.abspath(os.path.join(os.getcwd(), \"../\")))\n",
    "\n",
    "from database_operations import DatabaseOperations\n",
    "from overtake_model import OvertakingModel\n",
    "from race_data import RaceDataSetup\n",
    "from race_dataframe import RaceDataframe\n",
    "from race_sim import RaceSimulation\n",
    "from evaluation import RaceSimEvaluation, EvaluateMany\n",
    "from optimisation import Optimisation"
   ]
  },
  {
   "cell_type": "code",
   "execution_count": 2,
   "metadata": {},
   "outputs": [],
   "source": [
    "db = DatabaseOperations(2024, \"Austin\")\n",
    "race_dataframe = RaceDataframe(db)\n",
    "race_setup = RaceDataSetup(db, race_dataframe)\n",
    "overtake = OvertakingModel(race_dataframe.race_df)\n",
    "simulation = RaceSimulation(race_setup, overtake)"
   ]
  },
  {
   "cell_type": "code",
   "execution_count": 3,
   "metadata": {},
   "outputs": [],
   "source": [
    "# optimiser = Optimisation(race_setup, overtake)\n",
    "# driver = 16\n",
    "# top_10_strategies = optimiser.bayesian_strategy_optimisation(given_driver=driver, max_iterations=20)\n",
    "# print(f\"Best Strategy: {top_10_strategies[0]['strategy']}\")\n",
    "# print(f\"Best Finishing Position: {top_10_strategies[0]['position']}\")\n",
    "\n",
    "# print(f\"Actual Strategy: {race_setup.extract_driver_strategy(given_driver=driver)}\")\n",
    "# print(f\"Actual finishing position: {race_setup.get_driver_finishing_position(given_driver=driver)}\")"
   ]
  },
  {
   "cell_type": "code",
   "execution_count": 4,
   "metadata": {},
   "outputs": [],
   "source": [
    "# top_10_strategies"
   ]
  },
  {
   "cell_type": "code",
   "execution_count": 5,
   "metadata": {},
   "outputs": [
    {
     "name": "stdout",
     "output_type": "stream",
     "text": [
      "Running Genetic Algorithm...\n",
      "gen\tnevals\tavg \tmin\tmax\n",
      "0  \t5     \t10.8\t2  \t19 \n",
      "1  \t2     \t2.8 \t2  \t6  \n",
      "2  \t2     \t2   \t2  \t2  \n",
      "3  \t4     \t5.4 \t2  \t13 \n",
      "4  \t2     \t2   \t2  \t2  \n",
      "5  \t2     \t2   \t2  \t2  \n",
      "Actual Strategy: {1: 2, 27: 3}\n",
      "Actual finishing position: 4\n"
     ]
    }
   ],
   "source": [
    "optimiser = Optimisation(race_setup, overtake)\n",
    "driver = 16\n",
    "top_10_strategies = optimiser.genetic_algorithm_optimisation(given_driver=driver, population_size=5, generations=5)\n",
    "\n",
    "\n",
    "print(f\"Actual Strategy: {race_setup.extract_driver_strategy(given_driver=driver)}\")\n",
    "print(f\"Actual finishing position: {race_setup.get_driver_finishing_position(given_driver=driver)}\")"
   ]
  },
  {
   "cell_type": "code",
   "execution_count": 6,
   "metadata": {},
   "outputs": [
    {
     "data": {
      "text/plain": [
       "[{'strategy': {1: 1, 7: 2, 41: 3, 37: 3}, 'final_position': 2},\n",
       " {'strategy': {1: 3, 4: 2, 9: 2, 52: 2}, 'final_position': 6},\n",
       " {'strategy': {1: 3, 6: 3, 7: 3, 9: 2}, 'final_position': 8},\n",
       " {'strategy': {1: 3, 34: 2, 48: 3, 43: 2}, 'final_position': 8},\n",
       " {'strategy': {1: 2, 8: 1, 38: 2, 13: 3}, 'final_position': 13},\n",
       " {'strategy': {1: 1, 55: 1, 34: 2, 32: 1}, 'final_position': 19},\n",
       " {'strategy': {1: 1, 36: 1, 51: 2, 54: 3}, 'final_position': 19}]"
      ]
     },
     "execution_count": 6,
     "metadata": {},
     "output_type": "execute_result"
    }
   ],
   "source": [
    "top_10_strategies"
   ]
  }
 ],
 "metadata": {
  "kernelspec": {
   "display_name": "env",
   "language": "python",
   "name": "python3"
  },
  "language_info": {
   "codemirror_mode": {
    "name": "ipython",
    "version": 3
   },
   "file_extension": ".py",
   "mimetype": "text/x-python",
   "name": "python",
   "nbconvert_exporter": "python",
   "pygments_lexer": "ipython3",
   "version": "3.10.12"
  }
 },
 "nbformat": 4,
 "nbformat_minor": 2
}
