{
 "cells": [
  {
   "cell_type": "code",
   "execution_count": 11,
   "metadata": {},
   "outputs": [],
   "source": [
    "import sys\n",
    "import os\n",
    "sys.path.append(os.path.abspath(os.path.join(os.getcwd(), \"../\")))\n",
    "\n",
    "from database_operations import DatabaseOperations\n",
    "from overtake_model import OvertakingModel\n",
    "from race_data import RaceDataSetup\n",
    "from race_dataframe import RaceDataframe\n",
    "from race_sim import RaceSimulation\n",
    "from evaluation import RaceSimEvaluation, EvaluateMany\n",
    "from optimisation import Optimisation"
   ]
  },
  {
   "cell_type": "code",
   "execution_count": 12,
   "metadata": {},
   "outputs": [],
   "source": [
    "db = DatabaseOperations(2024, \"Mexico City\")\n",
    "race_dataframe = RaceDataframe(db)\n",
    "race_setup = RaceDataSetup(db, race_dataframe)\n",
    "overtake = OvertakingModel(race_dataframe.race_df)\n",
    "simulation = RaceSimulation(race_setup, overtake)\n",
    "driver = 16\n"
   ]
  },
  {
   "cell_type": "code",
   "execution_count": 13,
   "metadata": {},
   "outputs": [
    {
     "name": "stdout",
     "output_type": "stream",
     "text": [
      "|   iter    |  target   | num_pi... | pit1_lap  | pit1_tyre | pit2_lap  | pit2_tyre | pit3_lap  | pit3_tyre | start_... |\n",
      "-------------------------------------------------------------------------------------------------------------------------\n"
     ]
    },
    {
     "name": "stderr",
     "output_type": "stream",
     "text": [
      "/home/ben/Individual_Project/env/lib/python3.10/site-packages/bayes_opt/target_space.py:421: UserWarning: \n",
      "Data point [ 2. 32.  3. 70.  1.  0.  0.  2.] is outside the bounds of the parameter space. \n",
      "  self.register(x, target)\n"
     ]
    },
    {
     "name": "stdout",
     "output_type": "stream",
     "text": [
      "| \u001b[39m1        \u001b[39m | \u001b[39m-1.0     \u001b[39m | \u001b[39m2.0      \u001b[39m | \u001b[39m32.0     \u001b[39m | \u001b[39m3.0      \u001b[39m | \u001b[39m70.0     \u001b[39m | \u001b[39m1.0      \u001b[39m | \u001b[39m0.0      \u001b[39m | \u001b[39m0.0      \u001b[39m | \u001b[39m2.0      \u001b[39m |\n",
      "| \u001b[39m2        \u001b[39m | \u001b[39m-11.0    \u001b[39m | \u001b[39m1.749    \u001b[39m | \u001b[39m66.65    \u001b[39m | \u001b[39m2.464    \u001b[39m | \u001b[39m42.71    \u001b[39m | \u001b[39m1.312    \u001b[39m | \u001b[39m12.61    \u001b[39m | \u001b[39m1.116    \u001b[39m | \u001b[39m2.732    \u001b[39m |\n",
      "| \u001b[35m3        \u001b[39m | \u001b[35m-1.0     \u001b[39m | \u001b[35m2.202    \u001b[39m | \u001b[35m50.15    \u001b[39m | \u001b[35m1.041    \u001b[39m | \u001b[35m67.95    \u001b[39m | \u001b[35m2.665    \u001b[39m | \u001b[35m16.44    \u001b[39m | \u001b[35m1.364    \u001b[39m | \u001b[35m1.367    \u001b[39m |\n",
      "| \u001b[39m4        \u001b[39m | \u001b[39m-20.0    \u001b[39m | \u001b[39m1.608    \u001b[39m | \u001b[39m37.68    \u001b[39m | \u001b[39m1.864    \u001b[39m | \u001b[39m21.8     \u001b[39m | \u001b[39m2.224    \u001b[39m | \u001b[39m11.49    \u001b[39m | \u001b[39m1.584    \u001b[39m | \u001b[39m1.733    \u001b[39m |\n",
      "| \u001b[39m5        \u001b[39m | \u001b[39m-20.0    \u001b[39m | \u001b[39m1.912    \u001b[39m | \u001b[39m55.39    \u001b[39m | \u001b[39m1.399    \u001b[39m | \u001b[39m36.97    \u001b[39m | \u001b[39m2.185    \u001b[39m | \u001b[39m5.159    \u001b[39m | \u001b[39m2.215    \u001b[39m | \u001b[39m1.341    \u001b[39m |\n",
      "| \u001b[39m6        \u001b[39m | \u001b[39m-14.0    \u001b[39m | \u001b[39m1.13     \u001b[39m | \u001b[39m66.52    \u001b[39m | \u001b[39m2.931    \u001b[39m | \u001b[39m56.97    \u001b[39m | \u001b[39m1.609    \u001b[39m | \u001b[39m8.642    \u001b[39m | \u001b[39m2.368    \u001b[39m | \u001b[39m1.88     \u001b[39m |\n",
      "| \u001b[39m7        \u001b[39m | \u001b[39m-1.0     \u001b[39m | \u001b[39m2.654    \u001b[39m | \u001b[39m29.84    \u001b[39m | \u001b[39m1.173    \u001b[39m | \u001b[39m69.6     \u001b[39m | \u001b[39m1.331    \u001b[39m | \u001b[39m19.1     \u001b[39m | \u001b[39m1.326    \u001b[39m | \u001b[39m1.675    \u001b[39m |\n",
      "| \u001b[39m8        \u001b[39m | \u001b[39m-1.0     \u001b[39m | \u001b[39m2.529    \u001b[39m | \u001b[39m46.76    \u001b[39m | \u001b[39m1.347    \u001b[39m | \u001b[39m68.39    \u001b[39m | \u001b[39m1.031    \u001b[39m | \u001b[39m38.7     \u001b[39m | \u001b[39m1.373    \u001b[39m | \u001b[39m2.892    \u001b[39m |\n",
      "| \u001b[39m9        \u001b[39m | \u001b[39m-3.0     \u001b[39m | \u001b[39m2.059    \u001b[39m | \u001b[39m28.28    \u001b[39m | \u001b[39m1.396    \u001b[39m | \u001b[39m68.19    \u001b[39m | \u001b[39m1.693    \u001b[39m | \u001b[39m20.51    \u001b[39m | \u001b[39m1.759    \u001b[39m | \u001b[39m2.252    \u001b[39m |\n",
      "| \u001b[39m10       \u001b[39m | \u001b[39m-20.0    \u001b[39m | \u001b[39m2.676    \u001b[39m | \u001b[39m69.93    \u001b[39m | \u001b[39m2.337    \u001b[39m | \u001b[39m63.13    \u001b[39m | \u001b[39m2.146    \u001b[39m | \u001b[39m60.06    \u001b[39m | \u001b[39m2.116    \u001b[39m | \u001b[39m1.724    \u001b[39m |\n",
      "| \u001b[39m11       \u001b[39m | \u001b[39m-1.0     \u001b[39m | \u001b[39m1.259    \u001b[39m | \u001b[39m20.48    \u001b[39m | \u001b[39m2.866    \u001b[39m | \u001b[39m69.21    \u001b[39m | \u001b[39m2.199    \u001b[39m | \u001b[39m66.0     \u001b[39m | \u001b[39m1.692    \u001b[39m | \u001b[39m1.29     \u001b[39m |\n",
      "=========================================================================================================================\n",
      "Best Strategy: {1: 2, 32: 1}\n",
      "Best Finishing Position: 1.0\n",
      "Actual Strategy: {1: 2, 32: 3, 70: 1}\n",
      "Actual finishing position: 3\n"
     ]
    }
   ],
   "source": [
    "optimiser = Optimisation(race_setup, overtake, driver)\n",
    "top_10_strategies = optimiser.bayesian_strategy_optimisation(max_iterations=5)\n",
    "print(f\"Best Strategy: {top_10_strategies[0]['strategy']}\")\n",
    "print(f\"Best Finishing Position: {top_10_strategies[0]['position']}\")\n",
    "\n",
    "print(f\"Actual Strategy: {race_setup.extract_driver_strategy(given_driver=driver)}\")\n",
    "print(f\"Actual finishing position: {race_setup.get_driver_finishing_position(given_driver=driver)}\")"
   ]
  },
  {
   "cell_type": "code",
   "execution_count": 14,
   "metadata": {},
   "outputs": [
    {
     "data": {
      "text/plain": [
       "[{'strategy': {1: 2, 32: 1}, 'position': 1.0},\n",
       " {'strategy': {1: 1, 16: 1, 50: 3}, 'position': 1.0},\n",
       " {'strategy': {1: 2, 19: 1, 29: 1}, 'position': 1.0},\n",
       " {'strategy': {1: 3, 38: 1, 46: 1}, 'position': 1.0},\n",
       " {'strategy': {1: 1, 20: 3}, 'position': 1.0},\n",
       " {'strategy': {1: 2, 20: 1, 28: 2}, 'position': 3.0},\n",
       " {'strategy': {1: 3, 12: 2}, 'position': 11.0},\n",
       " {'strategy': {1: 2, 8: 3}, 'position': 14.0},\n",
       " {'strategy': {1: 2, 11: 2}, 'position': 20.0},\n",
       " {'strategy': {1: 1, 5: 1}, 'position': 20.0}]"
      ]
     },
     "execution_count": 14,
     "metadata": {},
     "output_type": "execute_result"
    }
   ],
   "source": [
    "top_10_strategies"
   ]
  },
  {
   "cell_type": "code",
   "execution_count": 15,
   "metadata": {},
   "outputs": [],
   "source": [
    "# optimiser = Optimisation(race_setup, overtake, driver)\n",
    "# top_10_strategies = optimiser.genetic_algorithm_optimisation(population_size=5, generations=2)\n",
    "\n",
    "\n",
    "# print(f\"Actual Strategy: {race_setup.extract_driver_strategy(given_driver=driver)}\")\n",
    "# print(f\"Actual finishing position: {race_setup.get_driver_finishing_position(given_driver=driver)}\")"
   ]
  },
  {
   "cell_type": "code",
   "execution_count": 16,
   "metadata": {},
   "outputs": [],
   "source": [
    "# top_10_strategies"
   ]
  },
  {
   "cell_type": "code",
   "execution_count": 17,
   "metadata": {},
   "outputs": [],
   "source": [
    "# optimiser = Optimisation(race_setup, overtake, driver)\n",
    "# top_10_strategies = optimiser.simulated_annealing_optimisation(max_iterations=2)\n",
    "\n",
    "\n",
    "# print(f\"Actual Strategy: {race_setup.extract_driver_strategy(given_driver=driver)}\")\n",
    "# print(f\"Actual finishing position: {race_setup.get_driver_finishing_position(given_driver=driver)}\")"
   ]
  },
  {
   "cell_type": "code",
   "execution_count": 18,
   "metadata": {},
   "outputs": [],
   "source": [
    "# top_10_strategies"
   ]
  },
  {
   "cell_type": "markdown",
   "metadata": {},
   "source": [
    "[{'strategy': {1: 2, 11: 3}, 'position': 2},\n",
    " {'strategy': {1: 1, 2: 2, 30: 2}, 'position': 2},\n",
    " {'strategy': {1: 2, 3: 3}, 'position': 2},\n",
    " {'strategy': {1: 2, 35: 2, 37: 3}, 'position': 2},\n",
    " {'strategy': {1: 3, 12: 2, 36: 3}, 'position': 2},\n",
    " {'strategy': {1: 2, 7: 3}, 'position': 2},\n",
    " {'strategy': {1: 2, 2: 3}, 'position': 2},\n",
    " {'strategy': {1: 2, 21: 3}, 'position': 2},\n",
    " {'strategy': {1: 2, 42: 2, 52: 3}, 'position': 2},\n",
    " {'strategy': {1: 3, 7: 2}, 'position': 2}]"
   ]
  },
  {
   "cell_type": "code",
   "execution_count": null,
   "metadata": {},
   "outputs": [
    {
     "name": "stdout",
     "output_type": "stream",
     "text": [
      "Actual Strategy: {1: 2, 32: 3, 70: 1}\n",
      "Actual finishing position: 3\n"
     ]
    }
   ],
   "source": [
    "optimiser = Optimisation(race_setup, overtake, driver)\n",
    "top_10_strategies = optimiser.monte_carlo_tree_search(max_iterations=20)\n",
    "\n",
    "\n",
    "print(f\"Actual Strategy: {race_setup.extract_driver_strategy(given_driver=driver)}\")\n",
    "print(f\"Actual finishing position: {race_setup.get_driver_finishing_position(given_driver=driver)}\")"
   ]
  },
  {
   "cell_type": "code",
   "execution_count": 20,
   "metadata": {},
   "outputs": [
    {
     "data": {
      "text/plain": [
       "[{'strategy': {1: 1, 23: 2}, 'position': 1},\n",
       " {'strategy': {1: 1, 27: 2}, 'position': 1},\n",
       " {'strategy': {1: 1, 32: 2}, 'position': 1},\n",
       " {'strategy': {1: 1, 23: 2, 45: 3}, 'position': 1},\n",
       " {'strategy': {1: 1, 23: 1, 45: 3}, 'position': 1},\n",
       " {'strategy': {1: 1, 21: 2, 70: 2}, 'position': 1},\n",
       " {'strategy': {1: 1, 70: 1, 25: 2}, 'position': 1},\n",
       " {'strategy': {1: 1, 25: 2, 69: 1}, 'position': 1},\n",
       " {'strategy': {1: 1, 22: 2, 30: 3}, 'position': 1},\n",
       " {'strategy': {1: 1, 30: 3}, 'position': 1}]"
      ]
     },
     "execution_count": 20,
     "metadata": {},
     "output_type": "execute_result"
    }
   ],
   "source": [
    "top_10_strategies"
   ]
  }
 ],
 "metadata": {
  "kernelspec": {
   "display_name": "env",
   "language": "python",
   "name": "python3"
  },
  "language_info": {
   "codemirror_mode": {
    "name": "ipython",
    "version": 3
   },
   "file_extension": ".py",
   "mimetype": "text/x-python",
   "name": "python",
   "nbconvert_exporter": "python",
   "pygments_lexer": "ipython3",
   "version": "3.10.12"
  }
 },
 "nbformat": 4,
 "nbformat_minor": 2
}
