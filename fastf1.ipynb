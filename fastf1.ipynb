{
 "cells": [
  {
   "cell_type": "code",
   "execution_count": 1,
   "metadata": {},
   "outputs": [],
   "source": [
    "import fastf1 as ff1\n",
    "import pandas as pd\n",
    "import time\n",
    "from DB.models import Circuit, RacingWeekend, Driver, Session, SessionResult, init_db\n"
   ]
  },
  {
   "cell_type": "code",
   "execution_count": 2,
   "metadata": {},
   "outputs": [
    {
     "name": "stderr",
     "output_type": "stream",
     "text": [
      "req         WARNING \tDEFAULT CACHE ENABLED! (101.32 MB) /root/.cache/fastf1\n",
      "core           INFO \tLoading data for Bahrain Grand Prix - Race [v3.5.0]\n",
      "req            INFO \tUsing cached data for session_info\n",
      "req            INFO \tUsing cached data for driver_info\n",
      "req            INFO \tUsing cached data for session_status_data\n",
      "req            INFO \tUsing cached data for lap_count\n",
      "req            INFO \tUsing cached data for track_status_data\n",
      "req            INFO \tUsing cached data for _extended_timing_data\n",
      "req            INFO \tUsing cached data for timing_app_data\n",
      "core           INFO \tProcessing timing data...\n",
      "req            INFO \tUsing cached data for car_data\n",
      "req            INFO \tUsing cached data for position_data\n",
      "req            INFO \tUsing cached data for weather_data\n",
      "req            INFO \tUsing cached data for race_control_messages\n",
      "core           INFO \tFinished loading data for 20 drivers: ['1', '11', '55', '16', '63', '4', '44', '81', '14', '18', '24', '20', '3', '22', '23', '27', '31', '10', '77', '2']\n"
     ]
    }
   ],
   "source": [
    "time_cache = time.time()\n",
    "sessionData = ff1.get_session(2024, 1, \"Race\")\n",
    "sessionData.load()\n",
    "time_cache = time.time() - time_cache\n"
   ]
  },
  {
   "cell_type": "code",
   "execution_count": 3,
   "metadata": {},
   "outputs": [
    {
     "name": "stderr",
     "output_type": "stream",
     "text": [
      "core           INFO \tLoading data for Bahrain Grand Prix - Race [v3.5.0]\n",
      "_api           INFO \tFetching session info data...\n",
      "_api           INFO \tFetching driver list...\n",
      "_api           INFO \tFetching session status data...\n",
      "_api           INFO \tFetching lap count data...\n",
      "_api           INFO \tFetching track status data...\n",
      "_api           INFO \tFetching timing data...\n",
      "_api           INFO \tParsing timing data...\n",
      "_api           INFO \tFetching timing app data...\n",
      "core           INFO \tProcessing timing data...\n",
      "_api           INFO \tFetching car data...\n",
      "_api           INFO \tParsing car data...\n",
      "_api           INFO \tFetching position data...\n",
      "_api           INFO \tParsing position data...\n",
      "_api           INFO \tFetching weather data...\n",
      "_api           INFO \tFetching race control messages...\n",
      "core           INFO \tFinished loading data for 20 drivers: ['1', '11', '55', '16', '63', '4', '44', '81', '14', '18', '24', '20', '3', '22', '23', '27', '31', '10', '77', '2']\n"
     ]
    }
   ],
   "source": [
    "ff1.Cache.set_disabled()\n",
    "time_no_cache = time.time()\n",
    "sessionData = ff1.get_session(2024, 1, \"Race\")\n",
    "sessionData.load()\n",
    "time_no_cache = time.time() - time_no_cache\n"
   ]
  },
  {
   "cell_type": "code",
   "execution_count": 4,
   "metadata": {},
   "outputs": [
    {
     "name": "stdout",
     "output_type": "stream",
     "text": [
      "Time taken with caching: 4.95 seconds\n",
      "Time taken without caching: 26.30 seconds\n"
     ]
    }
   ],
   "source": [
    "print(f\"Time taken with caching: {time_cache:.2f} seconds\")\n",
    "print(f\"Time taken without caching: {time_no_cache:.2f} seconds\")"
   ]
  },
  {
   "cell_type": "code",
   "execution_count": 5,
   "metadata": {},
   "outputs": [],
   "source": [
    "engine, db_session = init_db()"
   ]
  },
  {
   "cell_type": "code",
   "execution_count": 6,
   "metadata": {},
   "outputs": [],
   "source": [
    "time_db = time.time()\n",
    "\n",
    "session = (\n",
    "\tdb_session.query(Session)\n",
    "\t.join(RacingWeekend, Session.weekend_id == RacingWeekend.racing_weekend_id)\n",
    "\t.filter(\n",
    "\t\tRacingWeekend.year == 2024,\n",
    "\t\tRacingWeekend.round == 1,\n",
    "\t\tSession.session_type == \"Race\"\n",
    "\t)\n",
    "\t.first()\n",
    ")\n",
    "\n",
    "laps_data = []\n",
    "for lap in session.laps:\n",
    "\n",
    "\t# add a row for each sector\n",
    "\tlaps_data.append({\n",
    "\t\t\"lap_num\": lap.lap_num,\n",
    "\t\t\"lap_time\": lap.lap_time,\n",
    "\t\t\"stint_num\": lap.stint_num,\n",
    "\t\t\"stint_lap\": lap.stint_lap,\n",
    "\t\t\"position\": lap.position,\n",
    "\t\t\"driver_name\": lap.driver.driver_name,\n",
    "\t\t\"driver_number\": lap.driver.driver_num,\n",
    "\t\t\"lap_time\": lap.lap_time,\n",
    "\t\t\n",
    "\t\t\"sector1_time\": lap.s1_time,\n",
    "\t\t\"sector2_time\": lap.s2_time,\n",
    "\t\t\"sector3_time\": lap.s3_time,\n",
    "\n",
    "\t\t\"tyre_type\": lap.tyre_type,\n",
    "\t\t\"tyre_laps\": lap.tyre_laps,\n",
    "\t\t\"pit\": lap.pit,\n",
    "\t\t\"pit_time\": lap.pit_stop[0].pit_time if lap.pit_stop else None,\n",
    "\t\t\"track_status\": lap.track_status,\n",
    "\t})\n",
    "\n",
    "race_df = pd.DataFrame(laps_data)\n",
    "\n",
    "time_db = time.time() - time_db"
   ]
  },
  {
   "cell_type": "code",
   "execution_count": 7,
   "metadata": {},
   "outputs": [
    {
     "name": "stdout",
     "output_type": "stream",
     "text": [
      "Time taken with SQL DB: 0.59 seconds\n"
     ]
    }
   ],
   "source": [
    "print(f\"Time taken with SQL DB: {time_db:.2f} seconds\")"
   ]
  }
 ],
 "metadata": {
  "kernelspec": {
   "display_name": "env",
   "language": "python",
   "name": "python3"
  },
  "language_info": {
   "codemirror_mode": {
    "name": "ipython",
    "version": 3
   },
   "file_extension": ".py",
   "mimetype": "text/x-python",
   "name": "python",
   "nbconvert_exporter": "python",
   "pygments_lexer": "ipython3",
   "version": "3.10.12"
  }
 },
 "nbformat": 4,
 "nbformat_minor": 2
}
